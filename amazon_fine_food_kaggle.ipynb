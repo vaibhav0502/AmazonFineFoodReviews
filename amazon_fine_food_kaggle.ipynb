{
  "cells": [
    {
      "cell_type": "code",
      "execution_count": null,
      "metadata": {
        "id": "Kekso1ba1YNq"
      },
      "outputs": [],
      "source": []
    },
    {
      "cell_type": "markdown",
      "metadata": {
        "id": "t6TJ4ZmRx0a9"
      },
      "source": [
        "## Imports"
      ]
    },
    {
      "cell_type": "code",
      "execution_count": null,
      "metadata": {
        "id": "UnYh3zCqWhnW"
      },
      "outputs": [],
      "source": [
        "# from google.colab import files\n",
        "# ! pip install -q kaggle\n",
        "# files.upload()\n",
        "# ! cp kaggle.json ~/.kaggle/\n",
        "# ! chmod 600 ~/.kaggle/kaggle.json\n",
        "\n",
        "# ! kaggle datasets download -d snap/amazon-fine-food-reviews\n",
        "# ! unzip /content/amazon-fine-food-reviews.zip -d \"/content/drive/MyDrive/Colab Notebooks/NLP/AmazonFineFoodReviews/amazon-fine-food-reviews\"?"
      ]
    },
    {
      "cell_type": "code",
      "execution_count": 75,
      "metadata": {
        "id": "GHv00H708euY"
      },
      "outputs": [],
      "source": [
        "import os\n",
        "import re\n",
        "import time\n",
        "import string\n",
        "from tqdm import tqdm\n",
        "from itertools import groupby\n",
        "from bs4 import BeautifulSoup"
      ]
    },
    {
      "cell_type": "code",
      "execution_count": 76,
      "metadata": {
        "id": "eVxdcnMDx5Q3"
      },
      "outputs": [],
      "source": [
        "import pandas as pd\n",
        "import numpy as np\n",
        "import matplotlib.pyplot as plt\n",
        "import seaborn as sns"
      ]
    },
    {
      "cell_type": "code",
      "execution_count": 77,
      "metadata": {
        "id": "U8iBPx1ux5Yt"
      },
      "outputs": [],
      "source": [
        "from sklearn.model_selection import train_test_split\n",
        "from sklearn.feature_extraction.text import CountVectorizer, TfidfVectorizer\n",
        "from sklearn.linear_model import LogisticRegression\n",
        "from sklearn.model_selection import GridSearchCV, StratifiedKFold, RandomizedSearchCV\n",
        "\n",
        "from sklearn.metrics import accuracy_score\n",
        "from sklearn.metrics import confusion_matrix, classification_report\n",
        "from sklearn.ensemble import RandomForestClassifier\n",
        "from sklearn.naive_bayes import MultinomialNB\n",
        "\n",
        "from imblearn.over_sampling import RandomOverSampler\n",
        "from imblearn.over_sampling import SMOTE"
      ]
    },
    {
      "cell_type": "code",
      "execution_count": 78,
      "metadata": {
        "id": "KjtOOOwH8DOp"
      },
      "outputs": [],
      "source": [
        "import nltk\n",
        "from nltk import FreqDist\n",
        "from nltk.tokenize import word_tokenize\n",
        "from nltk.corpus import wordnet, stopwords\n",
        "from nltk.stem.porter import PorterStemmer\n",
        "from nltk.stem.wordnet import WordNetLemmatizer"
      ]
    },
    {
      "cell_type": "code",
      "execution_count": 79,
      "metadata": {
        "colab": {
          "base_uri": "https://localhost:8080/"
        },
        "id": "nHTEZAtO8aN5",
        "outputId": "d8284743-897b-4478-e3c6-f455771067f9"
      },
      "outputs": [
        {
          "output_type": "stream",
          "name": "stderr",
          "text": [
            "[nltk_data] Downloading package stopwords to /root/nltk_data...\n",
            "[nltk_data]   Package stopwords is already up-to-date!\n",
            "[nltk_data] Downloading package punkt to /root/nltk_data...\n",
            "[nltk_data]   Package punkt is already up-to-date!\n",
            "[nltk_data] Downloading package averaged_perceptron_tagger to\n",
            "[nltk_data]     /root/nltk_data...\n",
            "[nltk_data]   Package averaged_perceptron_tagger is already up-to-\n",
            "[nltk_data]       date!\n",
            "[nltk_data] Downloading package wordnet to /root/nltk_data...\n",
            "[nltk_data]   Package wordnet is already up-to-date!\n",
            "[nltk_data] Downloading package omw-1.4 to /root/nltk_data...\n",
            "[nltk_data]   Package omw-1.4 is already up-to-date!\n"
          ]
        },
        {
          "output_type": "execute_result",
          "data": {
            "text/plain": [
              "True"
            ]
          },
          "metadata": {},
          "execution_count": 79
        }
      ],
      "source": [
        "nltk.download('stopwords')\n",
        "nltk.download('punkt')\n",
        "nltk.download('averaged_perceptron_tagger')\n",
        "nltk.download('wordnet')\n",
        "nltk.download('omw-1.4')"
      ]
    },
    {
      "cell_type": "code",
      "execution_count": 80,
      "metadata": {
        "colab": {
          "base_uri": "https://localhost:8080/"
        },
        "id": "DIEEzsxLz_K0",
        "outputId": "6299db11-3066-4a6e-f1fd-8e349b9326f1"
      },
      "outputs": [
        {
          "output_type": "stream",
          "name": "stdout",
          "text": [
            "Looking in indexes: https://pypi.org/simple, https://us-python.pkg.dev/colab-wheels/public/simple/\n",
            "Requirement already satisfied: contractions in /usr/local/lib/python3.8/dist-packages (0.1.73)\n",
            "Requirement already satisfied: textsearch>=0.0.21 in /usr/local/lib/python3.8/dist-packages (from contractions) (0.0.24)\n",
            "Requirement already satisfied: pyahocorasick in /usr/local/lib/python3.8/dist-packages (from textsearch>=0.0.21->contractions) (2.0.0)\n",
            "Requirement already satisfied: anyascii in /usr/local/lib/python3.8/dist-packages (from textsearch>=0.0.21->contractions) (0.3.1)\n",
            "Looking in indexes: https://pypi.org/simple, https://us-python.pkg.dev/colab-wheels/public/simple/\n",
            "Requirement already satisfied: swifter in /usr/local/lib/python3.8/dist-packages (1.3.4)\n",
            "Requirement already satisfied: cloudpickle>=0.2.2 in /usr/local/lib/python3.8/dist-packages (from swifter) (2.2.1)\n",
            "Requirement already satisfied: ipywidgets>=7.0.0 in /usr/local/lib/python3.8/dist-packages (from swifter) (7.7.1)\n",
            "Requirement already satisfied: pandas>=1.0.0 in /usr/local/lib/python3.8/dist-packages (from swifter) (1.3.5)\n",
            "Requirement already satisfied: tqdm>=4.33.0 in /usr/local/lib/python3.8/dist-packages (from swifter) (4.64.1)\n",
            "Requirement already satisfied: psutil>=5.6.6 in /usr/local/lib/python3.8/dist-packages (from swifter) (5.9.4)\n",
            "Requirement already satisfied: dask[dataframe]>=2.10.0 in /usr/local/lib/python3.8/dist-packages (from swifter) (2022.2.1)\n",
            "Requirement already satisfied: bleach>=3.1.1 in /usr/local/lib/python3.8/dist-packages (from swifter) (6.0.0)\n",
            "Requirement already satisfied: parso>0.4.0 in /usr/local/lib/python3.8/dist-packages (from swifter) (0.8.3)\n",
            "Requirement already satisfied: webencodings in /usr/local/lib/python3.8/dist-packages (from bleach>=3.1.1->swifter) (0.5.1)\n",
            "Requirement already satisfied: six>=1.9.0 in /usr/local/lib/python3.8/dist-packages (from bleach>=3.1.1->swifter) (1.15.0)\n",
            "Requirement already satisfied: packaging>=20.0 in /usr/local/lib/python3.8/dist-packages (from dask[dataframe]>=2.10.0->swifter) (23.0)\n",
            "Requirement already satisfied: pyyaml>=5.3.1 in /usr/local/lib/python3.8/dist-packages (from dask[dataframe]>=2.10.0->swifter) (6.0)\n",
            "Requirement already satisfied: toolz>=0.8.2 in /usr/local/lib/python3.8/dist-packages (from dask[dataframe]>=2.10.0->swifter) (0.12.0)\n",
            "Requirement already satisfied: partd>=0.3.10 in /usr/local/lib/python3.8/dist-packages (from dask[dataframe]>=2.10.0->swifter) (1.3.0)\n",
            "Requirement already satisfied: fsspec>=0.6.0 in /usr/local/lib/python3.8/dist-packages (from dask[dataframe]>=2.10.0->swifter) (2023.1.0)\n",
            "Requirement already satisfied: numpy>=1.18 in /usr/local/lib/python3.8/dist-packages (from dask[dataframe]>=2.10.0->swifter) (1.22.4)\n",
            "Requirement already satisfied: ipython-genutils~=0.2.0 in /usr/local/lib/python3.8/dist-packages (from ipywidgets>=7.0.0->swifter) (0.2.0)\n",
            "Requirement already satisfied: ipython>=4.0.0 in /usr/local/lib/python3.8/dist-packages (from ipywidgets>=7.0.0->swifter) (7.9.0)\n",
            "Requirement already satisfied: widgetsnbextension~=3.6.0 in /usr/local/lib/python3.8/dist-packages (from ipywidgets>=7.0.0->swifter) (3.6.2)\n",
            "Requirement already satisfied: jupyterlab-widgets>=1.0.0 in /usr/local/lib/python3.8/dist-packages (from ipywidgets>=7.0.0->swifter) (3.0.5)\n",
            "Requirement already satisfied: traitlets>=4.3.1 in /usr/local/lib/python3.8/dist-packages (from ipywidgets>=7.0.0->swifter) (5.7.1)\n",
            "Requirement already satisfied: ipykernel>=4.5.1 in /usr/local/lib/python3.8/dist-packages (from ipywidgets>=7.0.0->swifter) (5.3.4)\n",
            "Requirement already satisfied: python-dateutil>=2.7.3 in /usr/local/lib/python3.8/dist-packages (from pandas>=1.0.0->swifter) (2.8.2)\n",
            "Requirement already satisfied: pytz>=2017.3 in /usr/local/lib/python3.8/dist-packages (from pandas>=1.0.0->swifter) (2022.7.1)\n",
            "Requirement already satisfied: jupyter-client in /usr/local/lib/python3.8/dist-packages (from ipykernel>=4.5.1->ipywidgets>=7.0.0->swifter) (6.1.12)\n",
            "Requirement already satisfied: tornado>=4.2 in /usr/local/lib/python3.8/dist-packages (from ipykernel>=4.5.1->ipywidgets>=7.0.0->swifter) (6.2)\n",
            "Requirement already satisfied: setuptools>=18.5 in /usr/local/lib/python3.8/dist-packages (from ipython>=4.0.0->ipywidgets>=7.0.0->swifter) (57.4.0)\n",
            "Requirement already satisfied: backcall in /usr/local/lib/python3.8/dist-packages (from ipython>=4.0.0->ipywidgets>=7.0.0->swifter) (0.2.0)\n",
            "Requirement already satisfied: prompt-toolkit<2.1.0,>=2.0.0 in /usr/local/lib/python3.8/dist-packages (from ipython>=4.0.0->ipywidgets>=7.0.0->swifter) (2.0.10)\n",
            "Requirement already satisfied: pickleshare in /usr/local/lib/python3.8/dist-packages (from ipython>=4.0.0->ipywidgets>=7.0.0->swifter) (0.7.5)\n",
            "Requirement already satisfied: decorator in /usr/local/lib/python3.8/dist-packages (from ipython>=4.0.0->ipywidgets>=7.0.0->swifter) (4.4.2)\n",
            "Requirement already satisfied: pygments in /usr/local/lib/python3.8/dist-packages (from ipython>=4.0.0->ipywidgets>=7.0.0->swifter) (2.6.1)\n",
            "Requirement already satisfied: pexpect in /usr/local/lib/python3.8/dist-packages (from ipython>=4.0.0->ipywidgets>=7.0.0->swifter) (4.8.0)\n",
            "Requirement already satisfied: jedi>=0.10 in /usr/local/lib/python3.8/dist-packages (from ipython>=4.0.0->ipywidgets>=7.0.0->swifter) (0.18.2)\n",
            "Requirement already satisfied: locket in /usr/local/lib/python3.8/dist-packages (from partd>=0.3.10->dask[dataframe]>=2.10.0->swifter) (1.0.0)\n",
            "Requirement already satisfied: notebook>=4.4.1 in /usr/local/lib/python3.8/dist-packages (from widgetsnbextension~=3.6.0->ipywidgets>=7.0.0->swifter) (6.3.0)\n",
            "Requirement already satisfied: argon2-cffi in /usr/local/lib/python3.8/dist-packages (from notebook>=4.4.1->widgetsnbextension~=3.6.0->ipywidgets>=7.0.0->swifter) (21.3.0)\n",
            "Requirement already satisfied: pyzmq>=17 in /usr/local/lib/python3.8/dist-packages (from notebook>=4.4.1->widgetsnbextension~=3.6.0->ipywidgets>=7.0.0->swifter) (23.2.1)\n",
            "Requirement already satisfied: jupyter-core>=4.6.1 in /usr/local/lib/python3.8/dist-packages (from notebook>=4.4.1->widgetsnbextension~=3.6.0->ipywidgets>=7.0.0->swifter) (5.2.0)\n",
            "Requirement already satisfied: jinja2 in /usr/local/lib/python3.8/dist-packages (from notebook>=4.4.1->widgetsnbextension~=3.6.0->ipywidgets>=7.0.0->swifter) (2.11.3)\n",
            "Requirement already satisfied: nbformat in /usr/local/lib/python3.8/dist-packages (from notebook>=4.4.1->widgetsnbextension~=3.6.0->ipywidgets>=7.0.0->swifter) (5.7.3)\n",
            "Requirement already satisfied: terminado>=0.8.3 in /usr/local/lib/python3.8/dist-packages (from notebook>=4.4.1->widgetsnbextension~=3.6.0->ipywidgets>=7.0.0->swifter) (0.13.3)\n",
            "Requirement already satisfied: Send2Trash>=1.5.0 in /usr/local/lib/python3.8/dist-packages (from notebook>=4.4.1->widgetsnbextension~=3.6.0->ipywidgets>=7.0.0->swifter) (1.8.0)\n",
            "Requirement already satisfied: nbconvert in /usr/local/lib/python3.8/dist-packages (from notebook>=4.4.1->widgetsnbextension~=3.6.0->ipywidgets>=7.0.0->swifter) (5.6.1)\n",
            "Requirement already satisfied: prometheus-client in /usr/local/lib/python3.8/dist-packages (from notebook>=4.4.1->widgetsnbextension~=3.6.0->ipywidgets>=7.0.0->swifter) (0.16.0)\n",
            "Requirement already satisfied: wcwidth in /usr/local/lib/python3.8/dist-packages (from prompt-toolkit<2.1.0,>=2.0.0->ipython>=4.0.0->ipywidgets>=7.0.0->swifter) (0.2.6)\n",
            "Requirement already satisfied: ptyprocess>=0.5 in /usr/local/lib/python3.8/dist-packages (from pexpect->ipython>=4.0.0->ipywidgets>=7.0.0->swifter) (0.7.0)\n",
            "Requirement already satisfied: platformdirs>=2.5 in /usr/local/lib/python3.8/dist-packages (from jupyter-core>=4.6.1->notebook>=4.4.1->widgetsnbextension~=3.6.0->ipywidgets>=7.0.0->swifter) (3.0.0)\n",
            "Requirement already satisfied: argon2-cffi-bindings in /usr/local/lib/python3.8/dist-packages (from argon2-cffi->notebook>=4.4.1->widgetsnbextension~=3.6.0->ipywidgets>=7.0.0->swifter) (21.2.0)\n",
            "Requirement already satisfied: MarkupSafe>=0.23 in /usr/local/lib/python3.8/dist-packages (from jinja2->notebook>=4.4.1->widgetsnbextension~=3.6.0->ipywidgets>=7.0.0->swifter) (2.0.1)\n",
            "Requirement already satisfied: entrypoints>=0.2.2 in /usr/local/lib/python3.8/dist-packages (from nbconvert->notebook>=4.4.1->widgetsnbextension~=3.6.0->ipywidgets>=7.0.0->swifter) (0.4)\n",
            "Requirement already satisfied: defusedxml in /usr/local/lib/python3.8/dist-packages (from nbconvert->notebook>=4.4.1->widgetsnbextension~=3.6.0->ipywidgets>=7.0.0->swifter) (0.7.1)\n",
            "Requirement already satisfied: testpath in /usr/local/lib/python3.8/dist-packages (from nbconvert->notebook>=4.4.1->widgetsnbextension~=3.6.0->ipywidgets>=7.0.0->swifter) (0.6.0)\n",
            "Requirement already satisfied: mistune<2,>=0.8.1 in /usr/local/lib/python3.8/dist-packages (from nbconvert->notebook>=4.4.1->widgetsnbextension~=3.6.0->ipywidgets>=7.0.0->swifter) (0.8.4)\n",
            "Requirement already satisfied: pandocfilters>=1.4.1 in /usr/local/lib/python3.8/dist-packages (from nbconvert->notebook>=4.4.1->widgetsnbextension~=3.6.0->ipywidgets>=7.0.0->swifter) (1.5.0)\n",
            "Requirement already satisfied: jsonschema>=2.6 in /usr/local/lib/python3.8/dist-packages (from nbformat->notebook>=4.4.1->widgetsnbextension~=3.6.0->ipywidgets>=7.0.0->swifter) (4.3.3)\n",
            "Requirement already satisfied: fastjsonschema in /usr/local/lib/python3.8/dist-packages (from nbformat->notebook>=4.4.1->widgetsnbextension~=3.6.0->ipywidgets>=7.0.0->swifter) (2.16.2)\n",
            "Requirement already satisfied: pyrsistent!=0.17.0,!=0.17.1,!=0.17.2,>=0.14.0 in /usr/local/lib/python3.8/dist-packages (from jsonschema>=2.6->nbformat->notebook>=4.4.1->widgetsnbextension~=3.6.0->ipywidgets>=7.0.0->swifter) (0.19.3)\n",
            "Requirement already satisfied: importlib-resources>=1.4.0 in /usr/local/lib/python3.8/dist-packages (from jsonschema>=2.6->nbformat->notebook>=4.4.1->widgetsnbextension~=3.6.0->ipywidgets>=7.0.0->swifter) (5.12.0)\n",
            "Requirement already satisfied: attrs>=17.4.0 in /usr/local/lib/python3.8/dist-packages (from jsonschema>=2.6->nbformat->notebook>=4.4.1->widgetsnbextension~=3.6.0->ipywidgets>=7.0.0->swifter) (22.2.0)\n",
            "Requirement already satisfied: cffi>=1.0.1 in /usr/local/lib/python3.8/dist-packages (from argon2-cffi-bindings->argon2-cffi->notebook>=4.4.1->widgetsnbextension~=3.6.0->ipywidgets>=7.0.0->swifter) (1.15.1)\n",
            "Requirement already satisfied: pycparser in /usr/local/lib/python3.8/dist-packages (from cffi>=1.0.1->argon2-cffi-bindings->argon2-cffi->notebook>=4.4.1->widgetsnbextension~=3.6.0->ipywidgets>=7.0.0->swifter) (2.21)\n",
            "Requirement already satisfied: zipp>=3.1.0 in /usr/local/lib/python3.8/dist-packages (from importlib-resources>=1.4.0->jsonschema>=2.6->nbformat->notebook>=4.4.1->widgetsnbextension~=3.6.0->ipywidgets>=7.0.0->swifter) (3.14.0)\n"
          ]
        }
      ],
      "source": [
        "!pip install contractions\n",
        "!pip install swifter"
      ]
    },
    {
      "cell_type": "code",
      "execution_count": 81,
      "metadata": {
        "id": "l-lxpuNo0ArV"
      },
      "outputs": [],
      "source": [
        "import swifter\n",
        "import contractions"
      ]
    },
    {
      "cell_type": "code",
      "execution_count": 82,
      "metadata": {
        "id": "fMwwVNGmx5aZ"
      },
      "outputs": [],
      "source": [
        "import warnings\n",
        "warnings.filterwarnings('ignore')"
      ]
    },
    {
      "cell_type": "markdown",
      "metadata": {
        "id": "KBAUK9dv4bDS"
      },
      "source": [
        "## Data Read"
      ]
    },
    {
      "cell_type": "code",
      "execution_count": 83,
      "metadata": {
        "id": "cV2eRkBrx5cC"
      },
      "outputs": [],
      "source": [
        "# Read in train and test data.\n",
        "train_df = pd.read_csv('/content/drive/MyDrive/Colab Notebooks/NLP/AmazonFineFoodReviews/amazon-fine-food-reviews/Reviews.csv')\n"
      ]
    },
    {
      "cell_type": "code",
      "execution_count": 84,
      "metadata": {
        "colab": {
          "base_uri": "https://localhost:8080/",
          "height": 739
        },
        "id": "DMq88Eo3x5f0",
        "outputId": "7c557371-db3c-4a6c-8c2b-48acb59c496d"
      },
      "outputs": [
        {
          "output_type": "execute_result",
          "data": {
            "text/plain": [
              "   Id   ProductId          UserId                      ProfileName  \\\n",
              "0   1  B001E4KFG0  A3SGXH7AUHU8GW                       delmartian   \n",
              "1   2  B00813GRG4  A1D87F6ZCVE5NK                           dll pa   \n",
              "2   3  B000LQOCH0   ABXLMWJIXXAIN  Natalia Corres \"Natalia Corres\"   \n",
              "3   4  B000UA0QIQ  A395BORC6FGVXV                             Karl   \n",
              "4   5  B006K2ZZ7K  A1UQRSCLF8GW1T    Michael D. Bigham \"M. Wassir\"   \n",
              "\n",
              "   HelpfulnessNumerator  HelpfulnessDenominator  Score        Time  \\\n",
              "0                     1                       1      5  1303862400   \n",
              "1                     0                       0      1  1346976000   \n",
              "2                     1                       1      4  1219017600   \n",
              "3                     3                       3      2  1307923200   \n",
              "4                     0                       0      5  1350777600   \n",
              "\n",
              "                 Summary                                               Text  \n",
              "0  Good Quality Dog Food  I have bought several of the Vitality canned d...  \n",
              "1      Not as Advertised  Product arrived labeled as Jumbo Salted Peanut...  \n",
              "2  \"Delight\" says it all  This is a confection that has been around a fe...  \n",
              "3         Cough Medicine  If you are looking for the secret ingredient i...  \n",
              "4            Great taffy  Great taffy at a great price.  There was a wid...  "
            ],
            "text/html": [
              "\n",
              "  <div id=\"df-ce36696b-2818-4c9c-92c3-4782b980cfa3\">\n",
              "    <div class=\"colab-df-container\">\n",
              "      <div>\n",
              "<style scoped>\n",
              "    .dataframe tbody tr th:only-of-type {\n",
              "        vertical-align: middle;\n",
              "    }\n",
              "\n",
              "    .dataframe tbody tr th {\n",
              "        vertical-align: top;\n",
              "    }\n",
              "\n",
              "    .dataframe thead th {\n",
              "        text-align: right;\n",
              "    }\n",
              "</style>\n",
              "<table border=\"1\" class=\"dataframe\">\n",
              "  <thead>\n",
              "    <tr style=\"text-align: right;\">\n",
              "      <th></th>\n",
              "      <th>Id</th>\n",
              "      <th>ProductId</th>\n",
              "      <th>UserId</th>\n",
              "      <th>ProfileName</th>\n",
              "      <th>HelpfulnessNumerator</th>\n",
              "      <th>HelpfulnessDenominator</th>\n",
              "      <th>Score</th>\n",
              "      <th>Time</th>\n",
              "      <th>Summary</th>\n",
              "      <th>Text</th>\n",
              "    </tr>\n",
              "  </thead>\n",
              "  <tbody>\n",
              "    <tr>\n",
              "      <th>0</th>\n",
              "      <td>1</td>\n",
              "      <td>B001E4KFG0</td>\n",
              "      <td>A3SGXH7AUHU8GW</td>\n",
              "      <td>delmartian</td>\n",
              "      <td>1</td>\n",
              "      <td>1</td>\n",
              "      <td>5</td>\n",
              "      <td>1303862400</td>\n",
              "      <td>Good Quality Dog Food</td>\n",
              "      <td>I have bought several of the Vitality canned d...</td>\n",
              "    </tr>\n",
              "    <tr>\n",
              "      <th>1</th>\n",
              "      <td>2</td>\n",
              "      <td>B00813GRG4</td>\n",
              "      <td>A1D87F6ZCVE5NK</td>\n",
              "      <td>dll pa</td>\n",
              "      <td>0</td>\n",
              "      <td>0</td>\n",
              "      <td>1</td>\n",
              "      <td>1346976000</td>\n",
              "      <td>Not as Advertised</td>\n",
              "      <td>Product arrived labeled as Jumbo Salted Peanut...</td>\n",
              "    </tr>\n",
              "    <tr>\n",
              "      <th>2</th>\n",
              "      <td>3</td>\n",
              "      <td>B000LQOCH0</td>\n",
              "      <td>ABXLMWJIXXAIN</td>\n",
              "      <td>Natalia Corres \"Natalia Corres\"</td>\n",
              "      <td>1</td>\n",
              "      <td>1</td>\n",
              "      <td>4</td>\n",
              "      <td>1219017600</td>\n",
              "      <td>\"Delight\" says it all</td>\n",
              "      <td>This is a confection that has been around a fe...</td>\n",
              "    </tr>\n",
              "    <tr>\n",
              "      <th>3</th>\n",
              "      <td>4</td>\n",
              "      <td>B000UA0QIQ</td>\n",
              "      <td>A395BORC6FGVXV</td>\n",
              "      <td>Karl</td>\n",
              "      <td>3</td>\n",
              "      <td>3</td>\n",
              "      <td>2</td>\n",
              "      <td>1307923200</td>\n",
              "      <td>Cough Medicine</td>\n",
              "      <td>If you are looking for the secret ingredient i...</td>\n",
              "    </tr>\n",
              "    <tr>\n",
              "      <th>4</th>\n",
              "      <td>5</td>\n",
              "      <td>B006K2ZZ7K</td>\n",
              "      <td>A1UQRSCLF8GW1T</td>\n",
              "      <td>Michael D. Bigham \"M. Wassir\"</td>\n",
              "      <td>0</td>\n",
              "      <td>0</td>\n",
              "      <td>5</td>\n",
              "      <td>1350777600</td>\n",
              "      <td>Great taffy</td>\n",
              "      <td>Great taffy at a great price.  There was a wid...</td>\n",
              "    </tr>\n",
              "  </tbody>\n",
              "</table>\n",
              "</div>\n",
              "      <button class=\"colab-df-convert\" onclick=\"convertToInteractive('df-ce36696b-2818-4c9c-92c3-4782b980cfa3')\"\n",
              "              title=\"Convert this dataframe to an interactive table.\"\n",
              "              style=\"display:none;\">\n",
              "        \n",
              "  <svg xmlns=\"http://www.w3.org/2000/svg\" height=\"24px\"viewBox=\"0 0 24 24\"\n",
              "       width=\"24px\">\n",
              "    <path d=\"M0 0h24v24H0V0z\" fill=\"none\"/>\n",
              "    <path d=\"M18.56 5.44l.94 2.06.94-2.06 2.06-.94-2.06-.94-.94-2.06-.94 2.06-2.06.94zm-11 1L8.5 8.5l.94-2.06 2.06-.94-2.06-.94L8.5 2.5l-.94 2.06-2.06.94zm10 10l.94 2.06.94-2.06 2.06-.94-2.06-.94-.94-2.06-.94 2.06-2.06.94z\"/><path d=\"M17.41 7.96l-1.37-1.37c-.4-.4-.92-.59-1.43-.59-.52 0-1.04.2-1.43.59L10.3 9.45l-7.72 7.72c-.78.78-.78 2.05 0 2.83L4 21.41c.39.39.9.59 1.41.59.51 0 1.02-.2 1.41-.59l7.78-7.78 2.81-2.81c.8-.78.8-2.07 0-2.86zM5.41 20L4 18.59l7.72-7.72 1.47 1.35L5.41 20z\"/>\n",
              "  </svg>\n",
              "      </button>\n",
              "      \n",
              "  <style>\n",
              "    .colab-df-container {\n",
              "      display:flex;\n",
              "      flex-wrap:wrap;\n",
              "      gap: 12px;\n",
              "    }\n",
              "\n",
              "    .colab-df-convert {\n",
              "      background-color: #E8F0FE;\n",
              "      border: none;\n",
              "      border-radius: 50%;\n",
              "      cursor: pointer;\n",
              "      display: none;\n",
              "      fill: #1967D2;\n",
              "      height: 32px;\n",
              "      padding: 0 0 0 0;\n",
              "      width: 32px;\n",
              "    }\n",
              "\n",
              "    .colab-df-convert:hover {\n",
              "      background-color: #E2EBFA;\n",
              "      box-shadow: 0px 1px 2px rgba(60, 64, 67, 0.3), 0px 1px 3px 1px rgba(60, 64, 67, 0.15);\n",
              "      fill: #174EA6;\n",
              "    }\n",
              "\n",
              "    [theme=dark] .colab-df-convert {\n",
              "      background-color: #3B4455;\n",
              "      fill: #D2E3FC;\n",
              "    }\n",
              "\n",
              "    [theme=dark] .colab-df-convert:hover {\n",
              "      background-color: #434B5C;\n",
              "      box-shadow: 0px 1px 3px 1px rgba(0, 0, 0, 0.15);\n",
              "      filter: drop-shadow(0px 1px 2px rgba(0, 0, 0, 0.3));\n",
              "      fill: #FFFFFF;\n",
              "    }\n",
              "  </style>\n",
              "\n",
              "      <script>\n",
              "        const buttonEl =\n",
              "          document.querySelector('#df-ce36696b-2818-4c9c-92c3-4782b980cfa3 button.colab-df-convert');\n",
              "        buttonEl.style.display =\n",
              "          google.colab.kernel.accessAllowed ? 'block' : 'none';\n",
              "\n",
              "        async function convertToInteractive(key) {\n",
              "          const element = document.querySelector('#df-ce36696b-2818-4c9c-92c3-4782b980cfa3');\n",
              "          const dataTable =\n",
              "            await google.colab.kernel.invokeFunction('convertToInteractive',\n",
              "                                                     [key], {});\n",
              "          if (!dataTable) return;\n",
              "\n",
              "          const docLinkHtml = 'Like what you see? Visit the ' +\n",
              "            '<a target=\"_blank\" href=https://colab.research.google.com/notebooks/data_table.ipynb>data table notebook</a>'\n",
              "            + ' to learn more about interactive tables.';\n",
              "          element.innerHTML = '';\n",
              "          dataTable['output_type'] = 'display_data';\n",
              "          await google.colab.output.renderOutput(dataTable, element);\n",
              "          const docLink = document.createElement('div');\n",
              "          docLink.innerHTML = docLinkHtml;\n",
              "          element.appendChild(docLink);\n",
              "        }\n",
              "      </script>\n",
              "    </div>\n",
              "  </div>\n",
              "  "
            ]
          },
          "metadata": {},
          "execution_count": 84
        }
      ],
      "source": [
        "train_df.head()"
      ]
    },
    {
      "cell_type": "code",
      "execution_count": 85,
      "metadata": {
        "colab": {
          "base_uri": "https://localhost:8080/",
          "height": 300
        },
        "id": "2PF_8HIfx5hi",
        "outputId": "e2bc6153-a3c8-443b-82fd-f75f3c2fb035"
      },
      "outputs": [
        {
          "output_type": "execute_result",
          "data": {
            "text/plain": [
              "                  Id  HelpfulnessNumerator  HelpfulnessDenominator  \\\n",
              "count  568454.000000         568454.000000            568454.00000   \n",
              "mean   284227.500000              1.743817                 2.22881   \n",
              "std    164098.679298              7.636513                 8.28974   \n",
              "min         1.000000              0.000000                 0.00000   \n",
              "25%    142114.250000              0.000000                 0.00000   \n",
              "50%    284227.500000              0.000000                 1.00000   \n",
              "75%    426340.750000              2.000000                 2.00000   \n",
              "max    568454.000000            866.000000               923.00000   \n",
              "\n",
              "               Score          Time  \n",
              "count  568454.000000  5.684540e+05  \n",
              "mean        4.183199  1.296257e+09  \n",
              "std         1.310436  4.804331e+07  \n",
              "min         1.000000  9.393408e+08  \n",
              "25%         4.000000  1.271290e+09  \n",
              "50%         5.000000  1.311120e+09  \n",
              "75%         5.000000  1.332720e+09  \n",
              "max         5.000000  1.351210e+09  "
            ],
            "text/html": [
              "\n",
              "  <div id=\"df-4968b85b-de44-44b2-91c7-985614ddbb63\">\n",
              "    <div class=\"colab-df-container\">\n",
              "      <div>\n",
              "<style scoped>\n",
              "    .dataframe tbody tr th:only-of-type {\n",
              "        vertical-align: middle;\n",
              "    }\n",
              "\n",
              "    .dataframe tbody tr th {\n",
              "        vertical-align: top;\n",
              "    }\n",
              "\n",
              "    .dataframe thead th {\n",
              "        text-align: right;\n",
              "    }\n",
              "</style>\n",
              "<table border=\"1\" class=\"dataframe\">\n",
              "  <thead>\n",
              "    <tr style=\"text-align: right;\">\n",
              "      <th></th>\n",
              "      <th>Id</th>\n",
              "      <th>HelpfulnessNumerator</th>\n",
              "      <th>HelpfulnessDenominator</th>\n",
              "      <th>Score</th>\n",
              "      <th>Time</th>\n",
              "    </tr>\n",
              "  </thead>\n",
              "  <tbody>\n",
              "    <tr>\n",
              "      <th>count</th>\n",
              "      <td>568454.000000</td>\n",
              "      <td>568454.000000</td>\n",
              "      <td>568454.00000</td>\n",
              "      <td>568454.000000</td>\n",
              "      <td>5.684540e+05</td>\n",
              "    </tr>\n",
              "    <tr>\n",
              "      <th>mean</th>\n",
              "      <td>284227.500000</td>\n",
              "      <td>1.743817</td>\n",
              "      <td>2.22881</td>\n",
              "      <td>4.183199</td>\n",
              "      <td>1.296257e+09</td>\n",
              "    </tr>\n",
              "    <tr>\n",
              "      <th>std</th>\n",
              "      <td>164098.679298</td>\n",
              "      <td>7.636513</td>\n",
              "      <td>8.28974</td>\n",
              "      <td>1.310436</td>\n",
              "      <td>4.804331e+07</td>\n",
              "    </tr>\n",
              "    <tr>\n",
              "      <th>min</th>\n",
              "      <td>1.000000</td>\n",
              "      <td>0.000000</td>\n",
              "      <td>0.00000</td>\n",
              "      <td>1.000000</td>\n",
              "      <td>9.393408e+08</td>\n",
              "    </tr>\n",
              "    <tr>\n",
              "      <th>25%</th>\n",
              "      <td>142114.250000</td>\n",
              "      <td>0.000000</td>\n",
              "      <td>0.00000</td>\n",
              "      <td>4.000000</td>\n",
              "      <td>1.271290e+09</td>\n",
              "    </tr>\n",
              "    <tr>\n",
              "      <th>50%</th>\n",
              "      <td>284227.500000</td>\n",
              "      <td>0.000000</td>\n",
              "      <td>1.00000</td>\n",
              "      <td>5.000000</td>\n",
              "      <td>1.311120e+09</td>\n",
              "    </tr>\n",
              "    <tr>\n",
              "      <th>75%</th>\n",
              "      <td>426340.750000</td>\n",
              "      <td>2.000000</td>\n",
              "      <td>2.00000</td>\n",
              "      <td>5.000000</td>\n",
              "      <td>1.332720e+09</td>\n",
              "    </tr>\n",
              "    <tr>\n",
              "      <th>max</th>\n",
              "      <td>568454.000000</td>\n",
              "      <td>866.000000</td>\n",
              "      <td>923.00000</td>\n",
              "      <td>5.000000</td>\n",
              "      <td>1.351210e+09</td>\n",
              "    </tr>\n",
              "  </tbody>\n",
              "</table>\n",
              "</div>\n",
              "      <button class=\"colab-df-convert\" onclick=\"convertToInteractive('df-4968b85b-de44-44b2-91c7-985614ddbb63')\"\n",
              "              title=\"Convert this dataframe to an interactive table.\"\n",
              "              style=\"display:none;\">\n",
              "        \n",
              "  <svg xmlns=\"http://www.w3.org/2000/svg\" height=\"24px\"viewBox=\"0 0 24 24\"\n",
              "       width=\"24px\">\n",
              "    <path d=\"M0 0h24v24H0V0z\" fill=\"none\"/>\n",
              "    <path d=\"M18.56 5.44l.94 2.06.94-2.06 2.06-.94-2.06-.94-.94-2.06-.94 2.06-2.06.94zm-11 1L8.5 8.5l.94-2.06 2.06-.94-2.06-.94L8.5 2.5l-.94 2.06-2.06.94zm10 10l.94 2.06.94-2.06 2.06-.94-2.06-.94-.94-2.06-.94 2.06-2.06.94z\"/><path d=\"M17.41 7.96l-1.37-1.37c-.4-.4-.92-.59-1.43-.59-.52 0-1.04.2-1.43.59L10.3 9.45l-7.72 7.72c-.78.78-.78 2.05 0 2.83L4 21.41c.39.39.9.59 1.41.59.51 0 1.02-.2 1.41-.59l7.78-7.78 2.81-2.81c.8-.78.8-2.07 0-2.86zM5.41 20L4 18.59l7.72-7.72 1.47 1.35L5.41 20z\"/>\n",
              "  </svg>\n",
              "      </button>\n",
              "      \n",
              "  <style>\n",
              "    .colab-df-container {\n",
              "      display:flex;\n",
              "      flex-wrap:wrap;\n",
              "      gap: 12px;\n",
              "    }\n",
              "\n",
              "    .colab-df-convert {\n",
              "      background-color: #E8F0FE;\n",
              "      border: none;\n",
              "      border-radius: 50%;\n",
              "      cursor: pointer;\n",
              "      display: none;\n",
              "      fill: #1967D2;\n",
              "      height: 32px;\n",
              "      padding: 0 0 0 0;\n",
              "      width: 32px;\n",
              "    }\n",
              "\n",
              "    .colab-df-convert:hover {\n",
              "      background-color: #E2EBFA;\n",
              "      box-shadow: 0px 1px 2px rgba(60, 64, 67, 0.3), 0px 1px 3px 1px rgba(60, 64, 67, 0.15);\n",
              "      fill: #174EA6;\n",
              "    }\n",
              "\n",
              "    [theme=dark] .colab-df-convert {\n",
              "      background-color: #3B4455;\n",
              "      fill: #D2E3FC;\n",
              "    }\n",
              "\n",
              "    [theme=dark] .colab-df-convert:hover {\n",
              "      background-color: #434B5C;\n",
              "      box-shadow: 0px 1px 3px 1px rgba(0, 0, 0, 0.15);\n",
              "      filter: drop-shadow(0px 1px 2px rgba(0, 0, 0, 0.3));\n",
              "      fill: #FFFFFF;\n",
              "    }\n",
              "  </style>\n",
              "\n",
              "      <script>\n",
              "        const buttonEl =\n",
              "          document.querySelector('#df-4968b85b-de44-44b2-91c7-985614ddbb63 button.colab-df-convert');\n",
              "        buttonEl.style.display =\n",
              "          google.colab.kernel.accessAllowed ? 'block' : 'none';\n",
              "\n",
              "        async function convertToInteractive(key) {\n",
              "          const element = document.querySelector('#df-4968b85b-de44-44b2-91c7-985614ddbb63');\n",
              "          const dataTable =\n",
              "            await google.colab.kernel.invokeFunction('convertToInteractive',\n",
              "                                                     [key], {});\n",
              "          if (!dataTable) return;\n",
              "\n",
              "          const docLinkHtml = 'Like what you see? Visit the ' +\n",
              "            '<a target=\"_blank\" href=https://colab.research.google.com/notebooks/data_table.ipynb>data table notebook</a>'\n",
              "            + ' to learn more about interactive tables.';\n",
              "          element.innerHTML = '';\n",
              "          dataTable['output_type'] = 'display_data';\n",
              "          await google.colab.output.renderOutput(dataTable, element);\n",
              "          const docLink = document.createElement('div');\n",
              "          docLink.innerHTML = docLinkHtml;\n",
              "          element.appendChild(docLink);\n",
              "        }\n",
              "      </script>\n",
              "    </div>\n",
              "  </div>\n",
              "  "
            ]
          },
          "metadata": {},
          "execution_count": 85
        }
      ],
      "source": [
        "train_df.describe()"
      ]
    },
    {
      "cell_type": "markdown",
      "metadata": {
        "id": "2bhZx6LM2FcG"
      },
      "source": [
        "## Data Cleaning"
      ]
    },
    {
      "cell_type": "markdown",
      "metadata": {
        "id": "WVwDGJ2c2IVg"
      },
      "source": [
        "### Filter Review as Positive and Negative"
      ]
    },
    {
      "cell_type": "code",
      "execution_count": 86,
      "metadata": {
        "colab": {
          "base_uri": "https://localhost:8080/",
          "height": 276
        },
        "id": "UXP9iRKo1x5Z",
        "outputId": "9afcd60d-ad24-4621-fedb-622e6b90b03e"
      },
      "outputs": [
        {
          "output_type": "display_data",
          "data": {
            "text/plain": [
              "<Figure size 432x288 with 1 Axes>"
            ],
            "image/png": "[encoded data removed]"
          },
          "metadata": {}
        }
      ],
      "source": [
        "train_df['Score'].value_counts().plot(kind='bar')\n",
        "plt.xlabel(\"Rating\")\n",
        "plt.ylabel(\"People Count\")\n",
        "plt.show()"
      ]
    },
    {
      "cell_type": "markdown",
      "metadata": {
        "id": "wmY6pY1X10rE"
      },
      "source": [
        "We can see that we have 5-star rating system. We can filter onlt positive and negitive reviews. \n",
        "\n",
        "- Review with score>3 : Positive ratings\n",
        "- Review with score<3 : Negative ratings\n",
        "- Review with score=3 : Neutral rating (we can skip those ratings)"
      ]
    },
    {
      "cell_type": "code",
      "execution_count": 87,
      "metadata": {
        "id": "9BTzvx1l10iO"
      },
      "outputs": [],
      "source": [
        "filtered_data = train_df[train_df['Score'] != 3]\n",
        "filtered_data.loc[train_df.Score >3,'Score'] = 1    # Positive review\n",
        "filtered_data.loc[train_df.Score <3,'Score'] = 0    # Negative review"
      ]
    },
    {
      "cell_type": "code",
      "execution_count": 88,
      "metadata": {
        "colab": {
          "base_uri": "https://localhost:8080/",
          "height": 276
        },
        "id": "fXAfZVsA2XPS",
        "outputId": "9a886af6-12ee-4eb9-f9ed-18dd587d9754"
      },
      "outputs": [
        {
          "output_type": "display_data",
          "data": {
            "text/plain": [
              "<Figure size 432x288 with 1 Axes>"
            ],
            "image/png": "[encoded data removed]"
          },
          "metadata": {}
        }
      ],
      "source": [
        "filtered_data['Score'].value_counts().plot(kind='bar')\n",
        "plt.xlabel(\"Rating\")\n",
        "plt.ylabel(\"People Count\")\n",
        "plt.show()"
      ]
    },
    {
      "cell_type": "markdown",
      "metadata": {
        "id": "GodRMV3qx5jY"
      },
      "source": [
        "### Checking duplicates\n",
        "Reviews might contain duplicate entries.  So, we need to remove the duplicate entries so that we get unbiased data for Analysis.\n",
        "\n",
        "Check duplicate customers with same Summary and Text."
      ]
    },
    {
      "cell_type": "code",
      "execution_count": 89,
      "metadata": {
        "colab": {
          "base_uri": "https://localhost:8080/"
        },
        "id": "7iOcSfO52eM8",
        "outputId": "682e9b50-bfde-4ca7-a8f6-51f3dec5f400"
      },
      "outputs": [
        {
          "output_type": "execute_result",
          "data": {
            "text/plain": [
              "(525814, 10)"
            ]
          },
          "metadata": {},
          "execution_count": 89
        }
      ],
      "source": [
        "filtered_data.shape"
      ]
    },
    {
      "cell_type": "code",
      "execution_count": 90,
      "metadata": {
        "colab": {
          "base_uri": "https://localhost:8080/"
        },
        "id": "UDWIneCO2eC5",
        "outputId": "2677f0f4-2416-4d15-b9b4-247125756c77"
      },
      "outputs": [
        {
          "output_type": "execute_result",
          "data": {
            "text/plain": [
              "False    365293\n",
              "True     160521\n",
              "dtype: int64"
            ]
          },
          "metadata": {},
          "execution_count": 90
        }
      ],
      "source": [
        "# filtered_data.duplicated(subset=[\"UserId\",\"ProfileName\",\"Time\",\"Summary\",\"Text\"]).value_counts()\n",
        "# filtered_data.duplicated(subset=[\"Time\",\"Summary\",\"Text\"]).value_counts()\n",
        "filtered_data.duplicated(subset=[\"UserId\", \"Summary\", \"Text\", \"Time\"]).value_counts()"
      ]
    },
    {
      "cell_type": "markdown",
      "metadata": {
        "id": "vD75Q5gC2d4r"
      },
      "source": [
        "As we can see that we have 160678 duplicate customers with same Summary and Text.\n",
        "\n",
        "Let's remove those customers. Sort the data according to ProductId and keep the first items review and delete the others."
      ]
    },
    {
      "cell_type": "code",
      "execution_count": 91,
      "metadata": {
        "colab": {
          "base_uri": "https://localhost:8080/"
        },
        "id": "_gOY7k612pMJ",
        "outputId": "18f9c82c-dd55-4fbc-fabb-88179295e38f"
      },
      "outputs": [
        {
          "output_type": "execute_result",
          "data": {
            "text/plain": [
              "(365293, 10)"
            ]
          },
          "metadata": {},
          "execution_count": 91
        }
      ],
      "source": [
        "\n",
        "# Sort according to ProductId\n",
        "sorted_data = filtered_data.sort_values(\n",
        "    by=[\"ProductId\"], axis=0, ascending=True, inplace=False, kind='mergesort', na_position='last'\n",
        ")\n",
        "\n",
        "# drop duplicated data\n",
        "final = sorted_data.drop_duplicates(subset={\"UserId\", \"Summary\", \"Text\", \"Time\"}, keep='first', inplace=False)\n",
        "final.shape"
      ]
    },
    {
      "cell_type": "markdown",
      "metadata": {
        "id": "LTINQOEQ2lVr"
      },
      "source": [
        "`HelpfulnessNumerator` : Number of users who found the review helpful.\n",
        "\n",
        "`HelpfulnessDenominator` : Number of users who indicated whether they found the review helpful or not.\n",
        "\n",
        "**HelpfulnessNumerator should be less than HelpfulnessDenominator.**"
      ]
    },
    {
      "cell_type": "code",
      "execution_count": 92,
      "metadata": {
        "colab": {
          "base_uri": "https://localhost:8080/"
        },
        "id": "aEOB42Id2sIP",
        "outputId": "6431bb4f-cc8a-4786-e033-a2f89541e11e"
      },
      "outputs": [
        {
          "output_type": "execute_result",
          "data": {
            "text/plain": [
              "(365291, 10)"
            ]
          },
          "metadata": {},
          "execution_count": 92
        }
      ],
      "source": [
        "final = final[final.HelpfulnessNumerator <= final.HelpfulnessDenominator]\n",
        "final.shape"
      ]
    },
    {
      "cell_type": "code",
      "execution_count": 93,
      "metadata": {
        "colab": {
          "base_uri": "https://localhost:8080/",
          "height": 174
        },
        "id": "6wAruiPkJbFL",
        "outputId": "7a7f6b99-6728-49b1-f1f5-fb65e24ad81b"
      },
      "outputs": [
        {
          "output_type": "execute_result",
          "data": {
            "text/plain": [
              "'Beetlejuice <a href=\"http://www.amazon.com/gp/product/B001AGXEA6\">Beetlejuice [Blu-ray</a>] is a timeless classic with Michael Keaton providing an excellent performance.  The afterlife concept of the film is excellent as well as entertaining; this film is a must for your video library... It\\'s to be watched over and over again.<br /><br />The casting for this film is perfect, Michael Keaton is the outrageously funny and whacky witted (Betelguese - the afterlife\\'s leading freelance bio-exorcist) with Alec Baldwin and Geena Davis playing (Adam and Barbara Maitland), a young couple that die prematurely. Adding to the cast are Jeffrey Jones and Catherine O\\'Hara (as Charles and Delia Deetz, and their Goth daughter Winona Ryder (as Lydia).<br /><br />One of the most hilarious scenes is the dinner party accompanied by Harry Belafonte\\'s Banana Boat song `Day-O\\'.  This is truly Tim Burton at his finest taking the significance of being dead and dousing it with humor.'"
            ],
            "application/vnd.google.colaboratory.intrinsic+json": {
              "type": "string"
            }
          },
          "metadata": {},
          "execution_count": 93
        }
      ],
      "source": [
        "final['Text'].loc[374304]"
      ]
    },
    {
      "cell_type": "code",
      "execution_count": 94,
      "metadata": {
        "colab": {
          "base_uri": "https://localhost:8080/",
          "height": 722
        },
        "id": "_BL-3PSx2vrW",
        "outputId": "502c7fde-3796-4e13-e1eb-33fbac42f85f"
      },
      "outputs": [
        {
          "output_type": "execute_result",
          "data": {
            "text/plain": [
              "            Id   ProductId          UserId  \\\n",
              "150492  150493  0006641040   AMX0PJKV4PPNJ   \n",
              "150493  150494  0006641040   AYZ0PR5QZROD1   \n",
              "150495  150496  0006641040  A3KKR87BJ0C595   \n",
              "150496  150497  0006641040  A1HKYQOFC8ZZCH   \n",
              "150497  150498  0006641040  A3SJWISOCP31TR   \n",
              "\n",
              "                                          ProfileName  HelpfulnessNumerator  \\\n",
              "150492                       E. R. Bird \"Ramseelbird\"                    71   \n",
              "150493                              Mother of 3 girls                     3   \n",
              "150495  Gretchen Goodfellow \"Lover of children's lit\"                     3   \n",
              "150496                     Maria Apolloni \"lanarossa\"                     2   \n",
              "150497                                    R. J. Wells                     2   \n",
              "\n",
              "        HelpfulnessDenominator  Score        Time  \\\n",
              "150492                      72      1  1096416000   \n",
              "150493                       3      1  1173312000   \n",
              "150495                       3      1  1111363200   \n",
              "150496                       2      0  1334707200   \n",
              "150497                       2      1  1176336000   \n",
              "\n",
              "                                                  Summary  \\\n",
              "150492  Read it once. Read it twice. Reading Chicken S...   \n",
              "150493                                    Family favorite   \n",
              "150495            You'll use it once, you'll use it twice   \n",
              "150496  The story is great, the softcover book is disa...   \n",
              "150497                                    A Gem of a Book   \n",
              "\n",
              "                                                     Text  \n",
              "150492  These days, when a person says, \"chicken soup\"...  \n",
              "150493  All of my children love this book.  My first g...  \n",
              "150495  One of my earliest memories is of this book.  ...  \n",
              "150496  I give five stars to the Maurice Sendak story....  \n",
              "150497  This is a wonderful little book. I loved it 40...  "
            ],
            "text/html": [
              "\n",
              "  <div id=\"df-d86c44ea-0758-4834-bc33-3cd353107f7c\">\n",
              "    <div class=\"colab-df-container\">\n",
              "      <div>\n",
              "<style scoped>\n",
              "    .dataframe tbody tr th:only-of-type {\n",
              "        vertical-align: middle;\n",
              "    }\n",
              "\n",
              "    .dataframe tbody tr th {\n",
              "        vertical-align: top;\n",
              "    }\n",
              "\n",
              "    .dataframe thead th {\n",
              "        text-align: right;\n",
              "    }\n",
              "</style>\n",
              "<table border=\"1\" class=\"dataframe\">\n",
              "  <thead>\n",
              "    <tr style=\"text-align: right;\">\n",
              "      <th></th>\n",
              "      <th>Id</th>\n",
              "      <th>ProductId</th>\n",
              "      <th>UserId</th>\n",
              "      <th>ProfileName</th>\n",
              "      <th>HelpfulnessNumerator</th>\n",
              "      <th>HelpfulnessDenominator</th>\n",
              "      <th>Score</th>\n",
              "      <th>Time</th>\n",
              "      <th>Summary</th>\n",
              "      <th>Text</th>\n",
              "    </tr>\n",
              "  </thead>\n",
              "  <tbody>\n",
              "    <tr>\n",
              "      <th>150492</th>\n",
              "      <td>150493</td>\n",
              "      <td>0006641040</td>\n",
              "      <td>AMX0PJKV4PPNJ</td>\n",
              "      <td>E. R. Bird \"Ramseelbird\"</td>\n",
              "      <td>71</td>\n",
              "      <td>72</td>\n",
              "      <td>1</td>\n",
              "      <td>1096416000</td>\n",
              "      <td>Read it once. Read it twice. Reading Chicken S...</td>\n",
              "      <td>These days, when a person says, \"chicken soup\"...</td>\n",
              "    </tr>\n",
              "    <tr>\n",
              "      <th>150493</th>\n",
              "      <td>150494</td>\n",
              "      <td>0006641040</td>\n",
              "      <td>AYZ0PR5QZROD1</td>\n",
              "      <td>Mother of 3 girls</td>\n",
              "      <td>3</td>\n",
              "      <td>3</td>\n",
              "      <td>1</td>\n",
              "      <td>1173312000</td>\n",
              "      <td>Family favorite</td>\n",
              "      <td>All of my children love this book.  My first g...</td>\n",
              "    </tr>\n",
              "    <tr>\n",
              "      <th>150495</th>\n",
              "      <td>150496</td>\n",
              "      <td>0006641040</td>\n",
              "      <td>A3KKR87BJ0C595</td>\n",
              "      <td>Gretchen Goodfellow \"Lover of children's lit\"</td>\n",
              "      <td>3</td>\n",
              "      <td>3</td>\n",
              "      <td>1</td>\n",
              "      <td>1111363200</td>\n",
              "      <td>You'll use it once, you'll use it twice</td>\n",
              "      <td>One of my earliest memories is of this book.  ...</td>\n",
              "    </tr>\n",
              "    <tr>\n",
              "      <th>150496</th>\n",
              "      <td>150497</td>\n",
              "      <td>0006641040</td>\n",
              "      <td>A1HKYQOFC8ZZCH</td>\n",
              "      <td>Maria Apolloni \"lanarossa\"</td>\n",
              "      <td>2</td>\n",
              "      <td>2</td>\n",
              "      <td>0</td>\n",
              "      <td>1334707200</td>\n",
              "      <td>The story is great, the softcover book is disa...</td>\n",
              "      <td>I give five stars to the Maurice Sendak story....</td>\n",
              "    </tr>\n",
              "    <tr>\n",
              "      <th>150497</th>\n",
              "      <td>150498</td>\n",
              "      <td>0006641040</td>\n",
              "      <td>A3SJWISOCP31TR</td>\n",
              "      <td>R. J. Wells</td>\n",
              "      <td>2</td>\n",
              "      <td>2</td>\n",
              "      <td>1</td>\n",
              "      <td>1176336000</td>\n",
              "      <td>A Gem of a Book</td>\n",
              "      <td>This is a wonderful little book. I loved it 40...</td>\n",
              "    </tr>\n",
              "  </tbody>\n",
              "</table>\n",
              "</div>\n",
              "      <button class=\"colab-df-convert\" onclick=\"convertToInteractive('df-d86c44ea-0758-4834-bc33-3cd353107f7c')\"\n",
              "              title=\"Convert this dataframe to an interactive table.\"\n",
              "              style=\"display:none;\">\n",
              "        \n",
              "  <svg xmlns=\"http://www.w3.org/2000/svg\" height=\"24px\"viewBox=\"0 0 24 24\"\n",
              "       width=\"24px\">\n",
              "    <path d=\"M0 0h24v24H0V0z\" fill=\"none\"/>\n",
              "    <path d=\"M18.56 5.44l.94 2.06.94-2.06 2.06-.94-2.06-.94-.94-2.06-.94 2.06-2.06.94zm-11 1L8.5 8.5l.94-2.06 2.06-.94-2.06-.94L8.5 2.5l-.94 2.06-2.06.94zm10 10l.94 2.06.94-2.06 2.06-.94-2.06-.94-.94-2.06-.94 2.06-2.06.94z\"/><path d=\"M17.41 7.96l-1.37-1.37c-.4-.4-.92-.59-1.43-.59-.52 0-1.04.2-1.43.59L10.3 9.45l-7.72 7.72c-.78.78-.78 2.05 0 2.83L4 21.41c.39.39.9.59 1.41.59.51 0 1.02-.2 1.41-.59l7.78-7.78 2.81-2.81c.8-.78.8-2.07 0-2.86zM5.41 20L4 18.59l7.72-7.72 1.47 1.35L5.41 20z\"/>\n",
              "  </svg>\n",
              "      </button>\n",
              "      \n",
              "  <style>\n",
              "    .colab-df-container {\n",
              "      display:flex;\n",
              "      flex-wrap:wrap;\n",
              "      gap: 12px;\n",
              "    }\n",
              "\n",
              "    .colab-df-convert {\n",
              "      background-color: #E8F0FE;\n",
              "      border: none;\n",
              "      border-radius: 50%;\n",
              "      cursor: pointer;\n",
              "      display: none;\n",
              "      fill: #1967D2;\n",
              "      height: 32px;\n",
              "      padding: 0 0 0 0;\n",
              "      width: 32px;\n",
              "    }\n",
              "\n",
              "    .colab-df-convert:hover {\n",
              "      background-color: #E2EBFA;\n",
              "      box-shadow: 0px 1px 2px rgba(60, 64, 67, 0.3), 0px 1px 3px 1px rgba(60, 64, 67, 0.15);\n",
              "      fill: #174EA6;\n",
              "    }\n",
              "\n",
              "    [theme=dark] .colab-df-convert {\n",
              "      background-color: #3B4455;\n",
              "      fill: #D2E3FC;\n",
              "    }\n",
              "\n",
              "    [theme=dark] .colab-df-convert:hover {\n",
              "      background-color: #434B5C;\n",
              "      box-shadow: 0px 1px 3px 1px rgba(0, 0, 0, 0.15);\n",
              "      filter: drop-shadow(0px 1px 2px rgba(0, 0, 0, 0.3));\n",
              "      fill: #FFFFFF;\n",
              "    }\n",
              "  </style>\n",
              "\n",
              "      <script>\n",
              "        const buttonEl =\n",
              "          document.querySelector('#df-d86c44ea-0758-4834-bc33-3cd353107f7c button.colab-df-convert');\n",
              "        buttonEl.style.display =\n",
              "          google.colab.kernel.accessAllowed ? 'block' : 'none';\n",
              "\n",
              "        async function convertToInteractive(key) {\n",
              "          const element = document.querySelector('#df-d86c44ea-0758-4834-bc33-3cd353107f7c');\n",
              "          const dataTable =\n",
              "            await google.colab.kernel.invokeFunction('convertToInteractive',\n",
              "                                                     [key], {});\n",
              "          if (!dataTable) return;\n",
              "\n",
              "          const docLinkHtml = 'Like what you see? Visit the ' +\n",
              "            '<a target=\"_blank\" href=https://colab.research.google.com/notebooks/data_table.ipynb>data table notebook</a>'\n",
              "            + ' to learn more about interactive tables.';\n",
              "          element.innerHTML = '';\n",
              "          dataTable['output_type'] = 'display_data';\n",
              "          await google.colab.output.renderOutput(dataTable, element);\n",
              "          const docLink = document.createElement('div');\n",
              "          docLink.innerHTML = docLinkHtml;\n",
              "          element.appendChild(docLink);\n",
              "        }\n",
              "      </script>\n",
              "    </div>\n",
              "  </div>\n",
              "  "
            ]
          },
          "metadata": {},
          "execution_count": 94
        }
      ],
      "source": [
        "final.head(5)"
      ]
    },
    {
      "cell_type": "markdown",
      "metadata": {
        "id": "MxGV6vSJ2x8P"
      },
      "source": [
        "### Checking null values."
      ]
    },
    {
      "cell_type": "code",
      "execution_count": 95,
      "metadata": {
        "colab": {
          "base_uri": "https://localhost:8080/"
        },
        "id": "SP66mTuOx5lm",
        "outputId": "b3a00019-56d6-4273-d28c-c30f6d38354f"
      },
      "outputs": [
        {
          "output_type": "execute_result",
          "data": {
            "text/plain": [
              "Id                         0\n",
              "ProductId                  0\n",
              "UserId                     0\n",
              "ProfileName               11\n",
              "HelpfulnessNumerator       0\n",
              "HelpfulnessDenominator     0\n",
              "Score                      0\n",
              "Time                       0\n",
              "Summary                    1\n",
              "Text                       0\n",
              "dtype: int64"
            ]
          },
          "metadata": {},
          "execution_count": 95
        }
      ],
      "source": [
        "# check for null values\n",
        "final.isna().sum()"
      ]
    },
    {
      "cell_type": "markdown",
      "metadata": {
        "id": "ke4NSNnz22GI"
      },
      "source": [
        "No null values are present"
      ]
    },
    {
      "cell_type": "markdown",
      "metadata": {
        "id": "8csjxNUnx5pN"
      },
      "source": [
        "## Text Processing"
      ]
    },
    {
      "cell_type": "code",
      "execution_count": 96,
      "metadata": {
        "colab": {
          "base_uri": "https://localhost:8080/"
        },
        "id": "3zBQ4tKn7WYO",
        "outputId": "29b81ee0-8624-4051-bd0e-7f070984011e"
      },
      "outputs": [
        {
          "output_type": "stream",
          "name": "stdout",
          "text": [
            "['i', 'me', 'my', 'myself', 'we', 'our', 'ours', 'ourselves', 'you', \"you're\", \"you've\", \"you'll\", \"you'd\", 'your', 'yours', 'yourself', 'yourselves', 'he', 'him', 'his', 'himself', 'she', \"she's\", 'her', 'hers', 'herself', 'it', \"it's\", 'its', 'itself', 'they', 'them', 'their', 'theirs', 'themselves', 'what', 'which', 'who', 'whom', 'this', 'that', \"that'll\", 'these', 'those', 'am', 'is', 'are', 'was', 'were', 'be', 'been', 'being', 'have', 'has', 'had', 'having', 'do', 'does', 'did', 'doing', 'a', 'an', 'the', 'and', 'but', 'if', 'or', 'because', 'as', 'until', 'while', 'of', 'at', 'by', 'for', 'with', 'about', 'against', 'between', 'into', 'through', 'during', 'before', 'after', 'above', 'below', 'to', 'from', 'up', 'down', 'in', 'out', 'on', 'off', 'over', 'under', 'again', 'further', 'then', 'once', 'here', 'there', 'when', 'where', 'why', 'how', 'all', 'any', 'both', 'each', 'few', 'more', 'most', 'other', 'some', 'such', 'no', 'nor', 'not', 'only', 'own', 'same', 'so', 'than', 'too', 'very', 's', 't', 'can', 'will', 'just', 'don', \"don't\", 'should', \"should've\", 'now', 'd', 'll', 'm', 'o', 're', 've', 'y', 'ain', 'aren', \"aren't\", 'couldn', \"couldn't\", 'didn', \"didn't\", 'doesn', \"doesn't\", 'hadn', \"hadn't\", 'hasn', \"hasn't\", 'haven', \"haven't\", 'isn', \"isn't\", 'ma', 'mightn', \"mightn't\", 'mustn', \"mustn't\", 'needn', \"needn't\", 'shan', \"shan't\", 'shouldn', \"shouldn't\", 'wasn', \"wasn't\", 'weren', \"weren't\", 'won', \"won't\", 'wouldn', \"wouldn't\"]\n"
          ]
        }
      ],
      "source": [
        "STOPWORDS = nltk.corpus.stopwords.words('english')\n",
        "print(STOPWORDS)\n",
        "\n",
        "STOPWORDS =  [\n",
        "    'i', 'me', 'my', 'myself', 'we', 'our', 'ours', 'ourselves', 'you', \"you're\", \"you've\", \"you'll\", \"you'd\", 'your', 'yours', \n",
        "    'yourself', 'yourselves', 'he', 'him', 'his', 'himself', 'she', \"she's\", 'her', 'hers', 'herself', 'it',  \"it's\", 'its', \n",
        "    'itself', 'they', 'them', 'their', 'theirs', 'themselves', 'what', 'which', 'who', 'whom', 'this', 'that', \"that'll\", \n",
        "    'these', 'those', 'am', 'is', 'are', 'was', 'were', 'be', 'been',  'being', 'have', 'has', 'had', 'having', 'do', 'does',\n",
        "    'did', 'doing', 'a', 'an', 'the', 'and', 'but', 'if',  'or', 'because', 'as', 'until', 'while', 'of', 'at',  'for', 'with',\n",
        "    'about', 'between', 'into',  'through', 'during',  'to',  'from', \n",
        "    'in', 'out', 'on', 'off',  'over', 'under', 'again', 'further', 'then', 'once', 'here', 'there', 'when', \n",
        "    'where', 'why', 'how', 'all', 'any', 'both', 'each', 'few',  'other', 'some', 'such', 'only', 'own', \n",
        "    'same', 'so', 'than', 'too', 'very', 's', 't', 'can', 'will', 'just', 'don', \"don't\", 'should', \"should've\", \n",
        "    'now', 'd', 'll', 'm', 'o', 're', 've', 'y', 'ain', 'aren', \"aren't\", 'couldn', \"couldn't\", 'didn',  \"didn't\", 'doesn', \n",
        "    \"doesn't\", 'hadn', \"hadn't\", 'hasn', \"hasn't\", 'haven', \"haven't\", 'isn', \"isn't\", 'ma', 'mightn', \"mightn't\", 'mustn', \n",
        "    \"mustn't\", 'needn', \"needn't\", 'shan', \"shan't\", 'shouldn', \"shouldn't\", 'wasn', \"wasn't\", 'weren', \"weren't\", \n",
        "    'won', \"won't\", 'wouldn', \"wouldn't\", \"would\", \"could\"\n",
        "]\n"
      ]
    },
    {
      "cell_type": "code",
      "execution_count": 97,
      "metadata": {
        "id": "FaGCIv8ix5rH"
      },
      "outputs": [],
      "source": [
        "class TextProcess:\n",
        "\n",
        "  def __init__(self, df, stopwords=[]):\n",
        "    self.df = df\n",
        "    self.stopwords = stopwords\n",
        "\n",
        "  def decontracted(self, text):\n",
        "      '''\n",
        "      Function to expand the shotened words: what've ---> what have\n",
        "      '''\n",
        "      expanded_words = []    \n",
        "      for word in text.split():\n",
        "        # using contractions.fix to expand the shotened words\n",
        "        expanded_words.append(contractions.fix(word))   \n",
        "\n",
        "      expanded_text = ' '.join(expanded_words)\n",
        "      return expanded_text\n",
        "\n",
        "  def remove_stopwords(self, text):\n",
        "      text = text.strip().split()\n",
        "      text = [word for word in text if word not in self.stopwords and len(word)>1]\n",
        "      return ' '.join(text)\n",
        "\n",
        "  def remove_html_tags(self, text):\n",
        "      '''Remove html tags'''\n",
        "      return BeautifulSoup(text, 'lxml').get_text()\n",
        "\n",
        "  def remove_consecutive_duplicate(self, text):\n",
        "      '''Remove consecutive duplicate'''\n",
        "      text = text.split()\n",
        "      text = [i[0] for i in groupby(text)]\n",
        "      return \" \".join(text)\n",
        "\n",
        "  def remove_space(self, text):\n",
        "      # text = re.sub('[^\\w\\s]', ' ', text)   # remove punc\n",
        "      text = re.sub(\"[\\s]+\", ' ', text)\n",
        "      return text\n",
        "\n",
        "  def remove_punc(self, text):\n",
        "      # text = re.sub('[^\\w\\s]', ' ', text)   # remove punc\n",
        "      text = [word for word in text.split() if word not in string.punctuation]\n",
        "      text = \" \".join(text)\n",
        "      text = re.sub(\"[\\s]+\", ' ', text)\n",
        "      return text\n",
        "\n",
        "  def nltk_tag_to_wordnet_tag(self, nltk_tag):\n",
        "      if nltk_tag.startswith('J'):\n",
        "          return wordnet.ADJ\n",
        "      elif nltk_tag.startswith('V'):\n",
        "          return wordnet.VERB\n",
        "      elif nltk_tag.startswith('N'):\n",
        "          return wordnet.NOUN\n",
        "      elif nltk_tag.startswith('R'):\n",
        "          return wordnet.ADV\n",
        "      else:\n",
        "          return None\n",
        "\n",
        "  def lemmatize_sentence(self, sentence):\n",
        "      lemmatizer = WordNetLemmatizer()\n",
        "      #tokenize the sentence and find the POS tag for each token\n",
        "      nltk_tagged = nltk.pos_tag(nltk.word_tokenize(sentence))\n",
        "\n",
        "      #tuple of (token, wordnet_tag)\n",
        "      wordnet_tagged = map(lambda x: (x[0], self.nltk_tag_to_wordnet_tag(x[1])), nltk_tagged)\n",
        "\n",
        "      lemmatized_sentence = []\n",
        "      for word, tag in wordnet_tagged:\n",
        "          if tag is None:\n",
        "              #if there is no available tag, append the token as is\n",
        "              lemmatized_sentence.append(word)\n",
        "          else:\n",
        "              #else use the tag to lemmatize the token\n",
        "              lemmatized_sentence.append(lemmatizer.lemmatize(word, tag))\n",
        "\n",
        "      return self.remove_stopwords(\" \".join(lemmatized_sentence))\n",
        "\n",
        "  def lemma_spacy(self, sentence):\n",
        "      try:\n",
        "        import spacy\n",
        "        NLP_OBJ = spacy.load(\"en_core_web_sm\", disable=['ner'])\n",
        "        doc = NLP_OBJ(sentence)\n",
        "        sentence = \" \".join([token.lemma_ for token in doc])\n",
        "        return sentence\n",
        "      except:\n",
        "        return sentence\n",
        "\n",
        "  def text_process_df(self):\n",
        "    print(\"Start cleaning dataframe...\")\n",
        "    self.df['clean_review'] = self.df['Text'].swifter.apply(self.clean_text)\n",
        "    # print(\"Start lemmatize dataframe..\")\n",
        "    # self.df['clean_review'] = self.df['clean_review'].swifter.apply(self.lemmatize_sentence)\n",
        "    # self.df['clean_review'] = self.df['clean_review'].swifter.apply(self.lemma_spacy)\n",
        "    return self.df\n",
        "\n",
        "  def token(self, text):\n",
        "    text = nltk.word_tokenize(text)\n",
        "    return \" \".join(text)\n",
        "\n",
        "  def clean_text(self, sentence):\n",
        "    '''\n",
        "    Function to clean the text and remove all the unnecessary elements.\n",
        "    '''\n",
        "    sentence = sentence.lower()                     # make the text lowercase\n",
        "    sentence = self.remove_html_tags(sentence)\n",
        "    sentence = self.token(sentence)\n",
        "    sentence = self.decontracted(sentence)          # expand the shotened words   what've ---> what have\n",
        "    sentence = self.remove_punc(sentence)\n",
        "    sentence = self.remove_space(sentence)\n",
        "    sentence = self.remove_consecutive_duplicate(sentence)\n",
        "    sentence = re.sub('[^A-Za-z]+', ' ', sentence)\n",
        "    sentence = self.remove_stopwords(sentence)\n",
        "    sentence = self.lemmatize_sentence(sentence)\n",
        "    return sentence\n"
      ]
    },
    {
      "cell_type": "code",
      "execution_count": 98,
      "metadata": {
        "id": "Z3rtagRJLEN-"
      },
      "outputs": [],
      "source": [
        "text_process_obj = TextProcess(df=final, stopwords=STOPWORDS)"
      ]
    },
    {
      "cell_type": "code",
      "execution_count": 99,
      "metadata": {
        "id": "G2auhOodKxgy"
      },
      "outputs": [],
      "source": [
        "a = '''Beetlejuice <a href=\"http://www.amazon.com/gp/product/B001AGXEA6\">Beetlejuice [Blu-ray</a>] is a timeless classic with Michael Keaton providing an excellent performance.  The afterlife concept of the film is excellent as well as entertaining; this film is a must for your video library... It's to be watched over and over again.<br /><br />The casting for this film is perfect, Michael Keaton is the outrageously funny and whacky witted (Betelguese - the afterlife's leading freelance bio-exorcist) with Alec Baldwin and Geena Davis playing (Adam and Barbara Maitland), a young couple that die prematurely. Adding to the cast are Jeffrey Jones and Catherine O'Hara (as Charles and Delia Deetz, and their Goth daughter Winona Ryder (as Lydia).<br /><br />One of the most hilarious scenes is the dinner party accompanied by Harry Belafonte's Banana Boat song `Day-O'.  This is truly Tim Burton at his finest taking the significance of being dead and dousing it with humor.'''"
      ]
    },
    {
      "cell_type": "code",
      "execution_count": 100,
      "metadata": {
        "colab": {
          "base_uri": "https://localhost:8080/",
          "height": 105
        },
        "id": "qDJOURO1K14v",
        "outputId": "ffdb2d25-a73b-4b0a-bb87-8918f9d8dc69"
      },
      "outputs": [
        {
          "output_type": "execute_result",
          "data": {
            "text/plain": [
              "'beetlejuice blu ray timeless classic michael keaton provide excellent performance afterlife concept film excellent well entertaining film must video library watch casting film perfect michael keaton outrageously funny whacky witted betelguese afterlife lead freelance bio exorcist alec baldwin geena davis play adam barbara maitland young couple die prematurely add cast jeffrey jones catherine hara charles delia deetz goth daughter winona ryder lydia one most hilarious scene dinner party accompany by harry belafonte banana boat song day truly tim burton fine take significance dead dousing humor'"
            ],
            "application/vnd.google.colaboratory.intrinsic+json": {
              "type": "string"
            }
          },
          "metadata": {},
          "execution_count": 100
        }
      ],
      "source": [
        "text_process_obj.clean_text(a)"
      ]
    },
    {
      "cell_type": "code",
      "execution_count": 110,
      "metadata": {
        "colab": {
          "base_uri": "https://localhost:8080/",
          "height": 66,
          "referenced_widgets": [
            "b5b094e5be264149a3738557f6f491d2",
            "a06cf0b5631247f4869fed99237d7680",
            "d40d92e7378c4624a3ad6cd0a7180864",
            "4368dc2fa04c423d8eeb9cfe2c06bab8",
            "a04022f65dee43e6b23704f6f20e5929",
            "36bb11c98df2403aacbf42d47c46d766",
            "11bf0e9865b446c3a30bb4b14ace0d75",
            "5b3f96786b8545f480f669e0aa806789",
            "260f0da1d5ae44c5928a4aa41422d552",
            "2f90d2da877a40359b12fd26cac1536d",
            "23cac0c9df134c939c2ae25c113a169a"
          ]
        },
        "id": "C-Pfl9Lwx5s3",
        "outputId": "59d22eb9-8c03-436e-d843-ea1eeee93e63"
      },
      "outputs": [
        {
          "output_type": "stream",
          "name": "stdout",
          "text": [
            "Start cleaning dataframe...\n"
          ]
        },
        {
          "output_type": "display_data",
          "data": {
            "text/plain": [
              "Pandas Apply:   0%|          | 0/365291 [00:00<?, ?it/s]"
            ],
            "application/vnd.jupyter.widget-view+json": {
              "version_major": 2,
              "version_minor": 0,
              "model_id": "b5b094e5be264149a3738557f6f491d2"
            }
          },
          "metadata": {}
        }
      ],
      "source": [
        "final = text_process_obj.text_process_df()"
      ]
    },
    {
      "cell_type": "code",
      "execution_count": 111,
      "metadata": {
        "colab": {
          "base_uri": "https://localhost:8080/",
          "height": 722
        },
        "id": "rt9M_G_UGjwb",
        "outputId": "7a2b4286-2ba8-4b52-b144-85df7d015148"
      },
      "outputs": [
        {
          "output_type": "execute_result",
          "data": {
            "text/plain": [
              "            Id   ProductId          UserId  \\\n",
              "150492  150493  0006641040   AMX0PJKV4PPNJ   \n",
              "150493  150494  0006641040   AYZ0PR5QZROD1   \n",
              "150495  150496  0006641040  A3KKR87BJ0C595   \n",
              "150496  150497  0006641040  A1HKYQOFC8ZZCH   \n",
              "150497  150498  0006641040  A3SJWISOCP31TR   \n",
              "\n",
              "                                          ProfileName  HelpfulnessNumerator  \\\n",
              "150492                       E. R. Bird \"Ramseelbird\"                    71   \n",
              "150493                              Mother of 3 girls                     3   \n",
              "150495  Gretchen Goodfellow \"Lover of children's lit\"                     3   \n",
              "150496                     Maria Apolloni \"lanarossa\"                     2   \n",
              "150497                                    R. J. Wells                     2   \n",
              "\n",
              "        HelpfulnessDenominator  Score        Time  \\\n",
              "150492                      72      1  1096416000   \n",
              "150493                       3      1  1173312000   \n",
              "150495                       3      1  1111363200   \n",
              "150496                       2      0  1334707200   \n",
              "150497                       2      1  1176336000   \n",
              "\n",
              "                                                  Summary  \\\n",
              "150492  Read it once. Read it twice. Reading Chicken S...   \n",
              "150493                                    Family favorite   \n",
              "150495            You'll use it once, you'll use it twice   \n",
              "150496  The story is great, the softcover book is disa...   \n",
              "150497                                    A Gem of a Book   \n",
              "\n",
              "                                                     Text  \\\n",
              "150492  These days, when a person says, \"chicken soup\"...   \n",
              "150493  All of my children love this book.  My first g...   \n",
              "150495  One of my earliest memories is of this book.  ...   \n",
              "150496  I give five stars to the Maurice Sendak story....   \n",
              "150497  This is a wonderful little book. I loved it 40...   \n",
              "\n",
              "                                             clean_review  \n",
              "150492  day person say chicken soup probably go follow...  \n",
              "150493  child love book first grader get christmas lov...  \n",
              "150495  one early memory book mother read us constantl...  \n",
              "150496  give five star maurice sendak story one star p...  \n",
              "150497  wonderful little book love year ago twin love ...  "
            ],
            "text/html": [
              "\n",
              "  <div id=\"df-475b5e07-3511-46bf-af41-893228e073f1\">\n",
              "    <div class=\"colab-df-container\">\n",
              "      <div>\n",
              "<style scoped>\n",
              "    .dataframe tbody tr th:only-of-type {\n",
              "        vertical-align: middle;\n",
              "    }\n",
              "\n",
              "    .dataframe tbody tr th {\n",
              "        vertical-align: top;\n",
              "    }\n",
              "\n",
              "    .dataframe thead th {\n",
              "        text-align: right;\n",
              "    }\n",
              "</style>\n",
              "<table border=\"1\" class=\"dataframe\">\n",
              "  <thead>\n",
              "    <tr style=\"text-align: right;\">\n",
              "      <th></th>\n",
              "      <th>Id</th>\n",
              "      <th>ProductId</th>\n",
              "      <th>UserId</th>\n",
              "      <th>ProfileName</th>\n",
              "      <th>HelpfulnessNumerator</th>\n",
              "      <th>HelpfulnessDenominator</th>\n",
              "      <th>Score</th>\n",
              "      <th>Time</th>\n",
              "      <th>Summary</th>\n",
              "      <th>Text</th>\n",
              "      <th>clean_review</th>\n",
              "    </tr>\n",
              "  </thead>\n",
              "  <tbody>\n",
              "    <tr>\n",
              "      <th>150492</th>\n",
              "      <td>150493</td>\n",
              "      <td>0006641040</td>\n",
              "      <td>AMX0PJKV4PPNJ</td>\n",
              "      <td>E. R. Bird \"Ramseelbird\"</td>\n",
              "      <td>71</td>\n",
              "      <td>72</td>\n",
              "      <td>1</td>\n",
              "      <td>1096416000</td>\n",
              "      <td>Read it once. Read it twice. Reading Chicken S...</td>\n",
              "      <td>These days, when a person says, \"chicken soup\"...</td>\n",
              "      <td>day person say chicken soup probably go follow...</td>\n",
              "    </tr>\n",
              "    <tr>\n",
              "      <th>150493</th>\n",
              "      <td>150494</td>\n",
              "      <td>0006641040</td>\n",
              "      <td>AYZ0PR5QZROD1</td>\n",
              "      <td>Mother of 3 girls</td>\n",
              "      <td>3</td>\n",
              "      <td>3</td>\n",
              "      <td>1</td>\n",
              "      <td>1173312000</td>\n",
              "      <td>Family favorite</td>\n",
              "      <td>All of my children love this book.  My first g...</td>\n",
              "      <td>child love book first grader get christmas lov...</td>\n",
              "    </tr>\n",
              "    <tr>\n",
              "      <th>150495</th>\n",
              "      <td>150496</td>\n",
              "      <td>0006641040</td>\n",
              "      <td>A3KKR87BJ0C595</td>\n",
              "      <td>Gretchen Goodfellow \"Lover of children's lit\"</td>\n",
              "      <td>3</td>\n",
              "      <td>3</td>\n",
              "      <td>1</td>\n",
              "      <td>1111363200</td>\n",
              "      <td>You'll use it once, you'll use it twice</td>\n",
              "      <td>One of my earliest memories is of this book.  ...</td>\n",
              "      <td>one early memory book mother read us constantl...</td>\n",
              "    </tr>\n",
              "    <tr>\n",
              "      <th>150496</th>\n",
              "      <td>150497</td>\n",
              "      <td>0006641040</td>\n",
              "      <td>A1HKYQOFC8ZZCH</td>\n",
              "      <td>Maria Apolloni \"lanarossa\"</td>\n",
              "      <td>2</td>\n",
              "      <td>2</td>\n",
              "      <td>0</td>\n",
              "      <td>1334707200</td>\n",
              "      <td>The story is great, the softcover book is disa...</td>\n",
              "      <td>I give five stars to the Maurice Sendak story....</td>\n",
              "      <td>give five star maurice sendak story one star p...</td>\n",
              "    </tr>\n",
              "    <tr>\n",
              "      <th>150497</th>\n",
              "      <td>150498</td>\n",
              "      <td>0006641040</td>\n",
              "      <td>A3SJWISOCP31TR</td>\n",
              "      <td>R. J. Wells</td>\n",
              "      <td>2</td>\n",
              "      <td>2</td>\n",
              "      <td>1</td>\n",
              "      <td>1176336000</td>\n",
              "      <td>A Gem of a Book</td>\n",
              "      <td>This is a wonderful little book. I loved it 40...</td>\n",
              "      <td>wonderful little book love year ago twin love ...</td>\n",
              "    </tr>\n",
              "  </tbody>\n",
              "</table>\n",
              "</div>\n",
              "      <button class=\"colab-df-convert\" onclick=\"convertToInteractive('df-475b5e07-3511-46bf-af41-893228e073f1')\"\n",
              "              title=\"Convert this dataframe to an interactive table.\"\n",
              "              style=\"display:none;\">\n",
              "        \n",
              "  <svg xmlns=\"http://www.w3.org/2000/svg\" height=\"24px\"viewBox=\"0 0 24 24\"\n",
              "       width=\"24px\">\n",
              "    <path d=\"M0 0h24v24H0V0z\" fill=\"none\"/>\n",
              "    <path d=\"M18.56 5.44l.94 2.06.94-2.06 2.06-.94-2.06-.94-.94-2.06-.94 2.06-2.06.94zm-11 1L8.5 8.5l.94-2.06 2.06-.94-2.06-.94L8.5 2.5l-.94 2.06-2.06.94zm10 10l.94 2.06.94-2.06 2.06-.94-2.06-.94-.94-2.06-.94 2.06-2.06.94z\"/><path d=\"M17.41 7.96l-1.37-1.37c-.4-.4-.92-.59-1.43-.59-.52 0-1.04.2-1.43.59L10.3 9.45l-7.72 7.72c-.78.78-.78 2.05 0 2.83L4 21.41c.39.39.9.59 1.41.59.51 0 1.02-.2 1.41-.59l7.78-7.78 2.81-2.81c.8-.78.8-2.07 0-2.86zM5.41 20L4 18.59l7.72-7.72 1.47 1.35L5.41 20z\"/>\n",
              "  </svg>\n",
              "      </button>\n",
              "      \n",
              "  <style>\n",
              "    .colab-df-container {\n",
              "      display:flex;\n",
              "      flex-wrap:wrap;\n",
              "      gap: 12px;\n",
              "    }\n",
              "\n",
              "    .colab-df-convert {\n",
              "      background-color: #E8F0FE;\n",
              "      border: none;\n",
              "      border-radius: 50%;\n",
              "      cursor: pointer;\n",
              "      display: none;\n",
              "      fill: #1967D2;\n",
              "      height: 32px;\n",
              "      padding: 0 0 0 0;\n",
              "      width: 32px;\n",
              "    }\n",
              "\n",
              "    .colab-df-convert:hover {\n",
              "      background-color: #E2EBFA;\n",
              "      box-shadow: 0px 1px 2px rgba(60, 64, 67, 0.3), 0px 1px 3px 1px rgba(60, 64, 67, 0.15);\n",
              "      fill: #174EA6;\n",
              "    }\n",
              "\n",
              "    [theme=dark] .colab-df-convert {\n",
              "      background-color: #3B4455;\n",
              "      fill: #D2E3FC;\n",
              "    }\n",
              "\n",
              "    [theme=dark] .colab-df-convert:hover {\n",
              "      background-color: #434B5C;\n",
              "      box-shadow: 0px 1px 3px 1px rgba(0, 0, 0, 0.15);\n",
              "      filter: drop-shadow(0px 1px 2px rgba(0, 0, 0, 0.3));\n",
              "      fill: #FFFFFF;\n",
              "    }\n",
              "  </style>\n",
              "\n",
              "      <script>\n",
              "        const buttonEl =\n",
              "          document.querySelector('#df-475b5e07-3511-46bf-af41-893228e073f1 button.colab-df-convert');\n",
              "        buttonEl.style.display =\n",
              "          google.colab.kernel.accessAllowed ? 'block' : 'none';\n",
              "\n",
              "        async function convertToInteractive(key) {\n",
              "          const element = document.querySelector('#df-475b5e07-3511-46bf-af41-893228e073f1');\n",
              "          const dataTable =\n",
              "            await google.colab.kernel.invokeFunction('convertToInteractive',\n",
              "                                                     [key], {});\n",
              "          if (!dataTable) return;\n",
              "\n",
              "          const docLinkHtml = 'Like what you see? Visit the ' +\n",
              "            '<a target=\"_blank\" href=https://colab.research.google.com/notebooks/data_table.ipynb>data table notebook</a>'\n",
              "            + ' to learn more about interactive tables.';\n",
              "          element.innerHTML = '';\n",
              "          dataTable['output_type'] = 'display_data';\n",
              "          await google.colab.output.renderOutput(dataTable, element);\n",
              "          const docLink = document.createElement('div');\n",
              "          docLink.innerHTML = docLinkHtml;\n",
              "          element.appendChild(docLink);\n",
              "        }\n",
              "      </script>\n",
              "    </div>\n",
              "  </div>\n",
              "  "
            ]
          },
          "metadata": {},
          "execution_count": 111
        }
      ],
      "source": [
        "final.head()"
      ]
    },
    {
      "cell_type": "code",
      "execution_count": 113,
      "metadata": {
        "id": "1_XuJY8T4VTx"
      },
      "outputs": [],
      "source": [
        "pth = \"/content/drive/MyDrive/Colab Notebooks/NLP/AmazonFineFoodReviews/amazon-fine-food-reviews/final_clean.csv\"\n",
        "final.to_csv(pth)"
      ]
    },
    {
      "cell_type": "code",
      "source": [
        "# dd = pd.read_csv(\"/content/drive/MyDrive/Colab Notebooks/NLP/AmazonFineFoodReviews/amazon-fine-food-reviews/final_clean.csv\")"
      ],
      "metadata": {
        "id": "3ZL8g49yWqnq"
      },
      "execution_count": 114,
      "outputs": []
    },
    {
      "cell_type": "code",
      "source": [
        "# dd.head()"
      ],
      "metadata": {
        "id": "kHuMgLAzXLDm"
      },
      "execution_count": 116,
      "outputs": []
    },
    {
      "cell_type": "markdown",
      "metadata": {
        "id": "0Fj7dqIAx5x9"
      },
      "source": [
        "## EDA"
      ]
    },
    {
      "cell_type": "code",
      "execution_count": 117,
      "metadata": {
        "id": "kLZuw0-qx5zi"
      },
      "outputs": [],
      "source": [
        "class EDA:\n",
        "  def __init__(self, df, col):\n",
        "    self.df = df\n",
        "    self.col = col\n",
        "    # col = 'clean_review'\n",
        "    self.word_freq = self.df[col].apply(self.check_word_frequency)\n",
        "    self.WORDS = self.get_all_words()\n",
        "\n",
        "  def get_all_words(self):\n",
        "    WORDS = self.df[self.col].str.split().values.tolist()\n",
        "    WORDS = [w for seq in WORDS for w in seq]    # list of all words from corpus\n",
        "    return WORDS\n",
        "\n",
        "  def check_word_frequency(self, text):\n",
        "      return len(str(text).split(' '))\n",
        "\n",
        "  def plot_word_counts(self):\n",
        "      sns.set_style('darkgrid')\n",
        "      fig = plt.figure(figsize=(10,5))\n",
        "\n",
        "      plt.hist(self.word_freq, bins=40, color='#30105C')\n",
        "      \n",
        "      plt.title('Distribution - Word Frequency', fontsize=16)\n",
        "      plt.xlabel('Word Frequncy', fontsize=12)\n",
        "      plt.ylabel('Frequency', fontsize=12)\n",
        "      plt.show()\n",
        "\n",
        "  def find_ngram(self, word, n):\n",
        "      word_fd = nltk.FreqDist(word)\n",
        "      n_gram_fd = nltk.FreqDist(nltk.ngrams(word, n))\n",
        "      return word_fd, n_gram_fd\n",
        "\n",
        "  def ngram_plot(self, n):\n",
        "    unigram_word_fd, unigram = self.find_ngram(self.WORDS, n)\n",
        "    pd.DataFrame(unigram.most_common(30), columns = ['word', 'count']).plot.barh(x = 'word', figsize=(10, 12))\n",
        "    plt.show()\n",
        "    # print(unigram.most_common(20))\n"
      ]
    },
    {
      "cell_type": "code",
      "execution_count": 118,
      "metadata": {
        "id": "_RPyzZPSEuF0"
      },
      "outputs": [],
      "source": [
        "col = 'clean_review'\n",
        "eda_obj = EDA(final, col)"
      ]
    },
    {
      "cell_type": "markdown",
      "metadata": {
        "id": "rEXYo1ENF5n3"
      },
      "source": [
        "### Distribution - Word Frequency"
      ]
    },
    {
      "cell_type": "code",
      "execution_count": 119,
      "metadata": {
        "colab": {
          "base_uri": "https://localhost:8080/",
          "height": 355
        },
        "id": "cD6PT1G-x51I",
        "outputId": "798827fc-5b27-43dd-bcb3-eb055890dfd9"
      },
      "outputs": [
        {
          "output_type": "display_data",
          "data": {
            "text/plain": [
              "<Figure size 720x360 with 1 Axes>"
            ],
            "image/png": "[encoded data removed]"
          },
          "metadata": {}
        }
      ],
      "source": [
        "eda_obj.plot_word_counts()"
      ]
    },
    {
      "cell_type": "markdown",
      "metadata": {
        "id": "_V3TjbEZFpWT"
      },
      "source": [
        "### Plot for unigram"
      ]
    },
    {
      "cell_type": "code",
      "execution_count": 120,
      "metadata": {
        "colab": {
          "base_uri": "https://localhost:8080/",
          "height": 700
        },
        "id": "bz9uluBux527",
        "outputId": "ac159a65-0b28-4b15-cd07-4ee35a7cdf4b"
      },
      "outputs": [
        {
          "output_type": "display_data",
          "data": {
            "text/plain": [
              "<Figure size 720x864 with 1 Axes>"
            ],
            "image/png": "[encoded data removed]"
          },
          "metadata": {}
        }
      ],
      "source": [
        "eda_obj.ngram_plot(1)"
      ]
    },
    {
      "cell_type": "markdown",
      "metadata": {
        "id": "3MsqmdcDFtDs"
      },
      "source": [
        "### Plot for bigram"
      ]
    },
    {
      "cell_type": "code",
      "execution_count": 121,
      "metadata": {
        "colab": {
          "base_uri": "https://localhost:8080/",
          "height": 700
        },
        "id": "6x1Lp4xNx54R",
        "outputId": "7a9d58f6-e8d6-4942-d8d7-b6ff78e4cf5d"
      },
      "outputs": [
        {
          "output_type": "display_data",
          "data": {
            "text/plain": [
              "<Figure size 720x864 with 1 Axes>"
            ],
            "image/png": "[encoded data removed]"
          },
          "metadata": {}
        }
      ],
      "source": [
        "eda_obj.ngram_plot(2)"
      ]
    },
    {
      "cell_type": "markdown",
      "metadata": {
        "id": "gGb8GRkCx56L"
      },
      "source": [
        "### Plot for trigram"
      ]
    },
    {
      "cell_type": "code",
      "execution_count": 122,
      "metadata": {
        "colab": {
          "base_uri": "https://localhost:8080/",
          "height": 700
        },
        "id": "gu9JxHqJx579",
        "outputId": "9500d175-a20c-4492-c270-05553f454fd2"
      },
      "outputs": [
        {
          "output_type": "display_data",
          "data": {
            "text/plain": [
              "<Figure size 720x864 with 1 Axes>"
            ],
            "image/png": "[encoded data removed]"
          },
          "metadata": {}
        }
      ],
      "source": [
        "eda_obj.ngram_plot(3)"
      ]
    },
    {
      "cell_type": "code",
      "execution_count": 123,
      "metadata": {
        "id": "fAHtGL3fx59q"
      },
      "outputs": [],
      "source": [
        "from imblearn.over_sampling import SMOTE\n",
        "from imblearn import over_sampling"
      ]
    },
    {
      "cell_type": "markdown",
      "metadata": {
        "id": "l-a-xxdax6BU"
      },
      "source": [
        "## Splitting the data into train & test data"
      ]
    },
    {
      "cell_type": "code",
      "execution_count": 124,
      "metadata": {
        "id": "u2YSF4d6OD_i"
      },
      "outputs": [],
      "source": [
        "class Feature:\n",
        "  def __init__(self, X, y):\n",
        "    # self.df = df\n",
        "    self.X = X\n",
        "    self.y = y\n",
        "    self.random_state = 42\n",
        "\n",
        "    self.word_vectorizer, self.vectorized_df = self.vectorizer_def(self.X)\n",
        "    self.X_train, self.X_test, self.y_train, self.y_test = self.split_data(X, y)\n",
        "    # self.X_train_transformed, self.X_test_transformed = transform_x_data(self.X_train, self.X_test)\n",
        "\n",
        "  def vectorizer_def(self, X):\n",
        "    word_vectorizer = TfidfVectorizer(\n",
        "        strip_accents='unicode',    # Remove accents and perform other character normalization during the preprocessing step. \n",
        "        analyzer='word',            # Whether the feature should be made of word or character n-grams.\n",
        "        token_pattern=r'\\w{1,}',    # Regular expression denoting what constitutes a “token”, only used if analyzer == 'word'\n",
        "        ngram_range=(1, 2),         # The lower and upper boundary of the range of n-values for different n-grams to be extracted\n",
        "        stop_words='english',\n",
        "        min_df=40,\n",
        "        max_features=7000,\n",
        "        sublinear_tf=True)\n",
        "\n",
        "    word_vectorizer.fit(X)    # Fiting it on Train\n",
        "    vectorized_df = word_vectorizer.transform(X)\n",
        "    return word_vectorizer, vectorized_df\n",
        "\n",
        "  def transform_x_data(self, X_train, X_test):\n",
        "      ## transforming the train and test datasets\n",
        "      X_train_transformed = self.word_vectorizer.transform(X_train.tolist())\n",
        "      X_test_transformed = self.word_vectorizer.transform(X_test.tolist())\n",
        "      return X_train_transformed, X_test_transformed\n",
        "\n",
        "  def ros_sample(self, x, y):\n",
        "    ros = RandomOverSampler(random_state=self.random_state)\n",
        "    X_ROS, y_ROS = ros.fit_resample(x, y)\n",
        "    # X_train, x_test, Y_train, y_test = self.split_data(X_ROS, y_ROS)\n",
        "    return X_ROS, y_ROS\n",
        "\n",
        "  def smote_sample(self, x, y):\n",
        "    ros = SMOTE(random_state=self.random_state)\n",
        "    X_smote, y_smote = ros.fit_resample(x, y)\n",
        "    # X_train, x_test, Y_train, y_test = self.split_data(X_smote, y_smote)\n",
        "    return X_smote, y_smote\n",
        "\n",
        "  def split_data(self, x, y):\n",
        "    X_train, X_test, y_train, y_test = train_test_split(x, y, stratify=y, test_size=0.2, random_state=self.random_state)\n",
        "    return X_train, X_test, y_train, y_test\n"
      ]
    },
    {
      "cell_type": "code",
      "execution_count": 125,
      "metadata": {
        "id": "IdY1iYMqWRpR"
      },
      "outputs": [],
      "source": [
        "x = final['clean_review'] \n",
        "y = final['Score']\n",
        "\n",
        "\n",
        "def print_shape(X_train_, X_test_, y_train_, y_test_):\n",
        "  print(\"X_train shape:\", X_train_.shape)\n",
        "  print(\"y_train shape:\", y_train_.shape)\n",
        "  print(\"--\"*20)\n",
        "  print(\"X_test shape:\", X_test_.shape)\n",
        "  print(\"y_test shape:\", y_test_.shape)"
      ]
    },
    {
      "cell_type": "code",
      "execution_count": 126,
      "metadata": {
        "id": "kejvn7-FVxLY"
      },
      "outputs": [],
      "source": [
        "feature_obj = Feature(x, y)"
      ]
    },
    {
      "cell_type": "code",
      "execution_count": 127,
      "metadata": {
        "id": "qR_Jep2_Sn2E"
      },
      "outputs": [],
      "source": [
        "X_train_, X_test_, y_train, y_test = feature_obj.X_train, feature_obj.X_test, feature_obj.y_train, feature_obj.y_test"
      ]
    },
    {
      "cell_type": "code",
      "execution_count": 128,
      "metadata": {
        "colab": {
          "base_uri": "https://localhost:8080/"
        },
        "id": "S2RPHwH0ak8f",
        "outputId": "cd6cfc07-6d29-4eb3-d5c3-7481bb0f48b6"
      },
      "outputs": [
        {
          "output_type": "stream",
          "name": "stdout",
          "text": [
            "X_train shape: (292232,)\n",
            "y_train shape: (292232,)\n",
            "----------------------------------------\n",
            "X_test shape: (73059,)\n",
            "y_test shape: (73059,)\n"
          ]
        }
      ],
      "source": [
        "print_shape(X_train_, X_test_, y_train, y_test)"
      ]
    },
    {
      "cell_type": "markdown",
      "metadata": {
        "id": "U1Eum3K5csIH"
      },
      "source": [
        "### TF-IDF"
      ]
    },
    {
      "cell_type": "code",
      "execution_count": 129,
      "metadata": {
        "colab": {
          "base_uri": "https://localhost:8080/"
        },
        "id": "46Vi90SSarno",
        "outputId": "623a99a9-8330-4762-a3a4-513eb7dd45a6"
      },
      "outputs": [
        {
          "output_type": "stream",
          "name": "stdout",
          "text": [
            "X_train shape: (292232, 7000)\n",
            "y_train shape: (292232,)\n",
            "----------------------------------------\n",
            "X_test shape: (73059, 7000)\n",
            "y_test shape: (73059,)\n"
          ]
        }
      ],
      "source": [
        "X_train, X_test = feature_obj.transform_x_data(X_train_, X_test_)\n",
        "print_shape(X_train, X_test, y_train, y_test)"
      ]
    },
    {
      "cell_type": "markdown",
      "metadata": {
        "id": "3NfF8vQsOECL"
      },
      "source": [
        "### ROS"
      ]
    },
    {
      "cell_type": "code",
      "execution_count": 130,
      "metadata": {
        "id": "tiv8QICkx6DQ"
      },
      "outputs": [],
      "source": [
        "# # X_train_ros, X_test_ros, y_train_ros, y_test_ros = feature_obj.ros_sample(feature_obj.vectorized_df, y)\n",
        "# X_train_ros, y_train_ros = feature_obj.ros_sample(X_train, y_train)\n",
        "# X_test_ros, y_test_ros = X_test, y_test"
      ]
    },
    {
      "cell_type": "code",
      "execution_count": 131,
      "metadata": {
        "id": "mFTMFnqfajMr"
      },
      "outputs": [],
      "source": [
        "# print_shape(X_train_ros, X_test_ros, y_train_ros, y_test_ros)"
      ]
    },
    {
      "cell_type": "markdown",
      "metadata": {
        "id": "gqq6awZvaQng"
      },
      "source": [
        "### SMOTE"
      ]
    },
    {
      "cell_type": "code",
      "execution_count": 132,
      "metadata": {
        "id": "5ZhjV3gMx6FR"
      },
      "outputs": [],
      "source": [
        "# # X_train_smote, X_test_smote, y_train_smote, y_test_smote = feature_obj.smote_sample(feature_obj.vectorized_df, y)\n",
        "# X_train_smote, y_train_smote = feature_obj.smote_sample(X_train, y_train)\n",
        "# X_test_smote, y_test_smote = X_test, y_test"
      ]
    },
    {
      "cell_type": "code",
      "execution_count": 133,
      "metadata": {
        "id": "lU2ZS4-ax6G-"
      },
      "outputs": [],
      "source": [
        "# print_shape(X_train_smote, X_test_smote, y_train_smote, y_test_smote)"
      ]
    },
    {
      "cell_type": "markdown",
      "metadata": {
        "id": "nqlDm4RWx6Nz"
      },
      "source": [
        "## Model"
      ]
    },
    {
      "cell_type": "code",
      "execution_count": 134,
      "metadata": {
        "id": "K_8CaToV2J0O"
      },
      "outputs": [],
      "source": [
        "from sklearn.metrics import confusion_matrix, ConfusionMatrixDisplay\n",
        "\n",
        "def pred_score(model, x_, y_, plot=True):\n",
        "  # Prediction Train Data\n",
        "  y_pred = model.predict(x_)\n",
        "  #Model Performance on Train Dataset\n",
        "  print(\"Accuracy\", accuracy_score(y_pred, y_))\n",
        "  print(classification_report(y_pred, y_))\n",
        "  if plot:\n",
        "    plot_confusion_matrix(model, x_, y_)\n",
        "\n",
        "def plot_confusion_matrix(model, X_test_, y_test_):\n",
        "    '''Function to plot confusion matrix for the passed model and the data'''\n",
        "    \n",
        "    sentiment_classes = ['1', '2', '3', '4', '5']\n",
        "    # use model to do the prediction\n",
        "    y_pred = model.predict(X_test_)\n",
        "    # compute confusion matrix\n",
        "    cm = confusion_matrix(y_test_, y_pred, labels=model.classes_)\n",
        "    # plot confusion matrix\n",
        "    disp = ConfusionMatrixDisplay(confusion_matrix=cm, display_labels=model.classes_)\n",
        "    disp.plot()\n",
        "    plt.grid(False)\n",
        "    plt.show()\n",
        "    # sns.heatmap(cm, cmap=plt.cm.Blues, annot=True, fmt='d',\n",
        "    #             xticklabels=sentiment_classes,\n",
        "    #             yticklabels=sentiment_classes)\n",
        "    # plt.title('Confusion matrix', fontsize=16)\n",
        "    # plt.ylabel('Actual label', fontsize=12)\n",
        "    # plt.xlabel('Predicted label', fontsize=12)"
      ]
    },
    {
      "cell_type": "markdown",
      "metadata": {
        "id": "iuUn0x_Bx6Pq"
      },
      "source": [
        "### Logistic Regression"
      ]
    },
    {
      "cell_type": "markdown",
      "metadata": {
        "id": "OFCIbPXF4_xR"
      },
      "source": [
        "#### Logistic Regression"
      ]
    },
    {
      "cell_type": "code",
      "execution_count": 135,
      "metadata": {
        "colab": {
          "base_uri": "https://localhost:8080/"
        },
        "id": "zRy_I0GBx6Rc",
        "outputId": "8a6d20bc-602e-4106-9c52-b267f22b528e"
      },
      "outputs": [
        {
          "output_type": "stream",
          "name": "stdout",
          "text": [
            "Time Taken: 7.03 seconds\n"
          ]
        }
      ],
      "source": [
        "time1 = time.time()\n",
        "\n",
        "lr = LogisticRegression()\n",
        "lr = LogisticRegression(class_weight='balanced', solver='liblinear', random_state=123)\n",
        "lr.fit(X_train, y_train)\n",
        "\n",
        "time_taken = time.time() - time1\n",
        "print('Time Taken: {:.2f} seconds'.format(time_taken))"
      ]
    },
    {
      "cell_type": "code",
      "execution_count": 136,
      "metadata": {
        "colab": {
          "base_uri": "https://localhost:8080/"
        },
        "id": "PVjPxV8o0H5S",
        "outputId": "f6a6cac4-d82c-499e-cdce-f671e8277ac8"
      },
      "outputs": [
        {
          "output_type": "stream",
          "name": "stdout",
          "text": [
            "Accuracy 0.8979543650250486\n",
            "              precision    recall  f1-score   support\n",
            "\n",
            "           0       0.90      0.62      0.74     66746\n",
            "           1       0.90      0.98      0.94    225486\n",
            "\n",
            "    accuracy                           0.90    292232\n",
            "   macro avg       0.90      0.80      0.84    292232\n",
            "weighted avg       0.90      0.90      0.89    292232\n",
            "\n"
          ]
        }
      ],
      "source": [
        "pred_score(lr, X_train, y_train, plot=False)"
      ]
    },
    {
      "cell_type": "code",
      "execution_count": 137,
      "metadata": {
        "colab": {
          "base_uri": "https://localhost:8080/",
          "height": 453
        },
        "id": "Y27wAyCXeBBG",
        "outputId": "cafe4821-10a8-4e0d-e59c-6ca661af5fab"
      },
      "outputs": [
        {
          "output_type": "stream",
          "name": "stdout",
          "text": [
            "Accuracy 0.892128279883382\n",
            "              precision    recall  f1-score   support\n",
            "\n",
            "           0       0.88      0.61      0.72     16527\n",
            "           1       0.89      0.98      0.93     56532\n",
            "\n",
            "    accuracy                           0.89     73059\n",
            "   macro avg       0.89      0.79      0.83     73059\n",
            "weighted avg       0.89      0.89      0.88     73059\n",
            "\n"
          ]
        },
        {
          "output_type": "display_data",
          "data": {
            "text/plain": [
              "<Figure size 432x288 with 2 Axes>"
            ],
            "image/png": "[encoded data removed]"
          },
          "metadata": {}
        }
      ],
      "source": [
        "pred_score(lr, X_test, y_test)"
      ]
    },
    {
      "cell_type": "markdown",
      "metadata": {
        "id": "9mi7pDoi4g-7"
      },
      "source": [
        "### Random Forest"
      ]
    },
    {
      "cell_type": "markdown",
      "metadata": {
        "id": "jNPqm7C-tJG-"
      },
      "source": [
        "#### Random Forest"
      ]
    },
    {
      "cell_type": "code",
      "execution_count": null,
      "metadata": {
        "colab": {
          "background_save": true
        },
        "id": "sT-5C-RrtJdy",
        "outputId": "ce9a1760-f4aa-48f7-c15a-c7bcb4653ed7"
      },
      "outputs": [
        {
          "name": "stdout",
          "output_type": "stream",
          "text": [
            "Time Taken: 41.42 seconds\n"
          ]
        }
      ],
      "source": [
        "time1 = time.time()\n",
        "\n",
        "rf = RandomForestClassifier(max_depth=15, random_state=50, n_jobs=-1)\n",
        "# rf = RandomForestClassifier(n_estimators=500, max_depth=100, min_samples_leaf=4, min_samples_split=8, random_state=50, n_jobs=-1)\n",
        "rf.fit(X_train, y_train)\n",
        "\n",
        "time_taken = time.time() - time1\n",
        "print('Time Taken: {:.2f} seconds'.format(time_taken))"
      ]
    },
    {
      "cell_type": "code",
      "execution_count": null,
      "metadata": {
        "colab": {
          "background_save": true
        },
        "id": "OPUuVCqEtJdz",
        "outputId": "a44e18ad-08f0-4480-a4db-ba93aba59853"
      },
      "outputs": [
        {
          "name": "stdout",
          "output_type": "stream",
          "text": [
            "Accuracy 0.8444865723124093\n",
            "              precision    recall  f1-score   support\n",
            "\n",
            "           0       0.01      1.00      0.02       441\n",
            "           1       1.00      0.84      0.92    291791\n",
            "\n",
            "    accuracy                           0.84    292232\n",
            "   macro avg       0.50      0.92      0.47    292232\n",
            "weighted avg       1.00      0.84      0.91    292232\n",
            "\n"
          ]
        }
      ],
      "source": [
        "pred_score(rf, X_train, y_train, plot=False)"
      ]
    },
    {
      "cell_type": "code",
      "execution_count": null,
      "metadata": {
        "colab": {
          "background_save": true
        },
        "id": "50KHVF43tJd0",
        "outputId": "a0b75f18-3159-427e-9153-3945f20cfc34"
      },
      "outputs": [
        {
          "name": "stdout",
          "output_type": "stream",
          "text": [
            "Accuracy 0.8440712301016986\n",
            "              precision    recall  f1-score   support\n",
            "\n",
            "           0       0.01      0.99      0.01        82\n",
            "           1       1.00      0.84      0.92     72977\n",
            "\n",
            "    accuracy                           0.84     73059\n",
            "   macro avg       0.50      0.92      0.46     73059\n",
            "weighted avg       1.00      0.84      0.91     73059\n",
            "\n"
          ]
        },
        {
          "data": {
            "image/png": "[encoded data removed]",
            "text/plain": [
              "<Figure size 432x288 with 2 Axes>"
            ]
          },
          "metadata": {},
          "output_type": "display_data"
        }
      ],
      "source": [
        "pred_score(rf, X_test, y_test)"
      ]
    },
    {
      "cell_type": "markdown",
      "metadata": {
        "id": "oYPfT3LU6mgF"
      },
      "source": [
        "### MultinomialNB"
      ]
    },
    {
      "cell_type": "code",
      "execution_count": 138,
      "metadata": {
        "colab": {
          "base_uri": "https://localhost:8080/"
        },
        "id": "asxZTif46mgH",
        "outputId": "94376457-d2a5-4508-806e-99e33259e401"
      },
      "outputs": [
        {
          "output_type": "stream",
          "name": "stdout",
          "text": [
            "Time Taken: 0.10 seconds\n"
          ]
        }
      ],
      "source": [
        "time1 = time.time()\n",
        "from sklearn.naive_bayes import BernoulliNB\n",
        "\n",
        "nb_ros = MultinomialNB(alpha=0.00005)\n",
        "# nb_ros = BernoulliNB(alpha=0.1)\n",
        "nb_ros.fit(X_train, y_train)\n",
        "\n",
        "time_taken = time.time() - time1\n",
        "print('Time Taken: {:.2f} seconds'.format(time_taken))"
      ]
    },
    {
      "cell_type": "code",
      "execution_count": 139,
      "metadata": {
        "colab": {
          "base_uri": "https://localhost:8080/"
        },
        "id": "mFf0v2_96mgI",
        "outputId": "245a3d2d-f275-4ff4-cb73-b0e1e3077783"
      },
      "outputs": [
        {
          "output_type": "stream",
          "name": "stdout",
          "text": [
            "Accuracy 0.8927153768238933\n",
            "              precision    recall  f1-score   support\n",
            "\n",
            "           0       0.36      0.89      0.51     18675\n",
            "           1       0.99      0.89      0.94    273557\n",
            "\n",
            "    accuracy                           0.89    292232\n",
            "   macro avg       0.68      0.89      0.73    292232\n",
            "weighted avg       0.95      0.89      0.91    292232\n",
            "\n"
          ]
        }
      ],
      "source": [
        "pred_score(nb_ros, X_train, y_train, plot=False)"
      ]
    },
    {
      "cell_type": "code",
      "execution_count": 140,
      "metadata": {
        "colab": {
          "base_uri": "https://localhost:8080/",
          "height": 453
        },
        "id": "Sz8KKIPZ-Dyo",
        "outputId": "0a45588a-a9de-42c5-d720-946f7dc420b4"
      },
      "outputs": [
        {
          "output_type": "stream",
          "name": "stdout",
          "text": [
            "Accuracy 0.8913617760987695\n",
            "              precision    recall  f1-score   support\n",
            "\n",
            "           0       0.35      0.89      0.50      4517\n",
            "           1       0.99      0.89      0.94     68542\n",
            "\n",
            "    accuracy                           0.89     73059\n",
            "   macro avg       0.67      0.89      0.72     73059\n",
            "weighted avg       0.95      0.89      0.91     73059\n",
            "\n"
          ]
        },
        {
          "output_type": "display_data",
          "data": {
            "text/plain": [
              "<Figure size 432x288 with 2 Axes>"
            ],
            "image/png": "[encoded data removed]"
          },
          "metadata": {}
        }
      ],
      "source": [
        "pred_score(nb_ros, X_test, y_test)"
      ]
    },
    {
      "cell_type": "markdown",
      "metadata": {
        "id": "KKwUVeOsx6aJ"
      },
      "source": [
        "## Hyperparameter Tuning"
      ]
    },
    {
      "cell_type": "code",
      "execution_count": 141,
      "metadata": {
        "id": "kP2omGxQx6b7"
      },
      "outputs": [],
      "source": [
        "from sklearn.model_selection import StratifiedKFold\n",
        "skf = StratifiedKFold(n_splits=3)\n",
        "\n",
        "def grid_search_csv(dict_params):\n",
        "    # GridSearchCV\n",
        "    model_lr_final = GridSearchCV(estimator=dict_params['model'], param_grid=dict_params['params'],\n",
        "                                  cv=skf, scoring='f1_macro', n_jobs = -1, verbose=1)\n",
        "    # fit cv\n",
        "    model_lr_final = model_lr_final.fit(dict_params['X_train'], dict_params['y_train'])\n",
        "    # best_estimator\n",
        "    best_estimator = model_lr_final.best_estimator_\n",
        "    best_params = model_lr_final.best_params_\n",
        "    print(\"Best parameters\", best_params)\n",
        "    \n",
        "    return best_estimator, best_params"
      ]
    },
    {
      "cell_type": "markdown",
      "metadata": {
        "id": "3c0c3M80Dedx"
      },
      "source": [
        "#### Logistic Regression"
      ]
    },
    {
      "cell_type": "code",
      "execution_count": 142,
      "metadata": {
        "id": "IgI4eg-Ex6eC"
      },
      "outputs": [],
      "source": [
        "lr_model = LogisticRegression(class_weight='balanced', solver='liblinear', random_state=123)\n",
        "\n",
        "params = {'penalty': ['l1', 'l2'], 'C': [0.0001, 0.001, 0.01, 0.1, 1, 2, 5, 7]}\n",
        "dict_params = {'model':lr_model, 'params': params, 'X_train':X_train, 'y_train':y_train}"
      ]
    },
    {
      "cell_type": "code",
      "execution_count": 143,
      "metadata": {
        "id": "r48zCPQzx6gc",
        "outputId": "0ece8766-0f24-4552-a5a4-a3f5b69236a7",
        "colab": {
          "base_uri": "https://localhost:8080/"
        }
      },
      "outputs": [
        {
          "output_type": "stream",
          "name": "stdout",
          "text": [
            "Fitting 3 folds for each of 16 candidates, totalling 48 fits\n",
            "Best parameters {'C': 2, 'penalty': 'l2'}\n"
          ]
        }
      ],
      "source": [
        "lr_model_tf, best_params = grid_search_csv(dict_params)"
      ]
    },
    {
      "cell_type": "code",
      "execution_count": 144,
      "metadata": {
        "id": "F7ykVz39_sLy",
        "colab": {
          "base_uri": "https://localhost:8080/"
        },
        "outputId": "364be9eb-3a09-4ad9-9ca5-99b44ca8ffac"
      },
      "outputs": [
        {
          "output_type": "stream",
          "name": "stdout",
          "text": [
            "Accuracy 0.8993197185797586\n",
            "              precision    recall  f1-score   support\n",
            "\n",
            "           0       0.91      0.62      0.74     66607\n",
            "           1       0.90      0.98      0.94    225625\n",
            "\n",
            "    accuracy                           0.90    292232\n",
            "   macro avg       0.90      0.80      0.84    292232\n",
            "weighted avg       0.90      0.90      0.89    292232\n",
            "\n"
          ]
        }
      ],
      "source": [
        "pred_score(lr_model_tf, X_train, y_train, plot=False)"
      ]
    },
    {
      "cell_type": "code",
      "execution_count": 145,
      "metadata": {
        "id": "tIGzxekhwK88",
        "colab": {
          "base_uri": "https://localhost:8080/",
          "height": 453
        },
        "outputId": "86e085c5-b176-4b7e-e6c0-57dc4444d08e"
      },
      "outputs": [
        {
          "output_type": "stream",
          "name": "stdout",
          "text": [
            "Accuracy 0.8924430939377763\n",
            "              precision    recall  f1-score   support\n",
            "\n",
            "           0       0.88      0.61      0.72     16480\n",
            "           1       0.90      0.97      0.93     56579\n",
            "\n",
            "    accuracy                           0.89     73059\n",
            "   macro avg       0.89      0.79      0.83     73059\n",
            "weighted avg       0.89      0.89      0.89     73059\n",
            "\n"
          ]
        },
        {
          "output_type": "display_data",
          "data": {
            "text/plain": [
              "<Figure size 432x288 with 2 Axes>"
            ],
            "image/png": "[encoded data removed]"
          },
          "metadata": {}
        }
      ],
      "source": [
        "pred_score(lr_model_tf, X_test, y_test)"
      ]
    },
    {
      "cell_type": "markdown",
      "metadata": {
        "id": "aM-4yq1ZHG8H"
      },
      "source": [
        "### MultinomialNB"
      ]
    },
    {
      "cell_type": "code",
      "execution_count": 146,
      "metadata": {
        "id": "LvrrNh3vHKuQ"
      },
      "outputs": [],
      "source": [
        "nb_model = MultinomialNB()\n",
        "params = {'alpha': (0.00005, 0.00001, 0.0001, 0.001, 0.01, 0.1, 1, 10)}\n",
        "dict_params = {'model':nb_model, 'params': params, 'X_train':X_train, 'y_train':y_train}"
      ]
    },
    {
      "cell_type": "code",
      "execution_count": 147,
      "metadata": {
        "id": "nHQ93pt7HKuR",
        "colab": {
          "base_uri": "https://localhost:8080/"
        },
        "outputId": "dfdcd4ee-36b9-4a56-c19a-6686fa45720c"
      },
      "outputs": [
        {
          "output_type": "stream",
          "name": "stdout",
          "text": [
            "Fitting 3 folds for each of 8 candidates, totalling 24 fits\n",
            "Best parameters {'alpha': 5e-05}\n"
          ]
        }
      ],
      "source": [
        "nb_model_tf, best_params = grid_search_csv(dict_params)"
      ]
    },
    {
      "cell_type": "code",
      "execution_count": 148,
      "metadata": {
        "id": "-v9dwFmvHKuS",
        "colab": {
          "base_uri": "https://localhost:8080/"
        },
        "outputId": "ce956a20-3307-4b1a-dc6c-e19657e2331b"
      },
      "outputs": [
        {
          "output_type": "stream",
          "name": "stdout",
          "text": [
            "Accuracy 0.8927153768238933\n",
            "              precision    recall  f1-score   support\n",
            "\n",
            "           0       0.36      0.89      0.51     18675\n",
            "           1       0.99      0.89      0.94    273557\n",
            "\n",
            "    accuracy                           0.89    292232\n",
            "   macro avg       0.68      0.89      0.73    292232\n",
            "weighted avg       0.95      0.89      0.91    292232\n",
            "\n"
          ]
        }
      ],
      "source": [
        "# pred_score(lr_model_tf, X_train_ros, y_train_ros, plot=False)\n",
        "pred_score(nb_model_tf, X_train, y_train, plot=False)"
      ]
    },
    {
      "cell_type": "code",
      "execution_count": 149,
      "metadata": {
        "id": "8qX7mIa8HKuS",
        "colab": {
          "base_uri": "https://localhost:8080/",
          "height": 453
        },
        "outputId": "0c210c56-ecf8-495b-a020-3ffa56080fb8"
      },
      "outputs": [
        {
          "output_type": "stream",
          "name": "stdout",
          "text": [
            "Accuracy 0.8913617760987695\n",
            "              precision    recall  f1-score   support\n",
            "\n",
            "           0       0.35      0.89      0.50      4517\n",
            "           1       0.99      0.89      0.94     68542\n",
            "\n",
            "    accuracy                           0.89     73059\n",
            "   macro avg       0.67      0.89      0.72     73059\n",
            "weighted avg       0.95      0.89      0.91     73059\n",
            "\n"
          ]
        },
        {
          "output_type": "display_data",
          "data": {
            "text/plain": [
              "<Figure size 432x288 with 2 Axes>"
            ],
            "image/png": "[encoded data removed]"
          },
          "metadata": {}
        }
      ],
      "source": [
        "# pred_score(lr_model_tf, X_test_ros, y_test_ros)\n",
        "pred_score(nb_model_tf, X_test, y_test)"
      ]
    },
    {
      "cell_type": "markdown",
      "metadata": {
        "id": "qefeGB2tx684"
      },
      "source": [
        "## Save Model"
      ]
    },
    {
      "cell_type": "code",
      "execution_count": 67,
      "metadata": {
        "id": "SGRMBSdLx7Ab"
      },
      "outputs": [],
      "source": [
        "import pickle"
      ]
    },
    {
      "cell_type": "code",
      "execution_count": 150,
      "metadata": {
        "id": "6_8mUAV9dAkK"
      },
      "outputs": [],
      "source": [
        "pth = '/content/drive/MyDrive/Colab Notebooks/NLP/AmazonFineFoodReviews/amazon-fine-food-reviews'\n",
        "\n",
        "pickle.dump(lr, open(os.path.join(pth,'model.pkl'), 'wb'))\n",
        "pickle.dump(feature_obj.word_vectorizer, open(os.path.join(pth,'word_vectorizer.pkl'), 'wb'))"
      ]
    },
    {
      "cell_type": "code",
      "execution_count": 151,
      "metadata": {
        "id": "4k9fjnE8x7F0",
        "colab": {
          "base_uri": "https://localhost:8080/"
        },
        "outputId": "812dd854-22a4-4f56-86f8-e2bf45029272"
      },
      "outputs": [
        {
          "output_type": "execute_result",
          "data": {
            "text/plain": [
              "array([1])"
            ]
          },
          "metadata": {},
          "execution_count": 151
        }
      ],
      "source": [
        "a = feature_obj.word_vectorizer.transform([\"I like the recipes and articles but seems good\"])\n",
        "lr.predict(a)"
      ]
    },
    {
      "cell_type": "code",
      "execution_count": 152,
      "metadata": {
        "id": "JB2GZZhnjkT1",
        "colab": {
          "base_uri": "https://localhost:8080/"
        },
        "outputId": "a4846eee-721e-4dac-a431-83f14f368f60"
      },
      "outputs": [
        {
          "output_type": "execute_result",
          "data": {
            "text/plain": [
              "array([0])"
            ]
          },
          "metadata": {},
          "execution_count": 152
        }
      ],
      "source": [
        "a = feature_obj.word_vectorizer.transform([\"I hate recipe\"])\n",
        "lr.predict(a)"
      ]
    },
    {
      "cell_type": "markdown",
      "source": [
        "## END"
      ],
      "metadata": {
        "id": "cpI5-qbGsgx4"
      }
    },
    {
      "cell_type": "code",
      "execution_count": 70,
      "metadata": {
        "id": "V_OsyedIsgdG"
      },
      "outputs": [],
      "source": []
    }
  ],
  "metadata": {
    "colab": {
      "toc_visible": true,
      "provenance": []
    },
    "kernelspec": {
      "display_name": "Python 3",
      "name": "python3"
    },
    "language_info": {
      "name": "python"
    },
    "widgets": {
      "application/vnd.jupyter.widget-state+json": {
        "b5b094e5be264149a3738557f6f491d2": {
          "model_module": "@jupyter-widgets/controls",
          "model_name": "HBoxModel",
          "model_module_version": "1.5.0",
          "state": {
            "_dom_classes": [],
            "_model_module": "@jupyter-widgets/controls",
            "_model_module_version": "1.5.0",
            "_model_name": "HBoxModel",
            "_view_count": null,
            "_view_module": "@jupyter-widgets/controls",
            "_view_module_version": "1.5.0",
            "_view_name": "HBoxView",
            "box_style": "",
            "children": [
              "IPY_MODEL_a06cf0b5631247f4869fed99237d7680",
              "IPY_MODEL_d40d92e7378c4624a3ad6cd0a7180864",
              "IPY_MODEL_4368dc2fa04c423d8eeb9cfe2c06bab8"
            ],
            "layout": "IPY_MODEL_a04022f65dee43e6b23704f6f20e5929"
          }
        },
        "a06cf0b5631247f4869fed99237d7680": {
          "model_module": "@jupyter-widgets/controls",
          "model_name": "HTMLModel",
          "model_module_version": "1.5.0",
          "state": {
            "_dom_classes": [],
            "_model_module": "@jupyter-widgets/controls",
            "_model_module_version": "1.5.0",
            "_model_name": "HTMLModel",
            "_view_count": null,
            "_view_module": "@jupyter-widgets/controls",
            "_view_module_version": "1.5.0",
            "_view_name": "HTMLView",
            "description": "",
            "description_tooltip": null,
            "layout": "IPY_MODEL_36bb11c98df2403aacbf42d47c46d766",
            "placeholder": "​",
            "style": "IPY_MODEL_11bf0e9865b446c3a30bb4b14ace0d75",
            "value": "Pandas Apply: 100%"
          }
        },
        "d40d92e7378c4624a3ad6cd0a7180864": {
          "model_module": "@jupyter-widgets/controls",
          "model_name": "FloatProgressModel",
          "model_module_version": "1.5.0",
          "state": {
            "_dom_classes": [],
            "_model_module": "@jupyter-widgets/controls",
            "_model_module_version": "1.5.0",
            "_model_name": "FloatProgressModel",
            "_view_count": null,
            "_view_module": "@jupyter-widgets/controls",
            "_view_module_version": "1.5.0",
            "_view_name": "ProgressView",
            "bar_style": "success",
            "description": "",
            "description_tooltip": null,
            "layout": "IPY_MODEL_5b3f96786b8545f480f669e0aa806789",
            "max": 365291,
            "min": 0,
            "orientation": "horizontal",
            "style": "IPY_MODEL_260f0da1d5ae44c5928a4aa41422d552",
            "value": 365291
          }
        },
        "4368dc2fa04c423d8eeb9cfe2c06bab8": {
          "model_module": "@jupyter-widgets/controls",
          "model_name": "HTMLModel",
          "model_module_version": "1.5.0",
          "state": {
            "_dom_classes": [],
            "_model_module": "@jupyter-widgets/controls",
            "_model_module_version": "1.5.0",
            "_model_name": "HTMLModel",
            "_view_count": null,
            "_view_module": "@jupyter-widgets/controls",
            "_view_module_version": "1.5.0",
            "_view_name": "HTMLView",
            "description": "",
            "description_tooltip": null,
            "layout": "IPY_MODEL_2f90d2da877a40359b12fd26cac1536d",
            "placeholder": "​",
            "style": "IPY_MODEL_23cac0c9df134c939c2ae25c113a169a",
            "value": " 365291/365291 [40:52&lt;00:00, 187.01it/s]"
          }
        },
        "a04022f65dee43e6b23704f6f20e5929": {
          "model_module": "@jupyter-widgets/base",
          "model_name": "LayoutModel",
          "model_module_version": "1.2.0",
          "state": {
            "_model_module": "@jupyter-widgets/base",
            "_model_module_version": "1.2.0",
            "_model_name": "LayoutModel",
            "_view_count": null,
            "_view_module": "@jupyter-widgets/base",
            "_view_module_version": "1.2.0",
            "_view_name": "LayoutView",
            "align_content": null,
            "align_items": null,
            "align_self": null,
            "border": null,
            "bottom": null,
            "display": null,
            "flex": null,
            "flex_flow": null,
            "grid_area": null,
            "grid_auto_columns": null,
            "grid_auto_flow": null,
            "grid_auto_rows": null,
            "grid_column": null,
            "grid_gap": null,
            "grid_row": null,
            "grid_template_areas": null,
            "grid_template_columns": null,
            "grid_template_rows": null,
            "height": null,
            "justify_content": null,
            "justify_items": null,
            "left": null,
            "margin": null,
            "max_height": null,
            "max_width": null,
            "min_height": null,
            "min_width": null,
            "object_fit": null,
            "object_position": null,
            "order": null,
            "overflow": null,
            "overflow_x": null,
            "overflow_y": null,
            "padding": null,
            "right": null,
            "top": null,
            "visibility": null,
            "width": null
          }
        },
        "36bb11c98df2403aacbf42d47c46d766": {
          "model_module": "@jupyter-widgets/base",
          "model_name": "LayoutModel",
          "model_module_version": "1.2.0",
          "state": {
            "_model_module": "@jupyter-widgets/base",
            "_model_module_version": "1.2.0",
            "_model_name": "LayoutModel",
            "_view_count": null,
            "_view_module": "@jupyter-widgets/base",
            "_view_module_version": "1.2.0",
            "_view_name": "LayoutView",
            "align_content": null,
            "align_items": null,
            "align_self": null,
            "border": null,
            "bottom": null,
            "display": null,
            "flex": null,
            "flex_flow": null,
            "grid_area": null,
            "grid_auto_columns": null,
            "grid_auto_flow": null,
            "grid_auto_rows": null,
            "grid_column": null,
            "grid_gap": null,
            "grid_row": null,
            "grid_template_areas": null,
            "grid_template_columns": null,
            "grid_template_rows": null,
            "height": null,
            "justify_content": null,
            "justify_items": null,
            "left": null,
            "margin": null,
            "max_height": null,
            "max_width": null,
            "min_height": null,
            "min_width": null,
            "object_fit": null,
            "object_position": null,
            "order": null,
            "overflow": null,
            "overflow_x": null,
            "overflow_y": null,
            "padding": null,
            "right": null,
            "top": null,
            "visibility": null,
            "width": null
          }
        },
        "11bf0e9865b446c3a30bb4b14ace0d75": {
          "model_module": "@jupyter-widgets/controls",
          "model_name": "DescriptionStyleModel",
          "model_module_version": "1.5.0",
          "state": {
            "_model_module": "@jupyter-widgets/controls",
            "_model_module_version": "1.5.0",
            "_model_name": "DescriptionStyleModel",
            "_view_count": null,
            "_view_module": "@jupyter-widgets/base",
            "_view_module_version": "1.2.0",
            "_view_name": "StyleView",
            "description_width": ""
          }
        },
        "5b3f96786b8545f480f669e0aa806789": {
          "model_module": "@jupyter-widgets/base",
          "model_name": "LayoutModel",
          "model_module_version": "1.2.0",
          "state": {
            "_model_module": "@jupyter-widgets/base",
            "_model_module_version": "1.2.0",
            "_model_name": "LayoutModel",
            "_view_count": null,
            "_view_module": "@jupyter-widgets/base",
            "_view_module_version": "1.2.0",
            "_view_name": "LayoutView",
            "align_content": null,
            "align_items": null,
            "align_self": null,
            "border": null,
            "bottom": null,
            "display": null,
            "flex": null,
            "flex_flow": null,
            "grid_area": null,
            "grid_auto_columns": null,
            "grid_auto_flow": null,
            "grid_auto_rows": null,
            "grid_column": null,
            "grid_gap": null,
            "grid_row": null,
            "grid_template_areas": null,
            "grid_template_columns": null,
            "grid_template_rows": null,
            "height": null,
            "justify_content": null,
            "justify_items": null,
            "left": null,
            "margin": null,
            "max_height": null,
            "max_width": null,
            "min_height": null,
            "min_width": null,
            "object_fit": null,
            "object_position": null,
            "order": null,
            "overflow": null,
            "overflow_x": null,
            "overflow_y": null,
            "padding": null,
            "right": null,
            "top": null,
            "visibility": null,
            "width": null
          }
        },
        "260f0da1d5ae44c5928a4aa41422d552": {
          "model_module": "@jupyter-widgets/controls",
          "model_name": "ProgressStyleModel",
          "model_module_version": "1.5.0",
          "state": {
            "_model_module": "@jupyter-widgets/controls",
            "_model_module_version": "1.5.0",
            "_model_name": "ProgressStyleModel",
            "_view_count": null,
            "_view_module": "@jupyter-widgets/base",
            "_view_module_version": "1.2.0",
            "_view_name": "StyleView",
            "bar_color": null,
            "description_width": ""
          }
        },
        "2f90d2da877a40359b12fd26cac1536d": {
          "model_module": "@jupyter-widgets/base",
          "model_name": "LayoutModel",
          "model_module_version": "1.2.0",
          "state": {
            "_model_module": "@jupyter-widgets/base",
            "_model_module_version": "1.2.0",
            "_model_name": "LayoutModel",
            "_view_count": null,
            "_view_module": "@jupyter-widgets/base",
            "_view_module_version": "1.2.0",
            "_view_name": "LayoutView",
            "align_content": null,
            "align_items": null,
            "align_self": null,
            "border": null,
            "bottom": null,
            "display": null,
            "flex": null,
            "flex_flow": null,
            "grid_area": null,
            "grid_auto_columns": null,
            "grid_auto_flow": null,
            "grid_auto_rows": null,
            "grid_column": null,
            "grid_gap": null,
            "grid_row": null,
            "grid_template_areas": null,
            "grid_template_columns": null,
            "grid_template_rows": null,
            "height": null,
            "justify_content": null,
            "justify_items": null,
            "left": null,
            "margin": null,
            "max_height": null,
            "max_width": null,
            "min_height": null,
            "min_width": null,
            "object_fit": null,
            "object_position": null,
            "order": null,
            "overflow": null,
            "overflow_x": null,
            "overflow_y": null,
            "padding": null,
            "right": null,
            "top": null,
            "visibility": null,
            "width": null
          }
        },
        "23cac0c9df134c939c2ae25c113a169a": {
          "model_module": "@jupyter-widgets/controls",
          "model_name": "DescriptionStyleModel",
          "model_module_version": "1.5.0",
          "state": {
            "_model_module": "@jupyter-widgets/controls",
            "_model_module_version": "1.5.0",
            "_model_name": "DescriptionStyleModel",
            "_view_count": null,
            "_view_module": "@jupyter-widgets/base",
            "_view_module_version": "1.2.0",
            "_view_name": "StyleView",
            "description_width": ""
          }
        }
      }
    }
  },
  "nbformat": 4,
  "nbformat_minor": 0
}