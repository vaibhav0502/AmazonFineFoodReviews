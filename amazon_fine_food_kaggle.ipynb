{
  "cells": [
    {
      "cell_type": "code",
      "execution_count": null,
      "metadata": {
        "id": "Kekso1ba1YNq"
      },
      "outputs": [],
      "source": []
    },
    {
      "cell_type": "markdown",
      "metadata": {
        "id": "t6TJ4ZmRx0a9"
      },
      "source": [
        "## Imports"
      ]
    },
    {
      "cell_type": "code",
      "execution_count": null,
      "metadata": {
        "id": "UnYh3zCqWhnW"
      },
      "outputs": [],
      "source": [
        "# from google.colab import files\n",
        "# ! pip install -q kaggle\n",
        "# files.upload()\n",
        "# ! cp kaggle.json ~/.kaggle/\n",
        "# ! chmod 600 ~/.kaggle/kaggle.json\n",
        "\n",
        "# ! kaggle datasets download -d snap/amazon-fine-food-reviews\n",
        "# ! unzip /content/amazon-fine-food-reviews.zip -d \"/content/drive/MyDrive/Colab Notebooks/NLP/AmazonFineFoodReviews/amazon-fine-food-reviews\"?"
      ]
    },
    {
      "cell_type": "code",
      "execution_count": null,
      "metadata": {
        "id": "GHv00H708euY"
      },
      "outputs": [],
      "source": [
        "import os\n",
        "import re\n",
        "import time\n",
        "import string\n",
        "from tqdm import tqdm\n",
        "from itertools import groupby\n",
        "from bs4 import BeautifulSoup"
      ]
    },
    {
      "cell_type": "code",
      "execution_count": null,
      "metadata": {
        "id": "eVxdcnMDx5Q3"
      },
      "outputs": [],
      "source": [
        "import pandas as pd\n",
        "import numpy as np\n",
        "import matplotlib.pyplot as plt\n",
        "import seaborn as sns"
      ]
    },
    {
      "cell_type": "code",
      "execution_count": null,
      "metadata": {
        "id": "U8iBPx1ux5Yt"
      },
      "outputs": [],
      "source": [
        "from sklearn.model_selection import train_test_split\n",
        "from sklearn.feature_extraction.text import CountVectorizer, TfidfVectorizer\n",
        "from sklearn.linear_model import LogisticRegression\n",
        "from sklearn.model_selection import GridSearchCV, StratifiedKFold, RandomizedSearchCV\n",
        "\n",
        "from sklearn.metrics import accuracy_score\n",
        "from sklearn.metrics import confusion_matrix, classification_report\n",
        "from sklearn.ensemble import RandomForestClassifier\n",
        "from sklearn.naive_bayes import MultinomialNB\n",
        "\n",
        "from imblearn.over_sampling import RandomOverSampler\n",
        "from imblearn.over_sampling import SMOTE"
      ]
    },
    {
      "cell_type": "code",
      "execution_count": null,
      "metadata": {
        "id": "KjtOOOwH8DOp"
      },
      "outputs": [],
      "source": [
        "import nltk\n",
        "from nltk import FreqDist\n",
        "from nltk.tokenize import word_tokenize\n",
        "from nltk.corpus import wordnet, stopwords\n",
        "from nltk.stem.porter import PorterStemmer\n",
        "from nltk.stem.wordnet import WordNetLemmatizer"
      ]
    },
    {
      "cell_type": "code",
      "execution_count": null,
      "metadata": {
        "colab": {
          "base_uri": "https://localhost:8080/"
        },
        "id": "nHTEZAtO8aN5",
        "outputId": "75533e7c-1ebf-4499-b392-90e0619737f7"
      },
      "outputs": [
        {
          "output_type": "stream",
          "name": "stderr",
          "text": [
            "[nltk_data] Downloading package stopwords to /root/nltk_data...\n",
            "[nltk_data]   Package stopwords is already up-to-date!\n",
            "[nltk_data] Downloading package punkt to /root/nltk_data...\n",
            "[nltk_data]   Package punkt is already up-to-date!\n",
            "[nltk_data] Downloading package averaged_perceptron_tagger to\n",
            "[nltk_data]     /root/nltk_data...\n",
            "[nltk_data]   Package averaged_perceptron_tagger is already up-to-\n",
            "[nltk_data]       date!\n",
            "[nltk_data] Downloading package wordnet to /root/nltk_data...\n",
            "[nltk_data]   Package wordnet is already up-to-date!\n",
            "[nltk_data] Downloading package omw-1.4 to /root/nltk_data...\n",
            "[nltk_data]   Package omw-1.4 is already up-to-date!\n"
          ]
        },
        {
          "output_type": "execute_result",
          "data": {
            "text/plain": [
              "True"
            ]
          },
          "metadata": {},
          "execution_count": 6
        }
      ],
      "source": [
        "nltk.download('stopwords')\n",
        "nltk.download('punkt')\n",
        "nltk.download('averaged_perceptron_tagger')\n",
        "nltk.download('wordnet')\n",
        "nltk.download('omw-1.4')"
      ]
    },
    {
      "cell_type": "code",
      "execution_count": null,
      "metadata": {
        "colab": {
          "base_uri": "https://localhost:8080/"
        },
        "id": "DIEEzsxLz_K0",
        "outputId": "cc1d0818-cd59-4a3e-ef10-d4b2c0e280c2"
      },
      "outputs": [
        {
          "output_type": "stream",
          "name": "stdout",
          "text": [
            "Looking in indexes: https://pypi.org/simple, https://us-python.pkg.dev/colab-wheels/public/simple/\n",
            "Requirement already satisfied: contractions in /usr/local/lib/python3.9/dist-packages (0.1.73)\n",
            "Requirement already satisfied: textsearch>=0.0.21 in /usr/local/lib/python3.9/dist-packages (from contractions) (0.0.24)\n",
            "Requirement already satisfied: pyahocorasick in /usr/local/lib/python3.9/dist-packages (from textsearch>=0.0.21->contractions) (2.0.0)\n",
            "Requirement already satisfied: anyascii in /usr/local/lib/python3.9/dist-packages (from textsearch>=0.0.21->contractions) (0.3.1)\n",
            "Looking in indexes: https://pypi.org/simple, https://us-python.pkg.dev/colab-wheels/public/simple/\n",
            "Requirement already satisfied: swifter in /usr/local/lib/python3.9/dist-packages (1.3.4)\n",
            "Requirement already satisfied: ipywidgets>=7.0.0 in /usr/local/lib/python3.9/dist-packages (from swifter) (7.7.1)\n",
            "Requirement already satisfied: parso>0.4.0 in /usr/local/lib/python3.9/dist-packages (from swifter) (0.8.3)\n",
            "Requirement already satisfied: pandas>=1.0.0 in /usr/local/lib/python3.9/dist-packages (from swifter) (1.3.5)\n",
            "Requirement already satisfied: cloudpickle>=0.2.2 in /usr/local/lib/python3.9/dist-packages (from swifter) (2.2.1)\n",
            "Requirement already satisfied: bleach>=3.1.1 in /usr/local/lib/python3.9/dist-packages (from swifter) (6.0.0)\n",
            "Requirement already satisfied: dask[dataframe]>=2.10.0 in /usr/local/lib/python3.9/dist-packages (from swifter) (2022.2.1)\n",
            "Requirement already satisfied: tqdm>=4.33.0 in /usr/local/lib/python3.9/dist-packages (from swifter) (4.65.0)\n",
            "Requirement already satisfied: psutil>=5.6.6 in /usr/local/lib/python3.9/dist-packages (from swifter) (5.9.4)\n",
            "Requirement already satisfied: six>=1.9.0 in /usr/local/lib/python3.9/dist-packages (from bleach>=3.1.1->swifter) (1.15.0)\n",
            "Requirement already satisfied: webencodings in /usr/local/lib/python3.9/dist-packages (from bleach>=3.1.1->swifter) (0.5.1)\n",
            "Requirement already satisfied: toolz>=0.8.2 in /usr/local/lib/python3.9/dist-packages (from dask[dataframe]>=2.10.0->swifter) (0.12.0)\n",
            "Requirement already satisfied: packaging>=20.0 in /usr/local/lib/python3.9/dist-packages (from dask[dataframe]>=2.10.0->swifter) (23.0)\n",
            "Requirement already satisfied: pyyaml>=5.3.1 in /usr/local/lib/python3.9/dist-packages (from dask[dataframe]>=2.10.0->swifter) (6.0)\n",
            "Requirement already satisfied: fsspec>=0.6.0 in /usr/local/lib/python3.9/dist-packages (from dask[dataframe]>=2.10.0->swifter) (2023.3.0)\n",
            "Requirement already satisfied: partd>=0.3.10 in /usr/local/lib/python3.9/dist-packages (from dask[dataframe]>=2.10.0->swifter) (1.3.0)\n",
            "Requirement already satisfied: numpy>=1.18 in /usr/local/lib/python3.9/dist-packages (from dask[dataframe]>=2.10.0->swifter) (1.22.4)\n",
            "Requirement already satisfied: ipython>=4.0.0 in /usr/local/lib/python3.9/dist-packages (from ipywidgets>=7.0.0->swifter) (7.9.0)\n",
            "Requirement already satisfied: jupyterlab-widgets>=1.0.0 in /usr/local/lib/python3.9/dist-packages (from ipywidgets>=7.0.0->swifter) (3.0.5)\n",
            "Requirement already satisfied: traitlets>=4.3.1 in /usr/local/lib/python3.9/dist-packages (from ipywidgets>=7.0.0->swifter) (5.7.1)\n",
            "Requirement already satisfied: widgetsnbextension~=3.6.0 in /usr/local/lib/python3.9/dist-packages (from ipywidgets>=7.0.0->swifter) (3.6.2)\n",
            "Requirement already satisfied: ipykernel>=4.5.1 in /usr/local/lib/python3.9/dist-packages (from ipywidgets>=7.0.0->swifter) (5.3.4)\n",
            "Requirement already satisfied: ipython-genutils~=0.2.0 in /usr/local/lib/python3.9/dist-packages (from ipywidgets>=7.0.0->swifter) (0.2.0)\n",
            "Requirement already satisfied: python-dateutil>=2.7.3 in /usr/local/lib/python3.9/dist-packages (from pandas>=1.0.0->swifter) (2.8.2)\n",
            "Requirement already satisfied: pytz>=2017.3 in /usr/local/lib/python3.9/dist-packages (from pandas>=1.0.0->swifter) (2022.7.1)\n",
            "Requirement already satisfied: tornado>=4.2 in /usr/local/lib/python3.9/dist-packages (from ipykernel>=4.5.1->ipywidgets>=7.0.0->swifter) (6.2)\n",
            "Requirement already satisfied: jupyter-client in /usr/local/lib/python3.9/dist-packages (from ipykernel>=4.5.1->ipywidgets>=7.0.0->swifter) (6.1.12)\n",
            "Requirement already satisfied: pexpect in /usr/local/lib/python3.9/dist-packages (from ipython>=4.0.0->ipywidgets>=7.0.0->swifter) (4.8.0)\n",
            "Requirement already satisfied: jedi>=0.10 in /usr/local/lib/python3.9/dist-packages (from ipython>=4.0.0->ipywidgets>=7.0.0->swifter) (0.18.2)\n",
            "Requirement already satisfied: prompt-toolkit<2.1.0,>=2.0.0 in /usr/local/lib/python3.9/dist-packages (from ipython>=4.0.0->ipywidgets>=7.0.0->swifter) (2.0.10)\n",
            "Requirement already satisfied: backcall in /usr/local/lib/python3.9/dist-packages (from ipython>=4.0.0->ipywidgets>=7.0.0->swifter) (0.2.0)\n",
            "Requirement already satisfied: decorator in /usr/local/lib/python3.9/dist-packages (from ipython>=4.0.0->ipywidgets>=7.0.0->swifter) (4.4.2)\n",
            "Requirement already satisfied: setuptools>=18.5 in /usr/local/lib/python3.9/dist-packages (from ipython>=4.0.0->ipywidgets>=7.0.0->swifter) (57.4.0)\n",
            "Requirement already satisfied: pickleshare in /usr/local/lib/python3.9/dist-packages (from ipython>=4.0.0->ipywidgets>=7.0.0->swifter) (0.7.5)\n",
            "Requirement already satisfied: pygments in /usr/local/lib/python3.9/dist-packages (from ipython>=4.0.0->ipywidgets>=7.0.0->swifter) (2.6.1)\n",
            "Requirement already satisfied: locket in /usr/local/lib/python3.9/dist-packages (from partd>=0.3.10->dask[dataframe]>=2.10.0->swifter) (1.0.0)\n",
            "Requirement already satisfied: notebook>=4.4.1 in /usr/local/lib/python3.9/dist-packages (from widgetsnbextension~=3.6.0->ipywidgets>=7.0.0->swifter) (6.3.0)\n",
            "Requirement already satisfied: Send2Trash>=1.5.0 in /usr/local/lib/python3.9/dist-packages (from notebook>=4.4.1->widgetsnbextension~=3.6.0->ipywidgets>=7.0.0->swifter) (1.8.0)\n",
            "Requirement already satisfied: argon2-cffi in /usr/local/lib/python3.9/dist-packages (from notebook>=4.4.1->widgetsnbextension~=3.6.0->ipywidgets>=7.0.0->swifter) (21.3.0)\n",
            "Requirement already satisfied: terminado>=0.8.3 in /usr/local/lib/python3.9/dist-packages (from notebook>=4.4.1->widgetsnbextension~=3.6.0->ipywidgets>=7.0.0->swifter) (0.17.1)\n",
            "Requirement already satisfied: pyzmq>=17 in /usr/local/lib/python3.9/dist-packages (from notebook>=4.4.1->widgetsnbextension~=3.6.0->ipywidgets>=7.0.0->swifter) (23.2.1)\n",
            "Requirement already satisfied: jinja2 in /usr/local/lib/python3.9/dist-packages (from notebook>=4.4.1->widgetsnbextension~=3.6.0->ipywidgets>=7.0.0->swifter) (3.1.2)\n",
            "Requirement already satisfied: jupyter-core>=4.6.1 in /usr/local/lib/python3.9/dist-packages (from notebook>=4.4.1->widgetsnbextension~=3.6.0->ipywidgets>=7.0.0->swifter) (5.2.0)\n",
            "Requirement already satisfied: prometheus-client in /usr/local/lib/python3.9/dist-packages (from notebook>=4.4.1->widgetsnbextension~=3.6.0->ipywidgets>=7.0.0->swifter) (0.16.0)\n",
            "Requirement already satisfied: nbformat in /usr/local/lib/python3.9/dist-packages (from notebook>=4.4.1->widgetsnbextension~=3.6.0->ipywidgets>=7.0.0->swifter) (5.7.3)\n",
            "Requirement already satisfied: nbconvert in /usr/local/lib/python3.9/dist-packages (from notebook>=4.4.1->widgetsnbextension~=3.6.0->ipywidgets>=7.0.0->swifter) (6.5.4)\n",
            "Requirement already satisfied: wcwidth in /usr/local/lib/python3.9/dist-packages (from prompt-toolkit<2.1.0,>=2.0.0->ipython>=4.0.0->ipywidgets>=7.0.0->swifter) (0.2.6)\n",
            "Requirement already satisfied: ptyprocess>=0.5 in /usr/local/lib/python3.9/dist-packages (from pexpect->ipython>=4.0.0->ipywidgets>=7.0.0->swifter) (0.7.0)\n",
            "Requirement already satisfied: platformdirs>=2.5 in /usr/local/lib/python3.9/dist-packages (from jupyter-core>=4.6.1->notebook>=4.4.1->widgetsnbextension~=3.6.0->ipywidgets>=7.0.0->swifter) (3.1.0)\n",
            "Requirement already satisfied: argon2-cffi-bindings in /usr/local/lib/python3.9/dist-packages (from argon2-cffi->notebook>=4.4.1->widgetsnbextension~=3.6.0->ipywidgets>=7.0.0->swifter) (21.2.0)\n",
            "Requirement already satisfied: MarkupSafe>=2.0 in /usr/local/lib/python3.9/dist-packages (from jinja2->notebook>=4.4.1->widgetsnbextension~=3.6.0->ipywidgets>=7.0.0->swifter) (2.1.2)\n",
            "Requirement already satisfied: defusedxml in /usr/local/lib/python3.9/dist-packages (from nbconvert->notebook>=4.4.1->widgetsnbextension~=3.6.0->ipywidgets>=7.0.0->swifter) (0.7.1)\n",
            "Requirement already satisfied: jupyterlab-pygments in /usr/local/lib/python3.9/dist-packages (from nbconvert->notebook>=4.4.1->widgetsnbextension~=3.6.0->ipywidgets>=7.0.0->swifter) (0.2.2)\n",
            "Requirement already satisfied: entrypoints>=0.2.2 in /usr/local/lib/python3.9/dist-packages (from nbconvert->notebook>=4.4.1->widgetsnbextension~=3.6.0->ipywidgets>=7.0.0->swifter) (0.4)\n",
            "Requirement already satisfied: lxml in /usr/local/lib/python3.9/dist-packages (from nbconvert->notebook>=4.4.1->widgetsnbextension~=3.6.0->ipywidgets>=7.0.0->swifter) (4.9.2)\n",
            "Requirement already satisfied: nbclient>=0.5.0 in /usr/local/lib/python3.9/dist-packages (from nbconvert->notebook>=4.4.1->widgetsnbextension~=3.6.0->ipywidgets>=7.0.0->swifter) (0.7.2)\n",
            "Requirement already satisfied: mistune<2,>=0.8.1 in /usr/local/lib/python3.9/dist-packages (from nbconvert->notebook>=4.4.1->widgetsnbextension~=3.6.0->ipywidgets>=7.0.0->swifter) (0.8.4)\n",
            "Requirement already satisfied: pandocfilters>=1.4.1 in /usr/local/lib/python3.9/dist-packages (from nbconvert->notebook>=4.4.1->widgetsnbextension~=3.6.0->ipywidgets>=7.0.0->swifter) (1.5.0)\n",
            "Requirement already satisfied: beautifulsoup4 in /usr/local/lib/python3.9/dist-packages (from nbconvert->notebook>=4.4.1->widgetsnbextension~=3.6.0->ipywidgets>=7.0.0->swifter) (4.6.3)\n",
            "Requirement already satisfied: tinycss2 in /usr/local/lib/python3.9/dist-packages (from nbconvert->notebook>=4.4.1->widgetsnbextension~=3.6.0->ipywidgets>=7.0.0->swifter) (1.2.1)\n",
            "Requirement already satisfied: fastjsonschema in /usr/local/lib/python3.9/dist-packages (from nbformat->notebook>=4.4.1->widgetsnbextension~=3.6.0->ipywidgets>=7.0.0->swifter) (2.16.3)\n",
            "Requirement already satisfied: jsonschema>=2.6 in /usr/local/lib/python3.9/dist-packages (from nbformat->notebook>=4.4.1->widgetsnbextension~=3.6.0->ipywidgets>=7.0.0->swifter) (4.3.3)\n",
            "Requirement already satisfied: pyrsistent!=0.17.0,!=0.17.1,!=0.17.2,>=0.14.0 in /usr/local/lib/python3.9/dist-packages (from jsonschema>=2.6->nbformat->notebook>=4.4.1->widgetsnbextension~=3.6.0->ipywidgets>=7.0.0->swifter) (0.19.3)\n",
            "Requirement already satisfied: attrs>=17.4.0 in /usr/local/lib/python3.9/dist-packages (from jsonschema>=2.6->nbformat->notebook>=4.4.1->widgetsnbextension~=3.6.0->ipywidgets>=7.0.0->swifter) (22.2.0)\n",
            "Requirement already satisfied: cffi>=1.0.1 in /usr/local/lib/python3.9/dist-packages (from argon2-cffi-bindings->argon2-cffi->notebook>=4.4.1->widgetsnbextension~=3.6.0->ipywidgets>=7.0.0->swifter) (1.15.1)\n",
            "Requirement already satisfied: pycparser in /usr/local/lib/python3.9/dist-packages (from cffi>=1.0.1->argon2-cffi-bindings->argon2-cffi->notebook>=4.4.1->widgetsnbextension~=3.6.0->ipywidgets>=7.0.0->swifter) (2.21)\n"
          ]
        }
      ],
      "source": [
        "!pip install contractions\n",
        "!pip install swifter"
      ]
    },
    {
      "cell_type": "code",
      "execution_count": null,
      "metadata": {
        "id": "l-lxpuNo0ArV"
      },
      "outputs": [],
      "source": [
        "import swifter\n",
        "import contractions"
      ]
    },
    {
      "cell_type": "code",
      "execution_count": null,
      "metadata": {
        "id": "fMwwVNGmx5aZ"
      },
      "outputs": [],
      "source": [
        "import warnings\n",
        "warnings.filterwarnings('ignore')"
      ]
    },
    {
      "cell_type": "markdown",
      "metadata": {
        "id": "KBAUK9dv4bDS"
      },
      "source": [
        "## Data Read"
      ]
    },
    {
      "cell_type": "code",
      "execution_count": null,
      "metadata": {
        "id": "cV2eRkBrx5cC"
      },
      "outputs": [],
      "source": [
        "# Read in train and test data.\n",
        "train_df = pd.read_csv('/content/drive/MyDrive/Colab Notebooks/NLP/AmazonFineFoodReviews/amazon-fine-food-reviews/Reviews.csv')\n"
      ]
    },
    {
      "cell_type": "code",
      "execution_count": null,
      "metadata": {
        "colab": {
          "base_uri": "https://localhost:8080/",
          "height": 739
        },
        "id": "DMq88Eo3x5f0",
        "outputId": "e9aba513-3504-46c5-ecef-fb7d160fc2df"
      },
      "outputs": [
        {
          "output_type": "execute_result",
          "data": {
            "text/plain": [
              "   Id   ProductId          UserId                      ProfileName  \\\n",
              "0   1  B001E4KFG0  A3SGXH7AUHU8GW                       delmartian   \n",
              "1   2  B00813GRG4  A1D87F6ZCVE5NK                           dll pa   \n",
              "2   3  B000LQOCH0   ABXLMWJIXXAIN  Natalia Corres \"Natalia Corres\"   \n",
              "3   4  B000UA0QIQ  A395BORC6FGVXV                             Karl   \n",
              "4   5  B006K2ZZ7K  A1UQRSCLF8GW1T    Michael D. Bigham \"M. Wassir\"   \n",
              "\n",
              "   HelpfulnessNumerator  HelpfulnessDenominator  Score        Time  \\\n",
              "0                     1                       1      5  1303862400   \n",
              "1                     0                       0      1  1346976000   \n",
              "2                     1                       1      4  1219017600   \n",
              "3                     3                       3      2  1307923200   \n",
              "4                     0                       0      5  1350777600   \n",
              "\n",
              "                 Summary                                               Text  \n",
              "0  Good Quality Dog Food  I have bought several of the Vitality canned d...  \n",
              "1      Not as Advertised  Product arrived labeled as Jumbo Salted Peanut...  \n",
              "2  \"Delight\" says it all  This is a confection that has been around a fe...  \n",
              "3         Cough Medicine  If you are looking for the secret ingredient i...  \n",
              "4            Great taffy  Great taffy at a great price.  There was a wid...  "
            ],
            "text/html": [
              "\n",
              "  <div id=\"df-3286bee2-9b68-439f-879f-05e13b3687b9\">\n",
              "    <div class=\"colab-df-container\">\n",
              "      <div>\n",
              "<style scoped>\n",
              "    .dataframe tbody tr th:only-of-type {\n",
              "        vertical-align: middle;\n",
              "    }\n",
              "\n",
              "    .dataframe tbody tr th {\n",
              "        vertical-align: top;\n",
              "    }\n",
              "\n",
              "    .dataframe thead th {\n",
              "        text-align: right;\n",
              "    }\n",
              "</style>\n",
              "<table border=\"1\" class=\"dataframe\">\n",
              "  <thead>\n",
              "    <tr style=\"text-align: right;\">\n",
              "      <th></th>\n",
              "      <th>Id</th>\n",
              "      <th>ProductId</th>\n",
              "      <th>UserId</th>\n",
              "      <th>ProfileName</th>\n",
              "      <th>HelpfulnessNumerator</th>\n",
              "      <th>HelpfulnessDenominator</th>\n",
              "      <th>Score</th>\n",
              "      <th>Time</th>\n",
              "      <th>Summary</th>\n",
              "      <th>Text</th>\n",
              "    </tr>\n",
              "  </thead>\n",
              "  <tbody>\n",
              "    <tr>\n",
              "      <th>0</th>\n",
              "      <td>1</td>\n",
              "      <td>B001E4KFG0</td>\n",
              "      <td>A3SGXH7AUHU8GW</td>\n",
              "      <td>delmartian</td>\n",
              "      <td>1</td>\n",
              "      <td>1</td>\n",
              "      <td>5</td>\n",
              "      <td>1303862400</td>\n",
              "      <td>Good Quality Dog Food</td>\n",
              "      <td>I have bought several of the Vitality canned d...</td>\n",
              "    </tr>\n",
              "    <tr>\n",
              "      <th>1</th>\n",
              "      <td>2</td>\n",
              "      <td>B00813GRG4</td>\n",
              "      <td>A1D87F6ZCVE5NK</td>\n",
              "      <td>dll pa</td>\n",
              "      <td>0</td>\n",
              "      <td>0</td>\n",
              "      <td>1</td>\n",
              "      <td>1346976000</td>\n",
              "      <td>Not as Advertised</td>\n",
              "      <td>Product arrived labeled as Jumbo Salted Peanut...</td>\n",
              "    </tr>\n",
              "    <tr>\n",
              "      <th>2</th>\n",
              "      <td>3</td>\n",
              "      <td>B000LQOCH0</td>\n",
              "      <td>ABXLMWJIXXAIN</td>\n",
              "      <td>Natalia Corres \"Natalia Corres\"</td>\n",
              "      <td>1</td>\n",
              "      <td>1</td>\n",
              "      <td>4</td>\n",
              "      <td>1219017600</td>\n",
              "      <td>\"Delight\" says it all</td>\n",
              "      <td>This is a confection that has been around a fe...</td>\n",
              "    </tr>\n",
              "    <tr>\n",
              "      <th>3</th>\n",
              "      <td>4</td>\n",
              "      <td>B000UA0QIQ</td>\n",
              "      <td>A395BORC6FGVXV</td>\n",
              "      <td>Karl</td>\n",
              "      <td>3</td>\n",
              "      <td>3</td>\n",
              "      <td>2</td>\n",
              "      <td>1307923200</td>\n",
              "      <td>Cough Medicine</td>\n",
              "      <td>If you are looking for the secret ingredient i...</td>\n",
              "    </tr>\n",
              "    <tr>\n",
              "      <th>4</th>\n",
              "      <td>5</td>\n",
              "      <td>B006K2ZZ7K</td>\n",
              "      <td>A1UQRSCLF8GW1T</td>\n",
              "      <td>Michael D. Bigham \"M. Wassir\"</td>\n",
              "      <td>0</td>\n",
              "      <td>0</td>\n",
              "      <td>5</td>\n",
              "      <td>1350777600</td>\n",
              "      <td>Great taffy</td>\n",
              "      <td>Great taffy at a great price.  There was a wid...</td>\n",
              "    </tr>\n",
              "  </tbody>\n",
              "</table>\n",
              "</div>\n",
              "      <button class=\"colab-df-convert\" onclick=\"convertToInteractive('df-3286bee2-9b68-439f-879f-05e13b3687b9')\"\n",
              "              title=\"Convert this dataframe to an interactive table.\"\n",
              "              style=\"display:none;\">\n",
              "        \n",
              "  <svg xmlns=\"http://www.w3.org/2000/svg\" height=\"24px\"viewBox=\"0 0 24 24\"\n",
              "       width=\"24px\">\n",
              "    <path d=\"M0 0h24v24H0V0z\" fill=\"none\"/>\n",
              "    <path d=\"M18.56 5.44l.94 2.06.94-2.06 2.06-.94-2.06-.94-.94-2.06-.94 2.06-2.06.94zm-11 1L8.5 8.5l.94-2.06 2.06-.94-2.06-.94L8.5 2.5l-.94 2.06-2.06.94zm10 10l.94 2.06.94-2.06 2.06-.94-2.06-.94-.94-2.06-.94 2.06-2.06.94z\"/><path d=\"M17.41 7.96l-1.37-1.37c-.4-.4-.92-.59-1.43-.59-.52 0-1.04.2-1.43.59L10.3 9.45l-7.72 7.72c-.78.78-.78 2.05 0 2.83L4 21.41c.39.39.9.59 1.41.59.51 0 1.02-.2 1.41-.59l7.78-7.78 2.81-2.81c.8-.78.8-2.07 0-2.86zM5.41 20L4 18.59l7.72-7.72 1.47 1.35L5.41 20z\"/>\n",
              "  </svg>\n",
              "      </button>\n",
              "      \n",
              "  <style>\n",
              "    .colab-df-container {\n",
              "      display:flex;\n",
              "      flex-wrap:wrap;\n",
              "      gap: 12px;\n",
              "    }\n",
              "\n",
              "    .colab-df-convert {\n",
              "      background-color: #E8F0FE;\n",
              "      border: none;\n",
              "      border-radius: 50%;\n",
              "      cursor: pointer;\n",
              "      display: none;\n",
              "      fill: #1967D2;\n",
              "      height: 32px;\n",
              "      padding: 0 0 0 0;\n",
              "      width: 32px;\n",
              "    }\n",
              "\n",
              "    .colab-df-convert:hover {\n",
              "      background-color: #E2EBFA;\n",
              "      box-shadow: 0px 1px 2px rgba(60, 64, 67, 0.3), 0px 1px 3px 1px rgba(60, 64, 67, 0.15);\n",
              "      fill: #174EA6;\n",
              "    }\n",
              "\n",
              "    [theme=dark] .colab-df-convert {\n",
              "      background-color: #3B4455;\n",
              "      fill: #D2E3FC;\n",
              "    }\n",
              "\n",
              "    [theme=dark] .colab-df-convert:hover {\n",
              "      background-color: #434B5C;\n",
              "      box-shadow: 0px 1px 3px 1px rgba(0, 0, 0, 0.15);\n",
              "      filter: drop-shadow(0px 1px 2px rgba(0, 0, 0, 0.3));\n",
              "      fill: #FFFFFF;\n",
              "    }\n",
              "  </style>\n",
              "\n",
              "      <script>\n",
              "        const buttonEl =\n",
              "          document.querySelector('#df-3286bee2-9b68-439f-879f-05e13b3687b9 button.colab-df-convert');\n",
              "        buttonEl.style.display =\n",
              "          google.colab.kernel.accessAllowed ? 'block' : 'none';\n",
              "\n",
              "        async function convertToInteractive(key) {\n",
              "          const element = document.querySelector('#df-3286bee2-9b68-439f-879f-05e13b3687b9');\n",
              "          const dataTable =\n",
              "            await google.colab.kernel.invokeFunction('convertToInteractive',\n",
              "                                                     [key], {});\n",
              "          if (!dataTable) return;\n",
              "\n",
              "          const docLinkHtml = 'Like what you see? Visit the ' +\n",
              "            '<a target=\"_blank\" href=https://colab.research.google.com/notebooks/data_table.ipynb>data table notebook</a>'\n",
              "            + ' to learn more about interactive tables.';\n",
              "          element.innerHTML = '';\n",
              "          dataTable['output_type'] = 'display_data';\n",
              "          await google.colab.output.renderOutput(dataTable, element);\n",
              "          const docLink = document.createElement('div');\n",
              "          docLink.innerHTML = docLinkHtml;\n",
              "          element.appendChild(docLink);\n",
              "        }\n",
              "      </script>\n",
              "    </div>\n",
              "  </div>\n",
              "  "
            ]
          },
          "metadata": {},
          "execution_count": 11
        }
      ],
      "source": [
        "train_df.head()"
      ]
    },
    {
      "cell_type": "code",
      "execution_count": null,
      "metadata": {
        "colab": {
          "base_uri": "https://localhost:8080/",
          "height": 300
        },
        "id": "2PF_8HIfx5hi",
        "outputId": "f5813ee3-90eb-44be-b3da-d9181049a40b"
      },
      "outputs": [
        {
          "output_type": "execute_result",
          "data": {
            "text/plain": [
              "                  Id  HelpfulnessNumerator  HelpfulnessDenominator  \\\n",
              "count  568454.000000         568454.000000            568454.00000   \n",
              "mean   284227.500000              1.743817                 2.22881   \n",
              "std    164098.679298              7.636513                 8.28974   \n",
              "min         1.000000              0.000000                 0.00000   \n",
              "25%    142114.250000              0.000000                 0.00000   \n",
              "50%    284227.500000              0.000000                 1.00000   \n",
              "75%    426340.750000              2.000000                 2.00000   \n",
              "max    568454.000000            866.000000               923.00000   \n",
              "\n",
              "               Score          Time  \n",
              "count  568454.000000  5.684540e+05  \n",
              "mean        4.183199  1.296257e+09  \n",
              "std         1.310436  4.804331e+07  \n",
              "min         1.000000  9.393408e+08  \n",
              "25%         4.000000  1.271290e+09  \n",
              "50%         5.000000  1.311120e+09  \n",
              "75%         5.000000  1.332720e+09  \n",
              "max         5.000000  1.351210e+09  "
            ],
            "text/html": [
              "\n",
              "  <div id=\"df-3cc17c51-24f4-4d07-820b-d05d3030166b\">\n",
              "    <div class=\"colab-df-container\">\n",
              "      <div>\n",
              "<style scoped>\n",
              "    .dataframe tbody tr th:only-of-type {\n",
              "        vertical-align: middle;\n",
              "    }\n",
              "\n",
              "    .dataframe tbody tr th {\n",
              "        vertical-align: top;\n",
              "    }\n",
              "\n",
              "    .dataframe thead th {\n",
              "        text-align: right;\n",
              "    }\n",
              "</style>\n",
              "<table border=\"1\" class=\"dataframe\">\n",
              "  <thead>\n",
              "    <tr style=\"text-align: right;\">\n",
              "      <th></th>\n",
              "      <th>Id</th>\n",
              "      <th>HelpfulnessNumerator</th>\n",
              "      <th>HelpfulnessDenominator</th>\n",
              "      <th>Score</th>\n",
              "      <th>Time</th>\n",
              "    </tr>\n",
              "  </thead>\n",
              "  <tbody>\n",
              "    <tr>\n",
              "      <th>count</th>\n",
              "      <td>568454.000000</td>\n",
              "      <td>568454.000000</td>\n",
              "      <td>568454.00000</td>\n",
              "      <td>568454.000000</td>\n",
              "      <td>5.684540e+05</td>\n",
              "    </tr>\n",
              "    <tr>\n",
              "      <th>mean</th>\n",
              "      <td>284227.500000</td>\n",
              "      <td>1.743817</td>\n",
              "      <td>2.22881</td>\n",
              "      <td>4.183199</td>\n",
              "      <td>1.296257e+09</td>\n",
              "    </tr>\n",
              "    <tr>\n",
              "      <th>std</th>\n",
              "      <td>164098.679298</td>\n",
              "      <td>7.636513</td>\n",
              "      <td>8.28974</td>\n",
              "      <td>1.310436</td>\n",
              "      <td>4.804331e+07</td>\n",
              "    </tr>\n",
              "    <tr>\n",
              "      <th>min</th>\n",
              "      <td>1.000000</td>\n",
              "      <td>0.000000</td>\n",
              "      <td>0.00000</td>\n",
              "      <td>1.000000</td>\n",
              "      <td>9.393408e+08</td>\n",
              "    </tr>\n",
              "    <tr>\n",
              "      <th>25%</th>\n",
              "      <td>142114.250000</td>\n",
              "      <td>0.000000</td>\n",
              "      <td>0.00000</td>\n",
              "      <td>4.000000</td>\n",
              "      <td>1.271290e+09</td>\n",
              "    </tr>\n",
              "    <tr>\n",
              "      <th>50%</th>\n",
              "      <td>284227.500000</td>\n",
              "      <td>0.000000</td>\n",
              "      <td>1.00000</td>\n",
              "      <td>5.000000</td>\n",
              "      <td>1.311120e+09</td>\n",
              "    </tr>\n",
              "    <tr>\n",
              "      <th>75%</th>\n",
              "      <td>426340.750000</td>\n",
              "      <td>2.000000</td>\n",
              "      <td>2.00000</td>\n",
              "      <td>5.000000</td>\n",
              "      <td>1.332720e+09</td>\n",
              "    </tr>\n",
              "    <tr>\n",
              "      <th>max</th>\n",
              "      <td>568454.000000</td>\n",
              "      <td>866.000000</td>\n",
              "      <td>923.00000</td>\n",
              "      <td>5.000000</td>\n",
              "      <td>1.351210e+09</td>\n",
              "    </tr>\n",
              "  </tbody>\n",
              "</table>\n",
              "</div>\n",
              "      <button class=\"colab-df-convert\" onclick=\"convertToInteractive('df-3cc17c51-24f4-4d07-820b-d05d3030166b')\"\n",
              "              title=\"Convert this dataframe to an interactive table.\"\n",
              "              style=\"display:none;\">\n",
              "        \n",
              "  <svg xmlns=\"http://www.w3.org/2000/svg\" height=\"24px\"viewBox=\"0 0 24 24\"\n",
              "       width=\"24px\">\n",
              "    <path d=\"M0 0h24v24H0V0z\" fill=\"none\"/>\n",
              "    <path d=\"M18.56 5.44l.94 2.06.94-2.06 2.06-.94-2.06-.94-.94-2.06-.94 2.06-2.06.94zm-11 1L8.5 8.5l.94-2.06 2.06-.94-2.06-.94L8.5 2.5l-.94 2.06-2.06.94zm10 10l.94 2.06.94-2.06 2.06-.94-2.06-.94-.94-2.06-.94 2.06-2.06.94z\"/><path d=\"M17.41 7.96l-1.37-1.37c-.4-.4-.92-.59-1.43-.59-.52 0-1.04.2-1.43.59L10.3 9.45l-7.72 7.72c-.78.78-.78 2.05 0 2.83L4 21.41c.39.39.9.59 1.41.59.51 0 1.02-.2 1.41-.59l7.78-7.78 2.81-2.81c.8-.78.8-2.07 0-2.86zM5.41 20L4 18.59l7.72-7.72 1.47 1.35L5.41 20z\"/>\n",
              "  </svg>\n",
              "      </button>\n",
              "      \n",
              "  <style>\n",
              "    .colab-df-container {\n",
              "      display:flex;\n",
              "      flex-wrap:wrap;\n",
              "      gap: 12px;\n",
              "    }\n",
              "\n",
              "    .colab-df-convert {\n",
              "      background-color: #E8F0FE;\n",
              "      border: none;\n",
              "      border-radius: 50%;\n",
              "      cursor: pointer;\n",
              "      display: none;\n",
              "      fill: #1967D2;\n",
              "      height: 32px;\n",
              "      padding: 0 0 0 0;\n",
              "      width: 32px;\n",
              "    }\n",
              "\n",
              "    .colab-df-convert:hover {\n",
              "      background-color: #E2EBFA;\n",
              "      box-shadow: 0px 1px 2px rgba(60, 64, 67, 0.3), 0px 1px 3px 1px rgba(60, 64, 67, 0.15);\n",
              "      fill: #174EA6;\n",
              "    }\n",
              "\n",
              "    [theme=dark] .colab-df-convert {\n",
              "      background-color: #3B4455;\n",
              "      fill: #D2E3FC;\n",
              "    }\n",
              "\n",
              "    [theme=dark] .colab-df-convert:hover {\n",
              "      background-color: #434B5C;\n",
              "      box-shadow: 0px 1px 3px 1px rgba(0, 0, 0, 0.15);\n",
              "      filter: drop-shadow(0px 1px 2px rgba(0, 0, 0, 0.3));\n",
              "      fill: #FFFFFF;\n",
              "    }\n",
              "  </style>\n",
              "\n",
              "      <script>\n",
              "        const buttonEl =\n",
              "          document.querySelector('#df-3cc17c51-24f4-4d07-820b-d05d3030166b button.colab-df-convert');\n",
              "        buttonEl.style.display =\n",
              "          google.colab.kernel.accessAllowed ? 'block' : 'none';\n",
              "\n",
              "        async function convertToInteractive(key) {\n",
              "          const element = document.querySelector('#df-3cc17c51-24f4-4d07-820b-d05d3030166b');\n",
              "          const dataTable =\n",
              "            await google.colab.kernel.invokeFunction('convertToInteractive',\n",
              "                                                     [key], {});\n",
              "          if (!dataTable) return;\n",
              "\n",
              "          const docLinkHtml = 'Like what you see? Visit the ' +\n",
              "            '<a target=\"_blank\" href=https://colab.research.google.com/notebooks/data_table.ipynb>data table notebook</a>'\n",
              "            + ' to learn more about interactive tables.';\n",
              "          element.innerHTML = '';\n",
              "          dataTable['output_type'] = 'display_data';\n",
              "          await google.colab.output.renderOutput(dataTable, element);\n",
              "          const docLink = document.createElement('div');\n",
              "          docLink.innerHTML = docLinkHtml;\n",
              "          element.appendChild(docLink);\n",
              "        }\n",
              "      </script>\n",
              "    </div>\n",
              "  </div>\n",
              "  "
            ]
          },
          "metadata": {},
          "execution_count": 12
        }
      ],
      "source": [
        "train_df.describe()"
      ]
    },
    {
      "cell_type": "markdown",
      "metadata": {
        "id": "2bhZx6LM2FcG"
      },
      "source": [
        "## Data Cleaning"
      ]
    },
    {
      "cell_type": "markdown",
      "metadata": {
        "id": "WVwDGJ2c2IVg"
      },
      "source": [
        "### Filter Review as Positive and Negative"
      ]
    },
    {
      "cell_type": "code",
      "execution_count": null,
      "metadata": {
        "colab": {
          "base_uri": "https://localhost:8080/",
          "height": 276
        },
        "id": "UXP9iRKo1x5Z",
        "outputId": "3b9e345e-f5a6-42ed-d030-aeaebddb0d44"
      },
      "outputs": [
        {
          "output_type": "display_data",
          "data": {
            "text/plain": [
              "<Figure size 432x288 with 1 Axes>"
            ],
            "image/png": "[encoded data removed]"
          },
          "metadata": {
            "needs_background": "light"
          }
        }
      ],
      "source": [
        "train_df['Score'].value_counts().plot(kind='bar')\n",
        "plt.xlabel(\"Rating\")\n",
        "plt.ylabel(\"People Count\")\n",
        "plt.show()"
      ]
    },
    {
      "cell_type": "markdown",
      "metadata": {
        "id": "wmY6pY1X10rE"
      },
      "source": [
        "We can see that we have 5-star rating system. We can filter onlt positive and negitive reviews. \n",
        "\n",
        "- Review with score>3 : Positive ratings\n",
        "- Review with score<3 : Negative ratings\n",
        "- Review with score=3 : Neutral rating (we can skip those ratings)"
      ]
    },
    {
      "cell_type": "code",
      "execution_count": null,
      "metadata": {
        "id": "9BTzvx1l10iO"
      },
      "outputs": [],
      "source": [
        "filtered_data = train_df[train_df['Score'] != 3]\n",
        "filtered_data.loc[train_df.Score >3,'Score'] = 1    # Positive review\n",
        "filtered_data.loc[train_df.Score <3,'Score'] = 0    # Negative review"
      ]
    },
    {
      "cell_type": "code",
      "execution_count": null,
      "metadata": {
        "colab": {
          "base_uri": "https://localhost:8080/",
          "height": 276
        },
        "id": "fXAfZVsA2XPS",
        "outputId": "54594a69-20e3-4cbe-91ef-23e76712049b"
      },
      "outputs": [
        {
          "output_type": "display_data",
          "data": {
            "text/plain": [
              "<Figure size 432x288 with 1 Axes>"
            ],
            "image/png": "[encoded data removed]"
          },
          "metadata": {
            "needs_background": "light"
          }
        }
      ],
      "source": [
        "filtered_data['Score'].value_counts().plot(kind='bar')\n",
        "plt.xlabel(\"Rating\")\n",
        "plt.ylabel(\"People Count\")\n",
        "plt.show()"
      ]
    },
    {
      "cell_type": "markdown",
      "metadata": {
        "id": "GodRMV3qx5jY"
      },
      "source": [
        "### Checking duplicates\n",
        "Reviews might contain duplicate entries.  So, we need to remove the duplicate entries so that we get unbiased data for Analysis.\n",
        "\n",
        "Check duplicate customers with same Summary and Text."
      ]
    },
    {
      "cell_type": "code",
      "execution_count": null,
      "metadata": {
        "colab": {
          "base_uri": "https://localhost:8080/"
        },
        "id": "7iOcSfO52eM8",
        "outputId": "80e72fd8-d473-40a1-b3dd-854344e47163"
      },
      "outputs": [
        {
          "output_type": "execute_result",
          "data": {
            "text/plain": [
              "(525814, 10)"
            ]
          },
          "metadata": {},
          "execution_count": 16
        }
      ],
      "source": [
        "filtered_data.shape"
      ]
    },
    {
      "cell_type": "code",
      "execution_count": null,
      "metadata": {
        "colab": {
          "base_uri": "https://localhost:8080/"
        },
        "id": "UDWIneCO2eC5",
        "outputId": "2677f0f4-2416-4d15-b9b4-247125756c77"
      },
      "outputs": [
        {
          "output_type": "execute_result",
          "data": {
            "text/plain": [
              "False    365293\n",
              "True     160521\n",
              "dtype: int64"
            ]
          },
          "metadata": {},
          "execution_count": 90
        }
      ],
      "source": [
        "# filtered_data.duplicated(subset=[\"UserId\",\"ProfileName\",\"Time\",\"Summary\",\"Text\"]).value_counts()\n",
        "# filtered_data.duplicated(subset=[\"Time\",\"Summary\",\"Text\"]).value_counts()\n",
        "filtered_data.duplicated(subset=[\"UserId\", \"Summary\", \"Text\", \"Time\"]).value_counts()"
      ]
    },
    {
      "cell_type": "markdown",
      "metadata": {
        "id": "vD75Q5gC2d4r"
      },
      "source": [
        "As we can see that we have 160678 duplicate customers with same Summary and Text.\n",
        "\n",
        "Let's remove those customers. Sort the data according to ProductId and keep the first items review and delete the others."
      ]
    },
    {
      "cell_type": "code",
      "execution_count": null,
      "metadata": {
        "colab": {
          "base_uri": "https://localhost:8080/"
        },
        "id": "_gOY7k612pMJ",
        "outputId": "18f9c82c-dd55-4fbc-fabb-88179295e38f"
      },
      "outputs": [
        {
          "output_type": "execute_result",
          "data": {
            "text/plain": [
              "(365293, 10)"
            ]
          },
          "metadata": {},
          "execution_count": 91
        }
      ],
      "source": [
        "\n",
        "# Sort according to ProductId\n",
        "sorted_data = filtered_data.sort_values(\n",
        "    by=[\"ProductId\"], axis=0, ascending=True, inplace=False, kind='mergesort', na_position='last'\n",
        ")\n",
        "\n",
        "# drop duplicated data\n",
        "final = sorted_data.drop_duplicates(subset={\"UserId\", \"Summary\", \"Text\", \"Time\"}, keep='first', inplace=False)\n",
        "final.shape"
      ]
    },
    {
      "cell_type": "markdown",
      "metadata": {
        "id": "LTINQOEQ2lVr"
      },
      "source": [
        "`HelpfulnessNumerator` : Number of users who found the review helpful.\n",
        "\n",
        "`HelpfulnessDenominator` : Number of users who indicated whether they found the review helpful or not.\n",
        "\n",
        "**HelpfulnessNumerator should be less than HelpfulnessDenominator.**"
      ]
    },
    {
      "cell_type": "code",
      "execution_count": null,
      "metadata": {
        "colab": {
          "base_uri": "https://localhost:8080/"
        },
        "id": "aEOB42Id2sIP",
        "outputId": "6431bb4f-cc8a-4786-e033-a2f89541e11e"
      },
      "outputs": [
        {
          "output_type": "execute_result",
          "data": {
            "text/plain": [
              "(365291, 10)"
            ]
          },
          "metadata": {},
          "execution_count": 92
        }
      ],
      "source": [
        "final = final[final.HelpfulnessNumerator <= final.HelpfulnessDenominator]\n",
        "final.shape"
      ]
    },
    {
      "cell_type": "code",
      "execution_count": null,
      "metadata": {
        "colab": {
          "base_uri": "https://localhost:8080/",
          "height": 174
        },
        "id": "6wAruiPkJbFL",
        "outputId": "7a7f6b99-6728-49b1-f1f5-fb65e24ad81b"
      },
      "outputs": [
        {
          "output_type": "execute_result",
          "data": {
            "text/plain": [
              "'Beetlejuice <a href=\"http://www.amazon.com/gp/product/B001AGXEA6\">Beetlejuice [Blu-ray</a>] is a timeless classic with Michael Keaton providing an excellent performance.  The afterlife concept of the film is excellent as well as entertaining; this film is a must for your video library... It\\'s to be watched over and over again.<br /><br />The casting for this film is perfect, Michael Keaton is the outrageously funny and whacky witted (Betelguese - the afterlife\\'s leading freelance bio-exorcist) with Alec Baldwin and Geena Davis playing (Adam and Barbara Maitland), a young couple that die prematurely. Adding to the cast are Jeffrey Jones and Catherine O\\'Hara (as Charles and Delia Deetz, and their Goth daughter Winona Ryder (as Lydia).<br /><br />One of the most hilarious scenes is the dinner party accompanied by Harry Belafonte\\'s Banana Boat song `Day-O\\'.  This is truly Tim Burton at his finest taking the significance of being dead and dousing it with humor.'"
            ],
            "application/vnd.google.colaboratory.intrinsic+json": {
              "type": "string"
            }
          },
          "metadata": {},
          "execution_count": 93
        }
      ],
      "source": [
        "final['Text'].loc[374304]"
      ]
    },
    {
      "cell_type": "code",
      "execution_count": null,
      "metadata": {
        "colab": {
          "base_uri": "https://localhost:8080/",
          "height": 722
        },
        "id": "_BL-3PSx2vrW",
        "outputId": "502c7fde-3796-4e13-e1eb-33fbac42f85f"
      },
      "outputs": [
        {
          "output_type": "execute_result",
          "data": {
            "text/plain": [
              "            Id   ProductId          UserId  \\\n",
              "150492  150493  0006641040   AMX0PJKV4PPNJ   \n",
              "150493  150494  0006641040   AYZ0PR5QZROD1   \n",
              "150495  150496  0006641040  A3KKR87BJ0C595   \n",
              "150496  150497  0006641040  A1HKYQOFC8ZZCH   \n",
              "150497  150498  0006641040  A3SJWISOCP31TR   \n",
              "\n",
              "                                          ProfileName  HelpfulnessNumerator  \\\n",
              "150492                       E. R. Bird \"Ramseelbird\"                    71   \n",
              "150493                              Mother of 3 girls                     3   \n",
              "150495  Gretchen Goodfellow \"Lover of children's lit\"                     3   \n",
              "150496                     Maria Apolloni \"lanarossa\"                     2   \n",
              "150497                                    R. J. Wells                     2   \n",
              "\n",
              "        HelpfulnessDenominator  Score        Time  \\\n",
              "150492                      72      1  1096416000   \n",
              "150493                       3      1  1173312000   \n",
              "150495                       3      1  1111363200   \n",
              "150496                       2      0  1334707200   \n",
              "150497                       2      1  1176336000   \n",
              "\n",
              "                                                  Summary  \\\n",
              "150492  Read it once. Read it twice. Reading Chicken S...   \n",
              "150493                                    Family favorite   \n",
              "150495            You'll use it once, you'll use it twice   \n",
              "150496  The story is great, the softcover book is disa...   \n",
              "150497                                    A Gem of a Book   \n",
              "\n",
              "                                                     Text  \n",
              "150492  These days, when a person says, \"chicken soup\"...  \n",
              "150493  All of my children love this book.  My first g...  \n",
              "150495  One of my earliest memories is of this book.  ...  \n",
              "150496  I give five stars to the Maurice Sendak story....  \n",
              "150497  This is a wonderful little book. I loved it 40...  "
            ],
            "text/html": [
              "\n",
              "  <div id=\"df-d86c44ea-0758-4834-bc33-3cd353107f7c\">\n",
              "    <div class=\"colab-df-container\">\n",
              "      <div>\n",
              "<style scoped>\n",
              "    .dataframe tbody tr th:only-of-type {\n",
              "        vertical-align: middle;\n",
              "    }\n",
              "\n",
              "    .dataframe tbody tr th {\n",
              "        vertical-align: top;\n",
              "    }\n",
              "\n",
              "    .dataframe thead th {\n",
              "        text-align: right;\n",
              "    }\n",
              "</style>\n",
              "<table border=\"1\" class=\"dataframe\">\n",
              "  <thead>\n",
              "    <tr style=\"text-align: right;\">\n",
              "      <th></th>\n",
              "      <th>Id</th>\n",
              "      <th>ProductId</th>\n",
              "      <th>UserId</th>\n",
              "      <th>ProfileName</th>\n",
              "      <th>HelpfulnessNumerator</th>\n",
              "      <th>HelpfulnessDenominator</th>\n",
              "      <th>Score</th>\n",
              "      <th>Time</th>\n",
              "      <th>Summary</th>\n",
              "      <th>Text</th>\n",
              "    </tr>\n",
              "  </thead>\n",
              "  <tbody>\n",
              "    <tr>\n",
              "      <th>150492</th>\n",
              "      <td>150493</td>\n",
              "      <td>0006641040</td>\n",
              "      <td>AMX0PJKV4PPNJ</td>\n",
              "      <td>E. R. Bird \"Ramseelbird\"</td>\n",
              "      <td>71</td>\n",
              "      <td>72</td>\n",
              "      <td>1</td>\n",
              "      <td>1096416000</td>\n",
              "      <td>Read it once. Read it twice. Reading Chicken S...</td>\n",
              "      <td>These days, when a person says, \"chicken soup\"...</td>\n",
              "    </tr>\n",
              "    <tr>\n",
              "      <th>150493</th>\n",
              "      <td>150494</td>\n",
              "      <td>0006641040</td>\n",
              "      <td>AYZ0PR5QZROD1</td>\n",
              "      <td>Mother of 3 girls</td>\n",
              "      <td>3</td>\n",
              "      <td>3</td>\n",
              "      <td>1</td>\n",
              "      <td>1173312000</td>\n",
              "      <td>Family favorite</td>\n",
              "      <td>All of my children love this book.  My first g...</td>\n",
              "    </tr>\n",
              "    <tr>\n",
              "      <th>150495</th>\n",
              "      <td>150496</td>\n",
              "      <td>0006641040</td>\n",
              "      <td>A3KKR87BJ0C595</td>\n",
              "      <td>Gretchen Goodfellow \"Lover of children's lit\"</td>\n",
              "      <td>3</td>\n",
              "      <td>3</td>\n",
              "      <td>1</td>\n",
              "      <td>1111363200</td>\n",
              "      <td>You'll use it once, you'll use it twice</td>\n",
              "      <td>One of my earliest memories is of this book.  ...</td>\n",
              "    </tr>\n",
              "    <tr>\n",
              "      <th>150496</th>\n",
              "      <td>150497</td>\n",
              "      <td>0006641040</td>\n",
              "      <td>A1HKYQOFC8ZZCH</td>\n",
              "      <td>Maria Apolloni \"lanarossa\"</td>\n",
              "      <td>2</td>\n",
              "      <td>2</td>\n",
              "      <td>0</td>\n",
              "      <td>1334707200</td>\n",
              "      <td>The story is great, the softcover book is disa...</td>\n",
              "      <td>I give five stars to the Maurice Sendak story....</td>\n",
              "    </tr>\n",
              "    <tr>\n",
              "      <th>150497</th>\n",
              "      <td>150498</td>\n",
              "      <td>0006641040</td>\n",
              "      <td>A3SJWISOCP31TR</td>\n",
              "      <td>R. J. Wells</td>\n",
              "      <td>2</td>\n",
              "      <td>2</td>\n",
              "      <td>1</td>\n",
              "      <td>1176336000</td>\n",
              "      <td>A Gem of a Book</td>\n",
              "      <td>This is a wonderful little book. I loved it 40...</td>\n",
              "    </tr>\n",
              "  </tbody>\n",
              "</table>\n",
              "</div>\n",
              "      <button class=\"colab-df-convert\" onclick=\"convertToInteractive('df-d86c44ea-0758-4834-bc33-3cd353107f7c')\"\n",
              "              title=\"Convert this dataframe to an interactive table.\"\n",
              "              style=\"display:none;\">\n",
              "        \n",
              "  <svg xmlns=\"http://www.w3.org/2000/svg\" height=\"24px\"viewBox=\"0 0 24 24\"\n",
              "       width=\"24px\">\n",
              "    <path d=\"M0 0h24v24H0V0z\" fill=\"none\"/>\n",
              "    <path d=\"M18.56 5.44l.94 2.06.94-2.06 2.06-.94-2.06-.94-.94-2.06-.94 2.06-2.06.94zm-11 1L8.5 8.5l.94-2.06 2.06-.94-2.06-.94L8.5 2.5l-.94 2.06-2.06.94zm10 10l.94 2.06.94-2.06 2.06-.94-2.06-.94-.94-2.06-.94 2.06-2.06.94z\"/><path d=\"M17.41 7.96l-1.37-1.37c-.4-.4-.92-.59-1.43-.59-.52 0-1.04.2-1.43.59L10.3 9.45l-7.72 7.72c-.78.78-.78 2.05 0 2.83L4 21.41c.39.39.9.59 1.41.59.51 0 1.02-.2 1.41-.59l7.78-7.78 2.81-2.81c.8-.78.8-2.07 0-2.86zM5.41 20L4 18.59l7.72-7.72 1.47 1.35L5.41 20z\"/>\n",
              "  </svg>\n",
              "      </button>\n",
              "      \n",
              "  <style>\n",
              "    .colab-df-container {\n",
              "      display:flex;\n",
              "      flex-wrap:wrap;\n",
              "      gap: 12px;\n",
              "    }\n",
              "\n",
              "    .colab-df-convert {\n",
              "      background-color: #E8F0FE;\n",
              "      border: none;\n",
              "      border-radius: 50%;\n",
              "      cursor: pointer;\n",
              "      display: none;\n",
              "      fill: #1967D2;\n",
              "      height: 32px;\n",
              "      padding: 0 0 0 0;\n",
              "      width: 32px;\n",
              "    }\n",
              "\n",
              "    .colab-df-convert:hover {\n",
              "      background-color: #E2EBFA;\n",
              "      box-shadow: 0px 1px 2px rgba(60, 64, 67, 0.3), 0px 1px 3px 1px rgba(60, 64, 67, 0.15);\n",
              "      fill: #174EA6;\n",
              "    }\n",
              "\n",
              "    [theme=dark] .colab-df-convert {\n",
              "      background-color: #3B4455;\n",
              "      fill: #D2E3FC;\n",
              "    }\n",
              "\n",
              "    [theme=dark] .colab-df-convert:hover {\n",
              "      background-color: #434B5C;\n",
              "      box-shadow: 0px 1px 3px 1px rgba(0, 0, 0, 0.15);\n",
              "      filter: drop-shadow(0px 1px 2px rgba(0, 0, 0, 0.3));\n",
              "      fill: #FFFFFF;\n",
              "    }\n",
              "  </style>\n",
              "\n",
              "      <script>\n",
              "        const buttonEl =\n",
              "          document.querySelector('#df-d86c44ea-0758-4834-bc33-3cd353107f7c button.colab-df-convert');\n",
              "        buttonEl.style.display =\n",
              "          google.colab.kernel.accessAllowed ? 'block' : 'none';\n",
              "\n",
              "        async function convertToInteractive(key) {\n",
              "          const element = document.querySelector('#df-d86c44ea-0758-4834-bc33-3cd353107f7c');\n",
              "          const dataTable =\n",
              "            await google.colab.kernel.invokeFunction('convertToInteractive',\n",
              "                                                     [key], {});\n",
              "          if (!dataTable) return;\n",
              "\n",
              "          const docLinkHtml = 'Like what you see? Visit the ' +\n",
              "            '<a target=\"_blank\" href=https://colab.research.google.com/notebooks/data_table.ipynb>data table notebook</a>'\n",
              "            + ' to learn more about interactive tables.';\n",
              "          element.innerHTML = '';\n",
              "          dataTable['output_type'] = 'display_data';\n",
              "          await google.colab.output.renderOutput(dataTable, element);\n",
              "          const docLink = document.createElement('div');\n",
              "          docLink.innerHTML = docLinkHtml;\n",
              "          element.appendChild(docLink);\n",
              "        }\n",
              "      </script>\n",
              "    </div>\n",
              "  </div>\n",
              "  "
            ]
          },
          "metadata": {},
          "execution_count": 94
        }
      ],
      "source": [
        "final.head(5)"
      ]
    },
    {
      "cell_type": "markdown",
      "metadata": {
        "id": "MxGV6vSJ2x8P"
      },
      "source": [
        "### Checking null values."
      ]
    },
    {
      "cell_type": "code",
      "execution_count": null,
      "metadata": {
        "colab": {
          "base_uri": "https://localhost:8080/"
        },
        "id": "SP66mTuOx5lm",
        "outputId": "b3a00019-56d6-4273-d28c-c30f6d38354f"
      },
      "outputs": [
        {
          "output_type": "execute_result",
          "data": {
            "text/plain": [
              "Id                         0\n",
              "ProductId                  0\n",
              "UserId                     0\n",
              "ProfileName               11\n",
              "HelpfulnessNumerator       0\n",
              "HelpfulnessDenominator     0\n",
              "Score                      0\n",
              "Time                       0\n",
              "Summary                    1\n",
              "Text                       0\n",
              "dtype: int64"
            ]
          },
          "metadata": {},
          "execution_count": 95
        }
      ],
      "source": [
        "# check for null values\n",
        "final.isna().sum()"
      ]
    },
    {
      "cell_type": "markdown",
      "metadata": {
        "id": "ke4NSNnz22GI"
      },
      "source": [
        "No null values are present"
      ]
    },
    {
      "cell_type": "markdown",
      "metadata": {
        "id": "8csjxNUnx5pN"
      },
      "source": [
        "## Text Processing"
      ]
    },
    {
      "cell_type": "code",
      "execution_count": null,
      "metadata": {
        "colab": {
          "base_uri": "https://localhost:8080/"
        },
        "id": "3zBQ4tKn7WYO",
        "outputId": "1760a06d-6e53-4986-8564-09d566ae7ef5"
      },
      "outputs": [
        {
          "output_type": "stream",
          "name": "stdout",
          "text": [
            "['i', 'me', 'my', 'myself', 'we', 'our', 'ours', 'ourselves', 'you', \"you're\", \"you've\", \"you'll\", \"you'd\", 'your', 'yours', 'yourself', 'yourselves', 'he', 'him', 'his', 'himself', 'she', \"she's\", 'her', 'hers', 'herself', 'it', \"it's\", 'its', 'itself', 'they', 'them', 'their', 'theirs', 'themselves', 'what', 'which', 'who', 'whom', 'this', 'that', \"that'll\", 'these', 'those', 'am', 'is', 'are', 'was', 'were', 'be', 'been', 'being', 'have', 'has', 'had', 'having', 'do', 'does', 'did', 'doing', 'a', 'an', 'the', 'and', 'but', 'if', 'or', 'because', 'as', 'until', 'while', 'of', 'at', 'by', 'for', 'with', 'about', 'against', 'between', 'into', 'through', 'during', 'before', 'after', 'above', 'below', 'to', 'from', 'up', 'down', 'in', 'out', 'on', 'off', 'over', 'under', 'again', 'further', 'then', 'once', 'here', 'there', 'when', 'where', 'why', 'how', 'all', 'any', 'both', 'each', 'few', 'more', 'most', 'other', 'some', 'such', 'no', 'nor', 'not', 'only', 'own', 'same', 'so', 'than', 'too', 'very', 's', 't', 'can', 'will', 'just', 'don', \"don't\", 'should', \"should've\", 'now', 'd', 'll', 'm', 'o', 're', 've', 'y', 'ain', 'aren', \"aren't\", 'couldn', \"couldn't\", 'didn', \"didn't\", 'doesn', \"doesn't\", 'hadn', \"hadn't\", 'hasn', \"hasn't\", 'haven', \"haven't\", 'isn', \"isn't\", 'ma', 'mightn', \"mightn't\", 'mustn', \"mustn't\", 'needn', \"needn't\", 'shan', \"shan't\", 'shouldn', \"shouldn't\", 'wasn', \"wasn't\", 'weren', \"weren't\", 'won', \"won't\", 'wouldn', \"wouldn't\"]\n"
          ]
        }
      ],
      "source": [
        "STOPWORDS = nltk.corpus.stopwords.words('english')\n",
        "print(STOPWORDS)\n",
        "\n",
        "STOPWORDS =  [\n",
        "    'i', 'me', 'my', 'myself', 'we', 'our', 'ours', 'ourselves', 'you', \"you're\", \"you've\", \"you'll\", \"you'd\", 'your', 'yours', \n",
        "    'yourself', 'yourselves', 'he', 'him', 'his', 'himself', 'she', \"she's\", 'her', 'hers', 'herself', 'it',  \"it's\", 'its', \n",
        "    'itself', 'they', 'them', 'their', 'theirs', 'themselves', 'what', 'which', 'who', 'whom', 'this', 'that', \"that'll\", \n",
        "    'these', 'those', 'am', 'is', 'are', 'was', 'were', 'be', 'been',  'being', 'have', 'has', 'had', 'having', 'do', 'does',\n",
        "    'did', 'doing', 'a', 'an', 'the', 'and', 'but', 'if',  'or', 'because', 'as', 'until', 'while', 'of', 'at',  'for', 'with',\n",
        "    'about', 'between', 'into',  'through', 'during',  'to',  'from', \n",
        "    'in', 'out', 'on', 'off',  'over', 'under', 'again', 'further', 'then', 'once', 'here', 'there', 'when', \n",
        "    'where', 'why', 'how', 'all', 'any', 'both', 'each', 'few',  'other', 'some', 'such', 'only', 'own', \n",
        "    'same', 'so', 'than', 'too', 'very', 's', 't', 'can', 'will', 'just', 'don', \"don't\", 'should', \"should've\", \n",
        "    'now', 'd', 'll', 'm', 'o', 're', 've', 'y', 'ain', 'aren', \"aren't\", 'couldn', \"couldn't\", 'didn',  \"didn't\", 'doesn', \n",
        "    \"doesn't\", 'hadn', \"hadn't\", 'hasn', \"hasn't\", 'haven', \"haven't\", 'isn', \"isn't\", 'ma', 'mightn', \"mightn't\", 'mustn', \n",
        "    \"mustn't\", 'needn', \"needn't\", 'shan', \"shan't\", 'shouldn', \"shouldn't\", 'wasn', \"wasn't\", 'weren', \"weren't\", \n",
        "    'won', \"won't\", 'wouldn', \"wouldn't\", \"would\", \"could\"\n",
        "]\n"
      ]
    },
    {
      "cell_type": "code",
      "execution_count": null,
      "metadata": {
        "id": "FaGCIv8ix5rH"
      },
      "outputs": [],
      "source": [
        "class TextProcess:\n",
        "\n",
        "  def __init__(self, df, stopwords=[]):\n",
        "    self.df = df\n",
        "    self.stopwords = stopwords\n",
        "\n",
        "  def decontracted(self, text):\n",
        "      '''\n",
        "      Function to expand the shotened words: what've ---> what have\n",
        "      '''\n",
        "      expanded_words = []    \n",
        "      for word in text.split():\n",
        "        # using contractions.fix to expand the shotened words\n",
        "        expanded_words.append(contractions.fix(word))   \n",
        "\n",
        "      expanded_text = ' '.join(expanded_words)\n",
        "      return expanded_text\n",
        "\n",
        "  def remove_stopwords(self, text):\n",
        "      text = text.strip().split()\n",
        "      text = [word for word in text if word not in self.stopwords and len(word)>1]\n",
        "      return ' '.join(text)\n",
        "\n",
        "  def remove_html_tags(self, text):\n",
        "      '''Remove html tags'''\n",
        "      return BeautifulSoup(text, 'lxml').get_text()\n",
        "\n",
        "  def remove_consecutive_duplicate(self, text):\n",
        "      '''Remove consecutive duplicate'''\n",
        "      text = text.split()\n",
        "      text = [i[0] for i in groupby(text)]\n",
        "      return \" \".join(text)\n",
        "\n",
        "  def remove_space(self, text):\n",
        "      # text = re.sub('[^\\w\\s]', ' ', text)   # remove punc\n",
        "      text = re.sub(\"[\\s]+\", ' ', text)\n",
        "      return text\n",
        "\n",
        "  def remove_punc(self, text):\n",
        "      # text = re.sub('[^\\w\\s]', ' ', text)   # remove punc\n",
        "      text = [word for word in text.split() if word not in string.punctuation]\n",
        "      text = \" \".join(text)\n",
        "      text = re.sub(\"[\\s]+\", ' ', text)\n",
        "      return text\n",
        "\n",
        "  def nltk_tag_to_wordnet_tag(self, nltk_tag):\n",
        "      if nltk_tag.startswith('J'):\n",
        "          return wordnet.ADJ\n",
        "      elif nltk_tag.startswith('V'):\n",
        "          return wordnet.VERB\n",
        "      elif nltk_tag.startswith('N'):\n",
        "          return wordnet.NOUN\n",
        "      elif nltk_tag.startswith('R'):\n",
        "          return wordnet.ADV\n",
        "      else:\n",
        "          return None\n",
        "\n",
        "  def lemmatize_sentence(self, sentence):\n",
        "      lemmatizer = WordNetLemmatizer()\n",
        "      #tokenize the sentence and find the POS tag for each token\n",
        "      nltk_tagged = nltk.pos_tag(nltk.word_tokenize(sentence))\n",
        "\n",
        "      #tuple of (token, wordnet_tag)\n",
        "      wordnet_tagged = map(lambda x: (x[0], self.nltk_tag_to_wordnet_tag(x[1])), nltk_tagged)\n",
        "\n",
        "      lemmatized_sentence = []\n",
        "      for word, tag in wordnet_tagged:\n",
        "          if tag is None:\n",
        "              #if there is no available tag, append the token as is\n",
        "              lemmatized_sentence.append(word)\n",
        "          else:\n",
        "              #else use the tag to lemmatize the token\n",
        "              lemmatized_sentence.append(lemmatizer.lemmatize(word, tag))\n",
        "\n",
        "      return self.remove_stopwords(\" \".join(lemmatized_sentence))\n",
        "\n",
        "  def lemma_spacy(self, sentence):\n",
        "      try:\n",
        "        import spacy\n",
        "        NLP_OBJ = spacy.load(\"en_core_web_sm\", disable=['ner'])\n",
        "        doc = NLP_OBJ(sentence)\n",
        "        sentence = \" \".join([token.lemma_ for token in doc])\n",
        "        return sentence\n",
        "      except:\n",
        "        return sentence\n",
        "\n",
        "  def text_process_df(self):\n",
        "    print(\"Start cleaning dataframe...\")\n",
        "    self.df['clean_review'] = self.df['Text'].swifter.apply(self.clean_text)\n",
        "    # print(\"Start lemmatize dataframe..\")\n",
        "    # self.df['clean_review'] = self.df['clean_review'].swifter.apply(self.lemmatize_sentence)\n",
        "    # self.df['clean_review'] = self.df['clean_review'].swifter.apply(self.lemma_spacy)\n",
        "    return self.df\n",
        "\n",
        "  def token(self, text):\n",
        "    text = nltk.word_tokenize(text)\n",
        "    return \" \".join(text)\n",
        "\n",
        "  def clean_text(self, sentence):\n",
        "    '''\n",
        "    Function to clean the text and remove all the unnecessary elements.\n",
        "    '''\n",
        "    try:\n",
        "      sentence = sentence.lower()                     # make the text lowercase\n",
        "      sentence = self.remove_html_tags(sentence)\n",
        "      sentence = self.token(sentence)\n",
        "      sentence = self.decontracted(sentence)          # expand the shotened words   what've ---> what have\n",
        "      sentence = self.remove_punc(sentence)\n",
        "      sentence = self.remove_space(sentence)\n",
        "      sentence = self.remove_consecutive_duplicate(sentence)\n",
        "      sentence = re.sub('[^A-Za-z]+', ' ', sentence)\n",
        "      sentence = self.remove_stopwords(sentence)\n",
        "      sentence = self.lemmatize_sentence(sentence)\n",
        "      if sentence == np.nan:\n",
        "        sentence = \"\"\n",
        "      return sentence\n",
        "    except:\n",
        "      return sentence\n"
      ]
    },
    {
      "cell_type": "code",
      "execution_count": null,
      "metadata": {
        "id": "Z3rtagRJLEN-"
      },
      "outputs": [],
      "source": [
        "text_process_obj = TextProcess(df=final, stopwords=STOPWORDS)"
      ]
    },
    {
      "cell_type": "code",
      "execution_count": null,
      "metadata": {
        "id": "G2auhOodKxgy"
      },
      "outputs": [],
      "source": [
        "a = '''Beetlejuice <a href=\"http://www.amazon.com/gp/product/B001AGXEA6\">Beetlejuice [Blu-ray</a>] is a timeless classic with Michael Keaton providing an excellent performance.  The afterlife concept of the film is excellent as well as entertaining; this film is a must for your video library... It's to be watched over and over again.<br /><br />The casting for this film is perfect, Michael Keaton is the outrageously funny and whacky witted (Betelguese - the afterlife's leading freelance bio-exorcist) with Alec Baldwin and Geena Davis playing (Adam and Barbara Maitland), a young couple that die prematurely. Adding to the cast are Jeffrey Jones and Catherine O'Hara (as Charles and Delia Deetz, and their Goth daughter Winona Ryder (as Lydia).<br /><br />One of the most hilarious scenes is the dinner party accompanied by Harry Belafonte's Banana Boat song `Day-O'.  This is truly Tim Burton at his finest taking the significance of being dead and dousing it with humor.'''"
      ]
    },
    {
      "cell_type": "code",
      "execution_count": null,
      "metadata": {
        "colab": {
          "base_uri": "https://localhost:8080/",
          "height": 105
        },
        "id": "qDJOURO1K14v",
        "outputId": "6c008370-83c0-4a59-9a33-3c8c7c0d08f4"
      },
      "outputs": [
        {
          "output_type": "execute_result",
          "data": {
            "text/plain": [
              "'beetlejuice blu ray timeless classic michael keaton provide excellent performance afterlife concept film excellent well entertaining film must video library watch casting film perfect michael keaton outrageously funny whacky witted betelguese afterlife lead freelance bio exorcist alec baldwin geena davis play adam barbara maitland young couple die prematurely add cast jeffrey jones catherine hara charles delia deetz goth daughter winona ryder lydia one most hilarious scene dinner party accompany by harry belafonte banana boat song day truly tim burton fine take significance dead dousing humor'"
            ],
            "application/vnd.google.colaboratory.intrinsic+json": {
              "type": "string"
            }
          },
          "metadata": {},
          "execution_count": 45
        }
      ],
      "source": [
        "text_process_obj.clean_text(a)"
      ]
    },
    {
      "cell_type": "code",
      "execution_count": null,
      "metadata": {
        "colab": {
          "base_uri": "https://localhost:8080/",
          "height": 66,
          "referenced_widgets": [
            "b5b094e5be264149a3738557f6f491d2",
            "a06cf0b5631247f4869fed99237d7680",
            "d40d92e7378c4624a3ad6cd0a7180864",
            "4368dc2fa04c423d8eeb9cfe2c06bab8",
            "a04022f65dee43e6b23704f6f20e5929",
            "36bb11c98df2403aacbf42d47c46d766",
            "11bf0e9865b446c3a30bb4b14ace0d75",
            "5b3f96786b8545f480f669e0aa806789",
            "260f0da1d5ae44c5928a4aa41422d552",
            "2f90d2da877a40359b12fd26cac1536d",
            "23cac0c9df134c939c2ae25c113a169a"
          ]
        },
        "id": "C-Pfl9Lwx5s3",
        "outputId": "59d22eb9-8c03-436e-d843-ea1eeee93e63"
      },
      "outputs": [
        {
          "output_type": "stream",
          "name": "stdout",
          "text": [
            "Start cleaning dataframe...\n"
          ]
        },
        {
          "output_type": "display_data",
          "data": {
            "text/plain": [
              "Pandas Apply:   0%|          | 0/365291 [00:00<?, ?it/s]"
            ],
            "application/vnd.jupyter.widget-view+json": {
              "version_major": 2,
              "version_minor": 0,
              "model_id": "b5b094e5be264149a3738557f6f491d2"
            }
          },
          "metadata": {}
        }
      ],
      "source": [
        "final = text_process_obj.text_process_df()"
      ]
    },
    {
      "cell_type": "code",
      "execution_count": null,
      "metadata": {
        "colab": {
          "base_uri": "https://localhost:8080/",
          "height": 722
        },
        "id": "rt9M_G_UGjwb",
        "outputId": "7a2b4286-2ba8-4b52-b144-85df7d015148"
      },
      "outputs": [
        {
          "output_type": "execute_result",
          "data": {
            "text/plain": [
              "            Id   ProductId          UserId  \\\n",
              "150492  150493  0006641040   AMX0PJKV4PPNJ   \n",
              "150493  150494  0006641040   AYZ0PR5QZROD1   \n",
              "150495  150496  0006641040  A3KKR87BJ0C595   \n",
              "150496  150497  0006641040  A1HKYQOFC8ZZCH   \n",
              "150497  150498  0006641040  A3SJWISOCP31TR   \n",
              "\n",
              "                                          ProfileName  HelpfulnessNumerator  \\\n",
              "150492                       E. R. Bird \"Ramseelbird\"                    71   \n",
              "150493                              Mother of 3 girls                     3   \n",
              "150495  Gretchen Goodfellow \"Lover of children's lit\"                     3   \n",
              "150496                     Maria Apolloni \"lanarossa\"                     2   \n",
              "150497                                    R. J. Wells                     2   \n",
              "\n",
              "        HelpfulnessDenominator  Score        Time  \\\n",
              "150492                      72      1  1096416000   \n",
              "150493                       3      1  1173312000   \n",
              "150495                       3      1  1111363200   \n",
              "150496                       2      0  1334707200   \n",
              "150497                       2      1  1176336000   \n",
              "\n",
              "                                                  Summary  \\\n",
              "150492  Read it once. Read it twice. Reading Chicken S...   \n",
              "150493                                    Family favorite   \n",
              "150495            You'll use it once, you'll use it twice   \n",
              "150496  The story is great, the softcover book is disa...   \n",
              "150497                                    A Gem of a Book   \n",
              "\n",
              "                                                     Text  \\\n",
              "150492  These days, when a person says, \"chicken soup\"...   \n",
              "150493  All of my children love this book.  My first g...   \n",
              "150495  One of my earliest memories is of this book.  ...   \n",
              "150496  I give five stars to the Maurice Sendak story....   \n",
              "150497  This is a wonderful little book. I loved it 40...   \n",
              "\n",
              "                                             clean_review  \n",
              "150492  day person say chicken soup probably go follow...  \n",
              "150493  child love book first grader get christmas lov...  \n",
              "150495  one early memory book mother read us constantl...  \n",
              "150496  give five star maurice sendak story one star p...  \n",
              "150497  wonderful little book love year ago twin love ...  "
            ],
            "text/html": [
              "\n",
              "  <div id=\"df-475b5e07-3511-46bf-af41-893228e073f1\">\n",
              "    <div class=\"colab-df-container\">\n",
              "      <div>\n",
              "<style scoped>\n",
              "    .dataframe tbody tr th:only-of-type {\n",
              "        vertical-align: middle;\n",
              "    }\n",
              "\n",
              "    .dataframe tbody tr th {\n",
              "        vertical-align: top;\n",
              "    }\n",
              "\n",
              "    .dataframe thead th {\n",
              "        text-align: right;\n",
              "    }\n",
              "</style>\n",
              "<table border=\"1\" class=\"dataframe\">\n",
              "  <thead>\n",
              "    <tr style=\"text-align: right;\">\n",
              "      <th></th>\n",
              "      <th>Id</th>\n",
              "      <th>ProductId</th>\n",
              "      <th>UserId</th>\n",
              "      <th>ProfileName</th>\n",
              "      <th>HelpfulnessNumerator</th>\n",
              "      <th>HelpfulnessDenominator</th>\n",
              "      <th>Score</th>\n",
              "      <th>Time</th>\n",
              "      <th>Summary</th>\n",
              "      <th>Text</th>\n",
              "      <th>clean_review</th>\n",
              "    </tr>\n",
              "  </thead>\n",
              "  <tbody>\n",
              "    <tr>\n",
              "      <th>150492</th>\n",
              "      <td>150493</td>\n",
              "      <td>0006641040</td>\n",
              "      <td>AMX0PJKV4PPNJ</td>\n",
              "      <td>E. R. Bird \"Ramseelbird\"</td>\n",
              "      <td>71</td>\n",
              "      <td>72</td>\n",
              "      <td>1</td>\n",
              "      <td>1096416000</td>\n",
              "      <td>Read it once. Read it twice. Reading Chicken S...</td>\n",
              "      <td>These days, when a person says, \"chicken soup\"...</td>\n",
              "      <td>day person say chicken soup probably go follow...</td>\n",
              "    </tr>\n",
              "    <tr>\n",
              "      <th>150493</th>\n",
              "      <td>150494</td>\n",
              "      <td>0006641040</td>\n",
              "      <td>AYZ0PR5QZROD1</td>\n",
              "      <td>Mother of 3 girls</td>\n",
              "      <td>3</td>\n",
              "      <td>3</td>\n",
              "      <td>1</td>\n",
              "      <td>1173312000</td>\n",
              "      <td>Family favorite</td>\n",
              "      <td>All of my children love this book.  My first g...</td>\n",
              "      <td>child love book first grader get christmas lov...</td>\n",
              "    </tr>\n",
              "    <tr>\n",
              "      <th>150495</th>\n",
              "      <td>150496</td>\n",
              "      <td>0006641040</td>\n",
              "      <td>A3KKR87BJ0C595</td>\n",
              "      <td>Gretchen Goodfellow \"Lover of children's lit\"</td>\n",
              "      <td>3</td>\n",
              "      <td>3</td>\n",
              "      <td>1</td>\n",
              "      <td>1111363200</td>\n",
              "      <td>You'll use it once, you'll use it twice</td>\n",
              "      <td>One of my earliest memories is of this book.  ...</td>\n",
              "      <td>one early memory book mother read us constantl...</td>\n",
              "    </tr>\n",
              "    <tr>\n",
              "      <th>150496</th>\n",
              "      <td>150497</td>\n",
              "      <td>0006641040</td>\n",
              "      <td>A1HKYQOFC8ZZCH</td>\n",
              "      <td>Maria Apolloni \"lanarossa\"</td>\n",
              "      <td>2</td>\n",
              "      <td>2</td>\n",
              "      <td>0</td>\n",
              "      <td>1334707200</td>\n",
              "      <td>The story is great, the softcover book is disa...</td>\n",
              "      <td>I give five stars to the Maurice Sendak story....</td>\n",
              "      <td>give five star maurice sendak story one star p...</td>\n",
              "    </tr>\n",
              "    <tr>\n",
              "      <th>150497</th>\n",
              "      <td>150498</td>\n",
              "      <td>0006641040</td>\n",
              "      <td>A3SJWISOCP31TR</td>\n",
              "      <td>R. J. Wells</td>\n",
              "      <td>2</td>\n",
              "      <td>2</td>\n",
              "      <td>1</td>\n",
              "      <td>1176336000</td>\n",
              "      <td>A Gem of a Book</td>\n",
              "      <td>This is a wonderful little book. I loved it 40...</td>\n",
              "      <td>wonderful little book love year ago twin love ...</td>\n",
              "    </tr>\n",
              "  </tbody>\n",
              "</table>\n",
              "</div>\n",
              "      <button class=\"colab-df-convert\" onclick=\"convertToInteractive('df-475b5e07-3511-46bf-af41-893228e073f1')\"\n",
              "              title=\"Convert this dataframe to an interactive table.\"\n",
              "              style=\"display:none;\">\n",
              "        \n",
              "  <svg xmlns=\"http://www.w3.org/2000/svg\" height=\"24px\"viewBox=\"0 0 24 24\"\n",
              "       width=\"24px\">\n",
              "    <path d=\"M0 0h24v24H0V0z\" fill=\"none\"/>\n",
              "    <path d=\"M18.56 5.44l.94 2.06.94-2.06 2.06-.94-2.06-.94-.94-2.06-.94 2.06-2.06.94zm-11 1L8.5 8.5l.94-2.06 2.06-.94-2.06-.94L8.5 2.5l-.94 2.06-2.06.94zm10 10l.94 2.06.94-2.06 2.06-.94-2.06-.94-.94-2.06-.94 2.06-2.06.94z\"/><path d=\"M17.41 7.96l-1.37-1.37c-.4-.4-.92-.59-1.43-.59-.52 0-1.04.2-1.43.59L10.3 9.45l-7.72 7.72c-.78.78-.78 2.05 0 2.83L4 21.41c.39.39.9.59 1.41.59.51 0 1.02-.2 1.41-.59l7.78-7.78 2.81-2.81c.8-.78.8-2.07 0-2.86zM5.41 20L4 18.59l7.72-7.72 1.47 1.35L5.41 20z\"/>\n",
              "  </svg>\n",
              "      </button>\n",
              "      \n",
              "  <style>\n",
              "    .colab-df-container {\n",
              "      display:flex;\n",
              "      flex-wrap:wrap;\n",
              "      gap: 12px;\n",
              "    }\n",
              "\n",
              "    .colab-df-convert {\n",
              "      background-color: #E8F0FE;\n",
              "      border: none;\n",
              "      border-radius: 50%;\n",
              "      cursor: pointer;\n",
              "      display: none;\n",
              "      fill: #1967D2;\n",
              "      height: 32px;\n",
              "      padding: 0 0 0 0;\n",
              "      width: 32px;\n",
              "    }\n",
              "\n",
              "    .colab-df-convert:hover {\n",
              "      background-color: #E2EBFA;\n",
              "      box-shadow: 0px 1px 2px rgba(60, 64, 67, 0.3), 0px 1px 3px 1px rgba(60, 64, 67, 0.15);\n",
              "      fill: #174EA6;\n",
              "    }\n",
              "\n",
              "    [theme=dark] .colab-df-convert {\n",
              "      background-color: #3B4455;\n",
              "      fill: #D2E3FC;\n",
              "    }\n",
              "\n",
              "    [theme=dark] .colab-df-convert:hover {\n",
              "      background-color: #434B5C;\n",
              "      box-shadow: 0px 1px 3px 1px rgba(0, 0, 0, 0.15);\n",
              "      filter: drop-shadow(0px 1px 2px rgba(0, 0, 0, 0.3));\n",
              "      fill: #FFFFFF;\n",
              "    }\n",
              "  </style>\n",
              "\n",
              "      <script>\n",
              "        const buttonEl =\n",
              "          document.querySelector('#df-475b5e07-3511-46bf-af41-893228e073f1 button.colab-df-convert');\n",
              "        buttonEl.style.display =\n",
              "          google.colab.kernel.accessAllowed ? 'block' : 'none';\n",
              "\n",
              "        async function convertToInteractive(key) {\n",
              "          const element = document.querySelector('#df-475b5e07-3511-46bf-af41-893228e073f1');\n",
              "          const dataTable =\n",
              "            await google.colab.kernel.invokeFunction('convertToInteractive',\n",
              "                                                     [key], {});\n",
              "          if (!dataTable) return;\n",
              "\n",
              "          const docLinkHtml = 'Like what you see? Visit the ' +\n",
              "            '<a target=\"_blank\" href=https://colab.research.google.com/notebooks/data_table.ipynb>data table notebook</a>'\n",
              "            + ' to learn more about interactive tables.';\n",
              "          element.innerHTML = '';\n",
              "          dataTable['output_type'] = 'display_data';\n",
              "          await google.colab.output.renderOutput(dataTable, element);\n",
              "          const docLink = document.createElement('div');\n",
              "          docLink.innerHTML = docLinkHtml;\n",
              "          element.appendChild(docLink);\n",
              "        }\n",
              "      </script>\n",
              "    </div>\n",
              "  </div>\n",
              "  "
            ]
          },
          "metadata": {},
          "execution_count": 111
        }
      ],
      "source": [
        "final.head()"
      ]
    },
    {
      "cell_type": "markdown",
      "source": [
        "## Save pre-processed data"
      ],
      "metadata": {
        "id": "jSMgLIKhHUUD"
      }
    },
    {
      "cell_type": "code",
      "execution_count": null,
      "metadata": {
        "id": "1_XuJY8T4VTx"
      },
      "outputs": [],
      "source": [
        "pth = \"/content/drive/MyDrive/Colab Notebooks/NLP/AmazonFineFoodReviews/amazon-fine-food-reviews/final_clean.csv\"\n",
        "final.to_csv(pth)"
      ]
    },
    {
      "cell_type": "code",
      "source": [
        "# final = pd.read_csv(\"/content/drive/MyDrive/Colab Notebooks/NLP/AmazonFineFoodReviews/amazon-fine-food-reviews/final_clean.csv\")"
      ],
      "metadata": {
        "id": "3ZL8g49yWqnq"
      },
      "execution_count": null,
      "outputs": []
    },
    {
      "cell_type": "code",
      "source": [
        "final.head()"
      ],
      "metadata": {
        "id": "kHuMgLAzXLDm",
        "colab": {
          "base_uri": "https://localhost:8080/",
          "height": 739
        },
        "outputId": "617aa323-47f1-454e-85ac-d2e1fd2d3b11"
      },
      "execution_count": null,
      "outputs": [
        {
          "output_type": "execute_result",
          "data": {
            "text/plain": [
              "   Unnamed: 0      Id   ProductId          UserId  \\\n",
              "0      150492  150493  0006641040   AMX0PJKV4PPNJ   \n",
              "1      150493  150494  0006641040   AYZ0PR5QZROD1   \n",
              "2      150495  150496  0006641040  A3KKR87BJ0C595   \n",
              "3      150496  150497  0006641040  A1HKYQOFC8ZZCH   \n",
              "4      150497  150498  0006641040  A3SJWISOCP31TR   \n",
              "\n",
              "                                     ProfileName  HelpfulnessNumerator  \\\n",
              "0                       E. R. Bird \"Ramseelbird\"                    71   \n",
              "1                              Mother of 3 girls                     3   \n",
              "2  Gretchen Goodfellow \"Lover of children's lit\"                     3   \n",
              "3                     Maria Apolloni \"lanarossa\"                     2   \n",
              "4                                    R. J. Wells                     2   \n",
              "\n",
              "   HelpfulnessDenominator  Score        Time  \\\n",
              "0                      72      1  1096416000   \n",
              "1                       3      1  1173312000   \n",
              "2                       3      1  1111363200   \n",
              "3                       2      0  1334707200   \n",
              "4                       2      1  1176336000   \n",
              "\n",
              "                                             Summary  \\\n",
              "0  Read it once. Read it twice. Reading Chicken S...   \n",
              "1                                    Family favorite   \n",
              "2            You'll use it once, you'll use it twice   \n",
              "3  The story is great, the softcover book is disa...   \n",
              "4                                    A Gem of a Book   \n",
              "\n",
              "                                                Text  \\\n",
              "0  These days, when a person says, \"chicken soup\"...   \n",
              "1  All of my children love this book.  My first g...   \n",
              "2  One of my earliest memories is of this book.  ...   \n",
              "3  I give five stars to the Maurice Sendak story....   \n",
              "4  This is a wonderful little book. I loved it 40...   \n",
              "\n",
              "                                        clean_review  \n",
              "0  day person say chicken soup probably go follow...  \n",
              "1  child love book first grader get christmas lov...  \n",
              "2  one early memory book mother read us constantl...  \n",
              "3  give five star maurice sendak story one star p...  \n",
              "4  wonderful little book love year ago twin love ...  "
            ],
            "text/html": [
              "\n",
              "  <div id=\"df-29a0fd5f-7783-4ca7-add4-2644043c88a0\">\n",
              "    <div class=\"colab-df-container\">\n",
              "      <div>\n",
              "<style scoped>\n",
              "    .dataframe tbody tr th:only-of-type {\n",
              "        vertical-align: middle;\n",
              "    }\n",
              "\n",
              "    .dataframe tbody tr th {\n",
              "        vertical-align: top;\n",
              "    }\n",
              "\n",
              "    .dataframe thead th {\n",
              "        text-align: right;\n",
              "    }\n",
              "</style>\n",
              "<table border=\"1\" class=\"dataframe\">\n",
              "  <thead>\n",
              "    <tr style=\"text-align: right;\">\n",
              "      <th></th>\n",
              "      <th>Unnamed: 0</th>\n",
              "      <th>Id</th>\n",
              "      <th>ProductId</th>\n",
              "      <th>UserId</th>\n",
              "      <th>ProfileName</th>\n",
              "      <th>HelpfulnessNumerator</th>\n",
              "      <th>HelpfulnessDenominator</th>\n",
              "      <th>Score</th>\n",
              "      <th>Time</th>\n",
              "      <th>Summary</th>\n",
              "      <th>Text</th>\n",
              "      <th>clean_review</th>\n",
              "    </tr>\n",
              "  </thead>\n",
              "  <tbody>\n",
              "    <tr>\n",
              "      <th>0</th>\n",
              "      <td>150492</td>\n",
              "      <td>150493</td>\n",
              "      <td>0006641040</td>\n",
              "      <td>AMX0PJKV4PPNJ</td>\n",
              "      <td>E. R. Bird \"Ramseelbird\"</td>\n",
              "      <td>71</td>\n",
              "      <td>72</td>\n",
              "      <td>1</td>\n",
              "      <td>1096416000</td>\n",
              "      <td>Read it once. Read it twice. Reading Chicken S...</td>\n",
              "      <td>These days, when a person says, \"chicken soup\"...</td>\n",
              "      <td>day person say chicken soup probably go follow...</td>\n",
              "    </tr>\n",
              "    <tr>\n",
              "      <th>1</th>\n",
              "      <td>150493</td>\n",
              "      <td>150494</td>\n",
              "      <td>0006641040</td>\n",
              "      <td>AYZ0PR5QZROD1</td>\n",
              "      <td>Mother of 3 girls</td>\n",
              "      <td>3</td>\n",
              "      <td>3</td>\n",
              "      <td>1</td>\n",
              "      <td>1173312000</td>\n",
              "      <td>Family favorite</td>\n",
              "      <td>All of my children love this book.  My first g...</td>\n",
              "      <td>child love book first grader get christmas lov...</td>\n",
              "    </tr>\n",
              "    <tr>\n",
              "      <th>2</th>\n",
              "      <td>150495</td>\n",
              "      <td>150496</td>\n",
              "      <td>0006641040</td>\n",
              "      <td>A3KKR87BJ0C595</td>\n",
              "      <td>Gretchen Goodfellow \"Lover of children's lit\"</td>\n",
              "      <td>3</td>\n",
              "      <td>3</td>\n",
              "      <td>1</td>\n",
              "      <td>1111363200</td>\n",
              "      <td>You'll use it once, you'll use it twice</td>\n",
              "      <td>One of my earliest memories is of this book.  ...</td>\n",
              "      <td>one early memory book mother read us constantl...</td>\n",
              "    </tr>\n",
              "    <tr>\n",
              "      <th>3</th>\n",
              "      <td>150496</td>\n",
              "      <td>150497</td>\n",
              "      <td>0006641040</td>\n",
              "      <td>A1HKYQOFC8ZZCH</td>\n",
              "      <td>Maria Apolloni \"lanarossa\"</td>\n",
              "      <td>2</td>\n",
              "      <td>2</td>\n",
              "      <td>0</td>\n",
              "      <td>1334707200</td>\n",
              "      <td>The story is great, the softcover book is disa...</td>\n",
              "      <td>I give five stars to the Maurice Sendak story....</td>\n",
              "      <td>give five star maurice sendak story one star p...</td>\n",
              "    </tr>\n",
              "    <tr>\n",
              "      <th>4</th>\n",
              "      <td>150497</td>\n",
              "      <td>150498</td>\n",
              "      <td>0006641040</td>\n",
              "      <td>A3SJWISOCP31TR</td>\n",
              "      <td>R. J. Wells</td>\n",
              "      <td>2</td>\n",
              "      <td>2</td>\n",
              "      <td>1</td>\n",
              "      <td>1176336000</td>\n",
              "      <td>A Gem of a Book</td>\n",
              "      <td>This is a wonderful little book. I loved it 40...</td>\n",
              "      <td>wonderful little book love year ago twin love ...</td>\n",
              "    </tr>\n",
              "  </tbody>\n",
              "</table>\n",
              "</div>\n",
              "      <button class=\"colab-df-convert\" onclick=\"convertToInteractive('df-29a0fd5f-7783-4ca7-add4-2644043c88a0')\"\n",
              "              title=\"Convert this dataframe to an interactive table.\"\n",
              "              style=\"display:none;\">\n",
              "        \n",
              "  <svg xmlns=\"http://www.w3.org/2000/svg\" height=\"24px\"viewBox=\"0 0 24 24\"\n",
              "       width=\"24px\">\n",
              "    <path d=\"M0 0h24v24H0V0z\" fill=\"none\"/>\n",
              "    <path d=\"M18.56 5.44l.94 2.06.94-2.06 2.06-.94-2.06-.94-.94-2.06-.94 2.06-2.06.94zm-11 1L8.5 8.5l.94-2.06 2.06-.94-2.06-.94L8.5 2.5l-.94 2.06-2.06.94zm10 10l.94 2.06.94-2.06 2.06-.94-2.06-.94-.94-2.06-.94 2.06-2.06.94z\"/><path d=\"M17.41 7.96l-1.37-1.37c-.4-.4-.92-.59-1.43-.59-.52 0-1.04.2-1.43.59L10.3 9.45l-7.72 7.72c-.78.78-.78 2.05 0 2.83L4 21.41c.39.39.9.59 1.41.59.51 0 1.02-.2 1.41-.59l7.78-7.78 2.81-2.81c.8-.78.8-2.07 0-2.86zM5.41 20L4 18.59l7.72-7.72 1.47 1.35L5.41 20z\"/>\n",
              "  </svg>\n",
              "      </button>\n",
              "      \n",
              "  <style>\n",
              "    .colab-df-container {\n",
              "      display:flex;\n",
              "      flex-wrap:wrap;\n",
              "      gap: 12px;\n",
              "    }\n",
              "\n",
              "    .colab-df-convert {\n",
              "      background-color: #E8F0FE;\n",
              "      border: none;\n",
              "      border-radius: 50%;\n",
              "      cursor: pointer;\n",
              "      display: none;\n",
              "      fill: #1967D2;\n",
              "      height: 32px;\n",
              "      padding: 0 0 0 0;\n",
              "      width: 32px;\n",
              "    }\n",
              "\n",
              "    .colab-df-convert:hover {\n",
              "      background-color: #E2EBFA;\n",
              "      box-shadow: 0px 1px 2px rgba(60, 64, 67, 0.3), 0px 1px 3px 1px rgba(60, 64, 67, 0.15);\n",
              "      fill: #174EA6;\n",
              "    }\n",
              "\n",
              "    [theme=dark] .colab-df-convert {\n",
              "      background-color: #3B4455;\n",
              "      fill: #D2E3FC;\n",
              "    }\n",
              "\n",
              "    [theme=dark] .colab-df-convert:hover {\n",
              "      background-color: #434B5C;\n",
              "      box-shadow: 0px 1px 3px 1px rgba(0, 0, 0, 0.15);\n",
              "      filter: drop-shadow(0px 1px 2px rgba(0, 0, 0, 0.3));\n",
              "      fill: #FFFFFF;\n",
              "    }\n",
              "  </style>\n",
              "\n",
              "      <script>\n",
              "        const buttonEl =\n",
              "          document.querySelector('#df-29a0fd5f-7783-4ca7-add4-2644043c88a0 button.colab-df-convert');\n",
              "        buttonEl.style.display =\n",
              "          google.colab.kernel.accessAllowed ? 'block' : 'none';\n",
              "\n",
              "        async function convertToInteractive(key) {\n",
              "          const element = document.querySelector('#df-29a0fd5f-7783-4ca7-add4-2644043c88a0');\n",
              "          const dataTable =\n",
              "            await google.colab.kernel.invokeFunction('convertToInteractive',\n",
              "                                                     [key], {});\n",
              "          if (!dataTable) return;\n",
              "\n",
              "          const docLinkHtml = 'Like what you see? Visit the ' +\n",
              "            '<a target=\"_blank\" href=https://colab.research.google.com/notebooks/data_table.ipynb>data table notebook</a>'\n",
              "            + ' to learn more about interactive tables.';\n",
              "          element.innerHTML = '';\n",
              "          dataTable['output_type'] = 'display_data';\n",
              "          await google.colab.output.renderOutput(dataTable, element);\n",
              "          const docLink = document.createElement('div');\n",
              "          docLink.innerHTML = docLinkHtml;\n",
              "          element.appendChild(docLink);\n",
              "        }\n",
              "      </script>\n",
              "    </div>\n",
              "  </div>\n",
              "  "
            ]
          },
          "metadata": {},
          "execution_count": 15
        }
      ]
    },
    {
      "cell_type": "markdown",
      "metadata": {
        "id": "0Fj7dqIAx5x9"
      },
      "source": [
        "## EDA"
      ]
    },
    {
      "cell_type": "code",
      "execution_count": null,
      "metadata": {
        "id": "kLZuw0-qx5zi"
      },
      "outputs": [],
      "source": [
        "class EDA:\n",
        "  def __init__(self, df, col):\n",
        "    self.df = df\n",
        "    self.col = col\n",
        "    # col = 'clean_review'\n",
        "    self.word_freq = self.df[col].apply(self.check_word_frequency)\n",
        "    self.WORDS = self.get_all_words()\n",
        "\n",
        "  def get_all_words(self):\n",
        "    WORDS = self.df[self.col].str.split().values.tolist()\n",
        "    WORDS = [w for seq in WORDS for w in seq]    # list of all words from corpus\n",
        "    return WORDS\n",
        "\n",
        "  def check_word_frequency(self, text):\n",
        "      return len(str(text).split(' '))\n",
        "\n",
        "  def plot_word_counts(self):\n",
        "      sns.set_style('darkgrid')\n",
        "      fig = plt.figure(figsize=(10,5))\n",
        "\n",
        "      plt.hist(self.word_freq, bins=40, color='#30105C')\n",
        "      \n",
        "      plt.title('Distribution - Word Frequency', fontsize=16)\n",
        "      plt.xlabel('Word Frequncy', fontsize=12)\n",
        "      plt.ylabel('Frequency', fontsize=12)\n",
        "      plt.show()\n",
        "\n",
        "  def find_ngram(self, word, n):\n",
        "      word_fd = nltk.FreqDist(word)\n",
        "      n_gram_fd = nltk.FreqDist(nltk.ngrams(word, n))\n",
        "      return word_fd, n_gram_fd\n",
        "\n",
        "  def ngram_plot(self, n):\n",
        "    unigram_word_fd, unigram = self.find_ngram(self.WORDS, n)\n",
        "    pd.DataFrame(unigram.most_common(30), columns = ['word', 'count']).plot.barh(x = 'word', figsize=(10, 12))\n",
        "    plt.show()\n",
        "    # print(unigram.most_common(20))\n"
      ]
    },
    {
      "cell_type": "code",
      "execution_count": null,
      "metadata": {
        "id": "_RPyzZPSEuF0"
      },
      "outputs": [],
      "source": [
        "col = 'clean_review'\n",
        "eda_obj = EDA(final, col)"
      ]
    },
    {
      "cell_type": "code",
      "source": [
        "final['Score'].value_counts().plot(kind='bar')\n",
        "plt.xlabel(\"Rating\")\n",
        "plt.ylabel(\"People Count\")\n",
        "plt.show()"
      ],
      "metadata": {
        "colab": {
          "base_uri": "https://localhost:8080/",
          "height": 276
        },
        "id": "ImEXlR2XEJ8M",
        "outputId": "31221890-a71b-4ad5-b4b9-8e0b14d26554"
      },
      "execution_count": null,
      "outputs": [
        {
          "output_type": "display_data",
          "data": {
            "text/plain": [
              "<Figure size 432x288 with 1 Axes>"
            ],
            "image/png": "[encoded data removed]"
          },
          "metadata": {
            "needs_background": "light"
          }
        }
      ]
    },
    {
      "cell_type": "code",
      "source": [
        "final['Score'].value_counts()"
      ],
      "metadata": {
        "colab": {
          "base_uri": "https://localhost:8080/"
        },
        "id": "ZBSThe-HEMIY",
        "outputId": "46f75456-eb8f-4790-bfcd-54c738bab459"
      },
      "execution_count": null,
      "outputs": [
        {
          "output_type": "execute_result",
          "data": {
            "text/plain": [
              "0    307929\n",
              "1     57359\n",
              "Name: Score, dtype: int64"
            ]
          },
          "metadata": {},
          "execution_count": 265
        }
      ]
    },
    {
      "cell_type": "markdown",
      "metadata": {
        "id": "rEXYo1ENF5n3"
      },
      "source": [
        "### Distribution - Word Frequency"
      ]
    },
    {
      "cell_type": "code",
      "execution_count": null,
      "metadata": {
        "colab": {
          "base_uri": "https://localhost:8080/",
          "height": 355
        },
        "id": "cD6PT1G-x51I",
        "outputId": "798827fc-5b27-43dd-bcb3-eb055890dfd9"
      },
      "outputs": [
        {
          "output_type": "display_data",
          "data": {
            "text/plain": [
              "<Figure size 720x360 with 1 Axes>"
            ],
            "image/png": "[encoded data removed]"
          },
          "metadata": {}
        }
      ],
      "source": [
        "eda_obj.plot_word_counts()"
      ]
    },
    {
      "cell_type": "markdown",
      "metadata": {
        "id": "_V3TjbEZFpWT"
      },
      "source": [
        "### Plot for unigram"
      ]
    },
    {
      "cell_type": "code",
      "execution_count": null,
      "metadata": {
        "colab": {
          "base_uri": "https://localhost:8080/",
          "height": 700
        },
        "id": "bz9uluBux527",
        "outputId": "ac159a65-0b28-4b15-cd07-4ee35a7cdf4b"
      },
      "outputs": [
        {
          "output_type": "display_data",
          "data": {
            "text/plain": [
              "<Figure size 720x864 with 1 Axes>"
            ],
            "image/png": "[encoded data removed]"
          },
          "metadata": {}
        }
      ],
      "source": [
        "eda_obj.ngram_plot(1)"
      ]
    },
    {
      "cell_type": "markdown",
      "metadata": {
        "id": "3MsqmdcDFtDs"
      },
      "source": [
        "### Plot for bigram"
      ]
    },
    {
      "cell_type": "code",
      "execution_count": null,
      "metadata": {
        "colab": {
          "base_uri": "https://localhost:8080/",
          "height": 700
        },
        "id": "6x1Lp4xNx54R",
        "outputId": "7a9d58f6-e8d6-4942-d8d7-b6ff78e4cf5d"
      },
      "outputs": [
        {
          "output_type": "display_data",
          "data": {
            "text/plain": [
              "<Figure size 720x864 with 1 Axes>"
            ],
            "image/png": "[encoded data removed]"
          },
          "metadata": {}
        }
      ],
      "source": [
        "eda_obj.ngram_plot(2)"
      ]
    },
    {
      "cell_type": "markdown",
      "metadata": {
        "id": "gGb8GRkCx56L"
      },
      "source": [
        "### Plot for trigram"
      ]
    },
    {
      "cell_type": "code",
      "execution_count": null,
      "metadata": {
        "colab": {
          "base_uri": "https://localhost:8080/",
          "height": 700
        },
        "id": "gu9JxHqJx579",
        "outputId": "9500d175-a20c-4492-c270-05553f454fd2"
      },
      "outputs": [
        {
          "output_type": "display_data",
          "data": {
            "text/plain": [
              "<Figure size 720x864 with 1 Axes>"
            ],
            "image/png": "[encoded data removed]"
          },
          "metadata": {}
        }
      ],
      "source": [
        "eda_obj.ngram_plot(3)"
      ]
    },
    {
      "cell_type": "code",
      "execution_count": null,
      "metadata": {
        "id": "fAHtGL3fx59q"
      },
      "outputs": [],
      "source": [
        "from imblearn.over_sampling import SMOTE\n",
        "from imblearn import over_sampling"
      ]
    },
    {
      "cell_type": "markdown",
      "source": [
        "## Map score"
      ],
      "metadata": {
        "id": "3-HhHX38u54E"
      }
    },
    {
      "cell_type": "code",
      "source": [
        "final = final.dropna(subset=['clean_review'])\n",
        "final['Score'] = final['Score'].map({1:'pos', 0:'neg'})\n",
        "final['Score'] = final['Score'].map({'pos':0, 'neg':1})"
      ],
      "metadata": {
        "id": "M5duUCHnu5PC"
      },
      "execution_count": null,
      "outputs": []
    },
    {
      "cell_type": "markdown",
      "metadata": {
        "id": "l-a-xxdax6BU"
      },
      "source": [
        "## Splitting the data into train & test data"
      ]
    },
    {
      "cell_type": "code",
      "source": [],
      "metadata": {
        "id": "fqj4O1YLu3FJ"
      },
      "execution_count": null,
      "outputs": []
    },
    {
      "cell_type": "code",
      "execution_count": null,
      "metadata": {
        "id": "u2YSF4d6OD_i"
      },
      "outputs": [],
      "source": [
        "class Feature:\n",
        "  def __init__(self, X, y):\n",
        "    # self.df = df\n",
        "    self.X = X\n",
        "    self.y = y\n",
        "    self.random_state = 42\n",
        "\n",
        "    self.word_vectorizer, self.vectorized_df = self.vectorizer_def(self.X)\n",
        "    self.X_train, self.X_test, self.y_train, self.y_test = self.split_data(X, y)\n",
        "    # self.X_train_transformed, self.X_test_transformed = transform_x_data(self.X_train, self.X_test)\n",
        "\n",
        "  def vectorizer_def(self, X):\n",
        "    word_vectorizer = TfidfVectorizer(\n",
        "        strip_accents='unicode',    # Remove accents and perform other character normalization during the preprocessing step. \n",
        "        analyzer='word',            # Whether the feature should be made of word or character n-grams.\n",
        "        token_pattern=r'\\w{1,}',    # Regular expression denoting what constitutes a “token”, only used if analyzer == 'word'\n",
        "        ngram_range=(1, 2),         # The lower and upper boundary of the range of n-values for different n-grams to be extracted\n",
        "        stop_words='english',\n",
        "        min_df=20,\n",
        "        max_features=5000,\n",
        "        sublinear_tf=True)\n",
        "\n",
        "    word_vectorizer.fit(X)    # Fiting it on Train\n",
        "    vectorized_df = word_vectorizer.transform(X)\n",
        "    return word_vectorizer, vectorized_df\n",
        "\n",
        "  def transform_x_data(self, X_train, X_test):\n",
        "      ## transforming the train and test datasets\n",
        "      X_train_transformed = self.word_vectorizer.transform(X_train.tolist())\n",
        "      X_test_transformed = self.word_vectorizer.transform(X_test.tolist())\n",
        "      return X_train_transformed, X_test_transformed\n",
        "\n",
        "  def ros_sample(self, x, y):\n",
        "    ros = RandomOverSampler(random_state=self.random_state)\n",
        "    X_ROS, y_ROS = ros.fit_resample(x, y)\n",
        "    # X_train, x_test, Y_train, y_test = self.split_data(X_ROS, y_ROS)\n",
        "    return X_ROS, y_ROS\n",
        "\n",
        "  def smote_sample(self, x, y):\n",
        "    ros = SMOTE(random_state=self.random_state)\n",
        "    X_smote, y_smote = ros.fit_resample(x, y)\n",
        "    # X_train, x_test, Y_train, y_test = self.split_data(X_smote, y_smote)\n",
        "    return X_smote, y_smote\n",
        "\n",
        "  def split_data(self, x, y):\n",
        "    X_train, X_test, y_train, y_test = train_test_split(x, y, stratify=y, test_size=0.2, random_state=self.random_state)\n",
        "    return X_train, X_test, y_train, y_test\n"
      ]
    },
    {
      "cell_type": "code",
      "execution_count": null,
      "metadata": {
        "id": "IdY1iYMqWRpR"
      },
      "outputs": [],
      "source": [
        "x = final[['clean_review','Time']].sort_values('Time', axis=0).drop('Time', axis=1)\n",
        "\n",
        "y = final[['Score','Time']].sort_values('Time', axis=0).drop('Time', axis=1)\n",
        "\n",
        "x = x['clean_review'] \n",
        "y = y['Score']\n",
        "\n",
        "def print_shape(X_train_, X_test_, y_train_, y_test_):\n",
        "  print(\"X_train shape:\", X_train_.shape)\n",
        "  print(\"y_train shape:\", y_train_.shape)\n",
        "  print(\"--\"*20)\n",
        "  print(\"X_test shape:\", X_test_.shape)\n",
        "  print(\"y_test shape:\", y_test_.shape)"
      ]
    },
    {
      "cell_type": "code",
      "execution_count": null,
      "metadata": {
        "id": "kejvn7-FVxLY"
      },
      "outputs": [],
      "source": [
        "feature_obj = Feature(x, y)"
      ]
    },
    {
      "cell_type": "code",
      "execution_count": null,
      "metadata": {
        "id": "qR_Jep2_Sn2E"
      },
      "outputs": [],
      "source": [
        "X_train_, X_test_, y_train, y_test = feature_obj.X_train, feature_obj.X_test, feature_obj.y_train, feature_obj.y_test"
      ]
    },
    {
      "cell_type": "code",
      "source": [
        "print_shape(X_train_, X_test_, y_train, y_test)"
      ],
      "metadata": {
        "colab": {
          "base_uri": "https://localhost:8080/"
        },
        "id": "z1UXHZ4ZFH5c",
        "outputId": "9b6f300a-2e3b-4aab-bd71-8bc16fcd0a69"
      },
      "execution_count": null,
      "outputs": [
        {
          "output_type": "stream",
          "name": "stdout",
          "text": [
            "X_train shape: (292230,)\n",
            "y_train shape: (292230,)\n",
            "----------------------------------------\n",
            "X_test shape: (73058,)\n",
            "y_test shape: (73058,)\n"
          ]
        }
      ]
    },
    {
      "cell_type": "markdown",
      "metadata": {
        "id": "U1Eum3K5csIH"
      },
      "source": [
        "### TF-IDF"
      ]
    },
    {
      "cell_type": "code",
      "execution_count": null,
      "metadata": {
        "colab": {
          "base_uri": "https://localhost:8080/"
        },
        "id": "46Vi90SSarno",
        "outputId": "a7829348-d565-4846-e863-4998e236f9b1"
      },
      "outputs": [
        {
          "output_type": "stream",
          "name": "stdout",
          "text": [
            "X_train shape: (292230, 5000)\n",
            "y_train shape: (292230,)\n",
            "----------------------------------------\n",
            "X_test shape: (73058, 5000)\n",
            "y_test shape: (73058,)\n"
          ]
        }
      ],
      "source": [
        "X_train, X_test = feature_obj.transform_x_data(X_train_, X_test_)\n",
        "print_shape(X_train, X_test, y_train, y_test)"
      ]
    },
    {
      "cell_type": "code",
      "source": [
        "from sklearn.preprocessing import StandardScaler"
      ],
      "metadata": {
        "id": "a6BrdXpjG0qR"
      },
      "execution_count": null,
      "outputs": []
    },
    {
      "cell_type": "code",
      "source": [
        "# sc = StandardScaler(with_mean=False)\n",
        "# X_train_bow = sc.fit_transform(X_train)\n",
        "\n",
        "# X_train_bow.toarray()"
      ],
      "metadata": {
        "id": "4HSu4gz1GyZq"
      },
      "execution_count": null,
      "outputs": []
    },
    {
      "cell_type": "markdown",
      "metadata": {
        "id": "3NfF8vQsOECL"
      },
      "source": [
        "### ROS"
      ]
    },
    {
      "cell_type": "code",
      "execution_count": null,
      "metadata": {
        "id": "tiv8QICkx6DQ"
      },
      "outputs": [],
      "source": [
        "# # X_train_ros, X_test_ros, y_train_ros, y_test_ros = feature_obj.ros_sample(feature_obj.vectorized_df, y)\n",
        "# X_train_ros, y_train_ros = feature_obj.ros_sample(X_train, y_train)\n",
        "# X_test_ros, y_test_ros = X_test, y_test"
      ]
    },
    {
      "cell_type": "code",
      "execution_count": null,
      "metadata": {
        "id": "mFTMFnqfajMr"
      },
      "outputs": [],
      "source": [
        "# print_shape(X_train_ros, X_test_ros, y_train_ros, y_test_ros)"
      ]
    },
    {
      "cell_type": "markdown",
      "metadata": {
        "id": "gqq6awZvaQng"
      },
      "source": [
        "### SMOTE"
      ]
    },
    {
      "cell_type": "code",
      "execution_count": null,
      "metadata": {
        "id": "5ZhjV3gMx6FR"
      },
      "outputs": [],
      "source": [
        "# # X_train_smote, X_test_smote, y_train_smote, y_test_smote = feature_obj.smote_sample(feature_obj.vectorized_df, y)\n",
        "# X_train_smote, y_train_smote = feature_obj.smote_sample(X_train, y_train)\n",
        "# X_test_smote, y_test_smote = X_test, y_test"
      ]
    },
    {
      "cell_type": "code",
      "execution_count": null,
      "metadata": {
        "id": "lU2ZS4-ax6G-"
      },
      "outputs": [],
      "source": [
        "# print_shape(X_train_smote, X_test_smote, y_train_smote, y_test_smote)"
      ]
    },
    {
      "cell_type": "markdown",
      "source": [
        "## Plots"
      ],
      "metadata": {
        "id": "Bcp_loI7I8bK"
      }
    },
    {
      "cell_type": "code",
      "source": [
        "def senisitivity_specificity_report(model_instance, X_train, y_train):\n",
        "    '''\n",
        "    This method calculates accuracy sensitivity and specificity for various probability cutoffs.\n",
        "    '''\n",
        "\n",
        "    cutoff_df = pd.DataFrame( columns = ['prob','accuracy','sensi','speci', 'recall', 'precision', 'f1'])\n",
        "\n",
        "    y_train_proba = model_instance.predict_proba(X_train)[:, 1]\n",
        "\n",
        "    y_train_pred_final = pd.DataFrame({'Score':y_train, 'Score_Prob':y_train_proba})\n",
        "\n",
        "    num = [0.0,0.1,0.2,0.3,0.4,0.5,0.6,0.7,0.8,0.9]\n",
        "\n",
        "    for i in num:\n",
        "        y_train_pred_final[i] = y_train_pred_final['Score_Prob'].map(lambda x: 1 if x > i else 0)\n",
        "\n",
        "    for i in num:\n",
        "        accuracy, speci, sensi, precision, f1 = calcualte_sensi_speci(y_train, y_train_pred_final[i])\n",
        "        cutoff_df.loc[i] = [i, accuracy, sensi, speci, sensi, precision, f1]\n",
        "\n",
        "    print(cutoff_df)\n",
        "    \n",
        "    return cutoff_df\n",
        "\n",
        "def calcualte_sensi_speci(y, y_predicted):\n",
        "    '''\n",
        "    This calculates the accuracy, specificity and sensitivity\n",
        "    '''\n",
        "    confusion = confusion_matrix(y, y_predicted)\n",
        "    TP = confusion[1,1] # true positive \n",
        "    TN = confusion[0,0] # true negatives\n",
        "    FP = confusion[0,1] # false positives\n",
        "    FN = confusion[1,0] # false negatives\n",
        "    \n",
        "    recall = round(TP / float(TP+FN), 3)\n",
        "    precision = round(TP / float(TP+FP), 3)\n",
        "    \n",
        "    sensitivity = round(TP / float(TP+FN), 3)\n",
        "    specificity = round(TN / float(TN+FP), 3)\n",
        "    accuracy = round((TP+TN)/(TP+TN+FP+FN), 3)\n",
        "\n",
        "    f1 = round(2*(precision*recall)/(precision+recall), 3)\n",
        "    \n",
        "    return accuracy, specificity, sensitivity, precision, f1\n",
        "\n",
        "def sensi_speci_trade_off(df, x, y, x1, y1):\n",
        "    '''\n",
        "    This method plots accuracy sensitivity and specificity for various probabilities.\n",
        "    '''\n",
        "    plt.figure(figsize=(12, 5))\n",
        "    # df.plot.line(x='prob', y=['accuracy','sensi','speci'])\n",
        "    # # plt.plot(x='prob', y=['accuracy','sensi','speci'], data=df)\n",
        "    # plt.vlines(x=x, ymax=1, ymin=0, colors=\"r\", linestyles=\"--\")\n",
        "    # plt.hlines(y=y, xmax=0.99, xmin=0, colors=\"g\", linestyles=\"--\")\n",
        "    # plt.show()\n",
        "\n",
        "    plt.subplot(1, 2, 1)\n",
        "    plt.plot(df['prob'], df['accuracy'], label='accuracy')\n",
        "    plt.plot(df['prob'], df['sensi'], label='sensi')\n",
        "    plt.plot(df['prob'], df['speci'], label='speci')\n",
        "    plt.vlines(x=x, ymax=1, ymin=0, colors=\"r\", linestyles=\"--\")\n",
        "    plt.hlines(y=y, xmax=0.99, xmin=0, colors=\"g\", linestyles=\"--\")\n",
        "    plt.legend()\n",
        "\n",
        "    plt.subplot(1, 2, 2)\n",
        "    plt.plot(df['prob'], df['precision'], label='precision')\n",
        "    plt.plot(df['prob'], df['recall'], label='recall')\n",
        "    plt.plot(df['prob'], df['f1'], label='f1')\n",
        "    plt.vlines(x=x1, ymax=1, ymin=0, colors=\"r\", linestyles=\"--\")\n",
        "    plt.hlines(y=y1, xmax=0.99, xmin=0, colors=\"g\", linestyles=\"--\")\n",
        "    plt.legend()\n",
        "    \n",
        "    plt.show()\n",
        "\n",
        "    print(f'\\nOptimal Threshold probability = {x1}')\n",
        "\n",
        "    return x1\n",
        "\n",
        "def plot_confusion_matrix1(threshold, model_instance, X_test, y_test):\n",
        "    '''\n",
        "    This method plots confusion matrix.\n",
        "    '''\n",
        "    y_test_proba = model_instance.predict_proba(X_test)[:, 1]\n",
        "    y_test_predicted = pd.Series(y_test_proba).map(lambda x: 1 if x > threshold else 0)\n",
        "\n",
        "    y_actual = y_test\n",
        "    y_pred = y_test_predicted\n",
        "    accuracy = accuracy_score(y_actual, y_pred)\n",
        "    print(\"Accuracy\", \"{:2.3}\".format(accuracy))\n",
        "\n",
        "    conf_matrix = confusion_matrix(y_actual, y_pred)\n",
        "\n",
        "    # # fig, ax = plt.subplots(figsize=(4, 4))\n",
        "    # sentiment_classes = ['Positive', 'Negative']\n",
        "    # sns.heatmap(conf_matrix, cmap=plt.cm.Blues, annot=True, fmt='d', \n",
        "    #             xticklabels=sentiment_classes,\n",
        "    #             yticklabels=sentiment_classes)\n",
        "\n",
        "    # plt.xlabel('Predictions')\n",
        "    # plt.ylabel('Actuals')\n",
        "    # plt.title('Confusion Matrix', fontsize=12)\n",
        "    # plt.show()\n",
        "\n",
        "    disp = ConfusionMatrixDisplay(confusion_matrix=conf_matrix, display_labels=['Positive', 'Negative'])\n",
        "    disp.plot()\n",
        "    plt.grid(False)\n",
        "    plt.show()\n",
        "\n",
        "    print(classification_report(y_pred, y_actual, target_names=['Positive', 'Negative']))\n",
        "    \n"
      ],
      "metadata": {
        "id": "j_JOrTWWI9C2"
      },
      "execution_count": null,
      "outputs": []
    },
    {
      "cell_type": "markdown",
      "metadata": {
        "id": "nqlDm4RWx6Nz"
      },
      "source": [
        "## Model"
      ]
    },
    {
      "cell_type": "code",
      "execution_count": null,
      "metadata": {
        "id": "K_8CaToV2J0O"
      },
      "outputs": [],
      "source": [
        "from sklearn.metrics import confusion_matrix, ConfusionMatrixDisplay\n",
        "\n",
        "def pred_score(model, x_, y_, plot=True):\n",
        "  # Prediction Train Data\n",
        "  y_pred = model.predict(x_)\n",
        "  #Model Performance on Train Dataset\n",
        "  print(\"Accuracy\", accuracy_score(y_pred, y_))\n",
        "  print(classification_report(y_pred, y_, target_names=['Positive', 'Negative']))\n",
        "  if plot:\n",
        "    plot_confusion_matrix(model, x_, y_)\n",
        "\n",
        "def plot_confusion_matrix(model, X_test_, y_test_):\n",
        "    '''Function to plot confusion matrix for the passed model and the data'''\n",
        "    \n",
        "    sentiment_classes = ['1', '2', '3', '4', '5']\n",
        "    # use model to do the prediction\n",
        "    y_pred = model.predict(X_test_)\n",
        "    # compute confusion matrix\n",
        "    cm = confusion_matrix(y_test_, y_pred, labels=model.classes_)\n",
        "    # plot confusion matrix\n",
        "    disp = ConfusionMatrixDisplay(confusion_matrix=cm, display_labels=['Positive', 'Negative'])\n",
        "    disp.plot()\n",
        "    plt.grid(False)\n",
        "    plt.show()\n",
        "    # sns.heatmap(cm, cmap=plt.cm.Blues, annot=True, fmt='d',\n",
        "    #             xticklabels=sentiment_classes,\n",
        "    #             yticklabels=sentiment_classes)\n",
        "    # plt.title('Confusion matrix', fontsize=16)\n",
        "    # plt.ylabel('Actual label', fontsize=12)\n",
        "    # plt.xlabel('Predicted label', fontsize=12)"
      ]
    },
    {
      "cell_type": "markdown",
      "metadata": {
        "id": "iuUn0x_Bx6Pq"
      },
      "source": [
        "### Logistic Regression"
      ]
    },
    {
      "cell_type": "markdown",
      "metadata": {
        "id": "OFCIbPXF4_xR"
      },
      "source": [
        "#### Logistic Regression"
      ]
    },
    {
      "cell_type": "code",
      "execution_count": null,
      "metadata": {
        "colab": {
          "base_uri": "https://localhost:8080/"
        },
        "id": "zRy_I0GBx6Rc",
        "outputId": "f51ca3fb-399e-4726-d994-e27c7aa8e972"
      },
      "outputs": [
        {
          "output_type": "stream",
          "name": "stdout",
          "text": [
            "Time Taken: 7.26 seconds\n"
          ]
        }
      ],
      "source": [
        "time1 = time.time()\n",
        "\n",
        "lr = LogisticRegression()\n",
        "lr = LogisticRegression(class_weight='balanced', solver='liblinear', random_state=123)\n",
        "lr.fit(X_train, y_train)\n",
        "\n",
        "time_taken = time.time() - time1\n",
        "print('Time Taken: {:.2f} seconds'.format(time_taken))"
      ]
    },
    {
      "cell_type": "code",
      "execution_count": null,
      "metadata": {
        "colab": {
          "base_uri": "https://localhost:8080/"
        },
        "id": "PVjPxV8o0H5S",
        "outputId": "7c7a68ec-6a14-4ac1-8f04-a1be500c22ff"
      },
      "outputs": [
        {
          "output_type": "stream",
          "name": "stdout",
          "text": [
            "Accuracy 0.8930191972076789\n",
            "              precision    recall  f1-score   support\n",
            "\n",
            "    Positive       0.89      0.98      0.93    224608\n",
            "    Negative       0.90      0.61      0.72     67622\n",
            "\n",
            "    accuracy                           0.89    292230\n",
            "   macro avg       0.89      0.79      0.83    292230\n",
            "weighted avg       0.89      0.89      0.89    292230\n",
            "\n"
          ]
        }
      ],
      "source": [
        "pred_score(lr, X_train, y_train, plot=False)"
      ]
    },
    {
      "cell_type": "code",
      "execution_count": null,
      "metadata": {
        "colab": {
          "base_uri": "https://localhost:8080/",
          "height": 453
        },
        "id": "Y27wAyCXeBBG",
        "outputId": "053cffb7-8050-46a5-c7e3-d9a1043eb450"
      },
      "outputs": [
        {
          "output_type": "stream",
          "name": "stdout",
          "text": [
            "Accuracy 0.886829642202086\n",
            "              precision    recall  f1-score   support\n",
            "\n",
            "    Positive       0.89      0.98      0.93     55952\n",
            "    Negative       0.89      0.59      0.71     17106\n",
            "\n",
            "    accuracy                           0.89     73058\n",
            "   macro avg       0.89      0.79      0.82     73058\n",
            "weighted avg       0.89      0.89      0.88     73058\n",
            "\n"
          ]
        },
        {
          "output_type": "display_data",
          "data": {
            "text/plain": [
              "<Figure size 432x288 with 2 Axes>"
            ],
            "image/png": "[encoded data removed]"
          },
          "metadata": {
            "needs_background": "light"
          }
        }
      ],
      "source": [
        "pred_score(lr, X_test, y_test)"
      ]
    },
    {
      "cell_type": "code",
      "source": [
        "logit_cut_off = senisitivity_specificity_report(lr, X_train, y_train)\n",
        "print()\n",
        "rf_threshold = sensi_speci_trade_off(logit_cut_off, 0.5, 0.89, 0.7, 0.77)\n",
        "print()\n",
        "plot_confusion_matrix1(rf_threshold, lr, X_test, y_test)"
      ],
      "metadata": {
        "colab": {
          "base_uri": "https://localhost:8080/",
          "height": 1000
        },
        "id": "vfSxtavfqiFy",
        "outputId": "bde22f5f-93f1-4a10-a238-48d5ebb9498a"
      },
      "execution_count": null,
      "outputs": [
        {
          "output_type": "stream",
          "name": "stdout",
          "text": [
            "     prob  accuracy  sensi  speci  recall  precision     f1\n",
            "0.0   0.0     0.157  1.000  0.000   1.000      0.157  0.271\n",
            "0.1   0.1     0.642  0.991  0.577   0.991      0.304  0.465\n",
            "0.2   0.2     0.760  0.976  0.720   0.976      0.393  0.560\n",
            "0.3   0.3     0.824  0.955  0.799   0.955      0.470  0.630\n",
            "0.4   0.4     0.865  0.930  0.853   0.930      0.541  0.684\n",
            "0.5   0.5     0.893  0.896  0.892   0.896      0.608  0.724\n",
            "0.6   0.6     0.912  0.852  0.923   0.852      0.673  0.752\n",
            "0.7   0.7     0.923  0.791  0.948   0.791      0.740  0.765\n",
            "0.8   0.8     0.928  0.707  0.969   0.707      0.809  0.755\n",
            "0.9   0.9     0.919  0.561  0.986   0.561      0.882  0.686\n",
            "\n"
          ]
        },
        {
          "output_type": "display_data",
          "data": {
            "text/plain": [
              "<Figure size 864x360 with 2 Axes>"
            ],
            "image/png": "[encoded data removed]"
          },
          "metadata": {
            "needs_background": "light"
          }
        },
        {
          "output_type": "stream",
          "name": "stdout",
          "text": [
            "\n",
            "Optimal Threshold probability = 0.7\n",
            "\n",
            "Accuracy 0.919\n"
          ]
        },
        {
          "output_type": "display_data",
          "data": {
            "text/plain": [
              "<Figure size 432x288 with 2 Axes>"
            ],
            "image/png": "[encoded data removed]"
          },
          "metadata": {
            "needs_background": "light"
          }
        },
        {
          "output_type": "stream",
          "name": "stdout",
          "text": [
            "              precision    recall  f1-score   support\n",
            "\n",
            "    Positive       0.95      0.96      0.95     60694\n",
            "    Negative       0.78      0.73      0.75     12364\n",
            "\n",
            "    accuracy                           0.92     73058\n",
            "   macro avg       0.86      0.84      0.85     73058\n",
            "weighted avg       0.92      0.92      0.92     73058\n",
            "\n"
          ]
        }
      ]
    },
    {
      "cell_type": "markdown",
      "metadata": {
        "id": "9mi7pDoi4g-7"
      },
      "source": [
        "### Random Forest"
      ]
    },
    {
      "cell_type": "markdown",
      "metadata": {
        "id": "jNPqm7C-tJG-"
      },
      "source": [
        "#### Random Forest"
      ]
    },
    {
      "cell_type": "code",
      "source": [],
      "metadata": {
        "id": "wku3ffW-b655"
      },
      "execution_count": null,
      "outputs": []
    },
    {
      "cell_type": "code",
      "execution_count": null,
      "metadata": {
        "colab": {
          "base_uri": "https://localhost:8080/"
        },
        "id": "sT-5C-RrtJdy",
        "outputId": "98dfab77-df9c-4a75-bb0a-b8ca2436cab3"
      },
      "outputs": [
        {
          "output_type": "stream",
          "name": "stdout",
          "text": [
            "Time Taken: 121.41 seconds\n"
          ]
        }
      ],
      "source": [
        "time1 = time.time()\n",
        "\n",
        "rf = RandomForestClassifier(n_estimators=200, max_depth=15, random_state=44, criterion='entropy',n_jobs=-1)\n",
        "# rf = RandomForestClassifier(n_estimators=500, max_depth=100, min_samples_leaf=4, min_samples_split=8, random_state=50, n_jobs=-1)\n",
        "rf.fit(X_train, y_train)\n",
        "\n",
        "time_taken = time.time() - time1\n",
        "print('Time Taken: {:.2f} seconds'.format(time_taken))"
      ]
    },
    {
      "cell_type": "code",
      "execution_count": null,
      "metadata": {
        "colab": {
          "base_uri": "https://localhost:8080/"
        },
        "id": "OPUuVCqEtJdz",
        "outputId": "20830b94-4887-45a9-a463-196b86f77a81"
      },
      "outputs": [
        {
          "output_type": "stream",
          "name": "stdout",
          "text": [
            "Accuracy 0.8455463162577422\n",
            "              precision    recall  f1-score   support\n",
            "\n",
            "    Positive       1.00      0.85      0.92    291479\n",
            "    Negative       0.02      1.00      0.03       751\n",
            "\n",
            "    accuracy                           0.85    292230\n",
            "   macro avg       0.51      0.92      0.47    292230\n",
            "weighted avg       1.00      0.85      0.91    292230\n",
            "\n"
          ]
        }
      ],
      "source": [
        "pred_score(rf, X_train, y_train, plot=False)"
      ]
    },
    {
      "cell_type": "code",
      "execution_count": null,
      "metadata": {
        "colab": {
          "base_uri": "https://localhost:8080/",
          "height": 453
        },
        "id": "50KHVF43tJd0",
        "outputId": "2081e08c-eff9-4fc4-c051-712a8ff64496"
      },
      "outputs": [
        {
          "output_type": "stream",
          "name": "stdout",
          "text": [
            "Accuracy 0.8451230529168606\n",
            "              precision    recall  f1-score   support\n",
            "\n",
            "    Positive       1.00      0.84      0.92     72897\n",
            "    Negative       0.01      0.99      0.03       161\n",
            "\n",
            "    accuracy                           0.85     73058\n",
            "   macro avg       0.51      0.92      0.47     73058\n",
            "weighted avg       1.00      0.85      0.91     73058\n",
            "\n"
          ]
        },
        {
          "output_type": "display_data",
          "data": {
            "text/plain": [
              "<Figure size 432x288 with 2 Axes>"
            ],
            "image/png": "[encoded data removed]"
          },
          "metadata": {
            "needs_background": "light"
          }
        }
      ],
      "source": [
        "pred_score(rf, X_test, y_test)"
      ]
    },
    {
      "cell_type": "code",
      "source": [
        "logit_cut_off_rf = senisitivity_specificity_report(rf, X_train, y_train)\n",
        "print()\n",
        "rf_threshold_rf = sensi_speci_trade_off(logit_cut_off_rf, 0.18, 0.7, 0.2, 0.625)\n",
        "print()\n",
        "plot_confusion_matrix1(rf_threshold_rf, rf, X_test, y_test)"
      ],
      "metadata": {
        "colab": {
          "base_uri": "https://localhost:8080/",
          "height": 1000
        },
        "id": "h7knkPFocM-i",
        "outputId": "86a2717c-f9c0-431b-8a91-cc33c9311203"
      },
      "execution_count": null,
      "outputs": [
        {
          "output_type": "stream",
          "name": "stdout",
          "text": [
            "     prob  accuracy  sensi  speci  recall  precision     f1\n",
            "0.0   0.0     0.157  1.000  0.000   1.000      0.157  0.271\n",
            "0.1   0.1     0.213  1.000  0.067   1.000      0.166  0.285\n",
            "0.2   0.2     0.898  0.625  0.949   0.625      0.696  0.659\n",
            "0.3   0.3     0.878  0.235  0.998   0.235      0.951  0.377\n",
            "0.4   0.4     0.855  0.076  1.000   0.076      0.994  0.141\n",
            "0.5   0.5     0.846  0.016  1.000   0.016      1.000  0.031\n",
            "0.6   0.6     0.843  0.002  1.000   0.002      1.000  0.004\n",
            "0.7   0.7     0.843  0.000  1.000   0.000      1.000  0.000\n",
            "0.8   0.8     0.843  0.000  1.000   0.000        NaN    NaN\n",
            "0.9   0.9     0.843  0.000  1.000   0.000        NaN    NaN\n",
            "\n"
          ]
        },
        {
          "output_type": "display_data",
          "data": {
            "text/plain": [
              "<Figure size 864x360 with 2 Axes>"
            ],
            "image/png": "[encoded data removed]"
          },
          "metadata": {
            "needs_background": "light"
          }
        },
        {
          "output_type": "stream",
          "name": "stdout",
          "text": [
            "\n",
            "Optimal Threshold probability = 0.18\n",
            "\n",
            "Accuracy 0.886\n"
          ]
        },
        {
          "output_type": "display_data",
          "data": {
            "text/plain": [
              "<Figure size 432x288 with 2 Axes>"
            ],
            "image/png": "[encoded data removed]"
          },
          "metadata": {
            "needs_background": "light"
          }
        },
        {
          "output_type": "stream",
          "name": "stdout",
          "text": [
            "              precision    recall  f1-score   support\n",
            "\n",
            "    Positive       0.94      0.93      0.93     62555\n",
            "    Negative       0.59      0.65      0.62     10503\n",
            "\n",
            "    accuracy                           0.89     73058\n",
            "   macro avg       0.77      0.79      0.78     73058\n",
            "weighted avg       0.89      0.89      0.89     73058\n",
            "\n"
          ]
        }
      ]
    },
    {
      "cell_type": "markdown",
      "metadata": {
        "id": "oYPfT3LU6mgF"
      },
      "source": [
        "### MultinomialNB"
      ]
    },
    {
      "cell_type": "code",
      "execution_count": null,
      "metadata": {
        "colab": {
          "base_uri": "https://localhost:8080/"
        },
        "id": "asxZTif46mgH",
        "outputId": "a78682ff-49e0-413c-e112-bff2861dfee3"
      },
      "outputs": [
        {
          "output_type": "stream",
          "name": "stdout",
          "text": [
            "Time Taken: 0.10 seconds\n"
          ]
        }
      ],
      "source": [
        "time1 = time.time()\n",
        "from sklearn.naive_bayes import BernoulliNB\n",
        "\n",
        "nb_ros = MultinomialNB(alpha=0.00005)\n",
        "# nb_ros = BernoulliNB(alpha=0.1)\n",
        "nb_ros.fit(X_train, y_train)\n",
        "\n",
        "time_taken = time.time() - time1\n",
        "print('Time Taken: {:.2f} seconds'.format(time_taken))"
      ]
    },
    {
      "cell_type": "code",
      "execution_count": null,
      "metadata": {
        "colab": {
          "base_uri": "https://localhost:8080/"
        },
        "id": "mFf0v2_96mgI",
        "outputId": "245ec414-9036-4972-a9d5-a84d584b972d"
      },
      "outputs": [
        {
          "output_type": "stream",
          "name": "stdout",
          "text": [
            "Accuracy 0.8889333743968791\n",
            "              precision    recall  f1-score   support\n",
            "\n",
            "    Positive       0.99      0.89      0.94    275208\n",
            "    Negative       0.33      0.89      0.48     17022\n",
            "\n",
            "    accuracy                           0.89    292230\n",
            "   macro avg       0.66      0.89      0.71    292230\n",
            "weighted avg       0.95      0.89      0.91    292230\n",
            "\n"
          ]
        }
      ],
      "source": [
        "pred_score(nb_ros, X_train, y_train, plot=False)"
      ]
    },
    {
      "cell_type": "code",
      "execution_count": null,
      "metadata": {
        "colab": {
          "base_uri": "https://localhost:8080/",
          "height": 453
        },
        "id": "Sz8KKIPZ-Dyo",
        "outputId": "5fcee88b-6bf6-499d-df2b-324f24362a5a"
      },
      "outputs": [
        {
          "output_type": "stream",
          "name": "stdout",
          "text": [
            "Accuracy 0.8880615401461852\n",
            "              precision    recall  f1-score   support\n",
            "\n",
            "    Positive       0.99      0.89      0.94     68834\n",
            "    Negative       0.33      0.89      0.48      4224\n",
            "\n",
            "    accuracy                           0.89     73058\n",
            "   macro avg       0.66      0.89      0.71     73058\n",
            "weighted avg       0.95      0.89      0.91     73058\n",
            "\n"
          ]
        },
        {
          "output_type": "display_data",
          "data": {
            "text/plain": [
              "<Figure size 432x288 with 2 Axes>"
            ],
            "image/png": "[encoded data removed]"
          },
          "metadata": {
            "needs_background": "light"
          }
        }
      ],
      "source": [
        "pred_score(nb_ros, X_test, y_test)"
      ]
    },
    {
      "cell_type": "code",
      "source": [
        "logit_cut_off_nb_ros = senisitivity_specificity_report(nb_ros, X_train, y_train)\n",
        "print()\n",
        "nb_ros_threshold_nb_ros = sensi_speci_trade_off(logit_cut_off_nb_ros, 0.16, 0.83, 0.25, 0.69)\n",
        "print()\n",
        "plot_confusion_matrix1(nb_ros_threshold_nb_ros, nb_ros, X_test, y_test)"
      ],
      "metadata": {
        "colab": {
          "base_uri": "https://localhost:8080/",
          "height": 1000
        },
        "id": "ynr1z3TJc1EJ",
        "outputId": "ffebf697-5bb9-432d-c94c-4391420e876b"
      },
      "execution_count": null,
      "outputs": [
        {
          "output_type": "stream",
          "name": "stdout",
          "text": [
            "     prob  accuracy  sensi  speci  recall  precision     f1\n",
            "0.0   0.0     0.157  1.000  0.000   1.000      0.157  0.271\n",
            "0.1   0.1     0.766  0.944  0.733   0.944      0.397  0.559\n",
            "0.2   0.2     0.894  0.782  0.915   0.782      0.631  0.698\n",
            "0.3   0.3     0.909  0.608  0.966   0.608      0.767  0.678\n",
            "0.4   0.4     0.902  0.458  0.984   0.458      0.844  0.594\n",
            "0.5   0.5     0.889  0.332  0.993   0.332      0.894  0.484\n",
            "0.6   0.6     0.876  0.226  0.997   0.226      0.926  0.363\n",
            "0.7   0.7     0.864  0.142  0.999   0.142      0.952  0.247\n",
            "0.8   0.8     0.854  0.073  1.000   0.073      0.972  0.136\n",
            "0.9   0.9     0.846  0.021  1.000   0.021      0.986  0.041\n",
            "\n"
          ]
        },
        {
          "output_type": "display_data",
          "data": {
            "text/plain": [
              "<Figure size 864x360 with 2 Axes>"
            ],
            "image/png": "[encoded data removed]"
          },
          "metadata": {
            "needs_background": "light"
          }
        },
        {
          "output_type": "stream",
          "name": "stdout",
          "text": [
            "\n",
            "Optimal Threshold probability = 0.16\n",
            "\n",
            "Accuracy 0.905\n"
          ]
        },
        {
          "output_type": "display_data",
          "data": {
            "text/plain": [
              "<Figure size 432x288 with 2 Axes>"
            ],
            "image/png": "[encoded data removed]"
          },
          "metadata": {
            "needs_background": "light"
          }
        },
        {
          "output_type": "stream",
          "name": "stdout",
          "text": [
            "              precision    recall  f1-score   support\n",
            "\n",
            "    Positive       0.95      0.94      0.94     61822\n",
            "    Negative       0.69      0.70      0.70     11236\n",
            "\n",
            "    accuracy                           0.91     73058\n",
            "   macro avg       0.82      0.82      0.82     73058\n",
            "weighted avg       0.91      0.91      0.91     73058\n",
            "\n"
          ]
        }
      ]
    },
    {
      "cell_type": "markdown",
      "metadata": {
        "id": "KKwUVeOsx6aJ"
      },
      "source": [
        "## Hyperparameter Tuning"
      ]
    },
    {
      "cell_type": "code",
      "execution_count": null,
      "metadata": {
        "id": "kP2omGxQx6b7"
      },
      "outputs": [],
      "source": [
        "from sklearn.model_selection import StratifiedKFold\n",
        "skf = StratifiedKFold(n_splits=3)\n",
        "\n",
        "def grid_search_csv(dict_params):\n",
        "    # GridSearchCV\n",
        "    model_lr_final = GridSearchCV(estimator=dict_params['model'], param_grid=dict_params['params'],\n",
        "                                  cv=skf, scoring='f1_macro', n_jobs = -1, verbose=1)\n",
        "    # fit cv\n",
        "    model_lr_final = model_lr_final.fit(dict_params['X_train'], dict_params['y_train'])\n",
        "    # best_estimator\n",
        "    best_estimator = model_lr_final.best_estimator_\n",
        "    best_params = model_lr_final.best_params_\n",
        "    print(\"Best parameters\", best_params)\n",
        "    \n",
        "    return best_estimator, best_params"
      ]
    },
    {
      "cell_type": "markdown",
      "metadata": {
        "id": "3c0c3M80Dedx"
      },
      "source": [
        "#### Logistic Regression"
      ]
    },
    {
      "cell_type": "code",
      "execution_count": null,
      "metadata": {
        "id": "IgI4eg-Ex6eC"
      },
      "outputs": [],
      "source": [
        "lr_model = LogisticRegression(class_weight='balanced', solver='liblinear', random_state=123)\n",
        "\n",
        "params = {'penalty': ['l1', 'l2'], 'C': [0.0001, 0.001, 0.01, 0.1, 1, 2, 5, 7]}\n",
        "params = {'penalty': ['l1', 'l2'], 'C': [1, 2, 3]}\n",
        "dict_params = {'model':lr_model, 'params': params, 'X_train':X_train, 'y_train':y_train}"
      ]
    },
    {
      "cell_type": "code",
      "execution_count": null,
      "metadata": {
        "id": "r48zCPQzx6gc",
        "outputId": "72db6930-f973-4520-d97a-9d9938f7123a",
        "colab": {
          "base_uri": "https://localhost:8080/"
        }
      },
      "outputs": [
        {
          "output_type": "stream",
          "name": "stdout",
          "text": [
            "Fitting 3 folds for each of 8 candidates, totalling 24 fits\n",
            "Best parameters {'C': 1, 'penalty': 'l2'}\n"
          ]
        }
      ],
      "source": [
        "lr_model_tf, best_params = grid_search_csv(dict_params)"
      ]
    },
    {
      "cell_type": "code",
      "execution_count": null,
      "metadata": {
        "id": "F7ykVz39_sLy",
        "colab": {
          "base_uri": "https://localhost:8080/"
        },
        "outputId": "e8cb29ef-7856-4227-8819-81014c7d15a4"
      },
      "outputs": [
        {
          "output_type": "stream",
          "name": "stdout",
          "text": [
            "Accuracy 0.8930191972076789\n",
            "              precision    recall  f1-score   support\n",
            "\n",
            "    Positive       0.89      0.98      0.93    224608\n",
            "    Negative       0.90      0.61      0.72     67622\n",
            "\n",
            "    accuracy                           0.89    292230\n",
            "   macro avg       0.89      0.79      0.83    292230\n",
            "weighted avg       0.89      0.89      0.89    292230\n",
            "\n"
          ]
        }
      ],
      "source": [
        "pred_score(lr_model_tf, X_train, y_train, plot=False)"
      ]
    },
    {
      "cell_type": "code",
      "execution_count": null,
      "metadata": {
        "id": "tIGzxekhwK88",
        "colab": {
          "base_uri": "https://localhost:8080/",
          "height": 453
        },
        "outputId": "d273ce54-be80-4761-d640-a7045dd1caac"
      },
      "outputs": [
        {
          "output_type": "stream",
          "name": "stdout",
          "text": [
            "Accuracy 0.8868433299570204\n",
            "              precision    recall  f1-score   support\n",
            "\n",
            "    Positive       0.89      0.98      0.93     55953\n",
            "    Negative       0.89      0.59      0.71     17105\n",
            "\n",
            "    accuracy                           0.89     73058\n",
            "   macro avg       0.89      0.79      0.82     73058\n",
            "weighted avg       0.89      0.89      0.88     73058\n",
            "\n"
          ]
        },
        {
          "output_type": "display_data",
          "data": {
            "text/plain": [
              "<Figure size 432x288 with 2 Axes>"
            ],
            "image/png": "[encoded data removed]"
          },
          "metadata": {
            "needs_background": "light"
          }
        }
      ],
      "source": [
        "pred_score(lr_model_tf, X_test, y_test)"
      ]
    },
    {
      "cell_type": "code",
      "source": [
        "logit_cut_off_lr_model_tf = senisitivity_specificity_report(lr_model_tf, X_train, y_train)\n",
        "print()\n",
        "lr_model_tf_threshold_lr_model_tf = sensi_speci_trade_off(logit_cut_off_lr_model_tf, 0.5, 0.89, 0.70, 0.76)\n",
        "print()\n",
        "plot_confusion_matrix1(lr_model_tf_threshold_lr_model_tf, lr_model_tf, X_test, y_test)"
      ],
      "metadata": {
        "colab": {
          "base_uri": "https://localhost:8080/",
          "height": 1000
        },
        "id": "fpAM-vb5dbAt",
        "outputId": "e5bba602-518d-469b-ab50-ba24bccf10e5"
      },
      "execution_count": null,
      "outputs": [
        {
          "output_type": "stream",
          "name": "stdout",
          "text": [
            "     prob  accuracy  sensi  speci  recall  precision     f1\n",
            "0.0   0.0     0.157  1.000  0.000   1.000      0.157  0.271\n",
            "0.1   0.1     0.642  0.991  0.577   0.991      0.304  0.465\n",
            "0.2   0.2     0.760  0.976  0.720   0.976      0.393  0.560\n",
            "0.3   0.3     0.824  0.955  0.799   0.955      0.470  0.630\n",
            "0.4   0.4     0.865  0.930  0.853   0.930      0.541  0.684\n",
            "0.5   0.5     0.893  0.896  0.892   0.896      0.608  0.724\n",
            "0.6   0.6     0.912  0.852  0.923   0.852      0.673  0.752\n",
            "0.7   0.7     0.923  0.791  0.948   0.791      0.740  0.765\n",
            "0.8   0.8     0.928  0.707  0.969   0.707      0.809  0.755\n",
            "0.9   0.9     0.919  0.561  0.986   0.561      0.882  0.686\n",
            "\n"
          ]
        },
        {
          "output_type": "display_data",
          "data": {
            "text/plain": [
              "<Figure size 864x360 with 2 Axes>"
            ],
            "image/png": "[encoded data removed]"
          },
          "metadata": {
            "needs_background": "light"
          }
        },
        {
          "output_type": "stream",
          "name": "stdout",
          "text": [
            "\n",
            "Optimal Threshold probability = 0.5\n",
            "\n",
            "Accuracy 0.919\n"
          ]
        },
        {
          "output_type": "display_data",
          "data": {
            "text/plain": [
              "<Figure size 432x288 with 2 Axes>"
            ],
            "image/png": "[encoded data removed]"
          },
          "metadata": {
            "needs_background": "light"
          }
        },
        {
          "output_type": "stream",
          "name": "stdout",
          "text": [
            "              precision    recall  f1-score   support\n",
            "\n",
            "    Positive       0.95      0.96      0.95     60694\n",
            "    Negative       0.78      0.73      0.75     12364\n",
            "\n",
            "    accuracy                           0.92     73058\n",
            "   macro avg       0.86      0.84      0.85     73058\n",
            "weighted avg       0.92      0.92      0.92     73058\n",
            "\n"
          ]
        }
      ]
    },
    {
      "cell_type": "markdown",
      "metadata": {
        "id": "aM-4yq1ZHG8H"
      },
      "source": [
        "### MultinomialNB"
      ]
    },
    {
      "cell_type": "code",
      "execution_count": null,
      "metadata": {
        "id": "LvrrNh3vHKuQ"
      },
      "outputs": [],
      "source": [
        "nb_model = MultinomialNB()\n",
        "params = {'alpha': (0.00005, 0.00001, 0.0001, 0.001, 0.01, 0.1, 1, 10)}\n",
        "dict_params = {'model':nb_model, 'params': params, 'X_train':X_train, 'y_train':y_train}"
      ]
    },
    {
      "cell_type": "code",
      "execution_count": null,
      "metadata": {
        "id": "nHQ93pt7HKuR",
        "colab": {
          "base_uri": "https://localhost:8080/"
        },
        "outputId": "57bc403c-b1a5-4a38-d42e-7bfd99249f9e"
      },
      "outputs": [
        {
          "output_type": "stream",
          "name": "stdout",
          "text": [
            "Fitting 3 folds for each of 8 candidates, totalling 24 fits\n",
            "Best parameters {'alpha': 5e-05}\n"
          ]
        }
      ],
      "source": [
        "nb_model_tf, best_params = grid_search_csv(dict_params)"
      ]
    },
    {
      "cell_type": "code",
      "execution_count": null,
      "metadata": {
        "id": "-v9dwFmvHKuS",
        "colab": {
          "base_uri": "https://localhost:8080/"
        },
        "outputId": "a328cfb9-9304-4d54-bb7a-896cb05b6e52"
      },
      "outputs": [
        {
          "output_type": "stream",
          "name": "stdout",
          "text": [
            "Accuracy 0.8889333743968791\n",
            "              precision    recall  f1-score   support\n",
            "\n",
            "    Positive       0.99      0.89      0.94    275208\n",
            "    Negative       0.33      0.89      0.48     17022\n",
            "\n",
            "    accuracy                           0.89    292230\n",
            "   macro avg       0.66      0.89      0.71    292230\n",
            "weighted avg       0.95      0.89      0.91    292230\n",
            "\n"
          ]
        }
      ],
      "source": [
        "# pred_score(lr_model_tf, X_train_ros, y_train_ros, plot=False)\n",
        "pred_score(nb_model_tf, X_train, y_train, plot=False)"
      ]
    },
    {
      "cell_type": "code",
      "execution_count": null,
      "metadata": {
        "id": "8qX7mIa8HKuS",
        "colab": {
          "base_uri": "https://localhost:8080/",
          "height": 453
        },
        "outputId": "8a6c9d0a-70ac-4620-b954-88e59e6cfcc0"
      },
      "outputs": [
        {
          "output_type": "stream",
          "name": "stdout",
          "text": [
            "Accuracy 0.8880615401461852\n",
            "              precision    recall  f1-score   support\n",
            "\n",
            "    Positive       0.99      0.89      0.94     68834\n",
            "    Negative       0.33      0.89      0.48      4224\n",
            "\n",
            "    accuracy                           0.89     73058\n",
            "   macro avg       0.66      0.89      0.71     73058\n",
            "weighted avg       0.95      0.89      0.91     73058\n",
            "\n"
          ]
        },
        {
          "output_type": "display_data",
          "data": {
            "text/plain": [
              "<Figure size 432x288 with 2 Axes>"
            ],
            "image/png": "[encoded data removed]"
          },
          "metadata": {
            "needs_background": "light"
          }
        }
      ],
      "source": [
        "# pred_score(lr_model_tf, X_test_ros, y_test_ros)\n",
        "pred_score(nb_model_tf, X_test, y_test)"
      ]
    },
    {
      "cell_type": "code",
      "source": [
        "logit_cut_off_nb_model_tf = senisitivity_specificity_report(nb_model_tf, X_train, y_train)\n",
        "print()\n",
        "nb_model_tf_threshold_nb_model_tf = sensi_speci_trade_off(logit_cut_off_nb_model_tf, 0.18, 0.83, 0.25, 0.67)\n",
        "print()\n",
        "plot_confusion_matrix1(nb_model_tf_threshold_nb_model_tf, nb_model_tf, X_test, y_test)"
      ],
      "metadata": {
        "colab": {
          "base_uri": "https://localhost:8080/",
          "height": 1000
        },
        "id": "2doQt5dhdqGE",
        "outputId": "56b8c39e-f669-41b0-a785-e9d76fe78abb"
      },
      "execution_count": null,
      "outputs": [
        {
          "output_type": "stream",
          "name": "stdout",
          "text": [
            "     prob  accuracy  sensi  speci  recall  precision     f1\n",
            "0.0   0.0     0.157  1.000  0.000   1.000      0.157  0.271\n",
            "0.1   0.1     0.766  0.944  0.733   0.944      0.397  0.559\n",
            "0.2   0.2     0.894  0.782  0.915   0.782      0.631  0.698\n",
            "0.3   0.3     0.909  0.608  0.966   0.608      0.767  0.678\n",
            "0.4   0.4     0.902  0.458  0.984   0.458      0.844  0.594\n",
            "0.5   0.5     0.889  0.332  0.993   0.332      0.894  0.484\n",
            "0.6   0.6     0.876  0.226  0.997   0.226      0.926  0.363\n",
            "0.7   0.7     0.864  0.142  0.999   0.142      0.952  0.247\n",
            "0.8   0.8     0.854  0.073  1.000   0.073      0.972  0.136\n",
            "0.9   0.9     0.846  0.021  1.000   0.021      0.986  0.041\n",
            "\n"
          ]
        },
        {
          "output_type": "display_data",
          "data": {
            "text/plain": [
              "<Figure size 864x360 with 2 Axes>"
            ],
            "image/png": "[encoded data removed]"
          },
          "metadata": {
            "needs_background": "light"
          }
        },
        {
          "output_type": "stream",
          "name": "stdout",
          "text": [
            "\n",
            "Optimal Threshold probability = 0.18\n",
            "\n",
            "Accuracy 0.905\n"
          ]
        },
        {
          "output_type": "display_data",
          "data": {
            "text/plain": [
              "<Figure size 432x288 with 2 Axes>"
            ],
            "image/png": "[encoded data removed]"
          },
          "metadata": {
            "needs_background": "light"
          }
        },
        {
          "output_type": "stream",
          "name": "stdout",
          "text": [
            "              precision    recall  f1-score   support\n",
            "\n",
            "    Positive       0.95      0.94      0.94     61822\n",
            "    Negative       0.69      0.70      0.70     11236\n",
            "\n",
            "    accuracy                           0.91     73058\n",
            "   macro avg       0.82      0.82      0.82     73058\n",
            "weighted avg       0.91      0.91      0.91     73058\n",
            "\n"
          ]
        }
      ]
    },
    {
      "cell_type": "markdown",
      "metadata": {
        "id": "qefeGB2tx684"
      },
      "source": [
        "## Save Model"
      ]
    },
    {
      "cell_type": "code",
      "execution_count": null,
      "metadata": {
        "id": "SGRMBSdLx7Ab"
      },
      "outputs": [],
      "source": [
        "import pickle"
      ]
    },
    {
      "cell_type": "code",
      "execution_count": null,
      "metadata": {
        "id": "6_8mUAV9dAkK"
      },
      "outputs": [],
      "source": [
        "pth = '/content/drive/MyDrive/Colab Notebooks/NLP/AmazonFineFoodReviews/amazon-fine-food-reviews'\n",
        "\n",
        "pickle.dump(lr, open(os.path.join(pth,'model.pkl'), 'wb'))\n",
        "pickle.dump(feature_obj.word_vectorizer, open(os.path.join(pth,'word_vectorizer.pkl'), 'wb'))"
      ]
    },
    {
      "cell_type": "code",
      "source": [
        "threshold = 0.7\n",
        "a = feature_obj.word_vectorizer.transform([\"I like the recipes\"])\n",
        "y_test_proba = lr.predict_proba(a)[:, 1][0]\n",
        "print(lr.predict_proba(a))\n",
        "[1 if y_test_proba > threshold else 0]"
      ],
      "metadata": {
        "colab": {
          "base_uri": "https://localhost:8080/"
        },
        "id": "MRoMEnmlslgR",
        "outputId": "a632ce88-aa0e-4b38-8037-8f7340915ff7"
      },
      "execution_count": null,
      "outputs": [
        {
          "output_type": "stream",
          "name": "stdout",
          "text": [
            "[[0.7897766 0.2102234]]\n"
          ]
        },
        {
          "output_type": "execute_result",
          "data": {
            "text/plain": [
              "[0]"
            ]
          },
          "metadata": {},
          "execution_count": 363
        }
      ]
    },
    {
      "cell_type": "code",
      "source": [
        "threshold = 0.7\n",
        "a = feature_obj.word_vectorizer.transform([\"I did not like the recipes\"])\n",
        "a = feature_obj.word_vectorizer.transform([\"I hate the recipes\"])\n",
        "y_test_proba = lr.predict_proba(a)[:, 1][0]\n",
        "print(lr.predict_proba(a))\n",
        "[1 if y_test_proba > threshold else 0]"
      ],
      "metadata": {
        "colab": {
          "base_uri": "https://localhost:8080/"
        },
        "id": "iKwXlJ1EsPFc",
        "outputId": "d2ae10ec-f509-42cf-dd3e-5f8068d2c77e"
      },
      "execution_count": null,
      "outputs": [
        {
          "output_type": "stream",
          "name": "stdout",
          "text": [
            "[[0.40973088 0.59026912]]\n"
          ]
        },
        {
          "output_type": "execute_result",
          "data": {
            "text/plain": [
              "[0]"
            ]
          },
          "metadata": {},
          "execution_count": 364
        }
      ]
    },
    {
      "cell_type": "code",
      "source": [
        "# t = '''The staff was great. The receptionists were very helpful and answered all our questions. The room was clean and bright, and the room service was always on time. Will be coming back!'''\n",
        "t = '''The staff bad. The receptionists were very horrible.'''\n",
        "a = feature_obj.word_vectorizer.transform([t])\n",
        "y_test_proba = lr.predict_proba(a)[:, 1]\n",
        "lr.predict_proba(a), [1 if y_test_proba > threshold else 0]"
      ],
      "metadata": {
        "colab": {
          "base_uri": "https://localhost:8080/"
        },
        "id": "4V0J4VeNt6kk",
        "outputId": "c9aea6bd-39a7-4985-dd5c-a6c8ac578364"
      },
      "execution_count": null,
      "outputs": [
        {
          "output_type": "execute_result",
          "data": {
            "text/plain": [
              "(array([[6.15450312e-05, 9.99938455e-01]]), [1])"
            ]
          },
          "metadata": {},
          "execution_count": 370
        }
      ]
    },
    {
      "cell_type": "code",
      "source": [
        "threshold = 0.7\n",
        "\n",
        "y_test_proba = lr.predict_proba(X_test)[:, 1]\n",
        "y_test_predicted = pd.Series(y_test_proba).map(lambda x: 1 if x > threshold else 0)\n",
        "\n",
        "vk = pd.DataFrame(lr.predict_proba(X_test))"
      ],
      "metadata": {
        "id": "nWJV_zEvyETH"
      },
      "execution_count": null,
      "outputs": []
    },
    {
      "cell_type": "code",
      "source": [
        "dd = pd.concat([X_test_, y_test],axis=1).reset_index()\n",
        "dd['pred'] = y_test_predicted\n",
        "dd['pred_0'] = vk[0]\n",
        "dd['pred_1'] = vk[1]\n",
        "\n",
        "dd.head(2)\n"
      ],
      "metadata": {
        "colab": {
          "base_uri": "https://localhost:8080/",
          "height": 112
        },
        "id": "Rcyh-qcMyPiR",
        "outputId": "4104c996-b0ef-475a-8376-8a8b9b7ca9ef"
      },
      "execution_count": null,
      "outputs": [
        {
          "output_type": "execute_result",
          "data": {
            "text/plain": [
              "    index                                       clean_review  Score  pred  \\\n",
              "0  310861  graham cracker simply delicious love new packa...      0     0   \n",
              "1   49538  pharmacist recommend salt simply best taste sm...      0     0   \n",
              "\n",
              "     pred_0    pred_1  \n",
              "0  0.998964  0.001036  \n",
              "1  0.998087  0.001913  "
            ],
            "text/html": [
              "\n",
              "  <div id=\"df-5f238c95-2345-4407-b993-688f38eaabee\">\n",
              "    <div class=\"colab-df-container\">\n",
              "      <div>\n",
              "<style scoped>\n",
              "    .dataframe tbody tr th:only-of-type {\n",
              "        vertical-align: middle;\n",
              "    }\n",
              "\n",
              "    .dataframe tbody tr th {\n",
              "        vertical-align: top;\n",
              "    }\n",
              "\n",
              "    .dataframe thead th {\n",
              "        text-align: right;\n",
              "    }\n",
              "</style>\n",
              "<table border=\"1\" class=\"dataframe\">\n",
              "  <thead>\n",
              "    <tr style=\"text-align: right;\">\n",
              "      <th></th>\n",
              "      <th>index</th>\n",
              "      <th>clean_review</th>\n",
              "      <th>Score</th>\n",
              "      <th>pred</th>\n",
              "      <th>pred_0</th>\n",
              "      <th>pred_1</th>\n",
              "    </tr>\n",
              "  </thead>\n",
              "  <tbody>\n",
              "    <tr>\n",
              "      <th>0</th>\n",
              "      <td>310861</td>\n",
              "      <td>graham cracker simply delicious love new packa...</td>\n",
              "      <td>0</td>\n",
              "      <td>0</td>\n",
              "      <td>0.998964</td>\n",
              "      <td>0.001036</td>\n",
              "    </tr>\n",
              "    <tr>\n",
              "      <th>1</th>\n",
              "      <td>49538</td>\n",
              "      <td>pharmacist recommend salt simply best taste sm...</td>\n",
              "      <td>0</td>\n",
              "      <td>0</td>\n",
              "      <td>0.998087</td>\n",
              "      <td>0.001913</td>\n",
              "    </tr>\n",
              "  </tbody>\n",
              "</table>\n",
              "</div>\n",
              "      <button class=\"colab-df-convert\" onclick=\"convertToInteractive('df-5f238c95-2345-4407-b993-688f38eaabee')\"\n",
              "              title=\"Convert this dataframe to an interactive table.\"\n",
              "              style=\"display:none;\">\n",
              "        \n",
              "  <svg xmlns=\"http://www.w3.org/2000/svg\" height=\"24px\"viewBox=\"0 0 24 24\"\n",
              "       width=\"24px\">\n",
              "    <path d=\"M0 0h24v24H0V0z\" fill=\"none\"/>\n",
              "    <path d=\"M18.56 5.44l.94 2.06.94-2.06 2.06-.94-2.06-.94-.94-2.06-.94 2.06-2.06.94zm-11 1L8.5 8.5l.94-2.06 2.06-.94-2.06-.94L8.5 2.5l-.94 2.06-2.06.94zm10 10l.94 2.06.94-2.06 2.06-.94-2.06-.94-.94-2.06-.94 2.06-2.06.94z\"/><path d=\"M17.41 7.96l-1.37-1.37c-.4-.4-.92-.59-1.43-.59-.52 0-1.04.2-1.43.59L10.3 9.45l-7.72 7.72c-.78.78-.78 2.05 0 2.83L4 21.41c.39.39.9.59 1.41.59.51 0 1.02-.2 1.41-.59l7.78-7.78 2.81-2.81c.8-.78.8-2.07 0-2.86zM5.41 20L4 18.59l7.72-7.72 1.47 1.35L5.41 20z\"/>\n",
              "  </svg>\n",
              "      </button>\n",
              "      \n",
              "  <style>\n",
              "    .colab-df-container {\n",
              "      display:flex;\n",
              "      flex-wrap:wrap;\n",
              "      gap: 12px;\n",
              "    }\n",
              "\n",
              "    .colab-df-convert {\n",
              "      background-color: #E8F0FE;\n",
              "      border: none;\n",
              "      border-radius: 50%;\n",
              "      cursor: pointer;\n",
              "      display: none;\n",
              "      fill: #1967D2;\n",
              "      height: 32px;\n",
              "      padding: 0 0 0 0;\n",
              "      width: 32px;\n",
              "    }\n",
              "\n",
              "    .colab-df-convert:hover {\n",
              "      background-color: #E2EBFA;\n",
              "      box-shadow: 0px 1px 2px rgba(60, 64, 67, 0.3), 0px 1px 3px 1px rgba(60, 64, 67, 0.15);\n",
              "      fill: #174EA6;\n",
              "    }\n",
              "\n",
              "    [theme=dark] .colab-df-convert {\n",
              "      background-color: #3B4455;\n",
              "      fill: #D2E3FC;\n",
              "    }\n",
              "\n",
              "    [theme=dark] .colab-df-convert:hover {\n",
              "      background-color: #434B5C;\n",
              "      box-shadow: 0px 1px 3px 1px rgba(0, 0, 0, 0.15);\n",
              "      filter: drop-shadow(0px 1px 2px rgba(0, 0, 0, 0.3));\n",
              "      fill: #FFFFFF;\n",
              "    }\n",
              "  </style>\n",
              "\n",
              "      <script>\n",
              "        const buttonEl =\n",
              "          document.querySelector('#df-5f238c95-2345-4407-b993-688f38eaabee button.colab-df-convert');\n",
              "        buttonEl.style.display =\n",
              "          google.colab.kernel.accessAllowed ? 'block' : 'none';\n",
              "\n",
              "        async function convertToInteractive(key) {\n",
              "          const element = document.querySelector('#df-5f238c95-2345-4407-b993-688f38eaabee');\n",
              "          const dataTable =\n",
              "            await google.colab.kernel.invokeFunction('convertToInteractive',\n",
              "                                                     [key], {});\n",
              "          if (!dataTable) return;\n",
              "\n",
              "          const docLinkHtml = 'Like what you see? Visit the ' +\n",
              "            '<a target=\"_blank\" href=https://colab.research.google.com/notebooks/data_table.ipynb>data table notebook</a>'\n",
              "            + ' to learn more about interactive tables.';\n",
              "          element.innerHTML = '';\n",
              "          dataTable['output_type'] = 'display_data';\n",
              "          await google.colab.output.renderOutput(dataTable, element);\n",
              "          const docLink = document.createElement('div');\n",
              "          docLink.innerHTML = docLinkHtml;\n",
              "          element.appendChild(docLink);\n",
              "        }\n",
              "      </script>\n",
              "    </div>\n",
              "  </div>\n",
              "  "
            ]
          },
          "metadata": {},
          "execution_count": 376
        }
      ]
    },
    {
      "cell_type": "code",
      "source": [
        "t = dd.iloc[20]['clean_review']\n",
        "print(t)\n",
        "a = feature_obj.word_vectorizer.transform([t])\n",
        "y_test_proba = lr.predict_proba(a)[:, 1][0]\n",
        "print(lr.predict_proba(a))\n",
        "[1 if y_test_proba > threshold else 0]"
      ],
      "metadata": {
        "colab": {
          "base_uri": "https://localhost:8080/"
        },
        "id": "-BMicqVEzgf9",
        "outputId": "c6dbe1d4-1976-49f2-d08f-7049d9b867a6"
      },
      "execution_count": null,
      "outputs": [
        {
          "output_type": "stream",
          "name": "stdout",
          "text": [
            "think try brand hot chocolate keurig after buy coffee end up receive free sample really enjoyed milk chocolate flavor th negative review confuse find no bad aftertaste taste water down buy more\n",
            "[[0.09936388 0.90063612]]\n"
          ]
        },
        {
          "output_type": "execute_result",
          "data": {
            "text/plain": [
              "[1]"
            ]
          },
          "metadata": {},
          "execution_count": 394
        }
      ]
    },
    {
      "cell_type": "code",
      "source": [
        "dd.head(30)"
      ],
      "metadata": {
        "colab": {
          "base_uri": "https://localhost:8080/",
          "height": 990
        },
        "id": "0hvTsmdPzZ-z",
        "outputId": "ec9d96be-b8bc-4041-ff40-b452a949010b"
      },
      "execution_count": null,
      "outputs": [
        {
          "output_type": "execute_result",
          "data": {
            "text/plain": [
              "     index                                       clean_review  Score  pred  \\\n",
              "0   310861  graham cracker simply delicious love new packa...      0     0   \n",
              "1    49538  pharmacist recommend salt simply best taste sm...      0     0   \n",
              "2    73359  take awhile melt bottle cold water two minute ...      0     0   \n",
              "3   265741  try superfoods get down waste money still not ...      0     0   \n",
              "4    42431  not able get product area almost year ca belie...      0     0   \n",
              "5   211170  great value chew great alternative raw hide si...      0     0   \n",
              "6   358645  love pork jerky good ban addictive suppose con...      0     0   \n",
              "7    92395  bought two different kind cracker without try ...      1     0   \n",
              "8   303440  glad write package pet food tuna look good eno...      0     0   \n",
              "9   104388  recipe absolutely call corn syrup use corn syr...      0     1   \n",
              "10  296305  second ingredient sugar need say more make bis...      1     0   \n",
              "11  214146  buy chocolate chocoholic husband no bad review...      0     0   \n",
              "12  343264  bought husband ultimate bacon lover look nice ...      1     1   \n",
              "13   47328  italy hazelnuts most common type nut love bake...      0     0   \n",
              "14  220693  recently discover dill weed fell love go bottl...      0     0   \n",
              "15  143912  cooky wonderful not sweet also great use cook ...      0     0   \n",
              "16   65037  buy someone bread machine absolutely love brea...      0     0   \n",
              "17  267460  great stuff best tuna ever good snack hors eur...      0     0   \n",
              "18  123569  love stuff much natural truly nutty hazelnut f...      0     0   \n",
              "19  226200  really nice flavor love extra thin style reall...      0     0   \n",
              "20  268938  think try brand hot chocolate keurig after buy...      0     1   \n",
              "21  195773  alternative trail mix uniquely delicious treat...      0     0   \n",
              "22  248555  originally post star review state nothing happ...      0     1   \n",
              "23  209886  wrong catagory arrive found chemical not natur...      1     1   \n",
              "24   95456  everyone really love coffee many think purchas...      0     0   \n",
              "25  153458  say teeth felt cleaner also hear side benefit ...      0     0   \n",
              "26    6758  good mild medium morning coffee offer option o...      0     0   \n",
              "27  280546  start use food after much research cat diagnos...      0     0   \n",
              "28  223934  great up malt meal hot cereal sunday morning g...      0     0   \n",
              "29  288245  buy pack oz bag bag contains approximately fun...      0     0   \n",
              "\n",
              "      pred_0    pred_1  \n",
              "0   0.998964  0.001036  \n",
              "1   0.998087  0.001913  \n",
              "2   0.334602  0.665398  \n",
              "3   0.886717  0.113283  \n",
              "4   0.993710  0.006290  \n",
              "5   0.896829  0.103171  \n",
              "6   0.750096  0.249904  \n",
              "7   0.467112  0.532888  \n",
              "8   0.975483  0.024517  \n",
              "9   0.122615  0.877385  \n",
              "10  0.885062  0.114938  \n",
              "11  0.652683  0.347317  \n",
              "12  0.045484  0.954516  \n",
              "13  0.802741  0.197259  \n",
              "14  0.973335  0.026665  \n",
              "15  0.986779  0.013221  \n",
              "16  0.965371  0.034629  \n",
              "17  0.997718  0.002282  \n",
              "18  0.974340  0.025660  \n",
              "19  0.993215  0.006785  \n",
              "20  0.099364  0.900636  \n",
              "21  0.994204  0.005796  \n",
              "22  0.256871  0.743129  \n",
              "23  0.007744  0.992256  \n",
              "24  0.483355  0.516645  \n",
              "25  0.981582  0.018418  \n",
              "26  0.581477  0.418523  \n",
              "27  0.925558  0.074442  \n",
              "28  0.867443  0.132557  \n",
              "29  0.896544  0.103456  "
            ],
            "text/html": [
              "\n",
              "  <div id=\"df-d68f4a3e-c3e9-4303-bdae-45743b38696b\">\n",
              "    <div class=\"colab-df-container\">\n",
              "      <div>\n",
              "<style scoped>\n",
              "    .dataframe tbody tr th:only-of-type {\n",
              "        vertical-align: middle;\n",
              "    }\n",
              "\n",
              "    .dataframe tbody tr th {\n",
              "        vertical-align: top;\n",
              "    }\n",
              "\n",
              "    .dataframe thead th {\n",
              "        text-align: right;\n",
              "    }\n",
              "</style>\n",
              "<table border=\"1\" class=\"dataframe\">\n",
              "  <thead>\n",
              "    <tr style=\"text-align: right;\">\n",
              "      <th></th>\n",
              "      <th>index</th>\n",
              "      <th>clean_review</th>\n",
              "      <th>Score</th>\n",
              "      <th>pred</th>\n",
              "      <th>pred_0</th>\n",
              "      <th>pred_1</th>\n",
              "    </tr>\n",
              "  </thead>\n",
              "  <tbody>\n",
              "    <tr>\n",
              "      <th>0</th>\n",
              "      <td>310861</td>\n",
              "      <td>graham cracker simply delicious love new packa...</td>\n",
              "      <td>0</td>\n",
              "      <td>0</td>\n",
              "      <td>0.998964</td>\n",
              "      <td>0.001036</td>\n",
              "    </tr>\n",
              "    <tr>\n",
              "      <th>1</th>\n",
              "      <td>49538</td>\n",
              "      <td>pharmacist recommend salt simply best taste sm...</td>\n",
              "      <td>0</td>\n",
              "      <td>0</td>\n",
              "      <td>0.998087</td>\n",
              "      <td>0.001913</td>\n",
              "    </tr>\n",
              "    <tr>\n",
              "      <th>2</th>\n",
              "      <td>73359</td>\n",
              "      <td>take awhile melt bottle cold water two minute ...</td>\n",
              "      <td>0</td>\n",
              "      <td>0</td>\n",
              "      <td>0.334602</td>\n",
              "      <td>0.665398</td>\n",
              "    </tr>\n",
              "    <tr>\n",
              "      <th>3</th>\n",
              "      <td>265741</td>\n",
              "      <td>try superfoods get down waste money still not ...</td>\n",
              "      <td>0</td>\n",
              "      <td>0</td>\n",
              "      <td>0.886717</td>\n",
              "      <td>0.113283</td>\n",
              "    </tr>\n",
              "    <tr>\n",
              "      <th>4</th>\n",
              "      <td>42431</td>\n",
              "      <td>not able get product area almost year ca belie...</td>\n",
              "      <td>0</td>\n",
              "      <td>0</td>\n",
              "      <td>0.993710</td>\n",
              "      <td>0.006290</td>\n",
              "    </tr>\n",
              "    <tr>\n",
              "      <th>5</th>\n",
              "      <td>211170</td>\n",
              "      <td>great value chew great alternative raw hide si...</td>\n",
              "      <td>0</td>\n",
              "      <td>0</td>\n",
              "      <td>0.896829</td>\n",
              "      <td>0.103171</td>\n",
              "    </tr>\n",
              "    <tr>\n",
              "      <th>6</th>\n",
              "      <td>358645</td>\n",
              "      <td>love pork jerky good ban addictive suppose con...</td>\n",
              "      <td>0</td>\n",
              "      <td>0</td>\n",
              "      <td>0.750096</td>\n",
              "      <td>0.249904</td>\n",
              "    </tr>\n",
              "    <tr>\n",
              "      <th>7</th>\n",
              "      <td>92395</td>\n",
              "      <td>bought two different kind cracker without try ...</td>\n",
              "      <td>1</td>\n",
              "      <td>0</td>\n",
              "      <td>0.467112</td>\n",
              "      <td>0.532888</td>\n",
              "    </tr>\n",
              "    <tr>\n",
              "      <th>8</th>\n",
              "      <td>303440</td>\n",
              "      <td>glad write package pet food tuna look good eno...</td>\n",
              "      <td>0</td>\n",
              "      <td>0</td>\n",
              "      <td>0.975483</td>\n",
              "      <td>0.024517</td>\n",
              "    </tr>\n",
              "    <tr>\n",
              "      <th>9</th>\n",
              "      <td>104388</td>\n",
              "      <td>recipe absolutely call corn syrup use corn syr...</td>\n",
              "      <td>0</td>\n",
              "      <td>1</td>\n",
              "      <td>0.122615</td>\n",
              "      <td>0.877385</td>\n",
              "    </tr>\n",
              "    <tr>\n",
              "      <th>10</th>\n",
              "      <td>296305</td>\n",
              "      <td>second ingredient sugar need say more make bis...</td>\n",
              "      <td>1</td>\n",
              "      <td>0</td>\n",
              "      <td>0.885062</td>\n",
              "      <td>0.114938</td>\n",
              "    </tr>\n",
              "    <tr>\n",
              "      <th>11</th>\n",
              "      <td>214146</td>\n",
              "      <td>buy chocolate chocoholic husband no bad review...</td>\n",
              "      <td>0</td>\n",
              "      <td>0</td>\n",
              "      <td>0.652683</td>\n",
              "      <td>0.347317</td>\n",
              "    </tr>\n",
              "    <tr>\n",
              "      <th>12</th>\n",
              "      <td>343264</td>\n",
              "      <td>bought husband ultimate bacon lover look nice ...</td>\n",
              "      <td>1</td>\n",
              "      <td>1</td>\n",
              "      <td>0.045484</td>\n",
              "      <td>0.954516</td>\n",
              "    </tr>\n",
              "    <tr>\n",
              "      <th>13</th>\n",
              "      <td>47328</td>\n",
              "      <td>italy hazelnuts most common type nut love bake...</td>\n",
              "      <td>0</td>\n",
              "      <td>0</td>\n",
              "      <td>0.802741</td>\n",
              "      <td>0.197259</td>\n",
              "    </tr>\n",
              "    <tr>\n",
              "      <th>14</th>\n",
              "      <td>220693</td>\n",
              "      <td>recently discover dill weed fell love go bottl...</td>\n",
              "      <td>0</td>\n",
              "      <td>0</td>\n",
              "      <td>0.973335</td>\n",
              "      <td>0.026665</td>\n",
              "    </tr>\n",
              "    <tr>\n",
              "      <th>15</th>\n",
              "      <td>143912</td>\n",
              "      <td>cooky wonderful not sweet also great use cook ...</td>\n",
              "      <td>0</td>\n",
              "      <td>0</td>\n",
              "      <td>0.986779</td>\n",
              "      <td>0.013221</td>\n",
              "    </tr>\n",
              "    <tr>\n",
              "      <th>16</th>\n",
              "      <td>65037</td>\n",
              "      <td>buy someone bread machine absolutely love brea...</td>\n",
              "      <td>0</td>\n",
              "      <td>0</td>\n",
              "      <td>0.965371</td>\n",
              "      <td>0.034629</td>\n",
              "    </tr>\n",
              "    <tr>\n",
              "      <th>17</th>\n",
              "      <td>267460</td>\n",
              "      <td>great stuff best tuna ever good snack hors eur...</td>\n",
              "      <td>0</td>\n",
              "      <td>0</td>\n",
              "      <td>0.997718</td>\n",
              "      <td>0.002282</td>\n",
              "    </tr>\n",
              "    <tr>\n",
              "      <th>18</th>\n",
              "      <td>123569</td>\n",
              "      <td>love stuff much natural truly nutty hazelnut f...</td>\n",
              "      <td>0</td>\n",
              "      <td>0</td>\n",
              "      <td>0.974340</td>\n",
              "      <td>0.025660</td>\n",
              "    </tr>\n",
              "    <tr>\n",
              "      <th>19</th>\n",
              "      <td>226200</td>\n",
              "      <td>really nice flavor love extra thin style reall...</td>\n",
              "      <td>0</td>\n",
              "      <td>0</td>\n",
              "      <td>0.993215</td>\n",
              "      <td>0.006785</td>\n",
              "    </tr>\n",
              "    <tr>\n",
              "      <th>20</th>\n",
              "      <td>268938</td>\n",
              "      <td>think try brand hot chocolate keurig after buy...</td>\n",
              "      <td>0</td>\n",
              "      <td>1</td>\n",
              "      <td>0.099364</td>\n",
              "      <td>0.900636</td>\n",
              "    </tr>\n",
              "    <tr>\n",
              "      <th>21</th>\n",
              "      <td>195773</td>\n",
              "      <td>alternative trail mix uniquely delicious treat...</td>\n",
              "      <td>0</td>\n",
              "      <td>0</td>\n",
              "      <td>0.994204</td>\n",
              "      <td>0.005796</td>\n",
              "    </tr>\n",
              "    <tr>\n",
              "      <th>22</th>\n",
              "      <td>248555</td>\n",
              "      <td>originally post star review state nothing happ...</td>\n",
              "      <td>0</td>\n",
              "      <td>1</td>\n",
              "      <td>0.256871</td>\n",
              "      <td>0.743129</td>\n",
              "    </tr>\n",
              "    <tr>\n",
              "      <th>23</th>\n",
              "      <td>209886</td>\n",
              "      <td>wrong catagory arrive found chemical not natur...</td>\n",
              "      <td>1</td>\n",
              "      <td>1</td>\n",
              "      <td>0.007744</td>\n",
              "      <td>0.992256</td>\n",
              "    </tr>\n",
              "    <tr>\n",
              "      <th>24</th>\n",
              "      <td>95456</td>\n",
              "      <td>everyone really love coffee many think purchas...</td>\n",
              "      <td>0</td>\n",
              "      <td>0</td>\n",
              "      <td>0.483355</td>\n",
              "      <td>0.516645</td>\n",
              "    </tr>\n",
              "    <tr>\n",
              "      <th>25</th>\n",
              "      <td>153458</td>\n",
              "      <td>say teeth felt cleaner also hear side benefit ...</td>\n",
              "      <td>0</td>\n",
              "      <td>0</td>\n",
              "      <td>0.981582</td>\n",
              "      <td>0.018418</td>\n",
              "    </tr>\n",
              "    <tr>\n",
              "      <th>26</th>\n",
              "      <td>6758</td>\n",
              "      <td>good mild medium morning coffee offer option o...</td>\n",
              "      <td>0</td>\n",
              "      <td>0</td>\n",
              "      <td>0.581477</td>\n",
              "      <td>0.418523</td>\n",
              "    </tr>\n",
              "    <tr>\n",
              "      <th>27</th>\n",
              "      <td>280546</td>\n",
              "      <td>start use food after much research cat diagnos...</td>\n",
              "      <td>0</td>\n",
              "      <td>0</td>\n",
              "      <td>0.925558</td>\n",
              "      <td>0.074442</td>\n",
              "    </tr>\n",
              "    <tr>\n",
              "      <th>28</th>\n",
              "      <td>223934</td>\n",
              "      <td>great up malt meal hot cereal sunday morning g...</td>\n",
              "      <td>0</td>\n",
              "      <td>0</td>\n",
              "      <td>0.867443</td>\n",
              "      <td>0.132557</td>\n",
              "    </tr>\n",
              "    <tr>\n",
              "      <th>29</th>\n",
              "      <td>288245</td>\n",
              "      <td>buy pack oz bag bag contains approximately fun...</td>\n",
              "      <td>0</td>\n",
              "      <td>0</td>\n",
              "      <td>0.896544</td>\n",
              "      <td>0.103456</td>\n",
              "    </tr>\n",
              "  </tbody>\n",
              "</table>\n",
              "</div>\n",
              "      <button class=\"colab-df-convert\" onclick=\"convertToInteractive('df-d68f4a3e-c3e9-4303-bdae-45743b38696b')\"\n",
              "              title=\"Convert this dataframe to an interactive table.\"\n",
              "              style=\"display:none;\">\n",
              "        \n",
              "  <svg xmlns=\"http://www.w3.org/2000/svg\" height=\"24px\"viewBox=\"0 0 24 24\"\n",
              "       width=\"24px\">\n",
              "    <path d=\"M0 0h24v24H0V0z\" fill=\"none\"/>\n",
              "    <path d=\"M18.56 5.44l.94 2.06.94-2.06 2.06-.94-2.06-.94-.94-2.06-.94 2.06-2.06.94zm-11 1L8.5 8.5l.94-2.06 2.06-.94-2.06-.94L8.5 2.5l-.94 2.06-2.06.94zm10 10l.94 2.06.94-2.06 2.06-.94-2.06-.94-.94-2.06-.94 2.06-2.06.94z\"/><path d=\"M17.41 7.96l-1.37-1.37c-.4-.4-.92-.59-1.43-.59-.52 0-1.04.2-1.43.59L10.3 9.45l-7.72 7.72c-.78.78-.78 2.05 0 2.83L4 21.41c.39.39.9.59 1.41.59.51 0 1.02-.2 1.41-.59l7.78-7.78 2.81-2.81c.8-.78.8-2.07 0-2.86zM5.41 20L4 18.59l7.72-7.72 1.47 1.35L5.41 20z\"/>\n",
              "  </svg>\n",
              "      </button>\n",
              "      \n",
              "  <style>\n",
              "    .colab-df-container {\n",
              "      display:flex;\n",
              "      flex-wrap:wrap;\n",
              "      gap: 12px;\n",
              "    }\n",
              "\n",
              "    .colab-df-convert {\n",
              "      background-color: #E8F0FE;\n",
              "      border: none;\n",
              "      border-radius: 50%;\n",
              "      cursor: pointer;\n",
              "      display: none;\n",
              "      fill: #1967D2;\n",
              "      height: 32px;\n",
              "      padding: 0 0 0 0;\n",
              "      width: 32px;\n",
              "    }\n",
              "\n",
              "    .colab-df-convert:hover {\n",
              "      background-color: #E2EBFA;\n",
              "      box-shadow: 0px 1px 2px rgba(60, 64, 67, 0.3), 0px 1px 3px 1px rgba(60, 64, 67, 0.15);\n",
              "      fill: #174EA6;\n",
              "    }\n",
              "\n",
              "    [theme=dark] .colab-df-convert {\n",
              "      background-color: #3B4455;\n",
              "      fill: #D2E3FC;\n",
              "    }\n",
              "\n",
              "    [theme=dark] .colab-df-convert:hover {\n",
              "      background-color: #434B5C;\n",
              "      box-shadow: 0px 1px 3px 1px rgba(0, 0, 0, 0.15);\n",
              "      filter: drop-shadow(0px 1px 2px rgba(0, 0, 0, 0.3));\n",
              "      fill: #FFFFFF;\n",
              "    }\n",
              "  </style>\n",
              "\n",
              "      <script>\n",
              "        const buttonEl =\n",
              "          document.querySelector('#df-d68f4a3e-c3e9-4303-bdae-45743b38696b button.colab-df-convert');\n",
              "        buttonEl.style.display =\n",
              "          google.colab.kernel.accessAllowed ? 'block' : 'none';\n",
              "\n",
              "        async function convertToInteractive(key) {\n",
              "          const element = document.querySelector('#df-d68f4a3e-c3e9-4303-bdae-45743b38696b');\n",
              "          const dataTable =\n",
              "            await google.colab.kernel.invokeFunction('convertToInteractive',\n",
              "                                                     [key], {});\n",
              "          if (!dataTable) return;\n",
              "\n",
              "          const docLinkHtml = 'Like what you see? Visit the ' +\n",
              "            '<a target=\"_blank\" href=https://colab.research.google.com/notebooks/data_table.ipynb>data table notebook</a>'\n",
              "            + ' to learn more about interactive tables.';\n",
              "          element.innerHTML = '';\n",
              "          dataTable['output_type'] = 'display_data';\n",
              "          await google.colab.output.renderOutput(dataTable, element);\n",
              "          const docLink = document.createElement('div');\n",
              "          docLink.innerHTML = docLinkHtml;\n",
              "          element.appendChild(docLink);\n",
              "        }\n",
              "      </script>\n",
              "    </div>\n",
              "  </div>\n",
              "  "
            ]
          },
          "metadata": {},
          "execution_count": 378
        }
      ]
    },
    {
      "cell_type": "code",
      "source": [],
      "metadata": {
        "id": "R3HHgNgR47hX"
      },
      "execution_count": null,
      "outputs": []
    },
    {
      "cell_type": "code",
      "source": [],
      "metadata": {
        "id": "sIK2UXlW1bZ9"
      },
      "execution_count": null,
      "outputs": []
    },
    {
      "cell_type": "markdown",
      "source": [
        "## END"
      ],
      "metadata": {
        "id": "cpI5-qbGsgx4"
      }
    },
    {
      "cell_type": "code",
      "source": [],
      "metadata": {
        "id": "diKKg944tnfg"
      },
      "execution_count": null,
      "outputs": []
    }
  ],
  "metadata": {
    "colab": {
      "toc_visible": true,
      "provenance": []
    },
    "kernelspec": {
      "display_name": "Python 3",
      "name": "python3"
    },
    "language_info": {
      "name": "python"
    },
    "widgets": {
      "application/vnd.jupyter.widget-state+json": {
        "b5b094e5be264149a3738557f6f491d2": {
          "model_module": "@jupyter-widgets/controls",
          "model_name": "HBoxModel",
          "model_module_version": "1.5.0",
          "state": {
            "_dom_classes": [],
            "_model_module": "@jupyter-widgets/controls",
            "_model_module_version": "1.5.0",
            "_model_name": "HBoxModel",
            "_view_count": null,
            "_view_module": "@jupyter-widgets/controls",
            "_view_module_version": "1.5.0",
            "_view_name": "HBoxView",
            "box_style": "",
            "children": [
              "IPY_MODEL_a06cf0b5631247f4869fed99237d7680",
              "IPY_MODEL_d40d92e7378c4624a3ad6cd0a7180864",
              "IPY_MODEL_4368dc2fa04c423d8eeb9cfe2c06bab8"
            ],
            "layout": "IPY_MODEL_a04022f65dee43e6b23704f6f20e5929"
          }
        },
        "a06cf0b5631247f4869fed99237d7680": {
          "model_module": "@jupyter-widgets/controls",
          "model_name": "HTMLModel",
          "model_module_version": "1.5.0",
          "state": {
            "_dom_classes": [],
            "_model_module": "@jupyter-widgets/controls",
            "_model_module_version": "1.5.0",
            "_model_name": "HTMLModel",
            "_view_count": null,
            "_view_module": "@jupyter-widgets/controls",
            "_view_module_version": "1.5.0",
            "_view_name": "HTMLView",
            "description": "",
            "description_tooltip": null,
            "layout": "IPY_MODEL_36bb11c98df2403aacbf42d47c46d766",
            "placeholder": "​",
            "style": "IPY_MODEL_11bf0e9865b446c3a30bb4b14ace0d75",
            "value": "Pandas Apply: 100%"
          }
        },
        "d40d92e7378c4624a3ad6cd0a7180864": {
          "model_module": "@jupyter-widgets/controls",
          "model_name": "FloatProgressModel",
          "model_module_version": "1.5.0",
          "state": {
            "_dom_classes": [],
            "_model_module": "@jupyter-widgets/controls",
            "_model_module_version": "1.5.0",
            "_model_name": "FloatProgressModel",
            "_view_count": null,
            "_view_module": "@jupyter-widgets/controls",
            "_view_module_version": "1.5.0",
            "_view_name": "ProgressView",
            "bar_style": "success",
            "description": "",
            "description_tooltip": null,
            "layout": "IPY_MODEL_5b3f96786b8545f480f669e0aa806789",
            "max": 365291,
            "min": 0,
            "orientation": "horizontal",
            "style": "IPY_MODEL_260f0da1d5ae44c5928a4aa41422d552",
            "value": 365291
          }
        },
        "4368dc2fa04c423d8eeb9cfe2c06bab8": {
          "model_module": "@jupyter-widgets/controls",
          "model_name": "HTMLModel",
          "model_module_version": "1.5.0",
          "state": {
            "_dom_classes": [],
            "_model_module": "@jupyter-widgets/controls",
            "_model_module_version": "1.5.0",
            "_model_name": "HTMLModel",
            "_view_count": null,
            "_view_module": "@jupyter-widgets/controls",
            "_view_module_version": "1.5.0",
            "_view_name": "HTMLView",
            "description": "",
            "description_tooltip": null,
            "layout": "IPY_MODEL_2f90d2da877a40359b12fd26cac1536d",
            "placeholder": "​",
            "style": "IPY_MODEL_23cac0c9df134c939c2ae25c113a169a",
            "value": " 365291/365291 [40:52&lt;00:00, 187.01it/s]"
          }
        },
        "a04022f65dee43e6b23704f6f20e5929": {
          "model_module": "@jupyter-widgets/base",
          "model_name": "LayoutModel",
          "model_module_version": "1.2.0",
          "state": {
            "_model_module": "@jupyter-widgets/base",
            "_model_module_version": "1.2.0",
            "_model_name": "LayoutModel",
            "_view_count": null,
            "_view_module": "@jupyter-widgets/base",
            "_view_module_version": "1.2.0",
            "_view_name": "LayoutView",
            "align_content": null,
            "align_items": null,
            "align_self": null,
            "border": null,
            "bottom": null,
            "display": null,
            "flex": null,
            "flex_flow": null,
            "grid_area": null,
            "grid_auto_columns": null,
            "grid_auto_flow": null,
            "grid_auto_rows": null,
            "grid_column": null,
            "grid_gap": null,
            "grid_row": null,
            "grid_template_areas": null,
            "grid_template_columns": null,
            "grid_template_rows": null,
            "height": null,
            "justify_content": null,
            "justify_items": null,
            "left": null,
            "margin": null,
            "max_height": null,
            "max_width": null,
            "min_height": null,
            "min_width": null,
            "object_fit": null,
            "object_position": null,
            "order": null,
            "overflow": null,
            "overflow_x": null,
            "overflow_y": null,
            "padding": null,
            "right": null,
            "top": null,
            "visibility": null,
            "width": null
          }
        },
        "36bb11c98df2403aacbf42d47c46d766": {
          "model_module": "@jupyter-widgets/base",
          "model_name": "LayoutModel",
          "model_module_version": "1.2.0",
          "state": {
            "_model_module": "@jupyter-widgets/base",
            "_model_module_version": "1.2.0",
            "_model_name": "LayoutModel",
            "_view_count": null,
            "_view_module": "@jupyter-widgets/base",
            "_view_module_version": "1.2.0",
            "_view_name": "LayoutView",
            "align_content": null,
            "align_items": null,
            "align_self": null,
            "border": null,
            "bottom": null,
            "display": null,
            "flex": null,
            "flex_flow": null,
            "grid_area": null,
            "grid_auto_columns": null,
            "grid_auto_flow": null,
            "grid_auto_rows": null,
            "grid_column": null,
            "grid_gap": null,
            "grid_row": null,
            "grid_template_areas": null,
            "grid_template_columns": null,
            "grid_template_rows": null,
            "height": null,
            "justify_content": null,
            "justify_items": null,
            "left": null,
            "margin": null,
            "max_height": null,
            "max_width": null,
            "min_height": null,
            "min_width": null,
            "object_fit": null,
            "object_position": null,
            "order": null,
            "overflow": null,
            "overflow_x": null,
            "overflow_y": null,
            "padding": null,
            "right": null,
            "top": null,
            "visibility": null,
            "width": null
          }
        },
        "11bf0e9865b446c3a30bb4b14ace0d75": {
          "model_module": "@jupyter-widgets/controls",
          "model_name": "DescriptionStyleModel",
          "model_module_version": "1.5.0",
          "state": {
            "_model_module": "@jupyter-widgets/controls",
            "_model_module_version": "1.5.0",
            "_model_name": "DescriptionStyleModel",
            "_view_count": null,
            "_view_module": "@jupyter-widgets/base",
            "_view_module_version": "1.2.0",
            "_view_name": "StyleView",
            "description_width": ""
          }
        },
        "5b3f96786b8545f480f669e0aa806789": {
          "model_module": "@jupyter-widgets/base",
          "model_name": "LayoutModel",
          "model_module_version": "1.2.0",
          "state": {
            "_model_module": "@jupyter-widgets/base",
            "_model_module_version": "1.2.0",
            "_model_name": "LayoutModel",
            "_view_count": null,
            "_view_module": "@jupyter-widgets/base",
            "_view_module_version": "1.2.0",
            "_view_name": "LayoutView",
            "align_content": null,
            "align_items": null,
            "align_self": null,
            "border": null,
            "bottom": null,
            "display": null,
            "flex": null,
            "flex_flow": null,
            "grid_area": null,
            "grid_auto_columns": null,
            "grid_auto_flow": null,
            "grid_auto_rows": null,
            "grid_column": null,
            "grid_gap": null,
            "grid_row": null,
            "grid_template_areas": null,
            "grid_template_columns": null,
            "grid_template_rows": null,
            "height": null,
            "justify_content": null,
            "justify_items": null,
            "left": null,
            "margin": null,
            "max_height": null,
            "max_width": null,
            "min_height": null,
            "min_width": null,
            "object_fit": null,
            "object_position": null,
            "order": null,
            "overflow": null,
            "overflow_x": null,
            "overflow_y": null,
            "padding": null,
            "right": null,
            "top": null,
            "visibility": null,
            "width": null
          }
        },
        "260f0da1d5ae44c5928a4aa41422d552": {
          "model_module": "@jupyter-widgets/controls",
          "model_name": "ProgressStyleModel",
          "model_module_version": "1.5.0",
          "state": {
            "_model_module": "@jupyter-widgets/controls",
            "_model_module_version": "1.5.0",
            "_model_name": "ProgressStyleModel",
            "_view_count": null,
            "_view_module": "@jupyter-widgets/base",
            "_view_module_version": "1.2.0",
            "_view_name": "StyleView",
            "bar_color": null,
            "description_width": ""
          }
        },
        "2f90d2da877a40359b12fd26cac1536d": {
          "model_module": "@jupyter-widgets/base",
          "model_name": "LayoutModel",
          "model_module_version": "1.2.0",
          "state": {
            "_model_module": "@jupyter-widgets/base",
            "_model_module_version": "1.2.0",
            "_model_name": "LayoutModel",
            "_view_count": null,
            "_view_module": "@jupyter-widgets/base",
            "_view_module_version": "1.2.0",
            "_view_name": "LayoutView",
            "align_content": null,
            "align_items": null,
            "align_self": null,
            "border": null,
            "bottom": null,
            "display": null,
            "flex": null,
            "flex_flow": null,
            "grid_area": null,
            "grid_auto_columns": null,
            "grid_auto_flow": null,
            "grid_auto_rows": null,
            "grid_column": null,
            "grid_gap": null,
            "grid_row": null,
            "grid_template_areas": null,
            "grid_template_columns": null,
            "grid_template_rows": null,
            "height": null,
            "justify_content": null,
            "justify_items": null,
            "left": null,
            "margin": null,
            "max_height": null,
            "max_width": null,
            "min_height": null,
            "min_width": null,
            "object_fit": null,
            "object_position": null,
            "order": null,
            "overflow": null,
            "overflow_x": null,
            "overflow_y": null,
            "padding": null,
            "right": null,
            "top": null,
            "visibility": null,
            "width": null
          }
        },
        "23cac0c9df134c939c2ae25c113a169a": {
          "model_module": "@jupyter-widgets/controls",
          "model_name": "DescriptionStyleModel",
          "model_module_version": "1.5.0",
          "state": {
            "_model_module": "@jupyter-widgets/controls",
            "_model_module_version": "1.5.0",
            "_model_name": "DescriptionStyleModel",
            "_view_count": null,
            "_view_module": "@jupyter-widgets/base",
            "_view_module_version": "1.2.0",
            "_view_name": "StyleView",
            "description_width": ""
          }
        }
      }
    }
  },
  "nbformat": 4,
  "nbformat_minor": 0
}