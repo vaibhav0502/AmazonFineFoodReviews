{
 "cells": [
  {
   "cell_type": "code",
   "execution_count": 13,
   "metadata": {},
   "outputs": [],
   "source": [
    "import numpy as np\n",
    "import pandas as pd\n",
    "import matplotlib.pyplot as plt\n",
    "import os\n",
    "data=pd.read_csv(r\"D:\\ML\\Amazon Fine Food\\Reviews.csv\",sep=',')"
   ]
  },
  {
   "cell_type": "code",
   "execution_count": 14,
   "metadata": {},
   "outputs": [
    {
     "name": "stderr",
     "output_type": "stream",
     "text": [
      "D:\\Anaconda\\lib\\site-packages\\pandas\\core\\indexing.py:543: SettingWithCopyWarning: \n",
      "A value is trying to be set on a copy of a slice from a DataFrame.\n",
      "Try using .loc[row_indexer,col_indexer] = value instead\n",
      "\n",
      "See the caveats in the documentation: http://pandas.pydata.org/pandas-docs/stable/indexing.html#indexing-view-versus-copy\n",
      "  self.obj[item] = s\n"
     ]
    }
   ],
   "source": [
    "df=pd.DataFrame(data)\n",
    "data1 = df[df['Score'] != 3]\n",
    "data1.loc[data.Score >3,'Score'] = 1\n",
    "data1.loc[data.Score <3,'Score'] = 0"
   ]
  },
  {
   "cell_type": "code",
   "execution_count": 15,
   "metadata": {},
   "outputs": [
    {
     "data": {
      "text/plain": [
       "'\\ncount_Class=pd.value_counts(data1[\"Score\"]==1, sort= True)\\ncount_Class.plot(kind= \\'bar\\', color= [\"blue\", \"orange\"])\\nplt.title(\\'Bar chart\\')\\nplt.show()\\nprint(count_Class)\\n'"
      ]
     },
     "execution_count": 15,
     "metadata": {},
     "output_type": "execute_result"
    }
   ],
   "source": [
    "'''\n",
    "count_Class=pd.value_counts(data1[\"Score\"]==1, sort= True)\n",
    "count_Class.plot(kind= 'bar', color= [\"blue\", \"orange\"])\n",
    "plt.title('Bar chart')\n",
    "plt.show()\n",
    "print(count_Class)\n",
    "'''"
   ]
  },
  {
   "cell_type": "code",
   "execution_count": 31,
   "metadata": {},
   "outputs": [
    {
     "data": {
      "text/plain": [
       "(364173, 5)"
      ]
     },
     "execution_count": 31,
     "metadata": {},
     "output_type": "execute_result"
    }
   ],
   "source": [
    "sort_data = data1.sort_values(by=[\"ProductId\"], axis=0, ascending=True, inplace=False, kind='quicksort', na_position='last')\n",
    "\n",
    "fields=[\"UserId\",\"ProfileName\",\"Time\",\"Text\",\"Score\"]\n",
    "sort_by_column = pd.DataFrame(sort_data,columns=fields)\n",
    "sort_by_column.shape\n",
    "\n",
    "#show only duplicated data\n",
    "dup=sort_by_column[sort_data.duplicated(['UserId','ProfileName','Time','Text'])]\n",
    "dup.shape\n",
    "\n",
    "#drop duplicates from sorted dataframe\n",
    "#dup_drop=sort_by_column.drop_duplicates(['Text'],keep='first')\n",
    "dup_drop=sort_by_column.drop_duplicates(['UserId','ProfileName','Time','Text'],keep='first')\n",
    "dup_drop.shape"
   ]
  },
  {
   "cell_type": "code",
   "execution_count": 32,
   "metadata": {},
   "outputs": [
    {
     "data": {
      "text/html": [
       "<div>\n",
       "<style scoped>\n",
       "    .dataframe tbody tr th:only-of-type {\n",
       "        vertical-align: middle;\n",
       "    }\n",
       "\n",
       "    .dataframe tbody tr th {\n",
       "        vertical-align: top;\n",
       "    }\n",
       "\n",
       "    .dataframe thead th {\n",
       "        text-align: right;\n",
       "    }\n",
       "</style>\n",
       "<table border=\"1\" class=\"dataframe\">\n",
       "  <thead>\n",
       "    <tr style=\"text-align: right;\">\n",
       "      <th></th>\n",
       "      <th>UserId</th>\n",
       "      <th>ProfileName</th>\n",
       "      <th>Time</th>\n",
       "      <th>Text</th>\n",
       "      <th>Score</th>\n",
       "    </tr>\n",
       "  </thead>\n",
       "  <tbody>\n",
       "    <tr>\n",
       "      <th>150523</th>\n",
       "      <td>ACITT7DI6IDDL</td>\n",
       "      <td>shari zychinski</td>\n",
       "      <td>939340800</td>\n",
       "      <td>this witty little book makes my son laugh at l...</td>\n",
       "      <td>1</td>\n",
       "    </tr>\n",
       "    <tr>\n",
       "      <th>150505</th>\n",
       "      <td>A2IW4PEEKO2R0U</td>\n",
       "      <td>Tracy</td>\n",
       "      <td>1194739200</td>\n",
       "      <td>I grew up reading these Sendak books, and watc...</td>\n",
       "      <td>1</td>\n",
       "    </tr>\n",
       "    <tr>\n",
       "      <th>150506</th>\n",
       "      <td>A1S4A3IQ2MU7V4</td>\n",
       "      <td>sally sue \"sally sue\"</td>\n",
       "      <td>1191456000</td>\n",
       "      <td>This is a fun way for children to learn their ...</td>\n",
       "      <td>1</td>\n",
       "    </tr>\n",
       "    <tr>\n",
       "      <th>150507</th>\n",
       "      <td>AZGXZ2UUK6X</td>\n",
       "      <td>Catherine Hallberg \"(Kate)\"</td>\n",
       "      <td>1076025600</td>\n",
       "      <td>This is a great little book to read aloud- it ...</td>\n",
       "      <td>1</td>\n",
       "    </tr>\n",
       "    <tr>\n",
       "      <th>150508</th>\n",
       "      <td>A3CMRKGE0P909G</td>\n",
       "      <td>Teresa</td>\n",
       "      <td>1018396800</td>\n",
       "      <td>This is a book of poetry about the months of t...</td>\n",
       "      <td>1</td>\n",
       "    </tr>\n",
       "    <tr>\n",
       "      <th>150510</th>\n",
       "      <td>A1C9K534BCI9GO</td>\n",
       "      <td>Laura Purdie Salas</td>\n",
       "      <td>1344211200</td>\n",
       "      <td>A charming, rhyming book that describes the ci...</td>\n",
       "      <td>1</td>\n",
       "    </tr>\n",
       "    <tr>\n",
       "      <th>150511</th>\n",
       "      <td>A1DJXZA5V5FFVA</td>\n",
       "      <td>A. Conway</td>\n",
       "      <td>1338249600</td>\n",
       "      <td>I set aside at least an hour each day to read ...</td>\n",
       "      <td>1</td>\n",
       "    </tr>\n",
       "    <tr>\n",
       "      <th>150512</th>\n",
       "      <td>ASH0DZQQF6AIZ</td>\n",
       "      <td>tessarat</td>\n",
       "      <td>1325721600</td>\n",
       "      <td>I remembered this book from my childhood and g...</td>\n",
       "      <td>1</td>\n",
       "    </tr>\n",
       "    <tr>\n",
       "      <th>150513</th>\n",
       "      <td>A2ONB6ZA292PA</td>\n",
       "      <td>Rosalind Matzner</td>\n",
       "      <td>1313884800</td>\n",
       "      <td>It's a great book with adorable illustrations....</td>\n",
       "      <td>1</td>\n",
       "    </tr>\n",
       "    <tr>\n",
       "      <th>150514</th>\n",
       "      <td>A2RTT81R6Y3R7X</td>\n",
       "      <td>Lindylu</td>\n",
       "      <td>1303171200</td>\n",
       "      <td>This book is a family favorite and was read to...</td>\n",
       "      <td>1</td>\n",
       "    </tr>\n",
       "    <tr>\n",
       "      <th>150504</th>\n",
       "      <td>A2PTSM496CF40Z</td>\n",
       "      <td>Jason A. Teeple \"Nobody made a greater mistak...</td>\n",
       "      <td>1210809600</td>\n",
       "      <td>Get the movie or sound track and sing along wi...</td>\n",
       "      <td>1</td>\n",
       "    </tr>\n",
       "    <tr>\n",
       "      <th>150515</th>\n",
       "      <td>A3OI7ZGH6WZJ5G</td>\n",
       "      <td>Mary Jane Rogers \"Maedchen\"</td>\n",
       "      <td>1293840000</td>\n",
       "      <td>The same author wrote \"Where the Wild Things A...</td>\n",
       "      <td>1</td>\n",
       "    </tr>\n",
       "    <tr>\n",
       "      <th>150517</th>\n",
       "      <td>AK1L4EJBA23JF</td>\n",
       "      <td>L. M. Kraus</td>\n",
       "      <td>1288224000</td>\n",
       "      <td>Great book, perfect condition arrived in a sho...</td>\n",
       "      <td>1</td>\n",
       "    </tr>\n",
       "    <tr>\n",
       "      <th>150518</th>\n",
       "      <td>A12HY5OZ2QNK4N</td>\n",
       "      <td>Elizabeth H. Roessner</td>\n",
       "      <td>1256774400</td>\n",
       "      <td>I've always loved chicken soup and rice. My la...</td>\n",
       "      <td>1</td>\n",
       "    </tr>\n",
       "    <tr>\n",
       "      <th>150519</th>\n",
       "      <td>ADBFSA9KTQANE</td>\n",
       "      <td>James L. Hammock \"Pucks Buddy\"</td>\n",
       "      <td>1256688000</td>\n",
       "      <td>This book was purchased as a birthday gift for...</td>\n",
       "      <td>1</td>\n",
       "    </tr>\n",
       "    <tr>\n",
       "      <th>150520</th>\n",
       "      <td>A3RMCRB2NDTDYP</td>\n",
       "      <td>Carol Carruthers</td>\n",
       "      <td>1243468800</td>\n",
       "      <td>My 7 year old daughter brought this book home ...</td>\n",
       "      <td>1</td>\n",
       "    </tr>\n",
       "    <tr>\n",
       "      <th>150521</th>\n",
       "      <td>A1S3C5OFU508P3</td>\n",
       "      <td>Charles Ashbacher</td>\n",
       "      <td>1219536000</td>\n",
       "      <td>This book contains a collection of twelve shor...</td>\n",
       "      <td>1</td>\n",
       "    </tr>\n",
       "    <tr>\n",
       "      <th>150522</th>\n",
       "      <td>A2P4F2UO0UMP8C</td>\n",
       "      <td>Elizabeth A. Curry \"Lovely Librarian\"</td>\n",
       "      <td>1096675200</td>\n",
       "      <td>Summary:  A young boy describes the usefulness...</td>\n",
       "      <td>1</td>\n",
       "    </tr>\n",
       "    <tr>\n",
       "      <th>150524</th>\n",
       "      <td>A2QID6VCFTY51R</td>\n",
       "      <td>Rick</td>\n",
       "      <td>1025481600</td>\n",
       "      <td>My daughter loves all the \"Really Rosie\" books...</td>\n",
       "      <td>1</td>\n",
       "    </tr>\n",
       "    <tr>\n",
       "      <th>150525</th>\n",
       "      <td>A3E9QZFE9KXH8J</td>\n",
       "      <td>R. Mitchell</td>\n",
       "      <td>1129507200</td>\n",
       "      <td>This is one of the best children's books ever ...</td>\n",
       "      <td>0</td>\n",
       "    </tr>\n",
       "    <tr>\n",
       "      <th>150528</th>\n",
       "      <td>A25ACLV5KPB4W</td>\n",
       "      <td>Matt Hetling \"Matt\"</td>\n",
       "      <td>1108425600</td>\n",
       "      <td>In June&lt;br /&gt;I saw a charming group&lt;br /&gt;of ro...</td>\n",
       "      <td>1</td>\n",
       "    </tr>\n",
       "    <tr>\n",
       "      <th>150516</th>\n",
       "      <td>ABW4IC5G5G8B5</td>\n",
       "      <td>kevin clark</td>\n",
       "      <td>1291075200</td>\n",
       "      <td>Classic children's book, can't go wrong. I rea...</td>\n",
       "      <td>1</td>\n",
       "    </tr>\n",
       "    <tr>\n",
       "      <th>150503</th>\n",
       "      <td>AQEYF1AXARWJZ</td>\n",
       "      <td>Les Sinclair \"book maven\"</td>\n",
       "      <td>1212278400</td>\n",
       "      <td>A very entertaining rhyming story--cleaver and...</td>\n",
       "      <td>1</td>\n",
       "    </tr>\n",
       "    <tr>\n",
       "      <th>150509</th>\n",
       "      <td>AM1MNZMYMS7D8</td>\n",
       "      <td>Dr. Joshua  Grossman</td>\n",
       "      <td>1348358400</td>\n",
       "      <td>TITLE: Chicken Soup with Rice&lt;br /&gt;AUTHOR: Mau...</td>\n",
       "      <td>1</td>\n",
       "    </tr>\n",
       "    <tr>\n",
       "      <th>150497</th>\n",
       "      <td>A3SJWISOCP31TR</td>\n",
       "      <td>R. J. Wells</td>\n",
       "      <td>1176336000</td>\n",
       "      <td>This is a wonderful little book. I loved it 40...</td>\n",
       "      <td>1</td>\n",
       "    </tr>\n",
       "    <tr>\n",
       "      <th>150493</th>\n",
       "      <td>AYZ0PR5QZROD1</td>\n",
       "      <td>Mother of 3 girls</td>\n",
       "      <td>1173312000</td>\n",
       "      <td>All of my children love this book.  My first g...</td>\n",
       "      <td>1</td>\n",
       "    </tr>\n",
       "    <tr>\n",
       "      <th>150495</th>\n",
       "      <td>A3KKR87BJ0C595</td>\n",
       "      <td>Gretchen Goodfellow \"Lover of children's lit\"</td>\n",
       "      <td>1111363200</td>\n",
       "      <td>One of my earliest memories is of this book.  ...</td>\n",
       "      <td>1</td>\n",
       "    </tr>\n",
       "    <tr>\n",
       "      <th>150502</th>\n",
       "      <td>A3R5XMPFU8YZ4D</td>\n",
       "      <td>Her Royal Motherliness \"Nana\"</td>\n",
       "      <td>1233964800</td>\n",
       "      <td>This is my grand daughter's and my favorite bo...</td>\n",
       "      <td>1</td>\n",
       "    </tr>\n",
       "    <tr>\n",
       "      <th>150501</th>\n",
       "      <td>AVFMJ50HNO21J</td>\n",
       "      <td>Jane Doe</td>\n",
       "      <td>1324944000</td>\n",
       "      <td>This copy is smaller than I expected (mostly b...</td>\n",
       "      <td>1</td>\n",
       "    </tr>\n",
       "    <tr>\n",
       "      <th>150496</th>\n",
       "      <td>A1HKYQOFC8ZZCH</td>\n",
       "      <td>Maria Apolloni \"lanarossa\"</td>\n",
       "      <td>1334707200</td>\n",
       "      <td>I give five stars to the Maurice Sendak story....</td>\n",
       "      <td>0</td>\n",
       "    </tr>\n",
       "    <tr>\n",
       "      <th>...</th>\n",
       "      <td>...</td>\n",
       "      <td>...</td>\n",
       "      <td>...</td>\n",
       "      <td>...</td>\n",
       "      <td>...</td>\n",
       "    </tr>\n",
       "    <tr>\n",
       "      <th>38511</th>\n",
       "      <td>A2YWHBF45M64S2</td>\n",
       "      <td>EcyMom</td>\n",
       "      <td>1350864000</td>\n",
       "      <td>This Trader Joe's product is good quality.  Bu...</td>\n",
       "      <td>0</td>\n",
       "    </tr>\n",
       "    <tr>\n",
       "      <th>211593</th>\n",
       "      <td>A2UAKIEWZLQCUE</td>\n",
       "      <td>Cindy S.</td>\n",
       "      <td>1350777600</td>\n",
       "      <td>I gave these bulbs to the receptionist at my l...</td>\n",
       "      <td>1</td>\n",
       "    </tr>\n",
       "    <tr>\n",
       "      <th>534494</th>\n",
       "      <td>A1H1OCLG2B4AEQ</td>\n",
       "      <td>base64</td>\n",
       "      <td>1350604800</td>\n",
       "      <td>I tried this after reading the ingredients whi...</td>\n",
       "      <td>1</td>\n",
       "    </tr>\n",
       "    <tr>\n",
       "      <th>146373</th>\n",
       "      <td>A217L3D5UK74I6</td>\n",
       "      <td>george karlin</td>\n",
       "      <td>1351036800</td>\n",
       "      <td>The most watery and tasteless pinot noir on th...</td>\n",
       "      <td>0</td>\n",
       "    </tr>\n",
       "    <tr>\n",
       "      <th>465119</th>\n",
       "      <td>A2II09GQGWOMTQ</td>\n",
       "      <td>Brian Nallick \"METALMANMN\"</td>\n",
       "      <td>1350345600</td>\n",
       "      <td>I usually drink Green Machine but I really wan...</td>\n",
       "      <td>1</td>\n",
       "    </tr>\n",
       "    <tr>\n",
       "      <th>286940</th>\n",
       "      <td>A2UAKIEWZLQCUE</td>\n",
       "      <td>Cindy S.</td>\n",
       "      <td>1350777600</td>\n",
       "      <td>I have purchased several other Amaryllis from ...</td>\n",
       "      <td>1</td>\n",
       "    </tr>\n",
       "    <tr>\n",
       "      <th>286941</th>\n",
       "      <td>A16HJRHRHNSUZ6</td>\n",
       "      <td>Danielle Tietz</td>\n",
       "      <td>1350432000</td>\n",
       "      <td>My neighborhood recently decided to create a n...</td>\n",
       "      <td>1</td>\n",
       "    </tr>\n",
       "    <tr>\n",
       "      <th>261428</th>\n",
       "      <td>A2UAKIEWZLQCUE</td>\n",
       "      <td>Cindy S.</td>\n",
       "      <td>1350777600</td>\n",
       "      <td>....my true love gave to me, a Christmas Bloom...</td>\n",
       "      <td>1</td>\n",
       "    </tr>\n",
       "    <tr>\n",
       "      <th>292508</th>\n",
       "      <td>A00489763J7YUCSN6CP7K</td>\n",
       "      <td>Andrea Llyod</td>\n",
       "      <td>1351036800</td>\n",
       "      <td>I was a bit hesitant to buy this tea due to th...</td>\n",
       "      <td>1</td>\n",
       "    </tr>\n",
       "    <tr>\n",
       "      <th>371147</th>\n",
       "      <td>A09229701Z8W88AD38877</td>\n",
       "      <td>Kristi Greene</td>\n",
       "      <td>1350518400</td>\n",
       "      <td>I am an avid tea drinker and enjoy my tea warm...</td>\n",
       "      <td>1</td>\n",
       "    </tr>\n",
       "    <tr>\n",
       "      <th>462500</th>\n",
       "      <td>A0849196AFU725N8S7RS</td>\n",
       "      <td>Brady Gibson</td>\n",
       "      <td>1350518400</td>\n",
       "      <td>My wife and I have been using unsweetened iced...</td>\n",
       "      <td>1</td>\n",
       "    </tr>\n",
       "    <tr>\n",
       "      <th>200382</th>\n",
       "      <td>A3M2YJ76LOMNBK</td>\n",
       "      <td>turbo418</td>\n",
       "      <td>1350864000</td>\n",
       "      <td>Any product by My Personal Pantry is so delici...</td>\n",
       "      <td>1</td>\n",
       "    </tr>\n",
       "    <tr>\n",
       "      <th>193168</th>\n",
       "      <td>A3M3S2NCVZ8UXF</td>\n",
       "      <td>Stephanie</td>\n",
       "      <td>1350518400</td>\n",
       "      <td>I have been using this product for 4 months no...</td>\n",
       "      <td>1</td>\n",
       "    </tr>\n",
       "    <tr>\n",
       "      <th>193167</th>\n",
       "      <td>A1L130V9KINC45</td>\n",
       "      <td>mildred rosa</td>\n",
       "      <td>1350518400</td>\n",
       "      <td>Great product not too expensive easy to use. S...</td>\n",
       "      <td>1</td>\n",
       "    </tr>\n",
       "    <tr>\n",
       "      <th>193166</th>\n",
       "      <td>A5F9OUO3F2N7C</td>\n",
       "      <td>Jan</td>\n",
       "      <td>1350604800</td>\n",
       "      <td>Zero sweetner is the BEST I have ever used.One...</td>\n",
       "      <td>1</td>\n",
       "    </tr>\n",
       "    <tr>\n",
       "      <th>193163</th>\n",
       "      <td>A2IZG2VYD476QH</td>\n",
       "      <td>CSTreviso</td>\n",
       "      <td>1350432000</td>\n",
       "      <td>Fat to Skinny Zero is a wonderful sweetener! I...</td>\n",
       "      <td>1</td>\n",
       "    </tr>\n",
       "    <tr>\n",
       "      <th>193164</th>\n",
       "      <td>A1I08MP3H92U6R</td>\n",
       "      <td>Thomas</td>\n",
       "      <td>1350432000</td>\n",
       "      <td>I have been using the Fat To Skinny Zero sweet...</td>\n",
       "      <td>1</td>\n",
       "    </tr>\n",
       "    <tr>\n",
       "      <th>193162</th>\n",
       "      <td>A1QX7TAALGCUKM</td>\n",
       "      <td>H.B. \"H.B.\"</td>\n",
       "      <td>1350432000</td>\n",
       "      <td>I have been using this product a bit over six ...</td>\n",
       "      <td>1</td>\n",
       "    </tr>\n",
       "    <tr>\n",
       "      <th>193165</th>\n",
       "      <td>AD0V42PRKCDBM</td>\n",
       "      <td>Rachelle</td>\n",
       "      <td>1350777600</td>\n",
       "      <td>This sweetner is so great. A little bit goes a...</td>\n",
       "      <td>1</td>\n",
       "    </tr>\n",
       "    <tr>\n",
       "      <th>193170</th>\n",
       "      <td>AH2FVNP7Z6PZH</td>\n",
       "      <td>Marty Campbell</td>\n",
       "      <td>1350432000</td>\n",
       "      <td>I've been using Fat to Skinny Zero since it wa...</td>\n",
       "      <td>1</td>\n",
       "    </tr>\n",
       "    <tr>\n",
       "      <th>193169</th>\n",
       "      <td>A1TNEJA68OD7ZH</td>\n",
       "      <td>morgan</td>\n",
       "      <td>1350518400</td>\n",
       "      <td>This is what I use when I'm baking instead of ...</td>\n",
       "      <td>1</td>\n",
       "    </tr>\n",
       "    <tr>\n",
       "      <th>193171</th>\n",
       "      <td>A3JJTHP8T7A8LY</td>\n",
       "      <td>Joanne Eklund \"Joanne\"</td>\n",
       "      <td>1350432000</td>\n",
       "      <td>FTS Zero is the best sweetener I have ever tri...</td>\n",
       "      <td>1</td>\n",
       "    </tr>\n",
       "    <tr>\n",
       "      <th>193175</th>\n",
       "      <td>A76WHW051R3KV</td>\n",
       "      <td>Shawn \"Shawn\"</td>\n",
       "      <td>1350432000</td>\n",
       "      <td>What a wonderful product! It's perfect to use ...</td>\n",
       "      <td>1</td>\n",
       "    </tr>\n",
       "    <tr>\n",
       "      <th>193174</th>\n",
       "      <td>A1A0PMN417S4V9</td>\n",
       "      <td>mamaelle \"mamaelle\"</td>\n",
       "      <td>1350432000</td>\n",
       "      <td>Packets of powdered sweeteners usually have a ...</td>\n",
       "      <td>1</td>\n",
       "    </tr>\n",
       "    <tr>\n",
       "      <th>193172</th>\n",
       "      <td>A34TVEXPHSSPBV</td>\n",
       "      <td>Beth</td>\n",
       "      <td>1350432000</td>\n",
       "      <td>I love this sweetener.  I use it to replace su...</td>\n",
       "      <td>1</td>\n",
       "    </tr>\n",
       "    <tr>\n",
       "      <th>193173</th>\n",
       "      <td>A4P6AN2L435PV</td>\n",
       "      <td>romarc</td>\n",
       "      <td>1350432000</td>\n",
       "      <td>LOVE, LOVE this sweetener!!  I use it in all m...</td>\n",
       "      <td>1</td>\n",
       "    </tr>\n",
       "    <tr>\n",
       "      <th>188388</th>\n",
       "      <td>A1L0GWGRK4BYPT</td>\n",
       "      <td>Bety Robinson</td>\n",
       "      <td>1350518400</td>\n",
       "      <td>You have to try this sauce to believe it! It s...</td>\n",
       "      <td>1</td>\n",
       "    </tr>\n",
       "    <tr>\n",
       "      <th>221794</th>\n",
       "      <td>A32A6X5KCP7ARG</td>\n",
       "      <td>sicamar</td>\n",
       "      <td>1350604800</td>\n",
       "      <td>I bought this Hazelnut Paste (Nocciola Spread)...</td>\n",
       "      <td>1</td>\n",
       "    </tr>\n",
       "    <tr>\n",
       "      <th>5702</th>\n",
       "      <td>AMP7K1O84DH1T</td>\n",
       "      <td>ESTY</td>\n",
       "      <td>1351209600</td>\n",
       "      <td>Purchased this product at a local store in NY ...</td>\n",
       "      <td>1</td>\n",
       "    </tr>\n",
       "    <tr>\n",
       "      <th>327600</th>\n",
       "      <td>A3ME78KVX31T21</td>\n",
       "      <td>K'la</td>\n",
       "      <td>1351123200</td>\n",
       "      <td>I purchased this to send to my son who's away ...</td>\n",
       "      <td>1</td>\n",
       "    </tr>\n",
       "  </tbody>\n",
       "</table>\n",
       "<p>364173 rows × 5 columns</p>\n",
       "</div>"
      ],
      "text/plain": [
       "                       UserId  \\\n",
       "150523          ACITT7DI6IDDL   \n",
       "150505         A2IW4PEEKO2R0U   \n",
       "150506         A1S4A3IQ2MU7V4   \n",
       "150507            AZGXZ2UUK6X   \n",
       "150508         A3CMRKGE0P909G   \n",
       "150510         A1C9K534BCI9GO   \n",
       "150511         A1DJXZA5V5FFVA   \n",
       "150512          ASH0DZQQF6AIZ   \n",
       "150513          A2ONB6ZA292PA   \n",
       "150514         A2RTT81R6Y3R7X   \n",
       "150504         A2PTSM496CF40Z   \n",
       "150515         A3OI7ZGH6WZJ5G   \n",
       "150517          AK1L4EJBA23JF   \n",
       "150518         A12HY5OZ2QNK4N   \n",
       "150519          ADBFSA9KTQANE   \n",
       "150520         A3RMCRB2NDTDYP   \n",
       "150521         A1S3C5OFU508P3   \n",
       "150522         A2P4F2UO0UMP8C   \n",
       "150524         A2QID6VCFTY51R   \n",
       "150525         A3E9QZFE9KXH8J   \n",
       "150528          A25ACLV5KPB4W   \n",
       "150516          ABW4IC5G5G8B5   \n",
       "150503          AQEYF1AXARWJZ   \n",
       "150509          AM1MNZMYMS7D8   \n",
       "150497         A3SJWISOCP31TR   \n",
       "150493          AYZ0PR5QZROD1   \n",
       "150495         A3KKR87BJ0C595   \n",
       "150502         A3R5XMPFU8YZ4D   \n",
       "150501          AVFMJ50HNO21J   \n",
       "150496         A1HKYQOFC8ZZCH   \n",
       "...                       ...   \n",
       "38511          A2YWHBF45M64S2   \n",
       "211593         A2UAKIEWZLQCUE   \n",
       "534494         A1H1OCLG2B4AEQ   \n",
       "146373         A217L3D5UK74I6   \n",
       "465119         A2II09GQGWOMTQ   \n",
       "286940         A2UAKIEWZLQCUE   \n",
       "286941         A16HJRHRHNSUZ6   \n",
       "261428         A2UAKIEWZLQCUE   \n",
       "292508  A00489763J7YUCSN6CP7K   \n",
       "371147  A09229701Z8W88AD38877   \n",
       "462500   A0849196AFU725N8S7RS   \n",
       "200382         A3M2YJ76LOMNBK   \n",
       "193168         A3M3S2NCVZ8UXF   \n",
       "193167         A1L130V9KINC45   \n",
       "193166          A5F9OUO3F2N7C   \n",
       "193163         A2IZG2VYD476QH   \n",
       "193164         A1I08MP3H92U6R   \n",
       "193162         A1QX7TAALGCUKM   \n",
       "193165          AD0V42PRKCDBM   \n",
       "193170          AH2FVNP7Z6PZH   \n",
       "193169         A1TNEJA68OD7ZH   \n",
       "193171         A3JJTHP8T7A8LY   \n",
       "193175          A76WHW051R3KV   \n",
       "193174         A1A0PMN417S4V9   \n",
       "193172         A34TVEXPHSSPBV   \n",
       "193173          A4P6AN2L435PV   \n",
       "188388         A1L0GWGRK4BYPT   \n",
       "221794         A32A6X5KCP7ARG   \n",
       "5702            AMP7K1O84DH1T   \n",
       "327600         A3ME78KVX31T21   \n",
       "\n",
       "                                             ProfileName        Time  \\\n",
       "150523                                   shari zychinski   939340800   \n",
       "150505                                             Tracy  1194739200   \n",
       "150506                             sally sue \"sally sue\"  1191456000   \n",
       "150507                       Catherine Hallberg \"(Kate)\"  1076025600   \n",
       "150508                                            Teresa  1018396800   \n",
       "150510                                Laura Purdie Salas  1344211200   \n",
       "150511                                         A. Conway  1338249600   \n",
       "150512                                          tessarat  1325721600   \n",
       "150513                                  Rosalind Matzner  1313884800   \n",
       "150514                                           Lindylu  1303171200   \n",
       "150504  Jason A. Teeple \"Nobody made a greater mistak...  1210809600   \n",
       "150515                       Mary Jane Rogers \"Maedchen\"  1293840000   \n",
       "150517                                       L. M. Kraus  1288224000   \n",
       "150518                             Elizabeth H. Roessner  1256774400   \n",
       "150519                    James L. Hammock \"Pucks Buddy\"  1256688000   \n",
       "150520                                  Carol Carruthers  1243468800   \n",
       "150521                                 Charles Ashbacher  1219536000   \n",
       "150522             Elizabeth A. Curry \"Lovely Librarian\"  1096675200   \n",
       "150524                                              Rick  1025481600   \n",
       "150525                                       R. Mitchell  1129507200   \n",
       "150528                               Matt Hetling \"Matt\"  1108425600   \n",
       "150516                                       kevin clark  1291075200   \n",
       "150503                         Les Sinclair \"book maven\"  1212278400   \n",
       "150509                              Dr. Joshua  Grossman  1348358400   \n",
       "150497                                       R. J. Wells  1176336000   \n",
       "150493                                 Mother of 3 girls  1173312000   \n",
       "150495     Gretchen Goodfellow \"Lover of children's lit\"  1111363200   \n",
       "150502                     Her Royal Motherliness \"Nana\"  1233964800   \n",
       "150501                                          Jane Doe  1324944000   \n",
       "150496                        Maria Apolloni \"lanarossa\"  1334707200   \n",
       "...                                                  ...         ...   \n",
       "38511                                             EcyMom  1350864000   \n",
       "211593                                          Cindy S.  1350777600   \n",
       "534494                                            base64  1350604800   \n",
       "146373                                     george karlin  1351036800   \n",
       "465119                        Brian Nallick \"METALMANMN\"  1350345600   \n",
       "286940                                          Cindy S.  1350777600   \n",
       "286941                                    Danielle Tietz  1350432000   \n",
       "261428                                          Cindy S.  1350777600   \n",
       "292508                                      Andrea Llyod  1351036800   \n",
       "371147                                     Kristi Greene  1350518400   \n",
       "462500                                      Brady Gibson  1350518400   \n",
       "200382                                          turbo418  1350864000   \n",
       "193168                                         Stephanie  1350518400   \n",
       "193167                                      mildred rosa  1350518400   \n",
       "193166                                               Jan  1350604800   \n",
       "193163                                         CSTreviso  1350432000   \n",
       "193164                                            Thomas  1350432000   \n",
       "193162                                       H.B. \"H.B.\"  1350432000   \n",
       "193165                                          Rachelle  1350777600   \n",
       "193170                                    Marty Campbell  1350432000   \n",
       "193169                                            morgan  1350518400   \n",
       "193171                            Joanne Eklund \"Joanne\"  1350432000   \n",
       "193175                                     Shawn \"Shawn\"  1350432000   \n",
       "193174                               mamaelle \"mamaelle\"  1350432000   \n",
       "193172                                              Beth  1350432000   \n",
       "193173                                            romarc  1350432000   \n",
       "188388                                     Bety Robinson  1350518400   \n",
       "221794                                           sicamar  1350604800   \n",
       "5702                                                ESTY  1351209600   \n",
       "327600                                              K'la  1351123200   \n",
       "\n",
       "                                                     Text  Score  \n",
       "150523  this witty little book makes my son laugh at l...      1  \n",
       "150505  I grew up reading these Sendak books, and watc...      1  \n",
       "150506  This is a fun way for children to learn their ...      1  \n",
       "150507  This is a great little book to read aloud- it ...      1  \n",
       "150508  This is a book of poetry about the months of t...      1  \n",
       "150510  A charming, rhyming book that describes the ci...      1  \n",
       "150511  I set aside at least an hour each day to read ...      1  \n",
       "150512  I remembered this book from my childhood and g...      1  \n",
       "150513  It's a great book with adorable illustrations....      1  \n",
       "150514  This book is a family favorite and was read to...      1  \n",
       "150504  Get the movie or sound track and sing along wi...      1  \n",
       "150515  The same author wrote \"Where the Wild Things A...      1  \n",
       "150517  Great book, perfect condition arrived in a sho...      1  \n",
       "150518  I've always loved chicken soup and rice. My la...      1  \n",
       "150519  This book was purchased as a birthday gift for...      1  \n",
       "150520  My 7 year old daughter brought this book home ...      1  \n",
       "150521  This book contains a collection of twelve shor...      1  \n",
       "150522  Summary:  A young boy describes the usefulness...      1  \n",
       "150524  My daughter loves all the \"Really Rosie\" books...      1  \n",
       "150525  This is one of the best children's books ever ...      0  \n",
       "150528  In June<br />I saw a charming group<br />of ro...      1  \n",
       "150516  Classic children's book, can't go wrong. I rea...      1  \n",
       "150503  A very entertaining rhyming story--cleaver and...      1  \n",
       "150509  TITLE: Chicken Soup with Rice<br />AUTHOR: Mau...      1  \n",
       "150497  This is a wonderful little book. I loved it 40...      1  \n",
       "150493  All of my children love this book.  My first g...      1  \n",
       "150495  One of my earliest memories is of this book.  ...      1  \n",
       "150502  This is my grand daughter's and my favorite bo...      1  \n",
       "150501  This copy is smaller than I expected (mostly b...      1  \n",
       "150496  I give five stars to the Maurice Sendak story....      0  \n",
       "...                                                   ...    ...  \n",
       "38511   This Trader Joe's product is good quality.  Bu...      0  \n",
       "211593  I gave these bulbs to the receptionist at my l...      1  \n",
       "534494  I tried this after reading the ingredients whi...      1  \n",
       "146373  The most watery and tasteless pinot noir on th...      0  \n",
       "465119  I usually drink Green Machine but I really wan...      1  \n",
       "286940  I have purchased several other Amaryllis from ...      1  \n",
       "286941  My neighborhood recently decided to create a n...      1  \n",
       "261428  ....my true love gave to me, a Christmas Bloom...      1  \n",
       "292508  I was a bit hesitant to buy this tea due to th...      1  \n",
       "371147  I am an avid tea drinker and enjoy my tea warm...      1  \n",
       "462500  My wife and I have been using unsweetened iced...      1  \n",
       "200382  Any product by My Personal Pantry is so delici...      1  \n",
       "193168  I have been using this product for 4 months no...      1  \n",
       "193167  Great product not too expensive easy to use. S...      1  \n",
       "193166  Zero sweetner is the BEST I have ever used.One...      1  \n",
       "193163  Fat to Skinny Zero is a wonderful sweetener! I...      1  \n",
       "193164  I have been using the Fat To Skinny Zero sweet...      1  \n",
       "193162  I have been using this product a bit over six ...      1  \n",
       "193165  This sweetner is so great. A little bit goes a...      1  \n",
       "193170  I've been using Fat to Skinny Zero since it wa...      1  \n",
       "193169  This is what I use when I'm baking instead of ...      1  \n",
       "193171  FTS Zero is the best sweetener I have ever tri...      1  \n",
       "193175  What a wonderful product! It's perfect to use ...      1  \n",
       "193174  Packets of powdered sweeteners usually have a ...      1  \n",
       "193172  I love this sweetener.  I use it to replace su...      1  \n",
       "193173  LOVE, LOVE this sweetener!!  I use it in all m...      1  \n",
       "188388  You have to try this sauce to believe it! It s...      1  \n",
       "221794  I bought this Hazelnut Paste (Nocciola Spread)...      1  \n",
       "5702    Purchased this product at a local store in NY ...      1  \n",
       "327600  I purchased this to send to my son who's away ...      1  \n",
       "\n",
       "[364173 rows x 5 columns]"
      ]
     },
     "execution_count": 32,
     "metadata": {},
     "output_type": "execute_result"
    }
   ],
   "source": [
    "import re\n",
    "from bs4 import BeautifulSoup \n",
    "dup_drop"
   ]
  },
  {
   "cell_type": "code",
   "execution_count": 33,
   "metadata": {},
   "outputs": [],
   "source": [
    "stopwords= set(['br', 'the', 'i', 'me', 'my', 'myself', 'we', 'our', 'ours', 'ourselves', 'you', \"you're\", \"you've\",\\\n",
    "            \"you'll\", \"you'd\", 'your', 'yours', 'yourself', 'yourselves', 'he', 'him', 'his', 'himself', \\\n",
    "            'she', \"she's\", 'her', 'hers', 'herself', 'it', \"it's\", 'its', 'itself', 'they', 'them', 'their',\\\n",
    "            'theirs', 'themselves', 'what', 'which', 'who', 'whom', 'this', 'that', \"that'll\", 'these', 'those', \\\n",
    "            'am', 'is', 'are', 'was', 'were', 'be', 'been', 'being', 'have', 'has', 'had', 'having', 'do', 'does', \\\n",
    "            'did', 'doing', 'a', 'an', 'the', 'and', 'but', 'if', 'or', 'because', 'as', 'until', 'while', 'of', \\\n",
    "            'at', 'by', 'for', 'with', 'about', 'against', 'between', 'into', 'through', 'during', 'before', 'after',\\\n",
    "            'above', 'below', 'to', 'from', 'up', 'down', 'in', 'out', 'on', 'off', 'over', 'under', 'again', 'further',\\\n",
    "            'then', 'once', 'here', 'there', 'when', 'where', 'why', 'how', 'all', 'any', 'both', 'each', 'few', 'more',\\\n",
    "            'most', 'other', 'some', 'such', 'only', 'own', 'same', 'so', 'than', 'too', 'very', \\\n",
    "            's', 't', 'can', 'will', 'just', 'don', \"don't\", 'should', \"should've\", 'now', 'd', 'll', 'm', 'o', 're', \\\n",
    "            've', 'y', 'ain', 'aren', \"aren't\", 'couldn', \"couldn't\", 'didn', \"didn't\", 'doesn', \"doesn't\", 'hadn',\\\n",
    "            \"hadn't\", 'hasn', \"hasn't\", 'haven', \"haven't\", 'isn', \"isn't\", 'ma', 'mightn', \"mightn't\", 'mustn',\\\n",
    "            \"mustn't\", 'needn', \"needn't\", 'shan', \"shan't\", 'shouldn', \"shouldn't\", 'wasn', \"wasn't\", 'weren', \"weren't\", \\\n",
    "            'won', \"won't\", 'wouldn', \"wouldn't\"])"
   ]
  },
  {
   "cell_type": "code",
   "execution_count": 34,
   "metadata": {},
   "outputs": [],
   "source": [
    "import re\n",
    "def decontracted(phrase):\n",
    "    # specific\n",
    "    phrase = re.sub(r\"won't\", \"will not\", phrase)\n",
    "    phrase = re.sub(r\"can\\'t\", \"can not\", phrase)\n",
    "\n",
    "    # general\n",
    "    phrase = re.sub(r\"n\\'t\", \" not\", phrase)\n",
    "    phrase = re.sub(r\"\\'re\", \" are\", phrase)\n",
    "    phrase = re.sub(r\"\\'s\", \" is\", phrase)\n",
    "    phrase = re.sub(r\"\\'d\", \" would\", phrase)\n",
    "    phrase = re.sub(r\"\\'ll\", \" will\", phrase)\n",
    "    phrase = re.sub(r\"\\'t\", \" not\", phrase)\n",
    "    phrase = re.sub(r\"\\'ve\", \" have\", phrase)\n",
    "    phrase = re.sub(r\"\\'m\", \" am\", phrase)\n",
    "    return phrase"
   ]
  },
  {
   "cell_type": "code",
   "execution_count": 35,
   "metadata": {},
   "outputs": [
    {
     "name": "stderr",
     "output_type": "stream",
     "text": [
      "100%|██████████| 364173/364173 [02:21<00:00, 2573.20it/s]\n"
     ]
    }
   ],
   "source": [
    "from tqdm import tqdm\n",
    "preprocessed_reviews = []\n",
    "# tqdm is for printing the status bar\n",
    "for sentance in tqdm(dup_drop['Text'].values):\n",
    "    sentance = re.sub(r\"http\\S+\", \"\", sentance)\n",
    "    sentance = BeautifulSoup(sentance, 'lxml').get_text()\n",
    "    sentance = decontracted(sentance)\n",
    "    sentance = re.sub(\"\\S*\\d\\S*\", \"\", sentance).strip()\n",
    "    sentance = re.sub('[^A-Za-z]+', ' ', sentance)\n",
    "    # https://gist.github.com/sebleier/554280\n",
    "    sentance = ' '.join(e.lower() for e in sentance.split() if e.lower() not in stopwords)\n",
    "    preprocessed_reviews.append(sentance.strip())"
   ]
  },
  {
   "cell_type": "code",
   "execution_count": 36,
   "metadata": {},
   "outputs": [
    {
     "data": {
      "text/plain": [
       "(364173, 5)"
      ]
     },
     "execution_count": 36,
     "metadata": {},
     "output_type": "execute_result"
    }
   ],
   "source": [
    "dup_drop.shape"
   ]
  },
  {
   "cell_type": "code",
   "execution_count": 37,
   "metadata": {},
   "outputs": [
    {
     "name": "stderr",
     "output_type": "stream",
     "text": [
      "D:\\Anaconda\\lib\\site-packages\\ipykernel_launcher.py:1: SettingWithCopyWarning: \n",
      "A value is trying to be set on a copy of a slice from a DataFrame.\n",
      "Try using .loc[row_indexer,col_indexer] = value instead\n",
      "\n",
      "See the caveats in the documentation: http://pandas.pydata.org/pandas-docs/stable/indexing.html#indexing-view-versus-copy\n",
      "  \"\"\"Entry point for launching an IPython kernel.\n"
     ]
    }
   ],
   "source": [
    "dup_drop['Text']=preprocessed_reviews"
   ]
  },
  {
   "cell_type": "code",
   "execution_count": 38,
   "metadata": {},
   "outputs": [
    {
     "data": {
      "text/plain": [
       "(364173, 5)"
      ]
     },
     "execution_count": 38,
     "metadata": {},
     "output_type": "execute_result"
    }
   ],
   "source": [
    "dup_drop.shape"
   ]
  },
  {
   "cell_type": "code",
   "execution_count": 39,
   "metadata": {},
   "outputs": [
    {
     "name": "stdout",
     "output_type": "stream",
     "text": [
      "\n",
      "Pre_Process_Text_Data  X_Text= (364173,)\n",
      "\n",
      "Pre_Process_Score_Data Y_Score= (364173,)\n",
      "1    92119\n",
      "Name: Score, dtype: int64\n",
      "0    57110\n",
      "Name: Score, dtype: int64\n",
      "149229\n",
      "<class 'pandas.core.frame.DataFrame'>\n"
     ]
    }
   ],
   "source": [
    "Pre_Process_Data = dup_drop[['Text','Score','Time']] \n",
    "\n",
    "X_Text=Pre_Process_Data ['Text']\n",
    "Y_Score =Pre_Process_Data ['Score'] # positive or negative score\n",
    "print('\\nPre_Process_Text_Data  X_Text=',X_Text.shape)\n",
    "print('\\nPre_Process_Score_Data Y_Score=',Y_Score.shape)\n",
    "\n",
    "# postive and negtive reviews from original datasets of amazon\n",
    "pos_final = Pre_Process_Data[Pre_Process_Data .Score == 1]# postive reviews\n",
    "pos_final = pos_final.sample(frac=0.3)\n",
    "print(pos_final.Score.value_counts())\n",
    "\n",
    "neg_final = Pre_Process_Data [Pre_Process_Data .Score == 0] # negative reviews\n",
    "print(neg_final.Score.value_counts())\n",
    "\n",
    "final_pos_neg = pd.concat([pos_final,neg_final],axis=0)\n",
    "print(len(final_pos_neg))\n",
    "print(type(final_pos_neg))"
   ]
  },
  {
   "cell_type": "code",
   "execution_count": 60,
   "metadata": {},
   "outputs": [
    {
     "data": {
      "text/plain": [
       "'\\nX_train.shape\\nX_test.shape\\nY_train.shape\\nY_test.shape\\n'"
      ]
     },
     "execution_count": 60,
     "metadata": {},
     "output_type": "execute_result"
    }
   ],
   "source": [
    "from sklearn.model_selection import train_test_split\n",
    "\n",
    "X = final_pos_neg[['Text','Time']].sort_values('Time',axis=0).drop('Time',axis=1)\n",
    "X=X[:40000]\n",
    "X.shape\n",
    "\n",
    "Y = final_pos_neg[['Score','Time']].sort_values('Time',axis=0).drop('Time',axis=1)\n",
    "Y=Y[:40000]\n",
    "Y.shape\n",
    "\n",
    "X_train_data,X_test_data,Y_train_data,Y_test_data = train_test_split(X, Y, test_size=0.30,random_state=0)\n",
    "'''\n",
    "X_train.shape\n",
    "X_test.shape\n",
    "Y_train.shape\n",
    "Y_test.shape\n",
    "'''\n"
   ]
  },
  {
   "cell_type": "code",
   "execution_count": 61,
   "metadata": {},
   "outputs": [
    {
     "name": "stdout",
     "output_type": "stream",
     "text": [
      "8\n"
     ]
    },
    {
     "data": {
      "text/html": [
       "<div>\n",
       "<style scoped>\n",
       "    .dataframe tbody tr th:only-of-type {\n",
       "        vertical-align: middle;\n",
       "    }\n",
       "\n",
       "    .dataframe tbody tr th {\n",
       "        vertical-align: top;\n",
       "    }\n",
       "\n",
       "    .dataframe thead th {\n",
       "        text-align: right;\n",
       "    }\n",
       "</style>\n",
       "<table border=\"1\" class=\"dataframe\">\n",
       "  <thead>\n",
       "    <tr style=\"text-align: right;\">\n",
       "      <th></th>\n",
       "      <th>Model</th>\n",
       "      <th>Vectorizer</th>\n",
       "      <th>SearchCV</th>\n",
       "      <th>Scoring Metrics</th>\n",
       "      <th>Train_model_score</th>\n",
       "      <th>Test_model_score</th>\n",
       "      <th>best panalty</th>\n",
       "      <th>Best lambda</th>\n",
       "    </tr>\n",
       "  </thead>\n",
       "  <tbody>\n",
       "  </tbody>\n",
       "</table>\n",
       "</div>"
      ],
      "text/plain": [
       "Empty DataFrame\n",
       "Columns: [Model, Vectorizer, SearchCV, Scoring Metrics, Train_model_score, Test_model_score, best panalty, Best lambda]\n",
       "Index: []"
      ]
     },
     "execution_count": 61,
     "metadata": {},
     "output_type": "execute_result"
    }
   ],
   "source": [
    "models_performence = {\n",
    "    'Model':[],\n",
    "    'Vectorizer': [],\n",
    "    'SearchCV':[],\n",
    "    'Scoring Metrics': [],\n",
    "    'Train_model_score': [],\n",
    "    'Test_model_score': [],\n",
    "    'best panalty': [],\n",
    "    'Best lambda':[],\n",
    "}\n",
    "\n",
    "columns = [\"Model\",\"Vectorizer\",\"SearchCV\", \"Scoring Metrics\",\"Train_model_score\",\"Test_model_score\", \"best panalty\",\"Best lambda\"]\n",
    "print(len(columns))\n",
    "pd.DataFrame(models_performence, columns=columns)"
   ]
  },
  {
   "cell_type": "code",
   "execution_count": 62,
   "metadata": {},
   "outputs": [],
   "source": [
    "from sklearn.model_selection import TimeSeriesSplit\n",
    "tscv = TimeSeriesSplit(n_splits=10)"
   ]
  },
  {
   "cell_type": "code",
   "execution_count": 63,
   "metadata": {},
   "outputs": [],
   "source": [
    "#  lambda_LR is function to calculate the lambda value using'L2' for Logistic Regression\n",
    "def lambda_LR1(X_train,y_train,X_test, y_test,vectorization):\n",
    "    #  regularization penalty space\n",
    "    penalty = ['l2']\n",
    "    #  regularization hyperparameter distribution using uniform distribution\n",
    "    C1 = uniform(loc=0, scale=4)\n",
    "    C = np.logspace(0, 4, 10)\n",
    "    #  hyperparameter options\n",
    "    hp1 =dict(C=C, penalty=penalty)\n",
    "    hp = dict(C=C1, penalty=penalty)\n",
    "    # Scoring options\n",
    "    d = ['accuracy','precision','recall','f1'] \n",
    "    \n",
    "    for i in range(len(d)):\n",
    "        models_performence['Model'].append('Logistic Regression')\n",
    "        models_performence['Vectorizer'].append(vectorization)\n",
    "        models_performence['SearchCV'].append('GridSearchCV')\n",
    "        #print('for GridSearchCV') \n",
    "        p = d[i]\n",
    "        models_performence['Scoring Metrics'].append(p)\n",
    "        model1 = GridSearchCV(LogisticRegression(), hp1, scoring = p, cv=tscv,n_jobs= -1)\n",
    "        best_model1=model1.fit(X_train, y_train)\n",
    "        \n",
    "        Test_model_score=model1.score(X_test, y_test)\n",
    "        Train_model_score=model1.score(X_train, y_train)\n",
    "        models_performence['Train_model_score'].append(Train_model_score.mean())\n",
    "        models_performence['Test_model_score'].append(Test_model_score.mean())\n",
    "        \n",
    "        #Reg1=best_model1.best_estimator_.get_params()['penalty']\n",
    "       \n",
    "        models_performence['best panalty'].append('l2')\n",
    "        optimal_l1=best_model1.best_estimator_.get_params()['C']\n",
    "        \n",
    "        models_performence['Best lambda'].append(optimal_l1)\n",
    "        \n",
    "        \n",
    "        \n",
    "        #print('For RandomsearchCV')\n",
    "        models_performence['Model'].append('Logistic Regression')\n",
    "        models_performence['Vectorizer'].append(vectorization)\n",
    "        \n",
    "        models_performence['SearchCV'].append('RandomsearchCV')\n",
    "        \n",
    "        model2 = RandomizedSearchCV(LogisticRegression(),hp,scoring = p, cv=tscv,n_jobs= -1)\n",
    "        # Fit randomized search\n",
    "        best_model2 = model2.fit(X_train,y_train)\n",
    "        \n",
    "        models_performence['Scoring Metrics'].append(p)\n",
    "        #print(model2.best_estimator_)\n",
    "        Test_model_score2=model2.score(X_test, y_test)\n",
    "        Train_model_score=model2.score(X_train, y_train)\n",
    "        models_performence['Train_model_score'].append(Train_model_score.mean())\n",
    "       \n",
    "        models_performence['Test_model_score'].append(Test_model_score2.mean())\n",
    "        #Reg2=best_model2.best_estimator_.get_params()['penalty']\n",
    "        \n",
    "        models_performence['best panalty'].append('l2')\n",
    "        optimal_l2=best_model2.best_estimator_.get_params()['C']\n",
    "       \n",
    "        \n",
    "        models_performence['Best lambda'].append(optimal_l2)"
   ]
  },
  {
   "cell_type": "code",
   "execution_count": 64,
   "metadata": {},
   "outputs": [],
   "source": [
    "# result_display  is function to convert dataframe into table format in Markdown\n",
    "def result_display(df):\n",
    "    writer = pytablewriter.MarkdownTableWriter()\n",
    "    #writer.table_name = name\n",
    "    writer.header_list = list(df.columns.values)\n",
    "    writer.value_matrix = df.values.tolist()\n",
    "    writer.write_table()"
   ]
  },
  {
   "cell_type": "code",
   "execution_count": 83,
   "metadata": {},
   "outputs": [],
   "source": [
    "\n",
    "# All necessary module\n",
    "%matplotlib inline\n",
    "import warnings\n",
    "warnings.filterwarnings(\"ignore\")\n",
    "#import  sys\n",
    "import re\n",
    "import math\n",
    "import sqlite3\n",
    "import pandas as pd\n",
    "import numpy as np\n",
    "import pickle\n",
    "\n",
    "from sklearn.model_selection import TimeSeriesSplit\n",
    "from sklearn.model_selection import cross_val_score\n",
    "from sklearn.model_selection import GridSearchCV\n",
    "\n",
    "#import pytablewriter\n",
    "\n",
    "from sklearn.linear_model import LogisticRegression\n",
    "from scipy.stats import uniform\n",
    "from sklearn.model_selection import RandomizedSearchCV\n",
    "\n",
    "# modules for text processing\n",
    "import nltk\n",
    "import string\n",
    "from nltk.corpus import stopwords\n",
    "from nltk.stem import PorterStemmer\n",
    "from nltk.stem.wordnet import WordNetLemmatizer\n",
    "import matplotlib.pyplot as plt\n",
    "import seaborn as sns\n",
    "from sklearn.feature_extraction.text import TfidfTransformer\n",
    "from sklearn.feature_extraction.text import TfidfVectorizer\n",
    "\n",
    "from sklearn.feature_extraction.text import CountVectorizer\n",
    "from sklearn.metrics import confusion_matrix\n",
    "from sklearn import metrics\n",
    "from sklearn.metrics import f1_score\n",
    "from sklearn.metrics import recall_score\n",
    "from sklearn.metrics import precision_score\n",
    "\n",
    "#import scikitplot.metrics as skplt\n",
    "from sklearn.metrics import classification_report,confusion_matrix,accuracy_score\n",
    "\n",
    "from sklearn.metrics import roc_curve, auc\n",
    "from nltk.stem.porter import PorterStemmer\n",
    "\n",
    "\n",
    "# knn modules\n",
    "# train-split data,accuracy-score,cross-validation modules\n",
    "\n",
    "from sklearn.neighbors import KNeighborsClassifier\n",
    "from sklearn.metrics import accuracy_score\n",
    "\n",
    "from collections import Counter\n",
    "from sklearn.metrics import accuracy_score\n",
    "\n",
    "from sklearn.preprocessing import StandardScaler\n",
    "\n",
    "count_vect = CountVectorizer()"
   ]
  },
  {
   "cell_type": "code",
   "execution_count": 100,
   "metadata": {},
   "outputs": [
    {
     "name": "stdout",
     "output_type": "stream",
     "text": [
      "(28000, 32719)\n"
     ]
    }
   ],
   "source": [
    "#vector of train data\n",
    "data = count_vect.fit_transform(X_train_data.values.astype('U').ravel())\n",
    "data.get_shape()\n",
    "\n",
    "final_data = StandardScaler(with_mean=False).fit_transform(data )\n",
    "print(final_data.shape)"
   ]
  },
  {
   "cell_type": "code",
   "execution_count": 68,
   "metadata": {},
   "outputs": [
    {
     "name": "stdout",
     "output_type": "stream",
     "text": [
      "(12000, 32719)\n"
     ]
    }
   ],
   "source": [
    "final_data1=count_vect.transform(X_test_data.values.ravel())\n",
    "#print(final_data1)\n",
    "final_data_test = StandardScaler(with_mean=False).fit_transform(final_data1)\n",
    "print(final_data_test.shape)"
   ]
  },
  {
   "cell_type": "code",
   "execution_count": 69,
   "metadata": {},
   "outputs": [
    {
     "name": "stdout",
     "output_type": "stream",
     "text": [
      "(28000, 1)\n"
     ]
    }
   ],
   "source": [
    "Train_data=Y_train_data\n",
    "print(Train_data.shape)"
   ]
  },
  {
   "cell_type": "code",
   "execution_count": 70,
   "metadata": {},
   "outputs": [
    {
     "name": "stderr",
     "output_type": "stream",
     "text": [
      "D:\\Anaconda\\lib\\site-packages\\sklearn\\linear_model\\logistic.py:433: FutureWarning: Default solver will be changed to 'lbfgs' in 0.22. Specify a solver to silence this warning.\n",
      "  FutureWarning)\n",
      "D:\\Anaconda\\lib\\site-packages\\sklearn\\utils\\validation.py:761: DataConversionWarning: A column-vector y was passed when a 1d array was expected. Please change the shape of y to (n_samples, ), for example using ravel().\n",
      "  y = column_or_1d(y, warn=True)\n"
     ]
    }
   ],
   "source": [
    "# To get optimal lambda using BOW\n",
    "\n",
    "vectorization='BOW'\n",
    "optimal_lambda = lambda_LR1(final_data ,Train_data,final_data_test,Y_test_data,vectorization )"
   ]
  },
  {
   "cell_type": "code",
   "execution_count": 71,
   "metadata": {},
   "outputs": [
    {
     "name": "stdout",
     "output_type": "stream",
     "text": [
      "8\n"
     ]
    }
   ],
   "source": [
    "columns = [\"Model\",\"Vectorizer\",\"SearchCV\", \"Scoring Metrics\",\"Train_model_score\", \"Test_model_score\", \"best panalty\",\"Best lambda\"]\n",
    "print(len(columns))\n",
    "df=pd.DataFrame(models_performence, columns=columns)"
   ]
  },
  {
   "cell_type": "code",
   "execution_count": 72,
   "metadata": {},
   "outputs": [
    {
     "name": "stderr",
     "output_type": "stream",
     "text": [
      "D:\\Anaconda\\lib\\site-packages\\ipykernel_launcher.py:4: DeprecationWarning: \n",
      ".ix is deprecated. Please use\n",
      ".loc for label based indexing or\n",
      ".iloc for positional indexing\n",
      "\n",
      "See the documentation here:\n",
      "http://pandas.pydata.org/pandas-docs/stable/indexing.html#ix-indexer-is-deprecated\n",
      "  after removing the cwd from sys.path.\n"
     ]
    },
    {
     "name": "stdout",
     "output_type": "stream",
     "text": [
      "Model                Logistic Regression\n",
      "Vectorizer                           BOW\n",
      "SearchCV                    GridSearchCV\n",
      "Scoring Metrics                   recall\n",
      "Train_model_score                      1\n",
      "Test_model_score                0.871484\n",
      "best panalty                          l2\n",
      "Best lambda                            1\n",
      "Name: 4, dtype: object\n"
     ]
    }
   ],
   "source": [
    "df=pd.DataFrame(models_performence, columns=columns)\n",
    "zx=df[df['best panalty'] == 'l2']\n",
    "zx=zx[zx['SearchCV']=='GridSearchCV']\n",
    "zx= zx.ix[zx['Test_model_score'].idxmax()]\n",
    "print(zx)\n",
    "lambdax=zx['Best lambda']\n",
    "\n",
    "best_panalty=zx['best panalty']\n",
    "\n",
    "Scoring_Metrics =zx['Scoring Metrics']\n",
    "SearchCV=zx['SearchCV']\n",
    "#print(SearchCV)"
   ]
  },
  {
   "cell_type": "code",
   "execution_count": 84,
   "metadata": {},
   "outputs": [],
   "source": [
    "#Best lambda and best penalty\n",
    "hp1=dict(C=[lambdax], penalty=[best_panalty])\n",
    "LR =GridSearchCV(LogisticRegression(), hp1, scoring =Scoring_Metrics, cv=tscv)\n",
    "LR.fit(final_data ,Train_data)\n",
    "\n",
    "prediction1 = LR.predict(final_data_test)"
   ]
  },
  {
   "cell_type": "code",
   "execution_count": 85,
   "metadata": {},
   "outputs": [
    {
     "name": "stdout",
     "output_type": "stream",
     "text": [
      "training accuracy= 1.0\n",
      "training error is = 0.0\n"
     ]
    }
   ],
   "source": [
    "#Training accuracy and training error\n",
    "training_score=LR.score(final_data,Train_data)\n",
    "print('training accuracy=',training_score)\n",
    "training_error=1-training_score\n",
    "print('training error is =',training_error)"
   ]
  },
  {
   "cell_type": "code",
   "execution_count": 86,
   "metadata": {},
   "outputs": [
    {
     "name": "stdout",
     "output_type": "stream",
     "text": [
      "Accuracy for Logistic Regression model with Bag of words is =  0.82183\n",
      "Testing error for Logistic Regression model with Bag of words is =  0.17817000000000005\n"
     ]
    }
   ],
   "source": [
    "\n",
    "# Testing Accuracy and testing error for LogisticRegression model\n",
    "\n",
    "Testing_score=round(accuracy_score(Y_test_data ,prediction1),5)\n",
    "print(\"Accuracy for Logistic Regression model with Bag of words is = \",Testing_score)\n",
    "Testing_error=1-Testing_score\n",
    "print(\"Testing error for Logistic Regression model with Bag of words is = \",Testing_error)"
   ]
  },
  {
   "cell_type": "code",
   "execution_count": 87,
   "metadata": {},
   "outputs": [],
   "source": [
    "F1_score = round(f1_score(Y_test_data ,prediction1,average='macro'),5)*100\n",
    "recall = round(recall_score(Y_test_data,prediction1,average='macro'),5)*100\n",
    "precision = round(precision_score(Y_test_data ,prediction1,average='macro'),5)*100"
   ]
  },
  {
   "cell_type": "code",
   "execution_count": 88,
   "metadata": {},
   "outputs": [
    {
     "name": "stdout",
     "output_type": "stream",
     "text": [
      "              precision    recall  f1-score   support\n",
      "\n",
      "           0       0.72      0.72      0.72      3822\n",
      "           1       0.87      0.87      0.87      8178\n",
      "\n",
      "   micro avg       0.82      0.82      0.82     12000\n",
      "   macro avg       0.80      0.79      0.79     12000\n",
      "weighted avg       0.82      0.82      0.82     12000\n",
      "\n"
     ]
    }
   ],
   "source": [
    "print(classification_report( Y_test_data,prediction1))"
   ]
  },
  {
   "cell_type": "code",
   "execution_count": 89,
   "metadata": {},
   "outputs": [
    {
     "data": {
      "image/png": "[encoded data removed]",
      "text/plain": [
       "<Figure size 432x288 with 2 Axes>"
      ]
     },
     "metadata": {
      "needs_background": "light"
     },
     "output_type": "display_data"
    }
   ],
   "source": [
    "import seaborn as sns\n",
    "cm = confusion_matrix(Y_test_data ,prediction1)\n",
    "label = ['negative', 'positive']\n",
    "df_conf = pd.DataFrame(cm, index = label, columns = label)\n",
    "sns.heatmap(df_conf, annot = True, fmt = \"d\")\n",
    "plt.title(\"Confusiion Matrix\")\n",
    "plt.xlabel(\"Predicted Label\")\n",
    "plt.ylabel(\"True Label\")\n",
    "plt.show()"
   ]
  },
  {
   "cell_type": "code",
   "execution_count": 133,
   "metadata": {},
   "outputs": [],
   "source": [
    "\n",
    "\n",
    "models_performence = {\n",
    "    'Model':['Logistic Regression'],   \n",
    "    'Vectorizer': ['BoW'],\n",
    "    'SearchCV':[SearchCV],\n",
    "    'Best penalty':[best_panalty],\n",
    "    'Optimal lambda': [lambdax],\n",
    "    'Training error':[training_error*100],\n",
    "    'Test error':[Testing_error*100],\n",
    "    'Accuracy':[Testing_score],\n",
    "    'F1':[F1_score],\n",
    "    'recall':[recall],\n",
    "    'precision':[precision]\n",
    "    \n",
    "  \n",
    "}"
   ]
  },
  {
   "cell_type": "code",
   "execution_count": 91,
   "metadata": {},
   "outputs": [],
   "source": [
    "\n",
    "columns = [\"Model\",\"Vectorizer\",\"SearchCV\", \"Best penalty\",\"Optimal lambda\", \"Training error\",  \"Test error\",\n",
    "            \"Accuracy\",\"F1\",\"recall\",\"precision\",\n",
    "          ]\n",
    "df1=pd.DataFrame(models_performence1, columns=columns)"
   ]
  },
  {
   "cell_type": "code",
   "execution_count": 93,
   "metadata": {},
   "outputs": [],
   "source": [
    "#result_display(df1)"
   ]
  },
  {
   "cell_type": "code",
   "execution_count": null,
   "metadata": {},
   "outputs": [],
   "source": []
  },
  {
   "cell_type": "code",
   "execution_count": 94,
   "metadata": {},
   "outputs": [
    {
     "name": "stdout",
     "output_type": "stream",
     "text": [
      "[ 6.43183695e-03  3.56826748e-03  1.36388374e-02 ...  3.28387050e-03\n",
      " -2.76307934e-05 -2.76321369e-02]\n"
     ]
    }
   ],
   "source": [
    "model = LogisticRegression( random_state=0, class_weight='balanced')\n",
    "model.fit(final_data ,Train_data)\n",
    "# Calculate feature importances\n",
    "count_vect_feature=count_vect.get_feature_names()\n",
    "feature_importance = model.coef_[0]\n",
    "print(feature_importance)"
   ]
  },
  {
   "cell_type": "code",
   "execution_count": 99,
   "metadata": {},
   "outputs": [],
   "source": [
    "#print('pedfjhlfiuvhb oif')"
   ]
  },
  {
   "cell_type": "code",
   "execution_count": 96,
   "metadata": {},
   "outputs": [
    {
     "name": "stdout",
     "output_type": "stream",
     "text": [
      "Negative_Feature_Importanc [ 3.58867891e-04  5.79836729e-02  1.04570391e-01 -3.38022673e-03\n",
      "  2.09581831e-03  1.52387233e-01 -4.93592736e-02  6.63310304e-03\n",
      " -6.83315087e-05 -9.42814516e-02 -1.15754414e-04  1.35922285e-02\n",
      "  3.28387050e-03 -2.76307934e-05 -2.76321369e-02]\n",
      "Positive_Feature_Importance [ 6.43183695e-03  3.56826748e-03  1.36388374e-02 -4.06765959e-02\n",
      "  1.91544395e-03 -1.70598609e-04 -2.37031234e-04 -7.84988561e-05\n",
      " -2.24389214e-05 -1.16589144e-02  5.40924997e-02 -4.28191475e-02\n",
      "  4.24557267e-02  4.40314680e-03  2.72830559e-02]\n"
     ]
    }
   ],
   "source": [
    "Negative_Feature_Importance= feature_importance[-15:]\n",
    "print('Negative_Feature_Importanc',Negative_Feature_Importance)\n",
    "Positive_Feature_Importance= feature_importance[:15]\n",
    "print('Positive_Feature_Importance',Positive_Feature_Importance)"
   ]
  },
  {
   "cell_type": "code",
   "execution_count": 97,
   "metadata": {},
   "outputs": [
    {
     "name": "stdout",
     "output_type": "stream",
     "text": [
      "Top 15 negative class feature dried            -0.689948\n",
      "would            -0.691985\n",
      "taste            -0.698806\n",
      "stale            -0.709493\n",
      "varieties        -0.712210\n",
      "horrible         -0.723399\n",
      "horseradish      -0.745944\n",
      "way              -0.763115\n",
      "disappointment   -0.779979\n",
      "terrible         -0.794835\n",
      "unfortunately    -0.795154\n",
      "disappointed     -0.832802\n",
      "people           -0.859457\n",
      "worst            -1.056956\n",
      "not              -2.718783\n",
      "dtype: float64\n"
     ]
    },
    {
     "data": {
      "text/plain": [
       "Text(0, 0.5, 'Relative Feature Importance for Negative class ')"
      ]
     },
     "execution_count": 97,
     "metadata": {},
     "output_type": "execute_result"
    },
    {
     "data": {
      "image/png": "[encoded data removed]",
      "text/plain": [
       "<Figure size 432x288 with 1 Axes>"
      ]
     },
     "metadata": {
      "needs_background": "light"
     },
     "output_type": "display_data"
    }
   ],
   "source": [
    "# Relative Feature Importance for Negative class using BOW\n",
    "feat_imp = pd.Series(feature_importance, count_vect_feature).sort_values(ascending=False)\n",
    "print(\"Top 15 negative class feature\",feat_imp[-15:])\n",
    "\n",
    "feat_imp[-15:].plot(kind='bar', title='Feature Importances')\n",
    "plt.ylabel('Relative Feature Importance for Negative class ')"
   ]
  },
  {
   "cell_type": "code",
   "execution_count": 98,
   "metadata": {},
   "outputs": [
    {
     "name": "stdout",
     "output_type": "stream",
     "text": [
      "Top 15 postive class feature great          2.191012\n",
      "best           1.578720\n",
      "favorite       1.400438\n",
      "love           1.256209\n",
      "perfect        1.160553\n",
      "delicious      1.130964\n",
      "good           1.061917\n",
      "excellent      1.013605\n",
      "loves          0.969123\n",
      "find           0.964815\n",
      "yummy          0.867190\n",
      "awesome        0.852325\n",
      "wonderful      0.771319\n",
      "body           0.756662\n",
      "recommended    0.745634\n",
      "dtype: float64\n"
     ]
    },
    {
     "data": {
      "text/plain": [
       "Text(0, 0.5, 'Relative Feature Importance for Postive class ')"
      ]
     },
     "execution_count": 98,
     "metadata": {},
     "output_type": "execute_result"
    },
    {
     "data": {
      "image/png": "[encoded data removed]",
      "text/plain": [
       "<Figure size 432x288 with 1 Axes>"
      ]
     },
     "metadata": {
      "needs_background": "light"
     },
     "output_type": "display_data"
    }
   ],
   "source": [
    "#Feature Importances for postive class using count_vect\n",
    "\n",
    "feat_imp = pd.Series(feature_importance, count_vect_feature).sort_values(ascending=False)\n",
    "print(\"Top 15 postive class feature\",feat_imp[:15])\n",
    "\n",
    "feat_imp[:15].plot(kind='bar', title='Feature Importances')\n",
    "plt.ylabel('Relative Feature Importance for Postive class ')"
   ]
  },
  {
   "cell_type": "code",
   "execution_count": 134,
   "metadata": {},
   "outputs": [
    {
     "data": {
      "text/html": [
       "<div>\n",
       "<style scoped>\n",
       "    .dataframe tbody tr th:only-of-type {\n",
       "        vertical-align: middle;\n",
       "    }\n",
       "\n",
       "    .dataframe tbody tr th {\n",
       "        vertical-align: top;\n",
       "    }\n",
       "\n",
       "    .dataframe thead th {\n",
       "        text-align: right;\n",
       "    }\n",
       "</style>\n",
       "<table border=\"1\" class=\"dataframe\">\n",
       "  <thead>\n",
       "    <tr style=\"text-align: right;\">\n",
       "      <th></th>\n",
       "      <th>Model</th>\n",
       "      <th>Vectorizer</th>\n",
       "      <th>SearchCV</th>\n",
       "      <th>Scoring Metrics</th>\n",
       "      <th>Train_model_score</th>\n",
       "      <th>Test_model_score</th>\n",
       "      <th>best panalty</th>\n",
       "      <th>Best lambda</th>\n",
       "    </tr>\n",
       "  </thead>\n",
       "  <tbody>\n",
       "    <tr>\n",
       "      <th>0</th>\n",
       "      <td>Logistic Regression</td>\n",
       "      <td>BoW</td>\n",
       "      <td>GridSearchCV</td>\n",
       "      <td>NaN</td>\n",
       "      <td>NaN</td>\n",
       "      <td>NaN</td>\n",
       "      <td>NaN</td>\n",
       "      <td>NaN</td>\n",
       "    </tr>\n",
       "  </tbody>\n",
       "</table>\n",
       "</div>"
      ],
      "text/plain": [
       "                 Model Vectorizer      SearchCV Scoring Metrics  \\\n",
       "0  Logistic Regression        BoW  GridSearchCV             NaN   \n",
       "\n",
       "  Train_model_score Test_model_score best panalty Best lambda  \n",
       "0               NaN              NaN          NaN         NaN  "
      ]
     },
     "execution_count": 134,
     "metadata": {},
     "output_type": "execute_result"
    }
   ],
   "source": [
    "models_performence1 = {\n",
    "    'Model':[],\n",
    "    'Vectorizer': [],\n",
    "    'SearchCV':[],\n",
    "    'Scoring Metrics': [],\n",
    "    'Train_model_score': [],\n",
    "    'Test_model_score': [],\n",
    "    'best panalty': [],\n",
    "    'Best lambda':[],\n",
    "}\n",
    "\n",
    "columns = [\"Model\",\"Vectorizer\",\"SearchCV\", \"Scoring Metrics\",\"Train_model_score\",\"Test_model_score\", \"best panalty\",\"Best lambda\"]\n",
    "pd.DataFrame(models_performence, columns=columns)"
   ]
  },
  {
   "cell_type": "code",
   "execution_count": 140,
   "metadata": {},
   "outputs": [],
   "source": [
    "tf_idf_vect = TfidfVectorizer(ngram_range=(1,2))\n",
    "final_tf_idf = tf_idf_vect.fit_transform(X_train_data.values.astype('U').ravel())\n",
    "final_tf_idf.get_shape()\n",
    "features = tf_idf_vect.get_feature_names()\n",
    "len(features)\n",
    "final_tfidf_np = StandardScaler(with_mean=False).fit_transform(final_tf_idf )"
   ]
  },
  {
   "cell_type": "code",
   "execution_count": 127,
   "metadata": {},
   "outputs": [
    {
     "data": {
      "text/plain": [
       "590422"
      ]
     },
     "execution_count": 127,
     "metadata": {},
     "output_type": "execute_result"
    }
   ],
   "source": []
  },
  {
   "cell_type": "code",
   "execution_count": 129,
   "metadata": {},
   "outputs": [],
   "source": []
  },
  {
   "cell_type": "code",
   "execution_count": 130,
   "metadata": {},
   "outputs": [
    {
     "data": {
      "text/plain": [
       "(12000, 590422)"
      ]
     },
     "execution_count": 130,
     "metadata": {},
     "output_type": "execute_result"
    }
   ],
   "source": [
    "final_tf_idf_test = tf_idf_vect.transform(X_test_data.values.astype('U').ravel())\n",
    "final_tf_idf_test.get_shape()\n",
    "final_tfidf_np_test = StandardScaler(with_mean=False).fit_transform(final_tf_idf_test )"
   ]
  },
  {
   "cell_type": "code",
   "execution_count": 131,
   "metadata": {},
   "outputs": [],
   "source": []
  },
  {
   "cell_type": "code",
   "execution_count": 132,
   "metadata": {},
   "outputs": [],
   "source": [
    "vectorization='TF-IDF'\n",
    "optimal_lambda = lambda_LR1(final_tfidf_np ,Train_data,final_tfidf_np_test,Y_test_data,vectorization)"
   ]
  },
  {
   "cell_type": "code",
   "execution_count": 143,
   "metadata": {},
   "outputs": [],
   "source": [
    "columns = [\"Model\",\"Vectorizer\",\"SearchCV\", \"Scoring Metrics\",\"Train_model_score\",\"Test_model_score\", \"best panalty\",\"Best lambda\"]\n",
    "df6=pd.DataFrame(models_performence, columns=columns)\n"
   ]
  },
  {
   "cell_type": "code",
   "execution_count": 146,
   "metadata": {},
   "outputs": [
    {
     "name": "stdout",
     "output_type": "stream",
     "text": [
      "Empty DataFrame\n",
      "Columns: [Model, Vectorizer, SearchCV, Scoring Metrics, Train_model_score, Test_model_score, best panalty, Best lambda]\n",
      "Index: []\n"
     ]
    }
   ],
   "source": [
    "#L2 regularization\n",
    "\n",
    "zx=df6[df6['best panalty'] == 'l2']\n",
    "zx=df6[df6['Vectorizer'] == 'TF-IDF']\n",
    "zx=zx[zx['SearchCV']=='RandomsearchCV']\n",
    "zx= zx.ix[zx['Test_model_score']]\n",
    "print(zx)\n",
    "lambdax=zx['Best lambda']\n",
    "\n",
    "best_panalty=zx['best panalty']\n",
    "\n",
    "Scoring_Metrics =zx['Scoring Metrics']\n",
    "SearchCV=zx['SearchCV']"
   ]
  },
  {
   "cell_type": "code",
   "execution_count": 160,
   "metadata": {},
   "outputs": [
    {
     "ename": "ValueError",
     "evalue": "scoring should either be a single string or callable for single metric evaluation or a list/tuple of strings or a dict of scorer name mapped to the callable for multiple metric evaluation. Got Series([], Name: Scoring Metrics, dtype: object) of type <class 'pandas.core.series.Series'>",
     "output_type": "error",
     "traceback": [
      "\u001b[1;31m---------------------------------------------------------------------------\u001b[0m",
      "\u001b[1;31mValueError\u001b[0m                                Traceback (most recent call last)",
      "\u001b[1;32m<ipython-input-160-dba74e2c6311>\u001b[0m in \u001b[0;36m<module>\u001b[1;34m\u001b[0m\n\u001b[0;32m      3\u001b[0m \u001b[0mhp5\u001b[0m\u001b[1;33m=\u001b[0m\u001b[0mdict\u001b[0m\u001b[1;33m(\u001b[0m\u001b[0mC\u001b[0m\u001b[1;33m=\u001b[0m\u001b[0mC1\u001b[0m\u001b[1;33m,\u001b[0m \u001b[0mpenalty\u001b[0m\u001b[1;33m=\u001b[0m\u001b[1;33m[\u001b[0m\u001b[0mbest_panalty\u001b[0m\u001b[1;33m]\u001b[0m\u001b[1;33m)\u001b[0m\u001b[1;33m\u001b[0m\u001b[1;33m\u001b[0m\u001b[0m\n\u001b[0;32m      4\u001b[0m \u001b[0mLR5\u001b[0m \u001b[1;33m=\u001b[0m \u001b[0mRandomizedSearchCV\u001b[0m\u001b[1;33m(\u001b[0m\u001b[0mLogisticRegression\u001b[0m\u001b[1;33m(\u001b[0m\u001b[1;33m)\u001b[0m\u001b[1;33m,\u001b[0m \u001b[0mhp5\u001b[0m\u001b[1;33m,\u001b[0m \u001b[0mscoring\u001b[0m \u001b[1;33m=\u001b[0m\u001b[0mScoring_Metrics\u001b[0m\u001b[1;33m,\u001b[0m \u001b[0mcv\u001b[0m\u001b[1;33m=\u001b[0m\u001b[0mtscv\u001b[0m\u001b[1;33m)\u001b[0m\u001b[1;33m\u001b[0m\u001b[1;33m\u001b[0m\u001b[0m\n\u001b[1;32m----> 5\u001b[1;33m \u001b[0mLR5\u001b[0m\u001b[1;33m.\u001b[0m\u001b[0mfit\u001b[0m\u001b[1;33m(\u001b[0m\u001b[0mfinal_data\u001b[0m \u001b[1;33m,\u001b[0m\u001b[0mTrain_data\u001b[0m\u001b[1;33m)\u001b[0m\u001b[1;33m\u001b[0m\u001b[1;33m\u001b[0m\u001b[0m\n\u001b[0m\u001b[0;32m      6\u001b[0m \u001b[1;33m\u001b[0m\u001b[0m\n\u001b[0;32m      7\u001b[0m \u001b[0mprediction5\u001b[0m \u001b[1;33m=\u001b[0m \u001b[0mLR5\u001b[0m\u001b[1;33m.\u001b[0m\u001b[0mpredict\u001b[0m\u001b[1;33m(\u001b[0m\u001b[0mfinal_data_test\u001b[0m\u001b[1;33m)\u001b[0m\u001b[1;33m\u001b[0m\u001b[1;33m\u001b[0m\u001b[0m\n",
      "\u001b[1;32mD:\\Anaconda\\lib\\site-packages\\sklearn\\model_selection\\_search.py\u001b[0m in \u001b[0;36mfit\u001b[1;34m(self, X, y, groups, **fit_params)\u001b[0m\n\u001b[0;32m    652\u001b[0m \u001b[1;33m\u001b[0m\u001b[0m\n\u001b[0;32m    653\u001b[0m         scorers, self.multimetric_ = _check_multimetric_scoring(\n\u001b[1;32m--> 654\u001b[1;33m             self.estimator, scoring=self.scoring)\n\u001b[0m\u001b[0;32m    655\u001b[0m \u001b[1;33m\u001b[0m\u001b[0m\n\u001b[0;32m    656\u001b[0m         \u001b[1;32mif\u001b[0m \u001b[0mself\u001b[0m\u001b[1;33m.\u001b[0m\u001b[0mmultimetric_\u001b[0m\u001b[1;33m:\u001b[0m\u001b[1;33m\u001b[0m\u001b[1;33m\u001b[0m\u001b[0m\n",
      "\u001b[1;32mD:\\Anaconda\\lib\\site-packages\\sklearn\\metrics\\scorer.py\u001b[0m in \u001b[0;36m_check_multimetric_scoring\u001b[1;34m(estimator, scoring)\u001b[0m\n\u001b[0;32m    395\u001b[0m                        for key, scorer in scoring.items()}\n\u001b[0;32m    396\u001b[0m         \u001b[1;32melse\u001b[0m\u001b[1;33m:\u001b[0m\u001b[1;33m\u001b[0m\u001b[1;33m\u001b[0m\u001b[0m\n\u001b[1;32m--> 397\u001b[1;33m             \u001b[1;32mraise\u001b[0m \u001b[0mValueError\u001b[0m\u001b[1;33m(\u001b[0m\u001b[0merr_msg_generic\u001b[0m\u001b[1;33m)\u001b[0m\u001b[1;33m\u001b[0m\u001b[1;33m\u001b[0m\u001b[0m\n\u001b[0m\u001b[0;32m    398\u001b[0m         \u001b[1;32mreturn\u001b[0m \u001b[0mscorers\u001b[0m\u001b[1;33m,\u001b[0m \u001b[1;32mTrue\u001b[0m\u001b[1;33m\u001b[0m\u001b[1;33m\u001b[0m\u001b[0m\n\u001b[0;32m    399\u001b[0m \u001b[1;33m\u001b[0m\u001b[0m\n",
      "\u001b[1;31mValueError\u001b[0m: scoring should either be a single string or callable for single metric evaluation or a list/tuple of strings or a dict of scorer name mapped to the callable for multiple metric evaluation. Got Series([], Name: Scoring Metrics, dtype: object) of type <class 'pandas.core.series.Series'>"
     ]
    }
   ],
   "source": [
    "#Best lambda and best penalty\n",
    "C1 = uniform(loc=0, scale=lambdax)\n",
    "hp5=dict(C=C1, penalty=[best_panalty])\n",
    "LR5 = RandomizedSearchCV(LogisticRegression(), hp5, scoring =Scoring_Metrics, cv=tscv)\n",
    "LR5.fit(final_data ,Train_data)\n",
    "\n",
    "prediction5 = LR5.predict(final_data_test)\n",
    "lambda_new=LR5.best_params_['C']"
   ]
  },
  {
   "cell_type": "code",
   "execution_count": 161,
   "metadata": {},
   "outputs": [
    {
     "ename": "NotFittedError",
     "evalue": "This RandomizedSearchCV instance is not fitted yet. Call 'fit' with appropriate arguments before using this method.",
     "output_type": "error",
     "traceback": [
      "\u001b[1;31m---------------------------------------------------------------------------\u001b[0m",
      "\u001b[1;31mNotFittedError\u001b[0m                            Traceback (most recent call last)",
      "\u001b[1;32m<ipython-input-161-eb9287f88935>\u001b[0m in \u001b[0;36m<module>\u001b[1;34m\u001b[0m\n\u001b[0;32m      1\u001b[0m \u001b[1;31m#Training accuracy and training error\u001b[0m\u001b[1;33m\u001b[0m\u001b[1;33m\u001b[0m\u001b[1;33m\u001b[0m\u001b[0m\n\u001b[1;32m----> 2\u001b[1;33m \u001b[0mtraining_score\u001b[0m\u001b[1;33m=\u001b[0m\u001b[0mLR5\u001b[0m\u001b[1;33m.\u001b[0m\u001b[0mscore\u001b[0m\u001b[1;33m(\u001b[0m\u001b[0mfinal_data\u001b[0m\u001b[1;33m,\u001b[0m\u001b[0mTrain_data\u001b[0m\u001b[1;33m)\u001b[0m\u001b[1;33m\u001b[0m\u001b[1;33m\u001b[0m\u001b[0m\n\u001b[0m\u001b[0;32m      3\u001b[0m \u001b[0mprint\u001b[0m\u001b[1;33m(\u001b[0m\u001b[1;34m'training accuracy='\u001b[0m\u001b[1;33m,\u001b[0m\u001b[0mtraining_score\u001b[0m\u001b[1;33m)\u001b[0m\u001b[1;33m\u001b[0m\u001b[1;33m\u001b[0m\u001b[0m\n\u001b[0;32m      4\u001b[0m \u001b[0mtraining_error\u001b[0m\u001b[1;33m=\u001b[0m\u001b[1;36m1\u001b[0m\u001b[1;33m-\u001b[0m\u001b[0mtraining_score\u001b[0m\u001b[1;33m\u001b[0m\u001b[1;33m\u001b[0m\u001b[0m\n\u001b[0;32m      5\u001b[0m \u001b[0mprint\u001b[0m\u001b[1;33m(\u001b[0m\u001b[1;34m'training error is ='\u001b[0m\u001b[1;33m,\u001b[0m\u001b[0mtraining_error\u001b[0m\u001b[1;33m)\u001b[0m\u001b[1;33m\u001b[0m\u001b[1;33m\u001b[0m\u001b[0m\n",
      "\u001b[1;32mD:\\Anaconda\\lib\\site-packages\\sklearn\\model_selection\\_search.py\u001b[0m in \u001b[0;36mscore\u001b[1;34m(self, X, y)\u001b[0m\n\u001b[0;32m    454\u001b[0m         \u001b[0mscore\u001b[0m \u001b[1;33m:\u001b[0m \u001b[0mfloat\u001b[0m\u001b[1;33m\u001b[0m\u001b[1;33m\u001b[0m\u001b[0m\n\u001b[0;32m    455\u001b[0m         \"\"\"\n\u001b[1;32m--> 456\u001b[1;33m         \u001b[0mself\u001b[0m\u001b[1;33m.\u001b[0m\u001b[0m_check_is_fitted\u001b[0m\u001b[1;33m(\u001b[0m\u001b[1;34m'score'\u001b[0m\u001b[1;33m)\u001b[0m\u001b[1;33m\u001b[0m\u001b[1;33m\u001b[0m\u001b[0m\n\u001b[0m\u001b[0;32m    457\u001b[0m         \u001b[1;32mif\u001b[0m \u001b[0mself\u001b[0m\u001b[1;33m.\u001b[0m\u001b[0mscorer_\u001b[0m \u001b[1;32mis\u001b[0m \u001b[1;32mNone\u001b[0m\u001b[1;33m:\u001b[0m\u001b[1;33m\u001b[0m\u001b[1;33m\u001b[0m\u001b[0m\n\u001b[0;32m    458\u001b[0m             raise ValueError(\"No score function explicitly defined, \"\n",
      "\u001b[1;32mD:\\Anaconda\\lib\\site-packages\\sklearn\\model_selection\\_search.py\u001b[0m in \u001b[0;36m_check_is_fitted\u001b[1;34m(self, method_name)\u001b[0m\n\u001b[0;32m    472\u001b[0m                                  % (type(self).__name__, method_name))\n\u001b[0;32m    473\u001b[0m         \u001b[1;32melse\u001b[0m\u001b[1;33m:\u001b[0m\u001b[1;33m\u001b[0m\u001b[1;33m\u001b[0m\u001b[0m\n\u001b[1;32m--> 474\u001b[1;33m             \u001b[0mcheck_is_fitted\u001b[0m\u001b[1;33m(\u001b[0m\u001b[0mself\u001b[0m\u001b[1;33m,\u001b[0m \u001b[1;34m'best_estimator_'\u001b[0m\u001b[1;33m)\u001b[0m\u001b[1;33m\u001b[0m\u001b[1;33m\u001b[0m\u001b[0m\n\u001b[0m\u001b[0;32m    475\u001b[0m \u001b[1;33m\u001b[0m\u001b[0m\n\u001b[0;32m    476\u001b[0m     \u001b[1;33m@\u001b[0m\u001b[0mif_delegate_has_method\u001b[0m\u001b[1;33m(\u001b[0m\u001b[0mdelegate\u001b[0m\u001b[1;33m=\u001b[0m\u001b[1;33m(\u001b[0m\u001b[1;34m'best_estimator_'\u001b[0m\u001b[1;33m,\u001b[0m \u001b[1;34m'estimator'\u001b[0m\u001b[1;33m)\u001b[0m\u001b[1;33m)\u001b[0m\u001b[1;33m\u001b[0m\u001b[1;33m\u001b[0m\u001b[0m\n",
      "\u001b[1;32mD:\\Anaconda\\lib\\site-packages\\sklearn\\utils\\validation.py\u001b[0m in \u001b[0;36mcheck_is_fitted\u001b[1;34m(estimator, attributes, msg, all_or_any)\u001b[0m\n\u001b[0;32m    949\u001b[0m \u001b[1;33m\u001b[0m\u001b[0m\n\u001b[0;32m    950\u001b[0m     \u001b[1;32mif\u001b[0m \u001b[1;32mnot\u001b[0m \u001b[0mall_or_any\u001b[0m\u001b[1;33m(\u001b[0m\u001b[1;33m[\u001b[0m\u001b[0mhasattr\u001b[0m\u001b[1;33m(\u001b[0m\u001b[0mestimator\u001b[0m\u001b[1;33m,\u001b[0m \u001b[0mattr\u001b[0m\u001b[1;33m)\u001b[0m \u001b[1;32mfor\u001b[0m \u001b[0mattr\u001b[0m \u001b[1;32min\u001b[0m \u001b[0mattributes\u001b[0m\u001b[1;33m]\u001b[0m\u001b[1;33m)\u001b[0m\u001b[1;33m:\u001b[0m\u001b[1;33m\u001b[0m\u001b[1;33m\u001b[0m\u001b[0m\n\u001b[1;32m--> 951\u001b[1;33m         \u001b[1;32mraise\u001b[0m \u001b[0mNotFittedError\u001b[0m\u001b[1;33m(\u001b[0m\u001b[0mmsg\u001b[0m \u001b[1;33m%\u001b[0m \u001b[1;33m{\u001b[0m\u001b[1;34m'name'\u001b[0m\u001b[1;33m:\u001b[0m \u001b[0mtype\u001b[0m\u001b[1;33m(\u001b[0m\u001b[0mestimator\u001b[0m\u001b[1;33m)\u001b[0m\u001b[1;33m.\u001b[0m\u001b[0m__name__\u001b[0m\u001b[1;33m}\u001b[0m\u001b[1;33m)\u001b[0m\u001b[1;33m\u001b[0m\u001b[1;33m\u001b[0m\u001b[0m\n\u001b[0m\u001b[0;32m    952\u001b[0m \u001b[1;33m\u001b[0m\u001b[0m\n\u001b[0;32m    953\u001b[0m \u001b[1;33m\u001b[0m\u001b[0m\n",
      "\u001b[1;31mNotFittedError\u001b[0m: This RandomizedSearchCV instance is not fitted yet. Call 'fit' with appropriate arguments before using this method."
     ]
    }
   ],
   "source": [
    "#Training accuracy and training error\n",
    "training_score=LR5.score(final_data,Train_data)\n",
    "print('training accuracy=',training_score)\n",
    "training_error=1-training_score\n",
    "print('training error is =',training_error)\n"
   ]
  },
  {
   "cell_type": "code",
   "execution_count": null,
   "metadata": {},
   "outputs": [],
   "source": [
    "# Testing Accuracy and testing error for knn model\n",
    "\n",
    "Testing_score=round(accuracy_score(Y_test_data ,prediction5),5)\n",
    "print(\"Accuracy for Logistic Regression model with TF_IDF is = \",Testing_score)\n",
    "Testing_error=1-Testing_score\n",
    "print(\"Testing error for Logistic Regression model with TFIDF is = \",Testing_error)"
   ]
  },
  {
   "cell_type": "code",
   "execution_count": null,
   "metadata": {},
   "outputs": [],
   "source": [
    "F1_score = round(f1_score(Y_test_data ,prediction5,average='macro'),5)*100\n",
    "recall = round(recall_score(Y_test_data,prediction5,average='macro'),5)*100\n",
    "precision = round(precision_score(Y_test_data ,prediction5,average='macro'),5)*100"
   ]
  },
  {
   "cell_type": "code",
   "execution_count": null,
   "metadata": {},
   "outputs": [],
   "source": [
    "print(classification_report( Y_test_data,prediction5))"
   ]
  },
  {
   "cell_type": "code",
   "execution_count": null,
   "metadata": {},
   "outputs": [],
   "source": [
    "cm = confusion_matrix(Y_test_data ,prediction5)\n",
    "label = ['negative', 'positive']\n",
    "df_conf = pd.DataFrame(cm, index = label, columns = label)\n",
    "sns.heatmap(df_conf, annot = True, fmt = \"d\")\n",
    "plt.title(\"Confusiion Matrix\")\n",
    "plt.xlabel(\"Predicted Label\")\n",
    "plt.ylabel(\"True Label\")\n",
    "plt.show()"
   ]
  },
  {
   "cell_type": "code",
   "execution_count": null,
   "metadata": {},
   "outputs": [],
   "source": [
    "model = LogisticRegression(random_state=0, class_weight='balanced')\n",
    "model.fit(final_tfidf_np ,Train_data)\n",
    "tf_idf_feature=tf_idf_vect .get_feature_names()\n",
    "feature_importance = model.coef_[0]\n",
    "print(feature_importance)"
   ]
  },
  {
   "cell_type": "code",
   "execution_count": null,
   "metadata": {},
   "outputs": [],
   "source": []
  },
  {
   "cell_type": "code",
   "execution_count": null,
   "metadata": {},
   "outputs": [],
   "source": []
  },
  {
   "cell_type": "code",
   "execution_count": null,
   "metadata": {},
   "outputs": [],
   "source": []
  },
  {
   "cell_type": "code",
   "execution_count": null,
   "metadata": {},
   "outputs": [],
   "source": []
  }
 ],
 "metadata": {
  "kernelspec": {
   "display_name": "Python 3",
   "language": "python",
   "name": "python3"
  },
  "language_info": {
   "codemirror_mode": {
    "name": "ipython",
    "version": 3
   },
   "file_extension": ".py",
   "mimetype": "text/x-python",
   "name": "python",
   "nbconvert_exporter": "python",
   "pygments_lexer": "ipython3",
   "version": "3.7.3"
  }
 },
 "nbformat": 4,
 "nbformat_minor": 2
}
