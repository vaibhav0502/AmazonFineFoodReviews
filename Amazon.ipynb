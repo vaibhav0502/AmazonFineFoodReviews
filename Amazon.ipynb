{
 "cells": [
  {
   "cell_type": "code",
   "execution_count": 196,
   "metadata": {},
   "outputs": [],
   "source": [
    "import numpy as np\n",
    "import pandas as pd\n",
    "import matplotlib.pyplot as plt\n",
    "import os"
   ]
  },
  {
   "cell_type": "code",
   "execution_count": 197,
   "metadata": {},
   "outputs": [
    {
     "name": "stderr",
     "output_type": "stream",
     "text": [
      "C:\\Users\\Vaibhav\\Anaconda3\\lib\\site-packages\\pandas\\core\\indexing.py:537: SettingWithCopyWarning: \n",
      "A value is trying to be set on a copy of a slice from a DataFrame.\n",
      "Try using .loc[row_indexer,col_indexer] = value instead\n",
      "\n",
      "See the caveats in the documentation: http://pandas.pydata.org/pandas-docs/stable/indexing.html#indexing-view-versus-copy\n",
      "  self.obj[item] = s\n"
     ]
    }
   ],
   "source": [
    "data=pd.read_csv(r\"D:\\ML\\Reviews.csv\",sep=',')\n",
    "df=pd.DataFrame(data)\n",
    "data1 = df[df['Score'] != 3]\n",
    "data1.loc[data.Score >3,'Score'] = 1\n",
    "data1.loc[data.Score <3,'Score'] = 0"
   ]
  },
  {
   "cell_type": "code",
   "execution_count": null,
   "metadata": {},
   "outputs": [],
   "source": []
  },
  {
   "cell_type": "code",
   "execution_count": 198,
   "metadata": {},
   "outputs": [
    {
     "data": {
      "image/png": "[encoded data removed]",
      "text/plain": [
       "<matplotlib.figure.Figure at 0x1efaa6df240>"
      ]
     },
     "metadata": {},
     "output_type": "display_data"
    },
    {
     "name": "stdout",
     "output_type": "stream",
     "text": [
      "True     443777\n",
      "False     82037\n",
      "Name: Score, dtype: int64\n"
     ]
    }
   ],
   "source": [
    "count_Class=pd.value_counts(data1[\"Score\"]==1, sort= True)\n",
    "count_Class.plot(kind= 'bar', color= [\"blue\", \"orange\"])\n",
    "plt.title('Bar chart')\n",
    "plt.show()\n",
    "print(count_Class)\n"
   ]
  },
  {
   "cell_type": "code",
   "execution_count": 199,
   "metadata": {},
   "outputs": [
    {
     "data": {
      "text/plain": [
       "(364173, 6)"
      ]
     },
     "execution_count": 199,
     "metadata": {},
     "output_type": "execute_result"
    }
   ],
   "source": [
    "sort_data = data1.sort_values(by=[\"ProductId\"], axis=0, ascending=True, inplace=False, kind='quicksort', na_position='last')\n",
    "\n",
    "fields=['ProductId','UserId','ProfileName','Time','Text','Score']\n",
    "sort_by_column = pd.DataFrame(sort_data,columns=fields)\n",
    "sort_by_column.shape\n",
    "\n",
    "#show only duplicated data\n",
    "dup=sort_by_column[sort_data.duplicated(['UserId','ProfileName','Time','Text'])]\n",
    "dup.shape\n",
    "\n",
    "#drop duplicates from sorted dataframe\n",
    "dup_drop=sort_by_column.drop_duplicates(['UserId','ProfileName','Time','Text'],keep='first')\n",
    "dup_drop.shape"
   ]
  },
  {
   "cell_type": "code",
   "execution_count": 6,
   "metadata": {},
   "outputs": [],
   "source": [
    "#dup_drop.head()"
   ]
  },
  {
   "cell_type": "code",
   "execution_count": 200,
   "metadata": {},
   "outputs": [],
   "source": [
    "import nltk\n",
    "from nltk.corpus import stopwords\n",
    "import re\n",
    "from nltk.stem import PorterStemmer\n",
    "from bs4 import BeautifulSoup"
   ]
  },
  {
   "cell_type": "code",
   "execution_count": 201,
   "metadata": {},
   "outputs": [
    {
     "name": "stdout",
     "output_type": "stream",
     "text": [
      "[nltk_data] Downloading package stopwords to\n",
      "[nltk_data]     C:\\Users\\Vaibhav\\AppData\\Roaming\\nltk_data...\n",
      "[nltk_data]   Package stopwords is already up-to-date!\n"
     ]
    }
   ],
   "source": [
    "nltk.download('stopwords')\n",
    "stop_words=set(stopwords.words('english'))\n",
    "corpus=[]\n",
    "length=len(dup_drop)\n",
    "sent=[]\n"
   ]
  },
  {
   "cell_type": "code",
   "execution_count": 202,
   "metadata": {},
   "outputs": [],
   "source": [
    "abc = {r\"n\\'t\":\" not\",r\"\\'re\": \" are\",r\"\\'s\":\" is\",r\"\\'d\": \" would\",r\"\\'ll\":\" will\",r\"\\'ve\":\" have\",r\"\\'m\":\" am\"}\n",
    "for i in range(0,length):\n",
    "    sent_0 = dup_drop['Text'].values[i]\n",
    "    sent_0 = sent_0.lower()\n",
    "    for key , values in abc.items():\n",
    "        sent_0 = re.sub(key,values, sent_0)\n",
    "    #sent_0=re.sub(r'<[^>]+>','',sent_0)\n",
    "    dup_drop['Text'].values[i]=sent_0\n",
    "    sent.append(sent_0)\n"
   ]
  },
  {
   "cell_type": "code",
   "execution_count": null,
   "metadata": {},
   "outputs": [
    {
     "data": {
      "text/plain": [
       "'pros:<br />dog will do anything for this treat.<br />does not smell as bad as many other treats.<br />easy to break into smaller pieces.<br />nothing artificial, easy digestion.<br /><br />cons:<br />more costly than other dog treats.<br /><br />overall, this is a great product. while more expensive, my dog will do anything for this treat. he has several phobias, including getting in and out of the car, and walking through doorways, but he ignores all of his fears to get to this treat.'"
      ]
     },
     "execution_count": 203,
     "metadata": {},
     "output_type": "execute_result"
    }
   ],
   "source": [
    "dup_drop['Text'].values[100]"
   ]
  },
  {
   "cell_type": "code",
   "execution_count": null,
   "metadata": {},
   "outputs": [],
   "source": [
    "tags=[]\n",
    "for i in range(0,length):\n",
    "    sent_0 = dup_drop['Text'].values[i]\n",
    "    #sent_0=re.sub(r'<[^>]+>','',sent_0)\n",
    "    soup = BeautifulSoup(sent_0, 'lxml')\n",
    "    text = soup.get_text()\n",
    "    dup_drop['Text'].values[i]=text\n",
    "    tags.append(sent_0)\n"
   ]
  },
  {
   "cell_type": "code",
   "execution_count": null,
   "metadata": {},
   "outputs": [],
   "source": [
    "tags"
   ]
  },
  {
   "cell_type": "code",
   "execution_count": null,
   "metadata": {},
   "outputs": [],
   "source": []
  },
  {
   "cell_type": "code",
   "execution_count": null,
   "metadata": {},
   "outputs": [],
   "source": []
  },
  {
   "cell_type": "code",
   "execution_count": null,
   "metadata": {},
   "outputs": [],
   "source": []
  }
 ],
 "metadata": {
  "kernelspec": {
   "display_name": "Python 3",
   "language": "python",
   "name": "python3"
  },
  "language_info": {
   "codemirror_mode": {
    "name": "ipython",
    "version": 3
   },
   "file_extension": ".py",
   "mimetype": "text/x-python",
   "name": "python",
   "nbconvert_exporter": "python",
   "pygments_lexer": "ipython3",
   "version": "3.6.4"
  }
 },
 "nbformat": 4,
 "nbformat_minor": 2
}
